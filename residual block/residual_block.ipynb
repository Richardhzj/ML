{
  "nbformat": 4,
  "nbformat_minor": 0,
  "metadata": {
    "colab": {
      "provenance": []
    },
    "kernelspec": {
      "name": "python3",
      "display_name": "Python 3"
    },
    "language_info": {
      "name": "python"
    },
    "accelerator": "GPU",
    "gpuClass": "standard"
  },
  "cells": [
    {
      "cell_type": "code",
      "source": [
        "import torch\n",
        "from torch import nn\n",
        "from torch.nn import functional as F"
      ],
      "metadata": {
        "id": "dg8TXyzW0YS2"
      },
      "execution_count": 1,
      "outputs": []
    },
    {
      "cell_type": "code",
      "execution_count": 46,
      "metadata": {
        "id": "tsjY0Exoz2p9"
      },
      "outputs": [],
      "source": [
        "class Residual(nn.Module): \n",
        "    def __init__(self, input_channels, num_channels,\n",
        "                 use_1x1conv=False, strides=1):\n",
        "        super().__init__()\n",
        "        self.conv1 = nn.Conv2d(input_channels, num_channels,\n",
        "                               kernel_size=3, padding=1, stride=strides)\n",
        "        # conv2's shape must be as same as conv1. If not, then it will affect shape of kernel size. Because conv3's size is the same as conv1. So we can't change conv2's strides\n",
        "        self.conv2 = nn.Conv2d(num_channels, num_channels,\n",
        "                               kernel_size=3, padding=1,)\n",
        "        if use_1x1conv:\n",
        "            self.conv3 = nn.Conv2d(input_channels, num_channels,\n",
        "                                   kernel_size=1, stride=strides)\n",
        "        else:\n",
        "            self.conv3 = None\n",
        "        self.bn1 = nn.BatchNorm2d(num_channels)\n",
        "        self.bn2 = nn.BatchNorm2d(num_channels)\n",
        "\n",
        "    def forward(self, X):\n",
        "        print(\"x.shape\",X.shape)\n",
        "        Y = F.relu(self.bn1(self.conv1(X)))\n",
        "        print(\"y.shape\",Y.shape)\n",
        "        Y = self.bn2(self.conv2(Y))\n",
        "        print(\"y2.shape\",Y.shape)\n",
        "        if self.conv3:\n",
        "            X = self.conv3(X)\n",
        "        print(\"x2.shape\",X.shape)\n",
        "        Y += X\n",
        "        return F.relu(Y)"
      ]
    },
    {
      "cell_type": "markdown",
      "source": [
        "# Test"
      ],
      "metadata": {
        "id": "Yb_zMy6I0dNE"
      }
    },
    {
      "cell_type": "code",
      "source": [
        "X = torch.rand(4, 3, 6, 6)\n",
        "\n",
        "# blk = Residual(3,3)\n",
        "# Y = blk(X)\n",
        "# print(Y.shape)\n",
        "\n",
        "blk = Residual(3,6, use_1x1conv=True, strides=2)\n",
        "blk(X).shape\n",
        "\n",
        "print(blk)"
      ],
      "metadata": {
        "colab": {
          "base_uri": "https://localhost:8080/"
        },
        "id": "n6zZvX1Z0euO",
        "outputId": "1526c9dd-79fb-4f9a-ba88-e9309256499e"
      },
      "execution_count": 49,
      "outputs": [
        {
          "output_type": "stream",
          "name": "stdout",
          "text": [
            "x.shape torch.Size([4, 3, 6, 6])\n",
            "y.shape torch.Size([4, 6, 3, 3])\n",
            "y2.shape torch.Size([4, 6, 3, 3])\n",
            "x2.shape torch.Size([4, 6, 3, 3])\n",
            "Residual(\n",
            "  (conv1): Conv2d(3, 6, kernel_size=(3, 3), stride=(2, 2), padding=(1, 1))\n",
            "  (conv2): Conv2d(6, 6, kernel_size=(3, 3), stride=(1, 1), padding=(1, 1))\n",
            "  (conv3): Conv2d(3, 6, kernel_size=(1, 1), stride=(2, 2))\n",
            "  (bn1): BatchNorm2d(6, eps=1e-05, momentum=0.1, affine=True, track_running_stats=True)\n",
            "  (bn2): BatchNorm2d(6, eps=1e-05, momentum=0.1, affine=True, track_running_stats=True)\n",
            ")\n"
          ]
        }
      ]
    },
    {
      "cell_type": "code",
      "source": [
        "from torchsummary import summary"
      ],
      "metadata": {
        "id": "itFpZfBHGwKT"
      },
      "execution_count": 50,
      "outputs": []
    },
    {
      "cell_type": "code",
      "source": [
        "blk = blk.to('cuda')\n",
        "summary(blk, (3, 6, 6))"
      ],
      "metadata": {
        "colab": {
          "base_uri": "https://localhost:8080/"
        },
        "id": "S1i0UnH2GySW",
        "outputId": "0372dab4-2ddd-4a0b-9782-83106ecbd186"
      },
      "execution_count": 52,
      "outputs": [
        {
          "output_type": "stream",
          "name": "stdout",
          "text": [
            "x.shape torch.Size([2, 3, 6, 6])\n",
            "y.shape torch.Size([2, 6, 3, 3])\n",
            "y2.shape torch.Size([2, 6, 3, 3])\n",
            "x2.shape torch.Size([2, 6, 3, 3])\n",
            "----------------------------------------------------------------\n",
            "        Layer (type)               Output Shape         Param #\n",
            "================================================================\n",
            "            Conv2d-1              [-1, 6, 3, 3]             168\n",
            "       BatchNorm2d-2              [-1, 6, 3, 3]              12\n",
            "            Conv2d-3              [-1, 6, 3, 3]             330\n",
            "       BatchNorm2d-4              [-1, 6, 3, 3]              12\n",
            "            Conv2d-5              [-1, 6, 3, 3]              24\n",
            "================================================================\n",
            "Total params: 546\n",
            "Trainable params: 546\n",
            "Non-trainable params: 0\n",
            "----------------------------------------------------------------\n",
            "Input size (MB): 0.00\n",
            "Forward/backward pass size (MB): 0.00\n",
            "Params size (MB): 0.00\n",
            "Estimated Total Size (MB): 0.00\n",
            "----------------------------------------------------------------\n"
          ]
        }
      ]
    },
    {
      "cell_type": "code",
      "source": [
        "x = torch.tensor([[1, 2, 3, 4], [5, 6, 7, 8], [9, 10, 11, 12]])\n",
        "\n",
        "# 计算卷积核的边长和步幅\n",
        "kernel_size = (3, 3)\n",
        "stride = (1, 1)\n",
        "\n",
        "# 创建卷积核\n",
        "kernel = torch.tensor([[1, 0, -1], [2, 0, -2], [1, 0, -1]])\n",
        "\n",
        "# 计算输入的形状\n",
        "x.shape"
      ],
      "metadata": {
        "colab": {
          "base_uri": "https://localhost:8080/"
        },
        "id": "Y-VmBwE54_TO",
        "outputId": "efda4003-962b-4eb4-8419-fd2bec4f3820"
      },
      "execution_count": 4,
      "outputs": [
        {
          "output_type": "execute_result",
          "data": {
            "text/plain": [
              "torch.Size([3, 4])"
            ]
          },
          "metadata": {},
          "execution_count": 4
        }
      ]
    },
    {
      "cell_type": "markdown",
      "source": [
        "# ResNet"
      ],
      "metadata": {
        "id": "6PYmit9N0qQh"
      }
    },
    {
      "cell_type": "code",
      "source": [
        "b1 = nn.Sequential(nn.Conv2d(1, 64, kernel_size=7, stride=2, padding=3),\n",
        "                   nn.BatchNorm2d(64), nn.ReLU(),\n",
        "                   nn.MaxPool2d(kernel_size=3, stride=2, padding=1))"
      ],
      "metadata": {
        "id": "gsOZFXUo0tJs"
      },
      "execution_count": 5,
      "outputs": []
    },
    {
      "cell_type": "code",
      "source": [
        "def resnet_block(input_channels, num_channels, num_residuals,\n",
        "                 first_block=False):\n",
        "  # b2's first residual donn't need stride=2 and maxpool because in b1 had already dont that. Others blocks' fisrt redisual would reduce the size of kernel.\n",
        "  # In short, each block apply redisual twice, each block besides the first one would reduce the size once.\n",
        "    blk = []\n",
        "    for i in range(num_residuals):\n",
        "        print(i)\n",
        "        if i == 0 and not first_block:\n",
        "            blk.append(Residual(input_channels, num_channels,\n",
        "                                use_1x1conv=True, strides=2))\n",
        "        else:\n",
        "            blk.append(Residual(num_channels, num_channels))\n",
        "    return blk"
      ],
      "metadata": {
        "id": "UVJr-GFO0tss"
      },
      "execution_count": 55,
      "outputs": []
    },
    {
      "cell_type": "code",
      "source": [
        "b2 = nn.Sequential(*resnet_block(64, 64, 2, first_block=True))\n",
        "b3 = nn.Sequential(*resnet_block(64, 128, 2))\n",
        "b4 = nn.Sequential(*resnet_block(128, 256, 2))\n",
        "b5 = nn.Sequential(*resnet_block(256, 512, 2))"
      ],
      "metadata": {
        "colab": {
          "base_uri": "https://localhost:8080/"
        },
        "id": "_9wcPlSn0wPi",
        "outputId": "090d9d1b-04c7-4416-c2e3-8284b0cc2f2c"
      },
      "execution_count": 56,
      "outputs": [
        {
          "output_type": "stream",
          "name": "stdout",
          "text": [
            "0\n",
            "1\n",
            "0\n",
            "1\n",
            "0\n",
            "1\n",
            "0\n",
            "1\n"
          ]
        }
      ]
    },
    {
      "cell_type": "code",
      "source": [
        "net = nn.Sequential(b1, b2, b3, b4, b5,\n",
        "                    nn.AdaptiveAvgPool2d((1,1)),\n",
        "                    nn.Flatten(), nn.Linear(512, 10))"
      ],
      "metadata": {
        "id": "QLugmHcO0xhQ"
      },
      "execution_count": 8,
      "outputs": []
    },
    {
      "cell_type": "code",
      "source": [
        "X = torch.rand(size=(1, 1, 224, 224))\n",
        "for layer in net:\n",
        "    X = layer(X)\n",
        "    print(layer.__class__.__name__,'output shape:\\t', X.shape)"
      ],
      "metadata": {
        "colab": {
          "base_uri": "https://localhost:8080/"
        },
        "id": "jsAyfzSe0zj8",
        "outputId": "68d27d8b-d7ce-42f1-f44d-b34545c47c13"
      },
      "execution_count": 9,
      "outputs": [
        {
          "output_type": "stream",
          "name": "stdout",
          "text": [
            "Sequential output shape:\t torch.Size([1, 64, 56, 56])\n",
            "Sequential output shape:\t torch.Size([1, 64, 56, 56])\n",
            "Sequential output shape:\t torch.Size([1, 128, 28, 28])\n",
            "Sequential output shape:\t torch.Size([1, 256, 14, 14])\n",
            "Sequential output shape:\t torch.Size([1, 512, 7, 7])\n",
            "AdaptiveAvgPool2d output shape:\t torch.Size([1, 512, 1, 1])\n",
            "Flatten output shape:\t torch.Size([1, 512])\n",
            "Linear output shape:\t torch.Size([1, 10])\n"
          ]
        }
      ]
    }
  ]
}