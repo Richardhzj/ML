{
  "nbformat": 4,
  "nbformat_minor": 0,
  "metadata": {
    "kernelspec": {
      "display_name": "Python 3",
      "language": "python",
      "name": "python3"
    },
    "language_info": {
      "codemirror_mode": {
        "name": "ipython",
        "version": 3
      },
      "file_extension": ".py",
      "mimetype": "text/x-python",
      "name": "python",
      "nbconvert_exporter": "python",
      "pygments_lexer": "ipython3",
      "version": "3.8.3"
    },
    "colab": {
      "name": "H3P2T1.ipynb",
      "provenance": [],
      "collapsed_sections": []
    }
  },
  "cells": [
    {
      "cell_type": "markdown",
      "metadata": {
        "id": "GU7v6yIAJj42"
      },
      "source": [
        "# Homework 3 Part 2 Task 1 - Classification\n",
        "The dataset is from https://www.kaggle.com/c/GiveMeSomeCredit <br>\n",
        "\"Banks play a crucial role in market economies. They decide who can get finance and on what terms and can make or break investment decisions. For markets and society to function, individuals and companies need access to credit. Credit scoring algorithms, which make a guess at the probability of default, are the method banks use to determine whether or not a loan should be granted.\"  <br>\n",
        "In this task, we will build classifiers to predict if someone will experience financial distress and therefore cannot pay off credit card (i.e. default). It is a binary classificaiton problem: default (class-1) or not default  (class-0) <br>\n",
        "Learning Objective: <br>\n",
        "1. It is almost computationally infeasible to do cross-validation for a large dataset <br>\n",
        "    So, we divide the data into three sets: training, validation and testing sets <br>\n",
        "    we do not repeat the above process. \n",
        "2. Real dataset is often imbalanced: class-i may have much more data samples than class-j. We set class_weight='balanced' if possible and use weighted classification accuracy, or do upsampling to balance data between classes. \n",
        "2. Given the model type (e.g. RandomForest), we find the best trainable-parameters on the training set  <br>\n",
        "    and find the best hyper-parameters using training-validation strategy <br>\n",
        "3. Then, we evaluate the trained model on the testing set using the best parameters <br>\n",
        "4. To simply the task, you only need to find the best max_depth of DecisionTreeClassifier/RandomForestClassifier and the best n_neighbors of KNeighborsClassifier <br>\n",
        " <br>\n",
        "This is a guided-task: <br>\n",
        "You will see the output of a code cell and then figure out the code in that cell. <br>\n",
        "In each code cell, there are instructions to help you. <br>\n",
        "This is a very efficient and effective way to learn how to program with sk-learn"
      ]
    },
    {
      "cell_type": "code",
      "metadata": {
        "id": "YOZtTqAIJj43"
      },
      "source": [
        "import numpy as np\n",
        "import pandas as pd\n",
        "import matplotlib.pyplot as plt\n",
        "import seaborn as sns"
      ],
      "execution_count": 1,
      "outputs": []
    },
    {
      "cell_type": "code",
      "metadata": {
        "colab": {
          "base_uri": "https://localhost:8080/",
          "height": 243
        },
        "id": "5kKVASqCJj44",
        "outputId": "6303653b-742f-4a4a-b337-600c4c040ee4"
      },
      "source": [
        "#every row of the table is a data sample (feature vector) from a person\n",
        "df = pd.read_csv('cs_data.csv')\n",
        "df.head()"
      ],
      "execution_count": 2,
      "outputs": [
        {
          "output_type": "execute_result",
          "data": {
            "text/html": [
              "<div>\n",
              "<style scoped>\n",
              "    .dataframe tbody tr th:only-of-type {\n",
              "        vertical-align: middle;\n",
              "    }\n",
              "\n",
              "    .dataframe tbody tr th {\n",
              "        vertical-align: top;\n",
              "    }\n",
              "\n",
              "    .dataframe thead th {\n",
              "        text-align: right;\n",
              "    }\n",
              "</style>\n",
              "<table border=\"1\" class=\"dataframe\">\n",
              "  <thead>\n",
              "    <tr style=\"text-align: right;\">\n",
              "      <th></th>\n",
              "      <th>id</th>\n",
              "      <th>SeriousDlqin2yrs</th>\n",
              "      <th>RevolvingUtilizationOfUnsecuredLines</th>\n",
              "      <th>age</th>\n",
              "      <th>NumberOfTime30-59DaysPastDueNotWorse</th>\n",
              "      <th>DebtRatio</th>\n",
              "      <th>MonthlyIncome</th>\n",
              "      <th>NumberOfOpenCreditLinesAndLoans</th>\n",
              "      <th>NumberOfTimes90DaysLate</th>\n",
              "      <th>NumberRealEstateLoansOrLines</th>\n",
              "      <th>NumberOfTime60-89DaysPastDueNotWorse</th>\n",
              "      <th>NumberOfDependents</th>\n",
              "    </tr>\n",
              "  </thead>\n",
              "  <tbody>\n",
              "    <tr>\n",
              "      <th>0</th>\n",
              "      <td>1</td>\n",
              "      <td>1</td>\n",
              "      <td>0.766127</td>\n",
              "      <td>45</td>\n",
              "      <td>2</td>\n",
              "      <td>0.802982</td>\n",
              "      <td>9120.0</td>\n",
              "      <td>13</td>\n",
              "      <td>0</td>\n",
              "      <td>6</td>\n",
              "      <td>0</td>\n",
              "      <td>2.0</td>\n",
              "    </tr>\n",
              "    <tr>\n",
              "      <th>1</th>\n",
              "      <td>2</td>\n",
              "      <td>0</td>\n",
              "      <td>0.957151</td>\n",
              "      <td>40</td>\n",
              "      <td>0</td>\n",
              "      <td>0.121876</td>\n",
              "      <td>2600.0</td>\n",
              "      <td>4</td>\n",
              "      <td>0</td>\n",
              "      <td>0</td>\n",
              "      <td>0</td>\n",
              "      <td>1.0</td>\n",
              "    </tr>\n",
              "    <tr>\n",
              "      <th>2</th>\n",
              "      <td>3</td>\n",
              "      <td>0</td>\n",
              "      <td>0.658180</td>\n",
              "      <td>38</td>\n",
              "      <td>1</td>\n",
              "      <td>0.085113</td>\n",
              "      <td>3042.0</td>\n",
              "      <td>2</td>\n",
              "      <td>1</td>\n",
              "      <td>0</td>\n",
              "      <td>0</td>\n",
              "      <td>0.0</td>\n",
              "    </tr>\n",
              "    <tr>\n",
              "      <th>3</th>\n",
              "      <td>4</td>\n",
              "      <td>0</td>\n",
              "      <td>0.233810</td>\n",
              "      <td>30</td>\n",
              "      <td>0</td>\n",
              "      <td>0.036050</td>\n",
              "      <td>3300.0</td>\n",
              "      <td>5</td>\n",
              "      <td>0</td>\n",
              "      <td>0</td>\n",
              "      <td>0</td>\n",
              "      <td>0.0</td>\n",
              "    </tr>\n",
              "    <tr>\n",
              "      <th>4</th>\n",
              "      <td>5</td>\n",
              "      <td>0</td>\n",
              "      <td>0.907239</td>\n",
              "      <td>49</td>\n",
              "      <td>1</td>\n",
              "      <td>0.024926</td>\n",
              "      <td>63588.0</td>\n",
              "      <td>7</td>\n",
              "      <td>0</td>\n",
              "      <td>1</td>\n",
              "      <td>0</td>\n",
              "      <td>0.0</td>\n",
              "    </tr>\n",
              "  </tbody>\n",
              "</table>\n",
              "</div>"
            ],
            "text/plain": [
              "   id  ...  NumberOfDependents\n",
              "0   1  ...                 2.0\n",
              "1   2  ...                 1.0\n",
              "2   3  ...                 0.0\n",
              "3   4  ...                 0.0\n",
              "4   5  ...                 0.0\n",
              "\n",
              "[5 rows x 12 columns]"
            ]
          },
          "metadata": {},
          "execution_count": 2
        }
      ]
    },
    {
      "cell_type": "markdown",
      "metadata": {
        "id": "5YO-bwdNJj45"
      },
      "source": [
        "#### handle nan (null) in data (i.e. missing values)\n",
        "Some fields in the table are nan, which are missing values. <br>\n",
        "For example, someone may not want to reveal monthly income to whoever made the table/survey, then the table got nan."
      ]
    },
    {
      "cell_type": "code",
      "metadata": {
        "colab": {
          "base_uri": "https://localhost:8080/"
        },
        "id": "jEMGXVtQJj45",
        "outputId": "20e2c36c-3b82-4f74-9d25-d284205e17d1"
      },
      "source": [
        "df.isnull().sum()"
      ],
      "execution_count": 3,
      "outputs": [
        {
          "output_type": "execute_result",
          "data": {
            "text/plain": [
              "id                                          0\n",
              "SeriousDlqin2yrs                            0\n",
              "RevolvingUtilizationOfUnsecuredLines        0\n",
              "age                                         0\n",
              "NumberOfTime30-59DaysPastDueNotWorse        0\n",
              "DebtRatio                                   0\n",
              "MonthlyIncome                           29731\n",
              "NumberOfOpenCreditLinesAndLoans             0\n",
              "NumberOfTimes90DaysLate                     0\n",
              "NumberRealEstateLoansOrLines                0\n",
              "NumberOfTime60-89DaysPastDueNotWorse        0\n",
              "NumberOfDependents                       3924\n",
              "dtype: int64"
            ]
          },
          "metadata": {},
          "execution_count": 3
        }
      ]
    },
    {
      "cell_type": "code",
      "metadata": {
        "colab": {
          "base_uri": "https://localhost:8080/"
        },
        "id": "kcT5ZdzuJj45",
        "outputId": "1b194ffb-3260-4c3f-fd09-39f6fccce0d5"
      },
      "source": [
        "#here, we use a simple method:\n",
        "#replace nan in each column with median value of that column\n",
        "#there are other methods in pandas and sklearn: interpolation in pandas and KNNImputer in sklearn\n",
        "from sklearn.impute import SimpleImputer\n",
        "imputer = SimpleImputer(strategy='median')\n",
        "dfv=imputer.fit_transform(df.values)\n",
        "df=pd.DataFrame(data=dfv, columns=df.columns)\n",
        "df.isnull().sum()"
      ],
      "execution_count": 4,
      "outputs": [
        {
          "output_type": "execute_result",
          "data": {
            "text/plain": [
              "id                                      0\n",
              "SeriousDlqin2yrs                        0\n",
              "RevolvingUtilizationOfUnsecuredLines    0\n",
              "age                                     0\n",
              "NumberOfTime30-59DaysPastDueNotWorse    0\n",
              "DebtRatio                               0\n",
              "MonthlyIncome                           0\n",
              "NumberOfOpenCreditLinesAndLoans         0\n",
              "NumberOfTimes90DaysLate                 0\n",
              "NumberRealEstateLoansOrLines            0\n",
              "NumberOfTime60-89DaysPastDueNotWorse    0\n",
              "NumberOfDependents                      0\n",
              "dtype: int64"
            ]
          },
          "metadata": {},
          "execution_count": 4
        }
      ]
    },
    {
      "cell_type": "markdown",
      "metadata": {
        "id": "N1MBz5WxJj45"
      },
      "source": [
        "### We have a highly imbalanced dataset\n",
        "139974 data samples in class-0 (normal) <br>\n",
        "10026 data samples in class-1 (financial distress)"
      ]
    },
    {
      "cell_type": "code",
      "metadata": {
        "colab": {
          "base_uri": "https://localhost:8080/",
          "height": 283
        },
        "id": "xzeAdvURJj46",
        "outputId": "9463137f-54bb-428d-de10-dda158b34d37"
      },
      "source": [
        "df['SeriousDlqin2yrs'].hist()"
      ],
      "execution_count": 5,
      "outputs": [
        {
          "output_type": "execute_result",
          "data": {
            "text/plain": [
              "<matplotlib.axes._subplots.AxesSubplot at 0x7fc1bda06b90>"
            ]
          },
          "metadata": {},
          "execution_count": 5
        },
        {
          "output_type": "display_data",
          "data": {
            "image/png": "[encoded data removed]",
            "text/plain": [
              "<Figure size 432x288 with 1 Axes>"
            ]
          },
          "metadata": {
            "needs_background": "light"
          }
        }
      ]
    },
    {
      "cell_type": "code",
      "metadata": {
        "colab": {
          "base_uri": "https://localhost:8080/"
        },
        "id": "RY_0xgutJj46",
        "outputId": "70167d0c-e9fd-4fec-d072-1a02304c697c"
      },
      "source": [
        "(df['SeriousDlqin2yrs']==0).sum()"
      ],
      "execution_count": 6,
      "outputs": [
        {
          "output_type": "execute_result",
          "data": {
            "text/plain": [
              "139974"
            ]
          },
          "metadata": {},
          "execution_count": 6
        }
      ]
    },
    {
      "cell_type": "code",
      "metadata": {
        "colab": {
          "base_uri": "https://localhost:8080/"
        },
        "id": "zvGEDM-PJj46",
        "outputId": "1fe7ff98-b08a-4c4f-c03c-255ce4a4e823"
      },
      "source": [
        "(df['SeriousDlqin2yrs']==1).sum()"
      ],
      "execution_count": 7,
      "outputs": [
        {
          "output_type": "execute_result",
          "data": {
            "text/plain": [
              "10026"
            ]
          },
          "metadata": {},
          "execution_count": 7
        }
      ]
    },
    {
      "cell_type": "markdown",
      "metadata": {
        "id": "g-q5jXMYJj46"
      },
      "source": [
        "#### Classification Goal: predict 'SeriousDlqin2yrs' (Y) using the other features (X)"
      ]
    },
    {
      "cell_type": "code",
      "metadata": {
        "colab": {
          "base_uri": "https://localhost:8080/",
          "height": 243
        },
        "id": "OQqtwUZ1Jj46",
        "outputId": "b97fa34e-c350-4974-ec7d-1f5c02b0c39a"
      },
      "source": [
        "#'SeriousDlqin2yrs' is the target/class label, so it should not be in the input feature vector X\n",
        "#'id' of a person is useless for the classification task\n",
        "#so, we remove them from the table and get the input X\n",
        "X=df.drop(['SeriousDlqin2yrs', 'id'], axis=1)\n",
        "X.head()"
      ],
      "execution_count": 8,
      "outputs": [
        {
          "output_type": "execute_result",
          "data": {
            "text/html": [
              "<div>\n",
              "<style scoped>\n",
              "    .dataframe tbody tr th:only-of-type {\n",
              "        vertical-align: middle;\n",
              "    }\n",
              "\n",
              "    .dataframe tbody tr th {\n",
              "        vertical-align: top;\n",
              "    }\n",
              "\n",
              "    .dataframe thead th {\n",
              "        text-align: right;\n",
              "    }\n",
              "</style>\n",
              "<table border=\"1\" class=\"dataframe\">\n",
              "  <thead>\n",
              "    <tr style=\"text-align: right;\">\n",
              "      <th></th>\n",
              "      <th>RevolvingUtilizationOfUnsecuredLines</th>\n",
              "      <th>age</th>\n",
              "      <th>NumberOfTime30-59DaysPastDueNotWorse</th>\n",
              "      <th>DebtRatio</th>\n",
              "      <th>MonthlyIncome</th>\n",
              "      <th>NumberOfOpenCreditLinesAndLoans</th>\n",
              "      <th>NumberOfTimes90DaysLate</th>\n",
              "      <th>NumberRealEstateLoansOrLines</th>\n",
              "      <th>NumberOfTime60-89DaysPastDueNotWorse</th>\n",
              "      <th>NumberOfDependents</th>\n",
              "    </tr>\n",
              "  </thead>\n",
              "  <tbody>\n",
              "    <tr>\n",
              "      <th>0</th>\n",
              "      <td>0.766127</td>\n",
              "      <td>45.0</td>\n",
              "      <td>2.0</td>\n",
              "      <td>0.802982</td>\n",
              "      <td>9120.0</td>\n",
              "      <td>13.0</td>\n",
              "      <td>0.0</td>\n",
              "      <td>6.0</td>\n",
              "      <td>0.0</td>\n",
              "      <td>2.0</td>\n",
              "    </tr>\n",
              "    <tr>\n",
              "      <th>1</th>\n",
              "      <td>0.957151</td>\n",
              "      <td>40.0</td>\n",
              "      <td>0.0</td>\n",
              "      <td>0.121876</td>\n",
              "      <td>2600.0</td>\n",
              "      <td>4.0</td>\n",
              "      <td>0.0</td>\n",
              "      <td>0.0</td>\n",
              "      <td>0.0</td>\n",
              "      <td>1.0</td>\n",
              "    </tr>\n",
              "    <tr>\n",
              "      <th>2</th>\n",
              "      <td>0.658180</td>\n",
              "      <td>38.0</td>\n",
              "      <td>1.0</td>\n",
              "      <td>0.085113</td>\n",
              "      <td>3042.0</td>\n",
              "      <td>2.0</td>\n",
              "      <td>1.0</td>\n",
              "      <td>0.0</td>\n",
              "      <td>0.0</td>\n",
              "      <td>0.0</td>\n",
              "    </tr>\n",
              "    <tr>\n",
              "      <th>3</th>\n",
              "      <td>0.233810</td>\n",
              "      <td>30.0</td>\n",
              "      <td>0.0</td>\n",
              "      <td>0.036050</td>\n",
              "      <td>3300.0</td>\n",
              "      <td>5.0</td>\n",
              "      <td>0.0</td>\n",
              "      <td>0.0</td>\n",
              "      <td>0.0</td>\n",
              "      <td>0.0</td>\n",
              "    </tr>\n",
              "    <tr>\n",
              "      <th>4</th>\n",
              "      <td>0.907239</td>\n",
              "      <td>49.0</td>\n",
              "      <td>1.0</td>\n",
              "      <td>0.024926</td>\n",
              "      <td>63588.0</td>\n",
              "      <td>7.0</td>\n",
              "      <td>0.0</td>\n",
              "      <td>1.0</td>\n",
              "      <td>0.0</td>\n",
              "      <td>0.0</td>\n",
              "    </tr>\n",
              "  </tbody>\n",
              "</table>\n",
              "</div>"
            ],
            "text/plain": [
              "   RevolvingUtilizationOfUnsecuredLines  ...  NumberOfDependents\n",
              "0                              0.766127  ...                 2.0\n",
              "1                              0.957151  ...                 1.0\n",
              "2                              0.658180  ...                 0.0\n",
              "3                              0.233810  ...                 0.0\n",
              "4                              0.907239  ...                 0.0\n",
              "\n",
              "[5 rows x 10 columns]"
            ]
          },
          "metadata": {},
          "execution_count": 8
        }
      ]
    },
    {
      "cell_type": "code",
      "metadata": {
        "colab": {
          "base_uri": "https://localhost:8080/"
        },
        "id": "kp8jlW1ZJj47",
        "outputId": "c274ab0e-09a0-4a67-c486-824a62101586"
      },
      "source": [
        "#Y is the target/class label\n",
        "Y=df['SeriousDlqin2yrs']\n",
        "Y.head()"
      ],
      "execution_count": 9,
      "outputs": [
        {
          "output_type": "execute_result",
          "data": {
            "text/plain": [
              "0    1.0\n",
              "1    0.0\n",
              "2    0.0\n",
              "3    0.0\n",
              "4    0.0\n",
              "Name: SeriousDlqin2yrs, dtype: float64"
            ]
          },
          "metadata": {},
          "execution_count": 9
        }
      ]
    },
    {
      "cell_type": "code",
      "metadata": {
        "id": "_QC9GaeAJj47"
      },
      "source": [
        "# convert pandas dataframe/series to numpy array\n",
        "# sklearn functions may not work well with pandas data types\n",
        "X=X.values\n",
        "Y=Y.values"
      ],
      "execution_count": 10,
      "outputs": []
    },
    {
      "cell_type": "markdown",
      "metadata": {
        "id": "NSvni7P2Jj47"
      },
      "source": [
        "We split the data into training, validation and testing sets"
      ]
    },
    {
      "cell_type": "code",
      "metadata": {
        "colab": {
          "base_uri": "https://localhost:8080/"
        },
        "id": "lyFipCAuJj47",
        "outputId": "1e09ed4a-193c-4c6b-a526-1572933c9df9"
      },
      "source": [
        "from sklearn.model_selection import train_test_split\n",
        "X_train, X_test, Y_train, Y_test = train_test_split(X, Y, test_size=0.2, random_state=0)\n",
        "#split X_train and Y_train into a 'pure' training set and a validation set\n",
        "X_train, X_val, Y_train, Y_val = train_test_split(X_train, Y_train, test_size=0.1, random_state=0)\n",
        "print('train:', X_train.shape, Y_train.shape)\n",
        "print('validation:', X_val.shape, Y_val.shape)\n",
        "print('test:', X_test.shape, Y_test.shape)"
      ],
      "execution_count": 11,
      "outputs": [
        {
          "output_type": "stream",
          "name": "stdout",
          "text": [
            "train: (108000, 10) (108000,)\n",
            "validation: (12000, 10) (12000,)\n",
            "test: (30000, 10) (30000,)\n"
          ]
        }
      ]
    },
    {
      "cell_type": "code",
      "metadata": {
        "colab": {
          "base_uri": "https://localhost:8080/",
          "height": 265
        },
        "id": "Wv77FU-TJj47",
        "outputId": "5f0aecfe-2519-4541-b34a-a1b3c6581ed6"
      },
      "source": [
        "plt.hist(Y_train, bins=20);"
      ],
      "execution_count": 12,
      "outputs": [
        {
          "output_type": "display_data",
          "data": {
            "image/png": "[encoded data removed]",
            "text/plain": [
              "<Figure size 432x288 with 1 Axes>"
            ]
          },
          "metadata": {
            "needs_background": "light"
          }
        }
      ]
    },
    {
      "cell_type": "code",
      "metadata": {
        "colab": {
          "base_uri": "https://localhost:8080/"
        },
        "id": "srL303brJj48",
        "outputId": "d4bd73a5-280f-4b1a-8b26-89d0c6d06c09"
      },
      "source": [
        "(Y_train==0).sum()"
      ],
      "execution_count": 13,
      "outputs": [
        {
          "output_type": "execute_result",
          "data": {
            "text/plain": [
              "100824"
            ]
          },
          "metadata": {},
          "execution_count": 13
        }
      ]
    },
    {
      "cell_type": "code",
      "metadata": {
        "colab": {
          "base_uri": "https://localhost:8080/"
        },
        "id": "kCx1250XJj48",
        "outputId": "85aa2f33-b3fa-4489-8613-eea0265da31e"
      },
      "source": [
        "(Y_train==1).sum()"
      ],
      "execution_count": 14,
      "outputs": [
        {
          "output_type": "execute_result",
          "data": {
            "text/plain": [
              "7176"
            ]
          },
          "metadata": {},
          "execution_count": 14
        }
      ]
    },
    {
      "cell_type": "code",
      "metadata": {
        "colab": {
          "base_uri": "https://localhost:8080/",
          "height": 265
        },
        "id": "gE1VjHLWJj48",
        "outputId": "534ef2fa-2899-48fa-afe9-e047300b40bd"
      },
      "source": [
        "plt.hist(Y_val, bins=20);"
      ],
      "execution_count": 15,
      "outputs": [
        {
          "output_type": "display_data",
          "data": {
            "image/png": "[encoded data removed]",
            "text/plain": [
              "<Figure size 432x288 with 1 Axes>"
            ]
          },
          "metadata": {
            "needs_background": "light"
          }
        }
      ]
    },
    {
      "cell_type": "code",
      "metadata": {
        "colab": {
          "base_uri": "https://localhost:8080/",
          "height": 265
        },
        "id": "ybWSXVWSJj48",
        "outputId": "088d86b3-a68b-404c-9170-bf217a8a707a"
      },
      "source": [
        "plt.hist(Y_test, bins=20);"
      ],
      "execution_count": 16,
      "outputs": [
        {
          "output_type": "display_data",
          "data": {
            "image/png": "[encoded data removed]",
            "text/plain": [
              "<Figure size 432x288 with 1 Axes>"
            ]
          },
          "metadata": {
            "needs_background": "light"
          }
        }
      ]
    },
    {
      "cell_type": "code",
      "metadata": {
        "id": "2wIew7WsJj48"
      },
      "source": [
        "# we need to use weighted classification accuracy\n",
        "# try to understand it\n",
        "def weighted_accuracy(confusion):\n",
        "    #input: confusion is the confusion matrix\n",
        "    #output: acc is the weighted classification accuracy\n",
        "    M=confusion.copy().astype('float32')\n",
        "    for k in range(0, M.shape[0]):\n",
        "        M[k]/=M[k].sum()+1e-8    \n",
        "    acc = M.diagonal().sum()/M.sum()\n",
        "    return acc"
      ],
      "execution_count": 17,
      "outputs": []
    },
    {
      "cell_type": "code",
      "metadata": {
        "id": "UdTy6SbyJj48"
      },
      "source": [
        "#apply feature normalization to training, validation and test sets\n",
        "from sklearn.preprocessing import MinMaxScaler\n",
        "scaler=MinMaxScaler()\n",
        "scaler.fit(X_train) # think about why fit to X_train, not X ?\n",
        "X_train=scaler.transform(X_train)\n",
        "X_val=scaler.transform(X_val)\n",
        "X_test=scaler.transform(X_test)"
      ],
      "execution_count": 18,
      "outputs": []
    },
    {
      "cell_type": "markdown",
      "metadata": {
        "id": "7q0aGOnDJj48"
      },
      "source": [
        "#### build a LogisticRegression classifier as the baseline model"
      ]
    },
    {
      "cell_type": "code",
      "metadata": {
        "scrolled": true,
        "colab": {
          "base_uri": "https://localhost:8080/"
        },
        "id": "Yk_01FjzJj48",
        "outputId": "1e5d3958-ce52-46a6-d897-a74aadf62e65"
      },
      "source": [
        "from sklearn.linear_model import LogisticRegression\n",
        "from sklearn.metrics import confusion_matrix\n",
        "#set class_weight='balanced'\n",
        "LR=LogisticRegression(penalty='none', class_weight='balanced', solver='newton-cg', random_state=0)\n",
        "LR.fit(X_train, Y_train)\n",
        "Y_val_pred=LR.predict(X_val)\n",
        "confusion_val=confusion_matrix(Y_val, Y_val_pred)\n",
        "acc_val=weighted_accuracy(confusion_val)\n",
        "Y_test_pred=LR.predict(X_test)\n",
        "confusion_test=confusion_matrix(Y_test, Y_test_pred)\n",
        "acc_test=weighted_accuracy(confusion_test)\n",
        "print('classification accuracy on validation set is ', acc_val)\n",
        "print('classification accuracy on test set is ', acc_test)"
      ],
      "execution_count": 19,
      "outputs": [
        {
          "output_type": "stream",
          "name": "stdout",
          "text": [
            "classification accuracy on validation set is  0.7163831\n",
            "classification accuracy on test set is  0.7099812\n"
          ]
        }
      ]
    },
    {
      "cell_type": "markdown",
      "metadata": {
        "id": "DFt4vvYrJj49"
      },
      "source": [
        "## Your task begins here"
      ]
    },
    {
      "cell_type": "markdown",
      "metadata": {
        "id": "KcLpajLbJj49"
      },
      "source": [
        "#### Let's try DecisionTreeClassifier"
      ]
    },
    {
      "cell_type": "code",
      "metadata": {
        "colab": {
          "base_uri": "https://localhost:8080/"
        },
        "id": "xTN0Ll89Jj49",
        "outputId": "cdc60767-7b10-4318-ea18-5f67ae1433fb"
      },
      "source": [
        "from sklearn.tree import DecisionTreeClassifier\n",
        "#set class_weight='balanced', max_depth=20, and random_state=0\n",
        "#your code here, see the example in the above cell\n",
        "#-----------\n",
        "dt=DecisionTreeClassifier(class_weight='balanced', max_depth=20, random_state=0)\n",
        "dt.fit(X_train, Y_train)\n",
        "Y_val_pred=dt.predict(X_val)\n",
        "confusion_val=confusion_matrix(Y_val, Y_val_pred)\n",
        "acc_val=weighted_accuracy(confusion_val)\n",
        "Y_test_pred=dt.predict(X_test)\n",
        "confusion_test=confusion_matrix(Y_test, Y_test_pred)\n",
        "acc_test=weighted_accuracy(confusion_test)\n",
        "print('classification accuracy on validation set is ', acc_val)\n",
        "print('classification accuracy on test set is ', acc_test)"
      ],
      "execution_count": 20,
      "outputs": [
        {
          "output_type": "stream",
          "name": "stdout",
          "text": [
            "classification accuracy on validation set is  0.67225397\n",
            "classification accuracy on test set is  0.6674502\n"
          ]
        }
      ]
    },
    {
      "cell_type": "markdown",
      "metadata": {
        "id": "LyidybI0Jj49"
      },
      "source": [
        "#### Let's try randomforest"
      ]
    },
    {
      "cell_type": "code",
      "metadata": {
        "colab": {
          "base_uri": "https://localhost:8080/"
        },
        "id": "vRWitFi5Jj49",
        "outputId": "55c4d443-f5d0-4d50-9c75-702eb2e2e805"
      },
      "source": [
        "from sklearn.ensemble import RandomForestClassifier\n",
        "#set n_estimators=20, class_weight='balanced', max_depth=20, and random_state=0\n",
        "#your code here\n",
        "#-----------\n",
        "RF=RandomForestClassifier(n_estimators=20, class_weight='balanced', max_depth=20, random_state=0)\n",
        "RF.fit(X_train, Y_train)\n",
        "Y_val_pred=RF.predict(X_val)\n",
        "confusion_val=confusion_matrix(Y_val, Y_val_pred)\n",
        "acc_val=weighted_accuracy(confusion_val)\n",
        "Y_test_pred=RF.predict(X_test)\n",
        "confusion_test=confusion_matrix(Y_test, Y_test_pred)\n",
        "acc_test=weighted_accuracy(confusion_test)\n",
        "print('classification accuracy on validation set is ', acc_val)\n",
        "print('classification accuracy on test set is ', acc_test)"
      ],
      "execution_count": 21,
      "outputs": [
        {
          "output_type": "stream",
          "name": "stdout",
          "text": [
            "classification accuracy on validation set is  0.64681727\n",
            "classification accuracy on test set is  0.63757116\n"
          ]
        }
      ]
    },
    {
      "cell_type": "markdown",
      "metadata": {
        "id": "bxasGK_7Jj49"
      },
      "source": [
        "## Model Selection (hyper-parameter optimization) \n",
        "Clearly, max_depth=20 is not optimal for DecisionTreeClassifier and RandomForestClassifier <br>\n",
        "You will do a grid search to find the best max_depth. <br>"
      ]
    },
    {
      "cell_type": "markdown",
      "metadata": {
        "id": "lY5xwhquJj49"
      },
      "source": [
        "### 1. find the best max_depth in DecisionTreeClassifier"
      ]
    },
    {
      "cell_type": "code",
      "metadata": {
        "colab": {
          "base_uri": "https://localhost:8080/"
        },
        "id": "XBPBcvK4Jj49",
        "outputId": "9e283a99-c9a7-4a08-fa1f-767e8d7d1124"
      },
      "source": [
        "#create an array of possible max_depth\n",
        "# you may need the function np.arange (read the document in sklearn website)\n",
        "# The minimum value of max_depth is 1, obviously.\n",
        "# The minimum value of max_depth is 20 (you may use a larger max_depth)\n",
        "# assume the name of the array is max_depth_list\n",
        "max_depth_list=np.arange(1,21,1)\n",
        "max_depth_list"
      ],
      "execution_count": 22,
      "outputs": [
        {
          "output_type": "execute_result",
          "data": {
            "text/plain": [
              "array([ 1,  2,  3,  4,  5,  6,  7,  8,  9, 10, 11, 12, 13, 14, 15, 16, 17,\n",
              "       18, 19, 20])"
            ]
          },
          "metadata": {},
          "execution_count": 22
        }
      ]
    },
    {
      "cell_type": "code",
      "metadata": {
        "colab": {
          "base_uri": "https://localhost:8080/"
        },
        "id": "kYoaA_6lJj49",
        "outputId": "f14f1f05-cc79-42c7-c5d4-48c3e5010c74"
      },
      "source": [
        "#train a DecisionTreeClassifier with max_depth in max_depth_list\n",
        "#inside a for loop:\n",
        "#   create a model with a max_depth in max_depth_list\n",
        "#   set class_weight to 'balanced'\n",
        "#   set random_state=0 so that the result is reproducible\n",
        "#   train the model on the training set\n",
        "#   record the accuracy on the training set into a list acc_train_list\n",
        "#   record the accuracy on the validation set into a list acc_val_list\n",
        "acc_train_list=[]\n",
        "acc_val_list=[]\n",
        "for n in max_depth_list: \n",
        "    dt=DecisionTreeClassifier(class_weight='balanced', max_depth=n, random_state=0)\n",
        "    dt.fit(X_train, Y_train)\n",
        "\n",
        "    Y_val_pred=dt.predict(X_val)\n",
        "    confusion_val=confusion_matrix(Y_val, Y_val_pred)\n",
        "    acc_val=weighted_accuracy(confusion_val)\n",
        "    acc_val_list.append(acc_val)\n",
        "    \n",
        "    Y_train_pred=dt.predict(X_train)\n",
        "    confusion_train=confusion_matrix(Y_train, Y_train_pred)\n",
        "    acc_train=weighted_accuracy(confusion_train)\n",
        "    acc_train_list.append(acc_train)\n",
        "    print('classification accuracy on validation set is ', acc_val)\n",
        "    print('classification accuracy on training set is ', acc_train)\n",
        "\n"
      ],
      "execution_count": 23,
      "outputs": [
        {
          "output_type": "stream",
          "name": "stdout",
          "text": [
            "classification accuracy on validation set is  0.65460956\n",
            "classification accuracy on training set is  0.65631753\n",
            "classification accuracy on validation set is  0.7337307\n",
            "classification accuracy on training set is  0.7399707\n",
            "classification accuracy on validation set is  0.7509314\n",
            "classification accuracy on training set is  0.75633985\n",
            "classification accuracy on validation set is  0.7509314\n",
            "classification accuracy on training set is  0.75633985\n",
            "classification accuracy on validation set is  0.75495356\n",
            "classification accuracy on training set is  0.76042813\n",
            "classification accuracy on validation set is  0.75423515\n",
            "classification accuracy on training set is  0.7648474\n",
            "classification accuracy on validation set is  0.75503707\n",
            "classification accuracy on training set is  0.77131504\n",
            "classification accuracy on validation set is  0.75504506\n",
            "classification accuracy on training set is  0.7753135\n",
            "classification accuracy on validation set is  0.7587469\n",
            "classification accuracy on training set is  0.7848279\n",
            "classification accuracy on validation set is  0.7563154\n",
            "classification accuracy on training set is  0.79350984\n",
            "classification accuracy on validation set is  0.75206196\n",
            "classification accuracy on training set is  0.80402136\n",
            "classification accuracy on validation set is  0.7490163\n",
            "classification accuracy on training set is  0.81341076\n",
            "classification accuracy on validation set is  0.74023545\n",
            "classification accuracy on training set is  0.8253615\n",
            "classification accuracy on validation set is  0.7341697\n",
            "classification accuracy on training set is  0.8362453\n",
            "classification accuracy on validation set is  0.72113895\n",
            "classification accuracy on training set is  0.84989166\n",
            "classification accuracy on validation set is  0.7129018\n",
            "classification accuracy on training set is  0.86493754\n",
            "classification accuracy on validation set is  0.7037014\n",
            "classification accuracy on training set is  0.8796161\n",
            "classification accuracy on validation set is  0.6923663\n",
            "classification accuracy on training set is  0.8954792\n",
            "classification accuracy on validation set is  0.6796192\n",
            "classification accuracy on training set is  0.9104485\n",
            "classification accuracy on validation set is  0.67225397\n",
            "classification accuracy on training set is  0.924778\n"
          ]
        }
      ]
    },
    {
      "cell_type": "code",
      "metadata": {
        "colab": {
          "base_uri": "https://localhost:8080/",
          "height": 405
        },
        "id": "6HhPKL3dJj4-",
        "outputId": "5587a6dd-0a95-4b66-cd52-239655016f98"
      },
      "source": [
        "#plot max_depth vs acc_train using max_depth_list and acc_train_list\n",
        "#plot max_depth vs acc_val using max_depth_list and acc_val_list\n",
        "fig, ax = plt.subplots(1,2, figsize=(10,6))\n",
        "ax[0].plot(max_depth_list, acc_train_list, 'b')\n",
        "ax[0].set_xlabel('max_depth')\n",
        "ax[0].set_ylabel('training accuracy')\n",
        "ax[0].set_title('max_depth v.s. training accuracy')\n",
        "ax[0].grid(True)\n",
        "ax[1].plot(max_depth_list, acc_val_list, 'r')\n",
        "ax[1].set_xlabel('max_depth')\n",
        "ax[1].set_ylabel('validation accuracy')\n",
        "ax[1].set_title('max_depth v.s. validation accuracy')\n",
        "ax[1].grid(True)"
      ],
      "execution_count": 24,
      "outputs": [
        {
          "output_type": "display_data",
          "data": {
            "image/png": "[encoded data removed]",
            "text/plain": [
              "<Figure size 720x432 with 2 Axes>"
            ]
          },
          "metadata": {
            "needs_background": "light"
          }
        }
      ]
    },
    {
      "cell_type": "markdown",
      "metadata": {
        "id": "hksvX9-xJj4-"
      },
      "source": [
        "From the above figure, we see that training accuracy keeps increasing as max_depth increases. <br>\n",
        "Validation accuracy reveals the ability of the model predicting y on new data samples that the model did not see during training. <br>\n",
        "This is why we use validation accuracy curve to find the best hyper-parameter"
      ]
    },
    {
      "cell_type": "code",
      "metadata": {
        "colab": {
          "base_uri": "https://localhost:8080/"
        },
        "id": "g4y8qqO1Jj4-",
        "outputId": "cacbc4f3-7303-4cdf-865a-ab7cb5ddcbd9"
      },
      "source": [
        "#find the best max_depth using np.argmax, max_depth_list and acc_val_list\n",
        "#you may get a different number\n",
        "max_depth_best=max_depth_list[np.argmax(acc_val_list)]\n",
        "max_depth_best"
      ],
      "execution_count": 25,
      "outputs": [
        {
          "output_type": "execute_result",
          "data": {
            "text/plain": [
              "9"
            ]
          },
          "metadata": {},
          "execution_count": 25
        }
      ]
    },
    {
      "cell_type": "code",
      "metadata": {
        "colab": {
          "base_uri": "https://localhost:8080/"
        },
        "id": "EXjoGpXkJj4-",
        "outputId": "0d61d3ee-a315-41e9-8db8-e4092602cf5c"
      },
      "source": [
        "#now, we use the max_depth_best to build a DecisionTreeClassifier\n",
        "#train it on the training set and evaluate it on the testing set\n",
        "dt=DecisionTreeClassifier(class_weight='balanced', max_depth=9, random_state=0)\n",
        "dt.fit(X_train, Y_train)\n",
        "Y_test_pred=dt.predict(X_test)\n",
        "confusion_test=confusion_matrix(Y_test, Y_test_pred)\n",
        "acc_test=weighted_accuracy(confusion_test)\n",
        "print('classification accuracy on test set is ', acc_test)"
      ],
      "execution_count": 26,
      "outputs": [
        {
          "output_type": "stream",
          "name": "stdout",
          "text": [
            "classification accuracy on test set is  0.7420615\n"
          ]
        }
      ]
    },
    {
      "cell_type": "code",
      "metadata": {
        "colab": {
          "base_uri": "https://localhost:8080/"
        },
        "id": "_UgL2hjEJj4-",
        "outputId": "bfb38de5-d835-450c-c0f2-6a9ff859e9e8"
      },
      "source": [
        "confusion_test"
      ],
      "execution_count": 27,
      "outputs": [
        {
          "output_type": "execute_result",
          "data": {
            "text/plain": [
              "array([[23401,  4556],\n",
              "       [  721,  1322]])"
            ]
          },
          "metadata": {},
          "execution_count": 27
        }
      ]
    },
    {
      "cell_type": "markdown",
      "metadata": {
        "id": "Rz8n9_yJJj4-"
      },
      "source": [
        "### 2. find the best max_depth in RandomForestClassifier"
      ]
    },
    {
      "cell_type": "code",
      "metadata": {
        "colab": {
          "base_uri": "https://localhost:8080/"
        },
        "id": "O91xHRNgJj4-",
        "outputId": "b7199160-c943-4987-9f71-787b337026e7"
      },
      "source": [
        "#create an array of possible max_depth\n",
        "# you may need the function np.arange\n",
        "# The minimum value of max_depth is 1, obviously.\n",
        "# assume the name of the array is max_depth_list\n",
        "max_depth_list=np.arange(1,21,1)\n",
        "max_depth_list"
      ],
      "execution_count": 28,
      "outputs": [
        {
          "output_type": "execute_result",
          "data": {
            "text/plain": [
              "array([ 1,  2,  3,  4,  5,  6,  7,  8,  9, 10, 11, 12, 13, 14, 15, 16, 17,\n",
              "       18, 19, 20])"
            ]
          },
          "metadata": {},
          "execution_count": 28
        }
      ]
    },
    {
      "cell_type": "code",
      "metadata": {
        "colab": {
          "base_uri": "https://localhost:8080/"
        },
        "id": "-fjngNtyJj4-",
        "outputId": "b8847697-b800-43d9-8f03-c3168c64a78c"
      },
      "source": [
        "#train a RandomForestClassifier with max_depth in max_depth_list\n",
        "#inside a for loop: \n",
        "#   create a model with a max_depth in max_depth_list\n",
        "#   set class_weight to 'balanced', n_estimators=20\n",
        "#   set random_state=0 so that the result is reproducible\n",
        "#   train the model on the training set\n",
        "#   record the accuracy on the training set into a list acc_train_list\n",
        "#   record the accuracy on the validation set into a list acc_val_list\n",
        "acc_train_list=[]\n",
        "acc_val_list=[]\n",
        "for n in max_depth_list:\n",
        "    RF=RandomForestClassifier(n_estimators=20, class_weight='balanced', max_depth=n, random_state=0)\n",
        "    RF.fit(X_train, Y_train)\n",
        "    Y_val_pred=RF.predict(X_val)\n",
        "    confusion_val=confusion_matrix(Y_val, Y_val_pred)\n",
        "    acc_val=weighted_accuracy(confusion_val)\n",
        "    acc_val_list.append(acc_val)\n",
        "    \n",
        "    Y_train_pred=RF.predict(X_train)\n",
        "    confusion_train=confusion_matrix(Y_train, Y_train_pred)\n",
        "    acc_train=weighted_accuracy(confusion_train)\n",
        "    acc_train_list.append(acc_train)\n",
        "    print('classification accuracy on validation set is ', acc_val)\n",
        "    print('classification accuracy on train set is ', acc_train)\n"
      ],
      "execution_count": 29,
      "outputs": [
        {
          "output_type": "stream",
          "name": "stdout",
          "text": [
            "classification accuracy on validation set is  0.68939745\n",
            "classification accuracy on train set is  0.6969032\n",
            "classification accuracy on validation set is  0.7140273\n",
            "classification accuracy on train set is  0.7142781\n",
            "classification accuracy on validation set is  0.75247127\n",
            "classification accuracy on train set is  0.7543082\n",
            "classification accuracy on validation set is  0.7511547\n",
            "classification accuracy on train set is  0.7565831\n",
            "classification accuracy on validation set is  0.75663364\n",
            "classification accuracy on train set is  0.7618276\n",
            "classification accuracy on validation set is  0.7566997\n",
            "classification accuracy on train set is  0.7667474\n",
            "classification accuracy on validation set is  0.7598034\n",
            "classification accuracy on train set is  0.77006364\n",
            "classification accuracy on validation set is  0.7616796\n",
            "classification accuracy on train set is  0.7752997\n",
            "classification accuracy on validation set is  0.75926924\n",
            "classification accuracy on train set is  0.78048754\n",
            "classification accuracy on validation set is  0.759506\n",
            "classification accuracy on train set is  0.789834\n",
            "classification accuracy on validation set is  0.75764906\n",
            "classification accuracy on train set is  0.8002237\n",
            "classification accuracy on validation set is  0.7429986\n",
            "classification accuracy on train set is  0.8124109\n",
            "classification accuracy on validation set is  0.7360354\n",
            "classification accuracy on train set is  0.82418644\n",
            "classification accuracy on validation set is  0.72735727\n",
            "classification accuracy on train set is  0.8406652\n",
            "classification accuracy on validation set is  0.7067013\n",
            "classification accuracy on train set is  0.85622513\n",
            "classification accuracy on validation set is  0.6918895\n",
            "classification accuracy on train set is  0.8733568\n",
            "classification accuracy on validation set is  0.6890168\n",
            "classification accuracy on train set is  0.8870233\n",
            "classification accuracy on validation set is  0.6731272\n",
            "classification accuracy on train set is  0.8967465\n",
            "classification accuracy on validation set is  0.6592244\n",
            "classification accuracy on train set is  0.9127704\n",
            "classification accuracy on validation set is  0.64681727\n",
            "classification accuracy on train set is  0.9229456\n"
          ]
        }
      ]
    },
    {
      "cell_type": "code",
      "metadata": {
        "colab": {
          "base_uri": "https://localhost:8080/",
          "height": 405
        },
        "id": "r88dAVkAJj4_",
        "outputId": "d3c5d049-b7a6-4c36-d3f3-13652e43c0e9"
      },
      "source": [
        "#plot max_depth vs acc_train using max_depth_list and acc_train_list\n",
        "#plot max_depth vs acc_val using max_depth_list and acc_val_list\n",
        "fig, ax = plt.subplots(1,2, figsize=(10,6))\n",
        "ax[0].plot(max_depth_list, acc_train_list, 'b')\n",
        "ax[0].set_xlabel('max_depth')\n",
        "ax[0].set_ylabel('training accuracy')\n",
        "ax[0].set_title('max_depth v.s. training accuracy')\n",
        "ax[0].grid(True)\n",
        "ax[1].plot(max_depth_list, acc_val_list, 'r')\n",
        "ax[1].set_xlabel('max_depth')\n",
        "ax[1].set_ylabel('validation accuracy')\n",
        "ax[1].set_title('max_depth v.s. validation accuracy')\n",
        "ax[1].grid(True)"
      ],
      "execution_count": 30,
      "outputs": [
        {
          "output_type": "display_data",
          "data": {
            "image/png": "[encoded data removed]",
            "text/plain": [
              "<Figure size 720x432 with 2 Axes>"
            ]
          },
          "metadata": {
            "needs_background": "light"
          }
        }
      ]
    },
    {
      "cell_type": "code",
      "metadata": {
        "colab": {
          "base_uri": "https://localhost:8080/"
        },
        "id": "8ZGwubSVJj4_",
        "outputId": "69e51843-05b6-4bac-a3c7-b32280d22c05"
      },
      "source": [
        "#find the best max_depth using np.argmax, max_depth_list and acc_val_list\n",
        "#you may get a different number\n",
        "max_depth_best=max_depth_list[np.argmax(acc_val_list)]\n",
        "max_depth_best"
      ],
      "execution_count": 31,
      "outputs": [
        {
          "output_type": "execute_result",
          "data": {
            "text/plain": [
              "8"
            ]
          },
          "metadata": {},
          "execution_count": 31
        }
      ]
    },
    {
      "cell_type": "code",
      "metadata": {
        "colab": {
          "base_uri": "https://localhost:8080/"
        },
        "id": "6I5YyQIAJj4_",
        "outputId": "82b7c99f-e206-4b67-a390-b7e2e60f0205"
      },
      "source": [
        "#now, we use the best max_depth to build a RandomForestClassifier\n",
        "#train it on the training set and evaluate it on the testing set\n",
        "RF=RandomForestClassifier(n_estimators=20, class_weight='balanced', max_depth=10, random_state=0)\n",
        "RF.fit(X_train, Y_train)\n",
        "Y_test_pred=RF.predict(X_test)\n",
        "confusion_test=confusion_matrix(Y_test, Y_test_pred)\n",
        "acc_test=weighted_accuracy(confusion_test)\n",
        "print('classification accuracy on test set is ', acc_test)"
      ],
      "execution_count": 32,
      "outputs": [
        {
          "output_type": "stream",
          "name": "stdout",
          "text": [
            "classification accuracy on test set is  0.74766505\n"
          ]
        }
      ]
    },
    {
      "cell_type": "code",
      "metadata": {
        "colab": {
          "base_uri": "https://localhost:8080/"
        },
        "id": "80cSir7wJj4_",
        "outputId": "fbd2301c-5f5e-4151-d1cb-3f016cdc2e01"
      },
      "source": [
        "confusion_test"
      ],
      "execution_count": 34,
      "outputs": [
        {
          "output_type": "execute_result",
          "data": {
            "text/plain": [
              "array([[24248,  3709],\n",
              "       [  760,  1283]])"
            ]
          },
          "metadata": {},
          "execution_count": 34
        }
      ]
    },
    {
      "cell_type": "markdown",
      "metadata": {
        "id": "YdO4bTT1Jj4_"
      },
      "source": [
        "## KNeighborsClassifier and upsampling\n",
        "We need to find the best hyper-parameter n_neighbors in KNeighborsClassifier <br>\n",
        "There is no 'class_weight' parameter in KNeighborsClassifier, so we have to do upsampling to handle imbalanced data"
      ]
    },
    {
      "cell_type": "code",
      "metadata": {
        "colab": {
          "base_uri": "https://localhost:8080/"
        },
        "id": "yQU_k17pJj4_",
        "outputId": "8bc58a9c-81d5-4040-81b6-bf7d1888fa19"
      },
      "source": [
        "from sklearn.neighbors import KNeighborsClassifier\n",
        "# build a KNN Classifier with K=5 on the original dataset (X_train, Y_train)\n",
        "# test the Classifier on the test set\n",
        "# get confusion_matrix on the test set\n",
        "# get weighted_accuracy on the test set\n",
        "# your code:\n",
        "#-----------------\n",
        "knn = KNeighborsClassifier(n_neighbors = 5)\n",
        "knn.fit(X_train, Y_train)\n",
        "Y_test_pred = knn.predict(X_test)\n",
        "confusion_test=confusion_matrix(Y_test, Y_test_pred)\n",
        "acc_test=weighted_accuracy(confusion_test)\n",
        "print('classification accuracy on the testing set is ', acc_test)\n",
        "#you will see a message like : classification accuracy on the testing set is  0.5528032"
      ],
      "execution_count": 35,
      "outputs": [
        {
          "output_type": "stream",
          "name": "stdout",
          "text": [
            "classification accuracy on the testing set is  0.5528032\n"
          ]
        }
      ]
    },
    {
      "cell_type": "code",
      "metadata": {
        "colab": {
          "base_uri": "https://localhost:8080/"
        },
        "id": "bkbvaWBvJj4_",
        "outputId": "4b5622ed-3511-4900-e4ac-fc7d15af371b"
      },
      "source": [
        "# now, do upsampling... to get X_train_new, Y_train_new\n",
        "# in this new training set, class-0 and clas-1 have equal number of samples (100824). \n",
        "# use sklearn.utils.resample\n",
        "#   like this: X_train_c1=resample(X_train[Y_train==1], n_samples=100824)\n",
        "# assemble X_train_new, Y_train_new using np.concatenate\n",
        "from sklearn.utils import resample\n",
        "X_train_c1=resample(X_train[Y_train==1], n_samples=100824)\n",
        "X_train_c0=resample(X_train[Y_train==0], n_samples=100824)\n",
        "X_train_new=np.concatenate((X_train_c1,X_train_c0))\n",
        "Y_train_c1 = np.repeat(1, 100824)\n",
        "Y_train_c0 = np.repeat(0, 100824)\n",
        "Y_train_new = np.concatenate([Y_train_c1, Y_train_c0])\n",
        "\n",
        "print(\"X_train_c1\",X_train_c1.shape,Y_train_c1.shape)\n",
        "print(\"X_train_new\",X_train_new.shape,Y_train_new.shape)\n"
      ],
      "execution_count": 36,
      "outputs": [
        {
          "output_type": "stream",
          "name": "stdout",
          "text": [
            "X_train_c1 (100824, 10) (100824,)\n",
            "X_train_new (201648, 10) (201648,)\n"
          ]
        }
      ]
    },
    {
      "cell_type": "code",
      "metadata": {
        "colab": {
          "base_uri": "https://localhost:8080/"
        },
        "id": "pPND2lW3Jj5A",
        "outputId": "8a7f82d5-6d72-4038-eba2-156c3d0c68a2"
      },
      "source": [
        "# create an array of possible n_neighbors\n",
        "# name it n_neighbors_list\n",
        "n_neighbors_list = np.arange(1,101,11)\n",
        "n_neighbors_list"
      ],
      "execution_count": 37,
      "outputs": [
        {
          "output_type": "execute_result",
          "data": {
            "text/plain": [
              "array([  1,  12,  23,  34,  45,  56,  67,  78,  89, 100])"
            ]
          },
          "metadata": {},
          "execution_count": 37
        }
      ]
    },
    {
      "cell_type": "code",
      "metadata": {
        "id": "fOoic7lJJj5A"
      },
      "source": [
        "#train a KNeighborsClassifier with n_neighbors in n_neighbors_list\n",
        "#      using X_train_new, Y_train_new\n",
        "#inside a for loop: \n",
        "#   create a model with a n_neighbors in n_neighbors_list\n",
        "#   train the model on the training set\n",
        "#   record the accuracy on the training set into a list acc_train_list\n",
        "#   record the accuracy on the validation set into a list acc_val_list\n",
        "#this process is very time-consuming\n",
        "acc_train_list=[]\n",
        "acc_val_list=[]\n",
        "for n in n_neighbors_list:\n",
        "    knn = KNeighborsClassifier(n_neighbors=n)\n",
        "    knn.fit(X_train_new, Y_train_new)\n",
        "    Y_train_pred=knn.predict(X_train_new)\n",
        "    confusion_train=confusion_matrix(Y_train_new, Y_train_pred)\n",
        "    acc_train=weighted_accuracy(confusion_train)\n",
        "    acc_train_list.append(acc_train)\n",
        "    \n",
        "    Y_val_pred=knn.predict(X_val)\n",
        "    confusion_val=confusion_matrix(Y_val, Y_val_pred)\n",
        "    acc_val=weighted_accuracy(confusion_val)\n",
        "    acc_val_list.append(acc_val)\n",
        "\n"
      ],
      "execution_count": 38,
      "outputs": []
    },
    {
      "cell_type": "code",
      "metadata": {
        "colab": {
          "base_uri": "https://localhost:8080/",
          "height": 405
        },
        "id": "V28F3LtnJj5A",
        "outputId": "bd1eddef-0682-4a7e-ebb8-608c2cea78fc"
      },
      "source": [
        "#plot n_neighbors vs acc_train using n_neighbors_list and acc_train_list\n",
        "#plot n_neighbors vs acc_val using n_neighbors_list and acc_val_list\n",
        "fig, ax = plt.subplots(1,2, figsize=(10,6))\n",
        "ax[0].plot(n_neighbors_list, acc_train_list, 'b')\n",
        "ax[0].set_xlabel('n_neighbors')\n",
        "ax[0].set_ylabel('training accuracy')\n",
        "ax[0].set_title('n_neighbors v.s. training accuracy')\n",
        "ax[0].grid(True)\n",
        "ax[1].plot(n_neighbors_list, acc_val_list, 'r')\n",
        "ax[1].set_xlabel('n_neighbors')\n",
        "ax[1].set_ylabel('validation accuracy')\n",
        "ax[1].set_title('n_neighbors v.s. validation accuracy')\n",
        "ax[1].grid(True)"
      ],
      "execution_count": 39,
      "outputs": [
        {
          "output_type": "display_data",
          "data": {
            "image/png": "[encoded data removed]",
            "text/plain": [
              "<Figure size 720x432 with 2 Axes>"
            ]
          },
          "metadata": {
            "needs_background": "light"
          }
        }
      ]
    },
    {
      "cell_type": "markdown",
      "metadata": {
        "id": "RJE6WAN_Jj5A"
      },
      "source": [
        "The trainig accuracy of KNN keeps decreasing as n_neighbors increases. <br>\n",
        "The validation accuracy of KNN keeps increasing as n_neighbors increases. <br>\n",
        "To determine the optimal n_neighbors, we may need to consider validation accuracy and model complexity: <br>\n",
        "select a small n_neighbors with high validation accuracy <br>\n",
        "We could use the \"upside-down\" elbow method: <br>\n",
        "starting from the best n_neighbors, the validation accuracy curve starts to become flat."
      ]
    },
    {
      "cell_type": "code",
      "metadata": {
        "id": "bMbSwDxFJj5A"
      },
      "source": [
        "#find the best n_neighbors (good val_acc and small n_neighbors, it could be subjective)\n",
        "n_neighbors_best=20"
      ],
      "execution_count": 42,
      "outputs": []
    },
    {
      "cell_type": "code",
      "metadata": {
        "colab": {
          "base_uri": "https://localhost:8080/"
        },
        "id": "IbEUZys_Jj5A",
        "outputId": "1b144487-014e-4459-b249-0f286d4babdb"
      },
      "source": [
        "#now, we use n_neighbors_best to build a KNeighborsClassifier\n",
        "#train it on the new training set and evaluate it on the testing set\n",
        "acc_test_list=[]\n",
        "\n",
        "knn = KNeighborsClassifier(n_neighbors=20)\n",
        "knn.fit(X_train_new, Y_train_new)\n",
        "\n",
        "Y_test_pred=knn.predict(X_test)\n",
        "confusion_test=confusion_matrix(Y_test, Y_test_pred)\n",
        "acc_test=weighted_accuracy(confusion_test)\n",
        "\n",
        "print('classification accuracy on testing set is ', acc_test)"
      ],
      "execution_count": 44,
      "outputs": [
        {
          "output_type": "stream",
          "name": "stdout",
          "text": [
            "classification accuracy on testing set is  0.6582813\n"
          ]
        }
      ]
    },
    {
      "cell_type": "markdown",
      "metadata": {
        "id": "DxnnlnIbJj5A"
      },
      "source": [
        "### How to perform grid search if we need to optimize more than one hyper-parameter ?\n",
        "write down your ideas <br>\n",
        "\"-5\" points if you write nothing here"
      ]
    },
    {
      "cell_type": "code",
      "metadata": {
        "id": "4F9sCXKmJj5A"
      },
      "source": [
        "# we can find optimal values for the hyperparameters of a model by using GridSearchCV.\n",
        "# We do this by defining a dictionary in which we mention a particular hyperparameter along with the values it can take. "
      ],
      "execution_count": null,
      "outputs": []
    }
  ]
}