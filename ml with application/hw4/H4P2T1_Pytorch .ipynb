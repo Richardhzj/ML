{
  "cells": [
    {
      "cell_type": "markdown",
      "metadata": {
        "id": "8GOvSD6hJqPF"
      },
      "source": [
        "# Classification using a Neural Network - Handle Class Imbalance (Pytorch)\n",
        "The dataset is from https://www.kaggle.com/c/GiveMeSomeCredit <br>\n",
        "\"Banks play a crucial role in market economies. They decide who can get finance and on what terms and can make or break investment decisions. For markets and society to function, individuals and companies need access to credit. Credit scoring algorithms, which make a guess at the probability of default, are the method banks use to determine whether or not a loan should be granted.\"  <br>\n",
        "We will build an MLP classifier to predict if someone will experience financial distress and therefore cannot pay off credit card (i.e. default). It is a binary classificaiton problem: default (class-1) or not default  (class-0) <br>\n",
        "Real dataset is often imbalanced: class-i may have much more data samples than class-j."
      ]
    },
    {
      "cell_type": "code",
      "execution_count": 1,
      "metadata": {
        "id": "qg4V7umRJqPJ"
      },
      "outputs": [],
      "source": [
        "import matplotlib.pyplot as plt\n",
        "from IPython import display\n",
        "import numpy as np\n",
        "import pandas as pd\n",
        "import torch"
      ]
    },
    {
      "cell_type": "markdown",
      "metadata": {
        "id": "kuOc0zjpJqPK"
      },
      "source": [
        "### Load the data"
      ]
    },
    {
      "cell_type": "code",
      "execution_count": 2,
      "metadata": {
        "colab": {
          "base_uri": "https://localhost:8080/",
          "height": 206
        },
        "id": "peTe9lg8JqPL",
        "outputId": "f4aa399b-16cb-4cb3-d658-bdfd2d6671b5"
      },
      "outputs": [
        {
          "output_type": "execute_result",
          "data": {
            "text/html": [
              "<div>\n",
              "<style scoped>\n",
              "    .dataframe tbody tr th:only-of-type {\n",
              "        vertical-align: middle;\n",
              "    }\n",
              "\n",
              "    .dataframe tbody tr th {\n",
              "        vertical-align: top;\n",
              "    }\n",
              "\n",
              "    .dataframe thead th {\n",
              "        text-align: right;\n",
              "    }\n",
              "</style>\n",
              "<table border=\"1\" class=\"dataframe\">\n",
              "  <thead>\n",
              "    <tr style=\"text-align: right;\">\n",
              "      <th></th>\n",
              "      <th>id</th>\n",
              "      <th>SeriousDlqin2yrs</th>\n",
              "      <th>RevolvingUtilizationOfUnsecuredLines</th>\n",
              "      <th>age</th>\n",
              "      <th>NumberOfTime30-59DaysPastDueNotWorse</th>\n",
              "      <th>DebtRatio</th>\n",
              "      <th>MonthlyIncome</th>\n",
              "      <th>NumberOfOpenCreditLinesAndLoans</th>\n",
              "      <th>NumberOfTimes90DaysLate</th>\n",
              "      <th>NumberRealEstateLoansOrLines</th>\n",
              "      <th>NumberOfTime60-89DaysPastDueNotWorse</th>\n",
              "      <th>NumberOfDependents</th>\n",
              "    </tr>\n",
              "  </thead>\n",
              "  <tbody>\n",
              "    <tr>\n",
              "      <th>0</th>\n",
              "      <td>1</td>\n",
              "      <td>1</td>\n",
              "      <td>0.766127</td>\n",
              "      <td>45</td>\n",
              "      <td>2</td>\n",
              "      <td>0.802982</td>\n",
              "      <td>9120.0</td>\n",
              "      <td>13</td>\n",
              "      <td>0</td>\n",
              "      <td>6</td>\n",
              "      <td>0</td>\n",
              "      <td>2.0</td>\n",
              "    </tr>\n",
              "    <tr>\n",
              "      <th>1</th>\n",
              "      <td>2</td>\n",
              "      <td>0</td>\n",
              "      <td>0.957151</td>\n",
              "      <td>40</td>\n",
              "      <td>0</td>\n",
              "      <td>0.121876</td>\n",
              "      <td>2600.0</td>\n",
              "      <td>4</td>\n",
              "      <td>0</td>\n",
              "      <td>0</td>\n",
              "      <td>0</td>\n",
              "      <td>1.0</td>\n",
              "    </tr>\n",
              "    <tr>\n",
              "      <th>2</th>\n",
              "      <td>3</td>\n",
              "      <td>0</td>\n",
              "      <td>0.658180</td>\n",
              "      <td>38</td>\n",
              "      <td>1</td>\n",
              "      <td>0.085113</td>\n",
              "      <td>3042.0</td>\n",
              "      <td>2</td>\n",
              "      <td>1</td>\n",
              "      <td>0</td>\n",
              "      <td>0</td>\n",
              "      <td>0.0</td>\n",
              "    </tr>\n",
              "    <tr>\n",
              "      <th>3</th>\n",
              "      <td>4</td>\n",
              "      <td>0</td>\n",
              "      <td>0.233810</td>\n",
              "      <td>30</td>\n",
              "      <td>0</td>\n",
              "      <td>0.036050</td>\n",
              "      <td>3300.0</td>\n",
              "      <td>5</td>\n",
              "      <td>0</td>\n",
              "      <td>0</td>\n",
              "      <td>0</td>\n",
              "      <td>0.0</td>\n",
              "    </tr>\n",
              "    <tr>\n",
              "      <th>4</th>\n",
              "      <td>5</td>\n",
              "      <td>0</td>\n",
              "      <td>0.907239</td>\n",
              "      <td>49</td>\n",
              "      <td>1</td>\n",
              "      <td>0.024926</td>\n",
              "      <td>63588.0</td>\n",
              "      <td>7</td>\n",
              "      <td>0</td>\n",
              "      <td>1</td>\n",
              "      <td>0</td>\n",
              "      <td>0.0</td>\n",
              "    </tr>\n",
              "  </tbody>\n",
              "</table>\n",
              "</div>"
            ],
            "text/plain": [
              "   id  ...  NumberOfDependents\n",
              "0   1  ...                 2.0\n",
              "1   2  ...                 1.0\n",
              "2   3  ...                 0.0\n",
              "3   4  ...                 0.0\n",
              "4   5  ...                 0.0\n",
              "\n",
              "[5 rows x 12 columns]"
            ]
          },
          "metadata": {},
          "execution_count": 2
        }
      ],
      "source": [
        "#every row of the table is a data sample (feature vector) from a person\n",
        "df = pd.read_csv('cs_data.csv')\n",
        "df.head()"
      ]
    },
    {
      "cell_type": "markdown",
      "metadata": {
        "id": "inwdq9TWJqPM"
      },
      "source": [
        "#### handle nan (null) in data (i.e. missing values)\n",
        "Some fields in the table are nan, which are missing values. <br>\n",
        "For example, someone may not want to reveal monthly income to whoever made the table/survey, then the table got nan."
      ]
    },
    {
      "cell_type": "code",
      "execution_count": 3,
      "metadata": {
        "colab": {
          "base_uri": "https://localhost:8080/"
        },
        "id": "UgE3Wh7gJqPN",
        "outputId": "268a3289-46fd-4d06-d262-4d340179822d"
      },
      "outputs": [
        {
          "output_type": "execute_result",
          "data": {
            "text/plain": [
              "id                                          0\n",
              "SeriousDlqin2yrs                            0\n",
              "RevolvingUtilizationOfUnsecuredLines        0\n",
              "age                                         0\n",
              "NumberOfTime30-59DaysPastDueNotWorse        0\n",
              "DebtRatio                                   0\n",
              "MonthlyIncome                           29731\n",
              "NumberOfOpenCreditLinesAndLoans             0\n",
              "NumberOfTimes90DaysLate                     0\n",
              "NumberRealEstateLoansOrLines                0\n",
              "NumberOfTime60-89DaysPastDueNotWorse        0\n",
              "NumberOfDependents                       3924\n",
              "dtype: int64"
            ]
          },
          "metadata": {},
          "execution_count": 3
        }
      ],
      "source": [
        "df.isnull().sum()"
      ]
    },
    {
      "cell_type": "code",
      "execution_count": 4,
      "metadata": {
        "colab": {
          "base_uri": "https://localhost:8080/"
        },
        "id": "eUbWrAUtJqPN",
        "outputId": "420d2220-5afb-40fe-943c-2981906c95fc"
      },
      "outputs": [
        {
          "output_type": "execute_result",
          "data": {
            "text/plain": [
              "id                                      0\n",
              "SeriousDlqin2yrs                        0\n",
              "RevolvingUtilizationOfUnsecuredLines    0\n",
              "age                                     0\n",
              "NumberOfTime30-59DaysPastDueNotWorse    0\n",
              "DebtRatio                               0\n",
              "MonthlyIncome                           0\n",
              "NumberOfOpenCreditLinesAndLoans         0\n",
              "NumberOfTimes90DaysLate                 0\n",
              "NumberRealEstateLoansOrLines            0\n",
              "NumberOfTime60-89DaysPastDueNotWorse    0\n",
              "NumberOfDependents                      0\n",
              "dtype: int64"
            ]
          },
          "metadata": {},
          "execution_count": 4
        }
      ],
      "source": [
        "#here, we use a simple method:\n",
        "#replace nan in each column with median value of that column\n",
        "#there are other methods in pandas and sklearn: interpolation in pandas and KNNImputer in sklearn\n",
        "from sklearn.impute import SimpleImputer\n",
        "imputer = SimpleImputer(strategy='median')\n",
        "dfv=imputer.fit_transform(df.values)\n",
        "df=pd.DataFrame(data=dfv, columns=df.columns)\n",
        "df.isnull().sum()"
      ]
    },
    {
      "cell_type": "markdown",
      "metadata": {
        "id": "Ya13BZe0JqPO"
      },
      "source": [
        "### We have a highly imbalanced dataset\n",
        "139974 data samples in class-0 (normal) <br>\n",
        "10026 data samples in class-1 (financial distress)"
      ]
    },
    {
      "cell_type": "code",
      "execution_count": 5,
      "metadata": {
        "colab": {
          "base_uri": "https://localhost:8080/",
          "height": 283
        },
        "id": "ryxa8Y9fJqPP",
        "outputId": "edbd2a60-0926-4cd8-9582-a525925d3529"
      },
      "outputs": [
        {
          "output_type": "execute_result",
          "data": {
            "text/plain": [
              "<matplotlib.axes._subplots.AxesSubplot at 0x7fc50c397110>"
            ]
          },
          "metadata": {},
          "execution_count": 5
        },
        {
          "output_type": "display_data",
          "data": {
            "image/png": "[encoded data removed]",
            "text/plain": [
              "<Figure size 432x288 with 1 Axes>"
            ]
          },
          "metadata": {
            "needs_background": "light"
          }
        }
      ],
      "source": [
        "df['SeriousDlqin2yrs'].hist()"
      ]
    },
    {
      "cell_type": "markdown",
      "metadata": {
        "id": "hV7ydylDJqPP"
      },
      "source": [
        "#### Classification Goal: predict 'SeriousDlqin2yrs' (Y) using the other features (X)"
      ]
    },
    {
      "cell_type": "code",
      "execution_count": 6,
      "metadata": {
        "scrolled": true,
        "colab": {
          "base_uri": "https://localhost:8080/",
          "height": 206
        },
        "id": "CX_AaayRJqPQ",
        "outputId": "a9fd18e0-736c-4702-c1ee-e90a62273162"
      },
      "outputs": [
        {
          "output_type": "execute_result",
          "data": {
            "text/html": [
              "<div>\n",
              "<style scoped>\n",
              "    .dataframe tbody tr th:only-of-type {\n",
              "        vertical-align: middle;\n",
              "    }\n",
              "\n",
              "    .dataframe tbody tr th {\n",
              "        vertical-align: top;\n",
              "    }\n",
              "\n",
              "    .dataframe thead th {\n",
              "        text-align: right;\n",
              "    }\n",
              "</style>\n",
              "<table border=\"1\" class=\"dataframe\">\n",
              "  <thead>\n",
              "    <tr style=\"text-align: right;\">\n",
              "      <th></th>\n",
              "      <th>RevolvingUtilizationOfUnsecuredLines</th>\n",
              "      <th>age</th>\n",
              "      <th>NumberOfTime30-59DaysPastDueNotWorse</th>\n",
              "      <th>DebtRatio</th>\n",
              "      <th>MonthlyIncome</th>\n",
              "      <th>NumberOfOpenCreditLinesAndLoans</th>\n",
              "      <th>NumberOfTimes90DaysLate</th>\n",
              "      <th>NumberRealEstateLoansOrLines</th>\n",
              "      <th>NumberOfTime60-89DaysPastDueNotWorse</th>\n",
              "      <th>NumberOfDependents</th>\n",
              "    </tr>\n",
              "  </thead>\n",
              "  <tbody>\n",
              "    <tr>\n",
              "      <th>0</th>\n",
              "      <td>0.766127</td>\n",
              "      <td>45.0</td>\n",
              "      <td>2.0</td>\n",
              "      <td>0.802982</td>\n",
              "      <td>9120.0</td>\n",
              "      <td>13.0</td>\n",
              "      <td>0.0</td>\n",
              "      <td>6.0</td>\n",
              "      <td>0.0</td>\n",
              "      <td>2.0</td>\n",
              "    </tr>\n",
              "    <tr>\n",
              "      <th>1</th>\n",
              "      <td>0.957151</td>\n",
              "      <td>40.0</td>\n",
              "      <td>0.0</td>\n",
              "      <td>0.121876</td>\n",
              "      <td>2600.0</td>\n",
              "      <td>4.0</td>\n",
              "      <td>0.0</td>\n",
              "      <td>0.0</td>\n",
              "      <td>0.0</td>\n",
              "      <td>1.0</td>\n",
              "    </tr>\n",
              "    <tr>\n",
              "      <th>2</th>\n",
              "      <td>0.658180</td>\n",
              "      <td>38.0</td>\n",
              "      <td>1.0</td>\n",
              "      <td>0.085113</td>\n",
              "      <td>3042.0</td>\n",
              "      <td>2.0</td>\n",
              "      <td>1.0</td>\n",
              "      <td>0.0</td>\n",
              "      <td>0.0</td>\n",
              "      <td>0.0</td>\n",
              "    </tr>\n",
              "    <tr>\n",
              "      <th>3</th>\n",
              "      <td>0.233810</td>\n",
              "      <td>30.0</td>\n",
              "      <td>0.0</td>\n",
              "      <td>0.036050</td>\n",
              "      <td>3300.0</td>\n",
              "      <td>5.0</td>\n",
              "      <td>0.0</td>\n",
              "      <td>0.0</td>\n",
              "      <td>0.0</td>\n",
              "      <td>0.0</td>\n",
              "    </tr>\n",
              "    <tr>\n",
              "      <th>4</th>\n",
              "      <td>0.907239</td>\n",
              "      <td>49.0</td>\n",
              "      <td>1.0</td>\n",
              "      <td>0.024926</td>\n",
              "      <td>63588.0</td>\n",
              "      <td>7.0</td>\n",
              "      <td>0.0</td>\n",
              "      <td>1.0</td>\n",
              "      <td>0.0</td>\n",
              "      <td>0.0</td>\n",
              "    </tr>\n",
              "  </tbody>\n",
              "</table>\n",
              "</div>"
            ],
            "text/plain": [
              "   RevolvingUtilizationOfUnsecuredLines  ...  NumberOfDependents\n",
              "0                              0.766127  ...                 2.0\n",
              "1                              0.957151  ...                 1.0\n",
              "2                              0.658180  ...                 0.0\n",
              "3                              0.233810  ...                 0.0\n",
              "4                              0.907239  ...                 0.0\n",
              "\n",
              "[5 rows x 10 columns]"
            ]
          },
          "metadata": {},
          "execution_count": 6
        }
      ],
      "source": [
        "#'SeriousDlqin2yrs' is the target/class label, so it should not be in the input feature vector X\n",
        "#'id' of a person is useless for the classification task\n",
        "#so, we remove them from the table and get the input X\n",
        "X=df.drop(['SeriousDlqin2yrs', 'id'], axis=1)\n",
        "X.head()"
      ]
    },
    {
      "cell_type": "code",
      "execution_count": 7,
      "metadata": {
        "colab": {
          "base_uri": "https://localhost:8080/"
        },
        "id": "vi7EA4ZoJqPQ",
        "outputId": "b9c3f78b-14fe-4c8d-a260-bbd84cb5813b"
      },
      "outputs": [
        {
          "output_type": "execute_result",
          "data": {
            "text/plain": [
              "0    1.0\n",
              "1    0.0\n",
              "2    0.0\n",
              "3    0.0\n",
              "4    0.0\n",
              "Name: SeriousDlqin2yrs, dtype: float64"
            ]
          },
          "metadata": {},
          "execution_count": 7
        }
      ],
      "source": [
        "#Y is the target/class label\n",
        "Y=df['SeriousDlqin2yrs']\n",
        "Y.head()"
      ]
    },
    {
      "cell_type": "code",
      "execution_count": 8,
      "metadata": {
        "id": "4vSAgGAaJqPR"
      },
      "outputs": [],
      "source": [
        "# convert pandas dataframe/series to numpy array\n",
        "# sklearn functions may not work well with pandas data types\n",
        "X=X.values\n",
        "Y=Y.values"
      ]
    },
    {
      "cell_type": "markdown",
      "metadata": {
        "id": "QZU6Ps1yJqPR"
      },
      "source": [
        "### create training, validation and test sets"
      ]
    },
    {
      "cell_type": "code",
      "execution_count": 9,
      "metadata": {
        "colab": {
          "base_uri": "https://localhost:8080/"
        },
        "id": "JEyaaLM0JqPR",
        "outputId": "fbfa9e9a-05e5-4862-ff60-cdff500d70cc"
      },
      "outputs": [
        {
          "output_type": "stream",
          "name": "stdout",
          "text": [
            "train: (108000, 10) (108000,)\n",
            "validation: (12000, 10) (12000,)\n",
            "test: (30000, 10) (30000,)\n"
          ]
        }
      ],
      "source": [
        "from sklearn.model_selection import train_test_split\n",
        "X_train, X_test, Y_train, Y_test = train_test_split(X, Y, test_size=0.2, random_state=0)\n",
        "#split X_train and Y_train into a 'pure' training set and a validation set\n",
        "X_train, X_val, Y_train, Y_val = train_test_split(X_train, Y_train, test_size=0.1, random_state=0)\n",
        "print('train:', X_train.shape, Y_train.shape)\n",
        "print('validation:', X_val.shape, Y_val.shape)\n",
        "print('test:', X_test.shape, Y_test.shape)"
      ]
    },
    {
      "cell_type": "code",
      "execution_count": 10,
      "metadata": {
        "colab": {
          "base_uri": "https://localhost:8080/",
          "height": 265
        },
        "id": "Ml6A3f-iJqPS",
        "outputId": "13958a5d-ae84-4b54-cdae-03829667dd38"
      },
      "outputs": [
        {
          "output_type": "display_data",
          "data": {
            "image/png": "[encoded data removed]",
            "text/plain": [
              "<Figure size 432x288 with 1 Axes>"
            ]
          },
          "metadata": {
            "needs_background": "light"
          }
        }
      ],
      "source": [
        "plt.hist(Y_train, bins=20);"
      ]
    },
    {
      "cell_type": "markdown",
      "metadata": {
        "id": "s7CmNMiXJqPS"
      },
      "source": [
        "Let's do upsampling for class-1"
      ]
    },
    {
      "cell_type": "code",
      "execution_count": 11,
      "metadata": {
        "colab": {
          "base_uri": "https://localhost:8080/"
        },
        "id": "6Y7rWaDEJqPS",
        "outputId": "008e6129-b971-4132-f0e8-0a8c1c7c1f04"
      },
      "outputs": [
        {
          "output_type": "stream",
          "name": "stdout",
          "text": [
            "X_train_c1 (100824, 10) (100824,)\n",
            "X_train.shape after upsampling (201648, 10)\n",
            "Y_train.shape after upsampling (201648,)\n"
          ]
        }
      ],
      "source": [
        "from sklearn.utils import resample\n",
        "X_train_c1  = resample(X_train[Y_train==1], n_samples=100824)\n",
        "Y_train_c1 = np.ones(X_train_c1.shape[0])\n",
        "print('X_train_c1', X_train_c1.shape, Y_train_c1.shape)\n",
        "X_train=np.concatenate([X_train[Y_train==0], X_train_c1], axis=0)\n",
        "Y_train=np.concatenate([Y_train[Y_train==0], Y_train_c1], axis=0)\n",
        "print('X_train.shape after upsampling', X_train.shape)\n",
        "print('Y_train.shape after upsampling', Y_train.shape)"
      ]
    },
    {
      "cell_type": "code",
      "execution_count": 12,
      "metadata": {
        "id": "b7RBBUhNJqPT"
      },
      "outputs": [],
      "source": [
        "#apply feature normalization to training, validation and test sets\n",
        "from sklearn.preprocessing import MinMaxScaler\n",
        "scaler=MinMaxScaler()\n",
        "scaler.fit(X_train) # think about why fit to X_train, not X ?\n",
        "X_train=scaler.transform(X_train)\n",
        "X_val=scaler.transform(X_val)\n",
        "X_test=scaler.transform(X_test)"
      ]
    },
    {
      "cell_type": "markdown",
      "metadata": {
        "id": "TivkHZWuJqPT"
      },
      "source": [
        "### we need to use weighted classification accuracy"
      ]
    },
    {
      "cell_type": "code",
      "execution_count": 13,
      "metadata": {
        "id": "IyUxMk1zJqPU"
      },
      "outputs": [],
      "source": [
        "# we need to use weighted classification accuracy\n",
        "# try to understand it\n",
        "def weighted_accuracy(confusion):\n",
        "    #input: confusion is the confusion matrix\n",
        "    #output: acc is the weighted classification accuracy\n",
        "    M=confusion.copy().astype('float32')\n",
        "    for k in range(0, M.shape[0]):\n",
        "        M[k]/=M[k].sum()+1e-8    \n",
        "    acc = M.diagonal().sum()/M.sum()\n",
        "    return acc"
      ]
    },
    {
      "cell_type": "markdown",
      "metadata": {
        "id": "mDIhhMGoJqPU"
      },
      "source": [
        "## Your task begins here <br>\n",
        "see NN_binary_classification_Pytorch.ipynb in Lecture 16 <br>\n",
        "try Adma with lr=0.001 <br>\n",
        "Usually, we need to tune the hyperparameters of a neural network, <br>\n",
        "such as the number of layers, the number of units in each layer <br>\n",
        "If you have plenty of time and enough computing power, try to find better hyperparameters <br>\n",
        "read papers about \"Neural Architecture Search\" https://arxiv.org/abs/1808.05377 <br>\n",
        "\n",
        "You need to modify the function `test` in order to use weighted_accuracy, see `test_acc` in H3P2T1_Keras.ipynb"
      ]
    },
    {
      "cell_type": "markdown",
      "metadata": {
        "id": "WIuuGJfLJqPU"
      },
      "source": [
        "### define a dataset to hold/represent the data "
      ]
    },
    {
      "cell_type": "code",
      "execution_count": 14,
      "metadata": {
        "id": "eMX05v_dJqPU"
      },
      "outputs": [],
      "source": [
        "import torch.utils.data as data\n",
        "\n",
        "class myDataset(data.Dataset):\n",
        "    def __init__(self, data, label):\n",
        "        self.data = torch.from_numpy(np.float32(data))\n",
        "        self.label = torch.from_numpy(np.float32(label))\n",
        "    def __getitem__(self, index):\n",
        "        return self.data[index], self.label[index]\n",
        "    \n",
        "    def __len__(self):\n",
        "        return len(self.label)"
      ]
    },
    {
      "cell_type": "markdown",
      "metadata": {
        "id": "aGnawPRTJqPV"
      },
      "source": [
        "Create instance objects of the `MyDataset` class <br>\n",
        "a training dataset `dataset_train` <br>\n",
        "a validation dataset `dataset_val` <br>\n",
        "a testing dataset `dataset_test` <br>"
      ]
    },
    {
      "cell_type": "code",
      "execution_count": 15,
      "metadata": {
        "id": "ZXcbAz-3JqPV"
      },
      "outputs": [],
      "source": [
        "dataset_train = myDataset(X_train, Y_train)\n",
        "dataset_val = myDataset(X_val, Y_val)\n",
        "dataset_test = myDataset(X_test, Y_test)"
      ]
    },
    {
      "cell_type": "code",
      "execution_count": 16,
      "metadata": {
        "colab": {
          "base_uri": "https://localhost:8080/"
        },
        "id": "ztRwZkPyJqPV",
        "outputId": "b870abb7-b59e-487c-98cf-636c85e10ada"
      },
      "outputs": [
        {
          "output_type": "execute_result",
          "data": {
            "text/plain": [
              "torch.Size([10])"
            ]
          },
          "metadata": {},
          "execution_count": 16
        }
      ],
      "source": [
        "# get the first data point in the training set\n",
        "# dataset_train[0][0] is x0\n",
        "# dataset_train[0][1] is y0\n",
        "dataset_train[0][0].shape"
      ]
    },
    {
      "cell_type": "code",
      "execution_count": 17,
      "metadata": {
        "colab": {
          "base_uri": "https://localhost:8080/"
        },
        "id": "U9QnEY73JqPV",
        "outputId": "acec6e94-98e2-4bf9-c1b3-fded8efc22f8"
      },
      "outputs": [
        {
          "output_type": "execute_result",
          "data": {
            "text/plain": [
              "tensor(0.)"
            ]
          },
          "metadata": {},
          "execution_count": 17
        }
      ],
      "source": [
        "# the class label of the first training sample x0\n",
        "dataset_train[0][1]"
      ]
    },
    {
      "cell_type": "code",
      "execution_count": 18,
      "metadata": {
        "colab": {
          "base_uri": "https://localhost:8080/"
        },
        "id": "lHXngJCcJqPV",
        "outputId": "cd59bd01-d4f1-4171-8587-6c01c83fa9bf"
      },
      "outputs": [
        {
          "output_type": "execute_result",
          "data": {
            "text/plain": [
              "201648"
            ]
          },
          "metadata": {},
          "execution_count": 18
        }
      ],
      "source": [
        "len(dataset_train) # get the number of data points in the training set"
      ]
    },
    {
      "cell_type": "markdown",
      "metadata": {
        "id": "0ej-iJX0JqPW"
      },
      "source": [
        "### Create dataloaders which will be used to generate minibatches\n",
        "batch_size=N means each minibatch contains N data points  <br>\n",
        "note: the last minibatch may contain less than N data points"
      ]
    },
    {
      "cell_type": "code",
      "execution_count": 19,
      "metadata": {
        "id": "kxk4MSjiJqPW"
      },
      "outputs": [],
      "source": [
        "#we must shuffle data points in the training set, set shuffle=True\n",
        "\n",
        "dataloader_train = torch.utils.data.DataLoader(dataset_train, batch_size= 64, shuffle= True, drop_last= False)\n",
        "dataloader_test = torch.utils.data.DataLoader(dataset_test, batch_size= 64, shuffle= False, drop_last= False)\n",
        "dataloader_val = torch.utils.data.DataLoader(dataset_val, batch_size= 64, shuffle= False, drop_last= False)"
      ]
    },
    {
      "cell_type": "code",
      "execution_count": 20,
      "metadata": {
        "colab": {
          "base_uri": "https://localhost:8080/"
        },
        "id": "ZUhg5JthJqPW",
        "outputId": "23834839-70a6-49d9-b3ee-4fc4a7778b1e"
      },
      "outputs": [
        {
          "output_type": "execute_result",
          "data": {
            "text/plain": [
              "3151"
            ]
          },
          "metadata": {},
          "execution_count": 20
        }
      ],
      "source": [
        "len(dataloader_train) # get the number of minibatches"
      ]
    },
    {
      "cell_type": "markdown",
      "metadata": {
        "id": "Miq8GyXyJqPW"
      },
      "source": [
        "### Now, let's build a neural network that does binary classification"
      ]
    },
    {
      "cell_type": "code",
      "execution_count": 22,
      "metadata": {
        "id": "SUmy9XnqJqPW"
      },
      "outputs": [],
      "source": [
        "import torch.nn as nn\n",
        "import torch.nn.functional as F\n",
        "class Net(nn.Module):\n",
        "    def __init__(self):\n",
        "        super(Net,self).__init__()\n",
        "        self.layer1 = nn.Linear(10,256) \n",
        "        self.layer2 = nn.Linear(256,256)\n",
        "        self.layer3 = nn.Linear(256,256)\n",
        "        self.layer4 = nn.Linear(256,2)       \n",
        "        \n",
        "    def forward(self,x):\n",
        "        x = self.layer1(x)\n",
        "        x = F.relu(x)  #Relu\n",
        "        x = self.layer2(x)\n",
        "        x = F.relu(x)\n",
        "        x = self.layer3(x)\n",
        "        x = F.relu(x)\n",
        "        x = self.layer4(x)\n",
        "        x = torch.sigmoid(x)\n",
        "        return x\n"
      ]
    },
    {
      "cell_type": "markdown",
      "metadata": {
        "id": "PDhtrGU6JqPW"
      },
      "source": [
        "create an instance object of the class"
      ]
    },
    {
      "cell_type": "code",
      "execution_count": 23,
      "metadata": {
        "id": "TkAuQWenJqPX"
      },
      "outputs": [],
      "source": [
        "net = Net()"
      ]
    },
    {
      "cell_type": "code",
      "execution_count": 24,
      "metadata": {
        "id": "QC5xjOU-JqPX"
      },
      "outputs": [],
      "source": [
        "#move the model to GPU if you have a GPU\n",
        "if torch.cuda.is_available():\n",
        "    net = net.cuda()"
      ]
    },
    {
      "cell_type": "markdown",
      "metadata": {
        "id": "A5yZ_1k1JqPX"
      },
      "source": [
        "create an optimizer (e.g. Adam) and send the parameters of the model to the optimizer"
      ]
    },
    {
      "cell_type": "code",
      "execution_count": 25,
      "metadata": {
        "id": "8912TOULJqPX"
      },
      "outputs": [],
      "source": [
        "criterion = nn.CrossEntropyLoss() \n",
        "optimizer = torch.optim.Adam(net.parameters(), lr=0.01)"
      ]
    },
    {
      "cell_type": "markdown",
      "metadata": {
        "id": "QvreVXgBJqPX"
      },
      "source": [
        "define a function to train the neural network in one epoch"
      ]
    },
    {
      "cell_type": "code",
      "execution_count": 26,
      "metadata": {
        "id": "roNy20CGJqPX"
      },
      "outputs": [],
      "source": [
        "def train(model, dataloader, optimizer, criterion, epoch):\n",
        "    model.train()\n",
        "    loss_train = 0\n",
        "    acc_train = 0\n",
        "    confusion = np.zeros((2,2), dtype=np.int64)\n",
        "    for batch_index, (data,label) in enumerate(dataloader):\n",
        "        if torch.cuda.is_available():\n",
        "            data,label = data.cuda(), label.cuda()\n",
        "        label = label.long()    \n",
        "        optimizer.zero_grad() # set grad 0 for each grad update\n",
        "        y_prob = model.forward(data)\n",
        "        loss = criterion(y_prob,label)\n",
        "        loss.backward()\n",
        "        optimizer.step()\n",
        "        loss_train += loss.item()\n",
        "        \n",
        "        if batch_index % 200 == 0:\n",
        "            print('Train Epoch: {} [{}/{} ({:.0f}%)]\\tLoss: {:.6f}'.format(\n",
        "                    epoch, batch_index * data.size(0), len(dataloader.dataset),\n",
        "                    100. * batch_index / len(dataloader), loss.item()))  \n",
        "        \n",
        "        y_pred = y_prob.cpu().max(1)[1]\n",
        "        y_pred = y_pred.numpy().astype('int64')\n",
        "        y_gt = label.cpu().numpy().astype('int64')\n",
        "        for i in range(0,2):\n",
        "            for j in range(0,2):\n",
        "                confusion[i,j] += np.sum((y_gt==i) & (y_pred==j)).astype('int64')\n",
        "    \n",
        "    acc_train = weighted_accuracy(confusion)\n",
        "    loss_train /= len(dataloader)\n",
        "    return loss_train, acc_train "
      ]
    },
    {
      "cell_type": "markdown",
      "metadata": {
        "id": "lhtMrR2fJqPX"
      },
      "source": [
        "define a function to evaluate the neural network on the validation set or the testing set"
      ]
    },
    {
      "cell_type": "code",
      "execution_count": 27,
      "metadata": {
        "id": "tOKUh2POJqPX"
      },
      "outputs": [],
      "source": [
        "#we need this function to get weighted_accuracy on validation and test sets\n",
        "\n",
        "def test(model, dataloader, criterion):\n",
        "    model.eval()\n",
        "    loss_test = 0\n",
        "    acc_test = 0\n",
        "    confusion = np.zeros((2,2), dtype=np.int64)\n",
        "    with torch.no_grad():\n",
        "        for batch_index, (data,label) in enumerate(dataloader):\n",
        "            if torch.cuda.is_available():\n",
        "                data,label = data.cuda(), label.cuda()\n",
        "            label = label.long()                \n",
        "            y_prob = model.forward(data)\n",
        "            loss = criterion(y_prob,label)\n",
        "            loss_test += loss.item()  \n",
        "            \n",
        "            y_pred = y_prob.cpu().max(1)[1]\n",
        "            y_pred = y_pred.numpy().astype('int64')\n",
        "            y_gt = label.cpu().numpy().astype('int64')\n",
        "            for i in range(0,2):\n",
        "                for j in range(0,2):\n",
        "                    confusion[i,j] += np.sum((y_gt==i) & (y_pred==j)).astype('int64')\n",
        "    \n",
        "    acc_test = weighted_accuracy(confusion)\n",
        "    loss_test /= len(dataloader)\n",
        "    return loss_test, acc_test  "
      ]
    },
    {
      "cell_type": "markdown",
      "metadata": {
        "id": "BgcUGQsLJqPY"
      },
      "source": [
        "define a function to save the model to a file"
      ]
    },
    {
      "cell_type": "code",
      "execution_count": 28,
      "metadata": {
        "id": "SOG0AJ5CJqPY"
      },
      "outputs": [],
      "source": [
        "def saveModel(model, epoch, fileName, train_loss, val_loss, train_acc, val_acc):\n",
        "    torch.save({\n",
        "        'epoch':epoch,\n",
        "        'state_dict': model.state_dict(),\n",
        "        'train_loss': train_loss,\n",
        "        'val_loss': val_loss,\n",
        "        'train_acc': train_acc,\n",
        "        'val_acc': val_acc,\n",
        "    },fileName)"
      ]
    },
    {
      "cell_type": "markdown",
      "metadata": {
        "id": "JRw6f2sBJqPY"
      },
      "source": [
        "define a function to load the model from a file"
      ]
    },
    {
      "cell_type": "code",
      "execution_count": 29,
      "metadata": {
        "id": "jhJH6hO1JqPY"
      },
      "outputs": [],
      "source": [
        "def loadModel(model, fileName):\n",
        "#     print('load model:'+fileName)\n",
        "    state_dict = torch.load(fileName)\n",
        "    model.load_state_dict(state_dict['state_dict'])\n",
        "    return model"
      ]
    },
    {
      "cell_type": "markdown",
      "metadata": {
        "id": "TIaNvVA-JqPY"
      },
      "source": [
        "train the neural network model for many epochs"
      ]
    },
    {
      "cell_type": "code",
      "execution_count": 30,
      "metadata": {
        "colab": {
          "base_uri": "https://localhost:8080/"
        },
        "id": "i-XYFwk0JqPY",
        "outputId": "587d97b1-a7ae-4520-eb26-26db06895a72"
      },
      "outputs": [
        {
          "output_type": "stream",
          "name": "stdout",
          "text": [
            "Train Epoch: 0 [0/201648 (0%)]\tLoss: 0.692626\n",
            "Train Epoch: 0 [12800/201648 (6%)]\tLoss: 0.548322\n",
            "Train Epoch: 0 [25600/201648 (13%)]\tLoss: 0.584127\n",
            "Train Epoch: 0 [38400/201648 (19%)]\tLoss: 0.483873\n",
            "Train Epoch: 0 [51200/201648 (25%)]\tLoss: 0.632618\n",
            "Train Epoch: 0 [64000/201648 (32%)]\tLoss: 0.552644\n",
            "Train Epoch: 0 [76800/201648 (38%)]\tLoss: 0.486674\n",
            "Train Epoch: 0 [89600/201648 (44%)]\tLoss: 0.546814\n",
            "Train Epoch: 0 [102400/201648 (51%)]\tLoss: 0.581471\n",
            "Train Epoch: 0 [115200/201648 (57%)]\tLoss: 0.446469\n",
            "Train Epoch: 0 [128000/201648 (63%)]\tLoss: 0.575250\n",
            "Train Epoch: 0 [140800/201648 (70%)]\tLoss: 0.550038\n",
            "Train Epoch: 0 [153600/201648 (76%)]\tLoss: 0.593084\n",
            "Train Epoch: 0 [166400/201648 (83%)]\tLoss: 0.632332\n",
            "Train Epoch: 0 [179200/201648 (89%)]\tLoss: 0.462682\n",
            "Train Epoch: 0 [192000/201648 (95%)]\tLoss: 0.561292\n",
            "epoch 0 training loss: 0.5491874418970669 acc: 0.7483486\n",
            "epoch 0 validation loss: 0.4467922827981888 acc: 0.74841934\n",
            "saved:./H4P2T1_Pytorch_e0.pt\n",
            "Train Epoch: 1 [0/201648 (0%)]\tLoss: 0.553591\n",
            "Train Epoch: 1 [12800/201648 (6%)]\tLoss: 0.537853\n",
            "Train Epoch: 1 [25600/201648 (13%)]\tLoss: 0.654768\n",
            "Train Epoch: 1 [38400/201648 (19%)]\tLoss: 0.577412\n",
            "Train Epoch: 1 [51200/201648 (25%)]\tLoss: 0.559516\n",
            "Train Epoch: 1 [64000/201648 (32%)]\tLoss: 0.535691\n",
            "Train Epoch: 1 [76800/201648 (38%)]\tLoss: 0.493125\n",
            "Train Epoch: 1 [89600/201648 (44%)]\tLoss: 0.511410\n",
            "Train Epoch: 1 [102400/201648 (51%)]\tLoss: 0.543276\n",
            "Train Epoch: 1 [115200/201648 (57%)]\tLoss: 0.589455\n",
            "Train Epoch: 1 [128000/201648 (63%)]\tLoss: 0.605131\n",
            "Train Epoch: 1 [140800/201648 (70%)]\tLoss: 0.490420\n",
            "Train Epoch: 1 [153600/201648 (76%)]\tLoss: 0.561744\n",
            "Train Epoch: 1 [166400/201648 (83%)]\tLoss: 0.525069\n",
            "Train Epoch: 1 [179200/201648 (89%)]\tLoss: 0.504264\n",
            "Train Epoch: 1 [192000/201648 (95%)]\tLoss: 0.539225\n",
            "epoch 1 training loss: 0.5405294759543651 acc: 0.75929344\n",
            "epoch 1 validation loss: 0.5740963161942807 acc: 0.7506491\n",
            "saved:./H4P2T1_Pytorch_e1.pt\n",
            "Train Epoch: 2 [0/201648 (0%)]\tLoss: 0.545847\n",
            "Train Epoch: 2 [12800/201648 (6%)]\tLoss: 0.497279\n",
            "Train Epoch: 2 [25600/201648 (13%)]\tLoss: 0.515979\n",
            "Train Epoch: 2 [38400/201648 (19%)]\tLoss: 0.566969\n",
            "Train Epoch: 2 [51200/201648 (25%)]\tLoss: 0.548774\n",
            "Train Epoch: 2 [64000/201648 (32%)]\tLoss: 0.507985\n",
            "Train Epoch: 2 [76800/201648 (38%)]\tLoss: 0.532409\n",
            "Train Epoch: 2 [89600/201648 (44%)]\tLoss: 0.647613\n",
            "Train Epoch: 2 [102400/201648 (51%)]\tLoss: 0.528931\n",
            "Train Epoch: 2 [115200/201648 (57%)]\tLoss: 0.547440\n",
            "Train Epoch: 2 [128000/201648 (63%)]\tLoss: 0.463843\n",
            "Train Epoch: 2 [140800/201648 (70%)]\tLoss: 0.518689\n",
            "Train Epoch: 2 [153600/201648 (76%)]\tLoss: 0.508109\n",
            "Train Epoch: 2 [166400/201648 (83%)]\tLoss: 0.550852\n",
            "Train Epoch: 2 [179200/201648 (89%)]\tLoss: 0.546955\n",
            "Train Epoch: 2 [192000/201648 (95%)]\tLoss: 0.608319\n",
            "epoch 2 training loss: 0.5379851452039182 acc: 0.7618424\n",
            "epoch 2 validation loss: 0.4783723921851909 acc: 0.76062095\n",
            "saved:./H4P2T1_Pytorch_e2.pt\n",
            "Train Epoch: 3 [0/201648 (0%)]\tLoss: 0.495087\n",
            "Train Epoch: 3 [12800/201648 (6%)]\tLoss: 0.503094\n",
            "Train Epoch: 3 [25600/201648 (13%)]\tLoss: 0.614808\n",
            "Train Epoch: 3 [38400/201648 (19%)]\tLoss: 0.528772\n",
            "Train Epoch: 3 [51200/201648 (25%)]\tLoss: 0.458573\n",
            "Train Epoch: 3 [64000/201648 (32%)]\tLoss: 0.490811\n",
            "Train Epoch: 3 [76800/201648 (38%)]\tLoss: 0.502096\n",
            "Train Epoch: 3 [89600/201648 (44%)]\tLoss: 0.519925\n",
            "Train Epoch: 3 [102400/201648 (51%)]\tLoss: 0.599773\n",
            "Train Epoch: 3 [115200/201648 (57%)]\tLoss: 0.538686\n",
            "Train Epoch: 3 [128000/201648 (63%)]\tLoss: 0.587586\n",
            "Train Epoch: 3 [140800/201648 (70%)]\tLoss: 0.547687\n",
            "Train Epoch: 3 [153600/201648 (76%)]\tLoss: 0.601287\n",
            "Train Epoch: 3 [166400/201648 (83%)]\tLoss: 0.495852\n",
            "Train Epoch: 3 [179200/201648 (89%)]\tLoss: 0.492052\n",
            "Train Epoch: 3 [192000/201648 (95%)]\tLoss: 0.551418\n",
            "epoch 3 training loss: 0.537192704657909 acc: 0.7628144\n",
            "epoch 3 validation loss: 0.5050614274879719 acc: 0.75542235\n",
            "saved:./H4P2T1_Pytorch_e3.pt\n",
            "Train Epoch: 4 [0/201648 (0%)]\tLoss: 0.500724\n",
            "Train Epoch: 4 [12800/201648 (6%)]\tLoss: 0.485257\n",
            "Train Epoch: 4 [25600/201648 (13%)]\tLoss: 0.520455\n",
            "Train Epoch: 4 [38400/201648 (19%)]\tLoss: 0.582401\n",
            "Train Epoch: 4 [51200/201648 (25%)]\tLoss: 0.579881\n",
            "Train Epoch: 4 [64000/201648 (32%)]\tLoss: 0.562183\n",
            "Train Epoch: 4 [76800/201648 (38%)]\tLoss: 0.575296\n",
            "Train Epoch: 4 [89600/201648 (44%)]\tLoss: 0.498384\n",
            "Train Epoch: 4 [102400/201648 (51%)]\tLoss: 0.555880\n",
            "Train Epoch: 4 [115200/201648 (57%)]\tLoss: 0.547742\n",
            "Train Epoch: 4 [128000/201648 (63%)]\tLoss: 0.508709\n",
            "Train Epoch: 4 [140800/201648 (70%)]\tLoss: 0.528623\n",
            "Train Epoch: 4 [153600/201648 (76%)]\tLoss: 0.550926\n",
            "Train Epoch: 4 [166400/201648 (83%)]\tLoss: 0.625164\n",
            "Train Epoch: 4 [179200/201648 (89%)]\tLoss: 0.498616\n",
            "Train Epoch: 4 [192000/201648 (95%)]\tLoss: 0.534921\n",
            "epoch 4 training loss: 0.5366343037830917 acc: 0.76290864\n",
            "epoch 4 validation loss: 0.49015945925357496 acc: 0.7618081\n",
            "saved:./H4P2T1_Pytorch_e4.pt\n",
            "Train Epoch: 5 [0/201648 (0%)]\tLoss: 0.482718\n",
            "Train Epoch: 5 [12800/201648 (6%)]\tLoss: 0.519412\n",
            "Train Epoch: 5 [25600/201648 (13%)]\tLoss: 0.547829\n",
            "Train Epoch: 5 [38400/201648 (19%)]\tLoss: 0.487616\n",
            "Train Epoch: 5 [51200/201648 (25%)]\tLoss: 0.523219\n",
            "Train Epoch: 5 [64000/201648 (32%)]\tLoss: 0.600387\n",
            "Train Epoch: 5 [76800/201648 (38%)]\tLoss: 0.496686\n",
            "Train Epoch: 5 [89600/201648 (44%)]\tLoss: 0.527797\n",
            "Train Epoch: 5 [102400/201648 (51%)]\tLoss: 0.539083\n",
            "Train Epoch: 5 [115200/201648 (57%)]\tLoss: 0.578317\n",
            "Train Epoch: 5 [128000/201648 (63%)]\tLoss: 0.599888\n",
            "Train Epoch: 5 [140800/201648 (70%)]\tLoss: 0.524839\n",
            "Train Epoch: 5 [153600/201648 (76%)]\tLoss: 0.539885\n",
            "Train Epoch: 5 [166400/201648 (83%)]\tLoss: 0.545520\n",
            "Train Epoch: 5 [179200/201648 (89%)]\tLoss: 0.563992\n",
            "Train Epoch: 5 [192000/201648 (95%)]\tLoss: 0.548833\n",
            "epoch 5 training loss: 0.5355487565924651 acc: 0.7644658\n",
            "epoch 5 validation loss: 0.47239418644854364 acc: 0.7601452\n",
            "saved:./H4P2T1_Pytorch_e5.pt\n",
            "Train Epoch: 6 [0/201648 (0%)]\tLoss: 0.579347\n",
            "Train Epoch: 6 [12800/201648 (6%)]\tLoss: 0.552300\n",
            "Train Epoch: 6 [25600/201648 (13%)]\tLoss: 0.559272\n",
            "Train Epoch: 6 [38400/201648 (19%)]\tLoss: 0.501088\n",
            "Train Epoch: 6 [51200/201648 (25%)]\tLoss: 0.543406\n",
            "Train Epoch: 6 [64000/201648 (32%)]\tLoss: 0.554477\n",
            "Train Epoch: 6 [76800/201648 (38%)]\tLoss: 0.555928\n",
            "Train Epoch: 6 [89600/201648 (44%)]\tLoss: 0.551526\n",
            "Train Epoch: 6 [102400/201648 (51%)]\tLoss: 0.523438\n",
            "Train Epoch: 6 [115200/201648 (57%)]\tLoss: 0.460263\n",
            "Train Epoch: 6 [128000/201648 (63%)]\tLoss: 0.572430\n",
            "Train Epoch: 6 [140800/201648 (70%)]\tLoss: 0.535945\n",
            "Train Epoch: 6 [153600/201648 (76%)]\tLoss: 0.533830\n",
            "Train Epoch: 6 [166400/201648 (83%)]\tLoss: 0.554927\n",
            "Train Epoch: 6 [179200/201648 (89%)]\tLoss: 0.561564\n",
            "Train Epoch: 6 [192000/201648 (95%)]\tLoss: 0.567087\n",
            "epoch 6 training loss: 0.5364367571549732 acc: 0.7636277\n",
            "epoch 6 validation loss: 0.48760513929610555 acc: 0.76019996\n",
            "saved:./H4P2T1_Pytorch_e6.pt\n",
            "Train Epoch: 7 [0/201648 (0%)]\tLoss: 0.485855\n",
            "Train Epoch: 7 [12800/201648 (6%)]\tLoss: 0.605472\n",
            "Train Epoch: 7 [25600/201648 (13%)]\tLoss: 0.493626\n",
            "Train Epoch: 7 [38400/201648 (19%)]\tLoss: 0.540215\n",
            "Train Epoch: 7 [51200/201648 (25%)]\tLoss: 0.501239\n",
            "Train Epoch: 7 [64000/201648 (32%)]\tLoss: 0.517832\n",
            "Train Epoch: 7 [76800/201648 (38%)]\tLoss: 0.567524\n",
            "Train Epoch: 7 [89600/201648 (44%)]\tLoss: 0.619619\n",
            "Train Epoch: 7 [102400/201648 (51%)]\tLoss: 0.472477\n",
            "Train Epoch: 7 [115200/201648 (57%)]\tLoss: 0.596704\n",
            "Train Epoch: 7 [128000/201648 (63%)]\tLoss: 0.498047\n",
            "Train Epoch: 7 [140800/201648 (70%)]\tLoss: 0.525248\n",
            "Train Epoch: 7 [153600/201648 (76%)]\tLoss: 0.539575\n",
            "Train Epoch: 7 [166400/201648 (83%)]\tLoss: 0.558449\n",
            "Train Epoch: 7 [179200/201648 (89%)]\tLoss: 0.550235\n",
            "Train Epoch: 7 [192000/201648 (95%)]\tLoss: 0.581086\n",
            "epoch 7 training loss: 0.5353508365415308 acc: 0.7644807\n",
            "epoch 7 validation loss: 0.4964456781744957 acc: 0.7631036\n",
            "saved:./H4P2T1_Pytorch_e7.pt\n",
            "Train Epoch: 8 [0/201648 (0%)]\tLoss: 0.489278\n",
            "Train Epoch: 8 [12800/201648 (6%)]\tLoss: 0.552632\n",
            "Train Epoch: 8 [25600/201648 (13%)]\tLoss: 0.535867\n",
            "Train Epoch: 8 [38400/201648 (19%)]\tLoss: 0.534504\n",
            "Train Epoch: 8 [51200/201648 (25%)]\tLoss: 0.500307\n",
            "Train Epoch: 8 [64000/201648 (32%)]\tLoss: 0.536933\n",
            "Train Epoch: 8 [76800/201648 (38%)]\tLoss: 0.577401\n",
            "Train Epoch: 8 [89600/201648 (44%)]\tLoss: 0.493420\n",
            "Train Epoch: 8 [102400/201648 (51%)]\tLoss: 0.540279\n",
            "Train Epoch: 8 [115200/201648 (57%)]\tLoss: 0.507556\n",
            "Train Epoch: 8 [128000/201648 (63%)]\tLoss: 0.535016\n",
            "Train Epoch: 8 [140800/201648 (70%)]\tLoss: 0.526823\n",
            "Train Epoch: 8 [153600/201648 (76%)]\tLoss: 0.491287\n",
            "Train Epoch: 8 [166400/201648 (83%)]\tLoss: 0.537634\n",
            "Train Epoch: 8 [179200/201648 (89%)]\tLoss: 0.464905\n",
            "Train Epoch: 8 [192000/201648 (95%)]\tLoss: 0.535270\n",
            "epoch 8 training loss: 0.5349258890098256 acc: 0.765046\n",
            "epoch 8 validation loss: 0.518800380540655 acc: 0.75431716\n",
            "saved:./H4P2T1_Pytorch_e8.pt\n",
            "Train Epoch: 9 [0/201648 (0%)]\tLoss: 0.491312\n",
            "Train Epoch: 9 [12800/201648 (6%)]\tLoss: 0.565469\n",
            "Train Epoch: 9 [25600/201648 (13%)]\tLoss: 0.547360\n",
            "Train Epoch: 9 [38400/201648 (19%)]\tLoss: 0.501799\n",
            "Train Epoch: 9 [51200/201648 (25%)]\tLoss: 0.560866\n",
            "Train Epoch: 9 [64000/201648 (32%)]\tLoss: 0.448610\n",
            "Train Epoch: 9 [76800/201648 (38%)]\tLoss: 0.501200\n",
            "Train Epoch: 9 [89600/201648 (44%)]\tLoss: 0.522555\n",
            "Train Epoch: 9 [102400/201648 (51%)]\tLoss: 0.492283\n",
            "Train Epoch: 9 [115200/201648 (57%)]\tLoss: 0.506126\n",
            "Train Epoch: 9 [128000/201648 (63%)]\tLoss: 0.503686\n",
            "Train Epoch: 9 [140800/201648 (70%)]\tLoss: 0.580257\n",
            "Train Epoch: 9 [153600/201648 (76%)]\tLoss: 0.538998\n",
            "Train Epoch: 9 [166400/201648 (83%)]\tLoss: 0.511801\n",
            "Train Epoch: 9 [179200/201648 (89%)]\tLoss: 0.473461\n",
            "Train Epoch: 9 [192000/201648 (95%)]\tLoss: 0.504668\n",
            "epoch 9 training loss: 0.5351832452008778 acc: 0.7645055\n",
            "epoch 9 validation loss: 0.4679652504781459 acc: 0.7585737\n",
            "saved:./H4P2T1_Pytorch_e9.pt\n"
          ]
        }
      ],
      "source": [
        "epochSize = 10\n",
        "\n",
        "acc_train_list=[]\n",
        "acc_val_list=[]\n",
        "loss_train_list=[]\n",
        "loss_val_list=[]\n",
        "\n",
        "for epoch in range(epochSize):\n",
        "    loss_train, acc_train = train(net, dataloader_train, optimizer, criterion, epoch)\n",
        "    loss_train_list.append(loss_train)\n",
        "    acc_train_list.append(acc_train)\n",
        "    print('epoch', epoch, 'training loss:', loss_train, 'acc:', acc_train)\n",
        "\n",
        "    loss_val, acc_val = test(net, dataloader_val, criterion)\n",
        "    loss_val_list.append(loss_val)\n",
        "    acc_val_list.append(acc_val)\n",
        "    print('epoch', epoch, 'validation loss:', loss_val, 'acc:', acc_val)\n",
        "\n",
        "    fileName = './H4P2T1_Pytorch_e'+str(epoch)+'.pt'\n",
        "    saveModel(net, epoch, fileName, loss_train, loss_val, acc_train, acc_val)\n",
        "    print('saved:'+fileName)"
      ]
    },
    {
      "cell_type": "code",
      "execution_count": null,
      "metadata": {
        "scrolled": false,
        "id": "A7WnKlYGJqPY",
        "outputId": "ea1f6182-b28b-41b1-b389-95ec6c9de2ef"
      },
      "outputs": [
        {
          "name": "stdout",
          "output_type": "stream",
          "text": [
            "Train Epoch: 0 [0/201648 (0%)]\tLoss: 0.692816\n",
            "Train Epoch: 0 [6400/201648 (3%)]\tLoss: 0.620332\n",
            "Train Epoch: 0 [12800/201648 (6%)]\tLoss: 0.673153\n",
            "Train Epoch: 0 [19200/201648 (10%)]\tLoss: 0.602169\n",
            "Train Epoch: 0 [25600/201648 (13%)]\tLoss: 0.574649\n",
            "Train Epoch: 0 [32000/201648 (16%)]\tLoss: 0.443933\n",
            "Train Epoch: 0 [38400/201648 (19%)]\tLoss: 0.481559\n",
            "Train Epoch: 0 [44800/201648 (22%)]\tLoss: 0.577212\n",
            "Train Epoch: 0 [51200/201648 (25%)]\tLoss: 0.486503\n",
            "Train Epoch: 0 [57600/201648 (29%)]\tLoss: 0.440227\n",
            "Train Epoch: 0 [64000/201648 (32%)]\tLoss: 0.424436\n",
            "Train Epoch: 0 [70400/201648 (35%)]\tLoss: 0.516994\n",
            "Train Epoch: 0 [76800/201648 (38%)]\tLoss: 0.441609\n",
            "Train Epoch: 0 [83200/201648 (41%)]\tLoss: 0.459680\n",
            "Train Epoch: 0 [89600/201648 (44%)]\tLoss: 0.466487\n",
            "Train Epoch: 0 [96000/201648 (48%)]\tLoss: 0.573463\n",
            "Train Epoch: 0 [102400/201648 (51%)]\tLoss: 0.514662\n",
            "Train Epoch: 0 [108800/201648 (54%)]\tLoss: 0.402093\n",
            "Train Epoch: 0 [115200/201648 (57%)]\tLoss: 0.564527\n",
            "Train Epoch: 0 [121600/201648 (60%)]\tLoss: 0.506991\n",
            "Train Epoch: 0 [128000/201648 (63%)]\tLoss: 0.568075\n",
            "Train Epoch: 0 [134400/201648 (67%)]\tLoss: 0.503176\n",
            "Train Epoch: 0 [140800/201648 (70%)]\tLoss: 0.472677\n",
            "Train Epoch: 0 [147200/201648 (73%)]\tLoss: 0.561127\n",
            "Train Epoch: 0 [153600/201648 (76%)]\tLoss: 0.498463\n",
            "Train Epoch: 0 [160000/201648 (79%)]\tLoss: 0.498067\n",
            "Train Epoch: 0 [166400/201648 (83%)]\tLoss: 0.581103\n",
            "Train Epoch: 0 [172800/201648 (86%)]\tLoss: 0.525211\n",
            "Train Epoch: 0 [179200/201648 (89%)]\tLoss: 0.472783\n",
            "Train Epoch: 0 [185600/201648 (92%)]\tLoss: 0.458040\n",
            "Train Epoch: 0 [192000/201648 (95%)]\tLoss: 0.530715\n",
            "Train Epoch: 0 [198400/201648 (98%)]\tLoss: 0.460915\n",
            "epoch 0 training loss: 0.5242867123244566 acc: 0.7432804\n",
            "epoch 0 validation loss: 0.4615913020803573 acc: 0.76500297\n",
            "saved: H3P2T1_Pytorch_e0.pt\n",
            "Train Epoch: 1 [0/201648 (0%)]\tLoss: 0.517687\n",
            "Train Epoch: 1 [6400/201648 (3%)]\tLoss: 0.739569\n",
            "Train Epoch: 1 [12800/201648 (6%)]\tLoss: 0.400086\n",
            "Train Epoch: 1 [19200/201648 (10%)]\tLoss: 0.473632\n",
            "Train Epoch: 1 [25600/201648 (13%)]\tLoss: 0.609662\n",
            "Train Epoch: 1 [32000/201648 (16%)]\tLoss: 0.373989\n",
            "Train Epoch: 1 [38400/201648 (19%)]\tLoss: 0.478610\n",
            "Train Epoch: 1 [44800/201648 (22%)]\tLoss: 0.349520\n",
            "Train Epoch: 1 [51200/201648 (25%)]\tLoss: 0.508201\n",
            "Train Epoch: 1 [57600/201648 (29%)]\tLoss: 0.386834\n",
            "Train Epoch: 1 [64000/201648 (32%)]\tLoss: 0.465048\n",
            "Train Epoch: 1 [70400/201648 (35%)]\tLoss: 0.539429\n",
            "Train Epoch: 1 [76800/201648 (38%)]\tLoss: 0.506604\n",
            "Train Epoch: 1 [83200/201648 (41%)]\tLoss: 0.406860\n",
            "Train Epoch: 1 [89600/201648 (44%)]\tLoss: 0.577383\n",
            "Train Epoch: 1 [96000/201648 (48%)]\tLoss: 0.500137\n",
            "Train Epoch: 1 [102400/201648 (51%)]\tLoss: 0.490226\n",
            "Train Epoch: 1 [108800/201648 (54%)]\tLoss: 0.519791\n",
            "Train Epoch: 1 [115200/201648 (57%)]\tLoss: 0.593806\n",
            "Train Epoch: 1 [121600/201648 (60%)]\tLoss: 0.537431\n",
            "Train Epoch: 1 [128000/201648 (63%)]\tLoss: 0.403351\n",
            "Train Epoch: 1 [134400/201648 (67%)]\tLoss: 0.532352\n",
            "Train Epoch: 1 [140800/201648 (70%)]\tLoss: 0.484974\n",
            "Train Epoch: 1 [147200/201648 (73%)]\tLoss: 0.473139\n",
            "Train Epoch: 1 [153600/201648 (76%)]\tLoss: 0.586719\n",
            "Train Epoch: 1 [160000/201648 (79%)]\tLoss: 0.601601\n",
            "Train Epoch: 1 [166400/201648 (83%)]\tLoss: 0.536946\n",
            "Train Epoch: 1 [172800/201648 (86%)]\tLoss: 0.559588\n",
            "Train Epoch: 1 [179200/201648 (89%)]\tLoss: 0.475141\n",
            "Train Epoch: 1 [185600/201648 (92%)]\tLoss: 0.479907\n",
            "Train Epoch: 1 [192000/201648 (95%)]\tLoss: 0.535080\n",
            "Train Epoch: 1 [198400/201648 (98%)]\tLoss: 0.454793\n",
            "epoch 1 training loss: 0.5019687334532512 acc: 0.76280946\n",
            "epoch 1 validation loss: 0.45838467348763284 acc: 0.7627771\n",
            "saved: H3P2T1_Pytorch_e1.pt\n",
            "Train Epoch: 2 [0/201648 (0%)]\tLoss: 0.499677\n",
            "Train Epoch: 2 [6400/201648 (3%)]\tLoss: 0.552982\n",
            "Train Epoch: 2 [12800/201648 (6%)]\tLoss: 0.606474\n",
            "Train Epoch: 2 [19200/201648 (10%)]\tLoss: 0.521727\n",
            "Train Epoch: 2 [25600/201648 (13%)]\tLoss: 0.501322\n",
            "Train Epoch: 2 [32000/201648 (16%)]\tLoss: 0.622516\n",
            "Train Epoch: 2 [38400/201648 (19%)]\tLoss: 0.501321\n",
            "Train Epoch: 2 [44800/201648 (22%)]\tLoss: 0.571981\n",
            "Train Epoch: 2 [51200/201648 (25%)]\tLoss: 0.616298\n",
            "Train Epoch: 2 [57600/201648 (29%)]\tLoss: 0.486413\n",
            "Train Epoch: 2 [64000/201648 (32%)]\tLoss: 0.557389\n",
            "Train Epoch: 2 [70400/201648 (35%)]\tLoss: 0.451856\n",
            "Train Epoch: 2 [76800/201648 (38%)]\tLoss: 0.467791\n",
            "Train Epoch: 2 [83200/201648 (41%)]\tLoss: 0.415312\n",
            "Train Epoch: 2 [89600/201648 (44%)]\tLoss: 0.555403\n",
            "Train Epoch: 2 [96000/201648 (48%)]\tLoss: 0.507065\n",
            "Train Epoch: 2 [102400/201648 (51%)]\tLoss: 0.493094\n",
            "Train Epoch: 2 [108800/201648 (54%)]\tLoss: 0.491000\n",
            "Train Epoch: 2 [115200/201648 (57%)]\tLoss: 0.486219\n",
            "Train Epoch: 2 [121600/201648 (60%)]\tLoss: 0.581328\n",
            "Train Epoch: 2 [128000/201648 (63%)]\tLoss: 0.436532\n",
            "Train Epoch: 2 [134400/201648 (67%)]\tLoss: 0.483444\n",
            "Train Epoch: 2 [140800/201648 (70%)]\tLoss: 0.481185\n",
            "Train Epoch: 2 [147200/201648 (73%)]\tLoss: 0.529825\n",
            "Train Epoch: 2 [153600/201648 (76%)]\tLoss: 0.471727\n",
            "Train Epoch: 2 [160000/201648 (79%)]\tLoss: 0.390799\n",
            "Train Epoch: 2 [166400/201648 (83%)]\tLoss: 0.391223\n",
            "Train Epoch: 2 [172800/201648 (86%)]\tLoss: 0.556194\n",
            "Train Epoch: 2 [179200/201648 (89%)]\tLoss: 0.609477\n",
            "Train Epoch: 2 [185600/201648 (92%)]\tLoss: 0.503881\n",
            "Train Epoch: 2 [192000/201648 (95%)]\tLoss: 0.513689\n",
            "Train Epoch: 2 [198400/201648 (98%)]\tLoss: 0.493873\n",
            "epoch 2 training loss: 0.4985672503908412 acc: 0.764932\n",
            "epoch 2 validation loss: 0.46699466334378464 acc: 0.76707923\n",
            "saved: H3P2T1_Pytorch_e2.pt\n",
            "Train Epoch: 3 [0/201648 (0%)]\tLoss: 0.557536\n",
            "Train Epoch: 3 [6400/201648 (3%)]\tLoss: 0.420543\n",
            "Train Epoch: 3 [12800/201648 (6%)]\tLoss: 0.423706\n",
            "Train Epoch: 3 [19200/201648 (10%)]\tLoss: 0.541405\n",
            "Train Epoch: 3 [25600/201648 (13%)]\tLoss: 0.554891\n",
            "Train Epoch: 3 [32000/201648 (16%)]\tLoss: 0.433252\n",
            "Train Epoch: 3 [38400/201648 (19%)]\tLoss: 0.500813\n",
            "Train Epoch: 3 [44800/201648 (22%)]\tLoss: 0.524481\n",
            "Train Epoch: 3 [51200/201648 (25%)]\tLoss: 0.467644\n",
            "Train Epoch: 3 [57600/201648 (29%)]\tLoss: 0.633594\n",
            "Train Epoch: 3 [64000/201648 (32%)]\tLoss: 0.488534\n",
            "Train Epoch: 3 [70400/201648 (35%)]\tLoss: 0.356552\n",
            "Train Epoch: 3 [76800/201648 (38%)]\tLoss: 0.529043\n",
            "Train Epoch: 3 [83200/201648 (41%)]\tLoss: 0.444333\n",
            "Train Epoch: 3 [89600/201648 (44%)]\tLoss: 0.475521\n",
            "Train Epoch: 3 [96000/201648 (48%)]\tLoss: 0.557806\n",
            "Train Epoch: 3 [102400/201648 (51%)]\tLoss: 0.609007\n",
            "Train Epoch: 3 [108800/201648 (54%)]\tLoss: 0.339031\n",
            "Train Epoch: 3 [115200/201648 (57%)]\tLoss: 0.538038\n",
            "Train Epoch: 3 [121600/201648 (60%)]\tLoss: 0.476925\n",
            "Train Epoch: 3 [128000/201648 (63%)]\tLoss: 0.545742\n",
            "Train Epoch: 3 [134400/201648 (67%)]\tLoss: 0.504147\n",
            "Train Epoch: 3 [140800/201648 (70%)]\tLoss: 0.403927\n",
            "Train Epoch: 3 [147200/201648 (73%)]\tLoss: 0.501605\n",
            "Train Epoch: 3 [153600/201648 (76%)]\tLoss: 0.552695\n",
            "Train Epoch: 3 [160000/201648 (79%)]\tLoss: 0.537156\n",
            "Train Epoch: 3 [166400/201648 (83%)]\tLoss: 0.540711\n",
            "Train Epoch: 3 [172800/201648 (86%)]\tLoss: 0.518635\n",
            "Train Epoch: 3 [179200/201648 (89%)]\tLoss: 0.457283\n",
            "Train Epoch: 3 [185600/201648 (92%)]\tLoss: 0.503279\n",
            "Train Epoch: 3 [192000/201648 (95%)]\tLoss: 0.533446\n",
            "Train Epoch: 3 [198400/201648 (98%)]\tLoss: 0.496202\n",
            "epoch 3 training loss: 0.49679237934227255 acc: 0.76538324\n",
            "epoch 3 validation loss: 0.46795995549318636 acc: 0.7587898\n",
            "saved: H3P2T1_Pytorch_e3.pt\n",
            "Train Epoch: 4 [0/201648 (0%)]\tLoss: 0.468375\n",
            "Train Epoch: 4 [6400/201648 (3%)]\tLoss: 0.371341\n",
            "Train Epoch: 4 [12800/201648 (6%)]\tLoss: 0.485754\n",
            "Train Epoch: 4 [19200/201648 (10%)]\tLoss: 0.507531\n",
            "Train Epoch: 4 [25600/201648 (13%)]\tLoss: 0.382877\n",
            "Train Epoch: 4 [32000/201648 (16%)]\tLoss: 0.414016\n",
            "Train Epoch: 4 [38400/201648 (19%)]\tLoss: 0.450169\n",
            "Train Epoch: 4 [44800/201648 (22%)]\tLoss: 0.465439\n",
            "Train Epoch: 4 [51200/201648 (25%)]\tLoss: 0.443371\n",
            "Train Epoch: 4 [57600/201648 (29%)]\tLoss: 0.473509\n",
            "Train Epoch: 4 [64000/201648 (32%)]\tLoss: 0.395870\n",
            "Train Epoch: 4 [70400/201648 (35%)]\tLoss: 0.415461\n",
            "Train Epoch: 4 [76800/201648 (38%)]\tLoss: 0.402927\n",
            "Train Epoch: 4 [83200/201648 (41%)]\tLoss: 0.446097\n",
            "Train Epoch: 4 [89600/201648 (44%)]\tLoss: 0.433064\n",
            "Train Epoch: 4 [96000/201648 (48%)]\tLoss: 0.604988\n",
            "Train Epoch: 4 [102400/201648 (51%)]\tLoss: 0.538729\n",
            "Train Epoch: 4 [108800/201648 (54%)]\tLoss: 0.664755\n",
            "Train Epoch: 4 [115200/201648 (57%)]\tLoss: 0.505318\n",
            "Train Epoch: 4 [121600/201648 (60%)]\tLoss: 0.529554\n",
            "Train Epoch: 4 [128000/201648 (63%)]\tLoss: 0.497415\n"
          ]
        },
        {
          "name": "stdout",
          "output_type": "stream",
          "text": [
            "Train Epoch: 4 [134400/201648 (67%)]\tLoss: 0.616271\n",
            "Train Epoch: 4 [140800/201648 (70%)]\tLoss: 0.488345\n",
            "Train Epoch: 4 [147200/201648 (73%)]\tLoss: 0.402225\n",
            "Train Epoch: 4 [153600/201648 (76%)]\tLoss: 0.379644\n",
            "Train Epoch: 4 [160000/201648 (79%)]\tLoss: 0.573850\n",
            "Train Epoch: 4 [166400/201648 (83%)]\tLoss: 0.419749\n",
            "Train Epoch: 4 [172800/201648 (86%)]\tLoss: 0.542373\n",
            "Train Epoch: 4 [179200/201648 (89%)]\tLoss: 0.515818\n",
            "Train Epoch: 4 [185600/201648 (92%)]\tLoss: 0.615233\n",
            "Train Epoch: 4 [192000/201648 (95%)]\tLoss: 0.503362\n",
            "Train Epoch: 4 [198400/201648 (98%)]\tLoss: 0.508732\n",
            "epoch 4 training loss: 0.49528386497527827 acc: 0.7667619\n",
            "epoch 4 validation loss: 0.5505949737543755 acc: 0.75961196\n",
            "saved: H3P2T1_Pytorch_e4.pt\n",
            "Train Epoch: 5 [0/201648 (0%)]\tLoss: 0.480408\n",
            "Train Epoch: 5 [6400/201648 (3%)]\tLoss: 0.568960\n",
            "Train Epoch: 5 [12800/201648 (6%)]\tLoss: 0.398670\n",
            "Train Epoch: 5 [19200/201648 (10%)]\tLoss: 0.633404\n",
            "Train Epoch: 5 [25600/201648 (13%)]\tLoss: 0.516474\n",
            "Train Epoch: 5 [32000/201648 (16%)]\tLoss: 0.476223\n",
            "Train Epoch: 5 [38400/201648 (19%)]\tLoss: 0.455390\n",
            "Train Epoch: 5 [44800/201648 (22%)]\tLoss: 0.436298\n",
            "Train Epoch: 5 [51200/201648 (25%)]\tLoss: 0.434918\n",
            "Train Epoch: 5 [57600/201648 (29%)]\tLoss: 0.458955\n",
            "Train Epoch: 5 [64000/201648 (32%)]\tLoss: 0.429170\n",
            "Train Epoch: 5 [70400/201648 (35%)]\tLoss: 0.372140\n",
            "Train Epoch: 5 [76800/201648 (38%)]\tLoss: 0.579684\n",
            "Train Epoch: 5 [83200/201648 (41%)]\tLoss: 0.544556\n",
            "Train Epoch: 5 [89600/201648 (44%)]\tLoss: 0.518202\n",
            "Train Epoch: 5 [96000/201648 (48%)]\tLoss: 0.433489\n",
            "Train Epoch: 5 [102400/201648 (51%)]\tLoss: 0.498094\n",
            "Train Epoch: 5 [108800/201648 (54%)]\tLoss: 0.583449\n",
            "Train Epoch: 5 [115200/201648 (57%)]\tLoss: 0.502616\n",
            "Train Epoch: 5 [121600/201648 (60%)]\tLoss: 0.428868\n",
            "Train Epoch: 5 [128000/201648 (63%)]\tLoss: 0.531967\n",
            "Train Epoch: 5 [134400/201648 (67%)]\tLoss: 0.621897\n",
            "Train Epoch: 5 [140800/201648 (70%)]\tLoss: 0.595257\n",
            "Train Epoch: 5 [147200/201648 (73%)]\tLoss: 0.485025\n",
            "Train Epoch: 5 [153600/201648 (76%)]\tLoss: 0.608180\n",
            "Train Epoch: 5 [160000/201648 (79%)]\tLoss: 0.471475\n",
            "Train Epoch: 5 [166400/201648 (83%)]\tLoss: 0.570704\n",
            "Train Epoch: 5 [172800/201648 (86%)]\tLoss: 0.376878\n",
            "Train Epoch: 5 [179200/201648 (89%)]\tLoss: 0.454111\n",
            "Train Epoch: 5 [185600/201648 (92%)]\tLoss: 0.416132\n",
            "Train Epoch: 5 [192000/201648 (95%)]\tLoss: 0.411723\n",
            "Train Epoch: 5 [198400/201648 (98%)]\tLoss: 0.525782\n",
            "epoch 5 training loss: 0.49378675116466664 acc: 0.76698506\n",
            "epoch 5 validation loss: 0.4458628972160055 acc: 0.7651504\n",
            "saved: H3P2T1_Pytorch_e5.pt\n",
            "Train Epoch: 6 [0/201648 (0%)]\tLoss: 0.477684\n",
            "Train Epoch: 6 [6400/201648 (3%)]\tLoss: 0.375245\n",
            "Train Epoch: 6 [12800/201648 (6%)]\tLoss: 0.388682\n",
            "Train Epoch: 6 [19200/201648 (10%)]\tLoss: 0.378858\n",
            "Train Epoch: 6 [25600/201648 (13%)]\tLoss: 0.504910\n",
            "Train Epoch: 6 [32000/201648 (16%)]\tLoss: 0.495381\n",
            "Train Epoch: 6 [38400/201648 (19%)]\tLoss: 0.424071\n",
            "Train Epoch: 6 [44800/201648 (22%)]\tLoss: 0.464032\n",
            "Train Epoch: 6 [51200/201648 (25%)]\tLoss: 0.512333\n",
            "Train Epoch: 6 [57600/201648 (29%)]\tLoss: 0.406160\n",
            "Train Epoch: 6 [64000/201648 (32%)]\tLoss: 0.432732\n",
            "Train Epoch: 6 [70400/201648 (35%)]\tLoss: 0.557758\n",
            "Train Epoch: 6 [76800/201648 (38%)]\tLoss: 0.427669\n",
            "Train Epoch: 6 [83200/201648 (41%)]\tLoss: 0.593526\n",
            "Train Epoch: 6 [89600/201648 (44%)]\tLoss: 0.425774\n",
            "Train Epoch: 6 [96000/201648 (48%)]\tLoss: 0.432877\n",
            "Train Epoch: 6 [102400/201648 (51%)]\tLoss: 0.393121\n",
            "Train Epoch: 6 [108800/201648 (54%)]\tLoss: 0.490977\n",
            "Train Epoch: 6 [115200/201648 (57%)]\tLoss: 0.396359\n",
            "Train Epoch: 6 [121600/201648 (60%)]\tLoss: 0.597514\n",
            "Train Epoch: 6 [128000/201648 (63%)]\tLoss: 0.480583\n",
            "Train Epoch: 6 [134400/201648 (67%)]\tLoss: 0.594999\n",
            "Train Epoch: 6 [140800/201648 (70%)]\tLoss: 0.528030\n",
            "Train Epoch: 6 [147200/201648 (73%)]\tLoss: 0.577428\n",
            "Train Epoch: 6 [153600/201648 (76%)]\tLoss: 0.545680\n",
            "Train Epoch: 6 [160000/201648 (79%)]\tLoss: 0.478261\n",
            "Train Epoch: 6 [166400/201648 (83%)]\tLoss: 0.389127\n",
            "Train Epoch: 6 [172800/201648 (86%)]\tLoss: 0.467951\n",
            "Train Epoch: 6 [179200/201648 (89%)]\tLoss: 0.538541\n",
            "Train Epoch: 6 [185600/201648 (92%)]\tLoss: 0.453008\n",
            "Train Epoch: 6 [192000/201648 (95%)]\tLoss: 0.531928\n",
            "Train Epoch: 6 [198400/201648 (98%)]\tLoss: 0.542352\n",
            "epoch 6 training loss: 0.49248051614997423 acc: 0.7684678\n",
            "epoch 6 validation loss: 0.44570736602899874 acc: 0.76058424\n",
            "saved: H3P2T1_Pytorch_e6.pt\n",
            "Train Epoch: 7 [0/201648 (0%)]\tLoss: 0.491415\n",
            "Train Epoch: 7 [6400/201648 (3%)]\tLoss: 0.530648\n",
            "Train Epoch: 7 [12800/201648 (6%)]\tLoss: 0.437352\n",
            "Train Epoch: 7 [19200/201648 (10%)]\tLoss: 0.553778\n",
            "Train Epoch: 7 [25600/201648 (13%)]\tLoss: 0.470903\n",
            "Train Epoch: 7 [32000/201648 (16%)]\tLoss: 0.460772\n",
            "Train Epoch: 7 [38400/201648 (19%)]\tLoss: 0.545391\n",
            "Train Epoch: 7 [44800/201648 (22%)]\tLoss: 0.500976\n",
            "Train Epoch: 7 [51200/201648 (25%)]\tLoss: 0.615717\n",
            "Train Epoch: 7 [57600/201648 (29%)]\tLoss: 0.489981\n",
            "Train Epoch: 7 [64000/201648 (32%)]\tLoss: 0.538754\n",
            "Train Epoch: 7 [70400/201648 (35%)]\tLoss: 0.534475\n",
            "Train Epoch: 7 [76800/201648 (38%)]\tLoss: 0.432007\n",
            "Train Epoch: 7 [83200/201648 (41%)]\tLoss: 0.518782\n",
            "Train Epoch: 7 [89600/201648 (44%)]\tLoss: 0.453628\n",
            "Train Epoch: 7 [96000/201648 (48%)]\tLoss: 0.527732\n",
            "Train Epoch: 7 [102400/201648 (51%)]\tLoss: 0.444670\n",
            "Train Epoch: 7 [108800/201648 (54%)]\tLoss: 0.564971\n",
            "Train Epoch: 7 [115200/201648 (57%)]\tLoss: 0.508905\n",
            "Train Epoch: 7 [121600/201648 (60%)]\tLoss: 0.374438\n",
            "Train Epoch: 7 [128000/201648 (63%)]\tLoss: 0.480776\n",
            "Train Epoch: 7 [134400/201648 (67%)]\tLoss: 0.495182\n",
            "Train Epoch: 7 [140800/201648 (70%)]\tLoss: 0.524201\n",
            "Train Epoch: 7 [147200/201648 (73%)]\tLoss: 0.538602\n",
            "Train Epoch: 7 [153600/201648 (76%)]\tLoss: 0.464132\n",
            "Train Epoch: 7 [160000/201648 (79%)]\tLoss: 0.452011\n",
            "Train Epoch: 7 [166400/201648 (83%)]\tLoss: 0.612410\n",
            "Train Epoch: 7 [172800/201648 (86%)]\tLoss: 0.407889\n",
            "Train Epoch: 7 [179200/201648 (89%)]\tLoss: 0.480890\n",
            "Train Epoch: 7 [185600/201648 (92%)]\tLoss: 0.543901\n",
            "Train Epoch: 7 [192000/201648 (95%)]\tLoss: 0.432297\n",
            "Train Epoch: 7 [198400/201648 (98%)]\tLoss: 0.638838\n",
            "epoch 7 training loss: 0.4909669884100145 acc: 0.76904804\n",
            "epoch 7 validation loss: 0.484914648564572 acc: 0.7609924\n",
            "saved: H3P2T1_Pytorch_e7.pt\n",
            "Train Epoch: 8 [0/201648 (0%)]\tLoss: 0.436296\n",
            "Train Epoch: 8 [6400/201648 (3%)]\tLoss: 0.522765\n",
            "Train Epoch: 8 [12800/201648 (6%)]\tLoss: 0.483704\n",
            "Train Epoch: 8 [19200/201648 (10%)]\tLoss: 0.484343\n",
            "Train Epoch: 8 [25600/201648 (13%)]\tLoss: 0.414822\n",
            "Train Epoch: 8 [32000/201648 (16%)]\tLoss: 0.453875\n",
            "Train Epoch: 8 [38400/201648 (19%)]\tLoss: 0.473815\n",
            "Train Epoch: 8 [44800/201648 (22%)]\tLoss: 0.591931\n",
            "Train Epoch: 8 [51200/201648 (25%)]\tLoss: 0.461955\n",
            "Train Epoch: 8 [57600/201648 (29%)]\tLoss: 0.509169\n",
            "Train Epoch: 8 [64000/201648 (32%)]\tLoss: 0.544673\n",
            "Train Epoch: 8 [70400/201648 (35%)]\tLoss: 0.486322\n",
            "Train Epoch: 8 [76800/201648 (38%)]\tLoss: 0.601009\n",
            "Train Epoch: 8 [83200/201648 (41%)]\tLoss: 0.410956\n",
            "Train Epoch: 8 [89600/201648 (44%)]\tLoss: 0.521257\n",
            "Train Epoch: 8 [96000/201648 (48%)]\tLoss: 0.477860\n",
            "Train Epoch: 8 [102400/201648 (51%)]\tLoss: 0.584928\n",
            "Train Epoch: 8 [108800/201648 (54%)]\tLoss: 0.503778\n",
            "Train Epoch: 8 [115200/201648 (57%)]\tLoss: 0.537710\n",
            "Train Epoch: 8 [121600/201648 (60%)]\tLoss: 0.458566\n",
            "Train Epoch: 8 [128000/201648 (63%)]\tLoss: 0.548312\n",
            "Train Epoch: 8 [134400/201648 (67%)]\tLoss: 0.512487\n",
            "Train Epoch: 8 [140800/201648 (70%)]\tLoss: 0.555713\n",
            "Train Epoch: 8 [147200/201648 (73%)]\tLoss: 0.578211\n",
            "Train Epoch: 8 [153600/201648 (76%)]\tLoss: 0.557453\n",
            "Train Epoch: 8 [160000/201648 (79%)]\tLoss: 0.444790\n",
            "Train Epoch: 8 [166400/201648 (83%)]\tLoss: 0.546634\n",
            "Train Epoch: 8 [172800/201648 (86%)]\tLoss: 0.393447\n",
            "Train Epoch: 8 [179200/201648 (89%)]\tLoss: 0.451739\n",
            "Train Epoch: 8 [185600/201648 (92%)]\tLoss: 0.516274\n",
            "Train Epoch: 8 [192000/201648 (95%)]\tLoss: 0.385729\n",
            "Train Epoch: 8 [198400/201648 (98%)]\tLoss: 0.455084\n",
            "epoch 8 training loss: 0.4898857259440142 acc: 0.7699704\n",
            "epoch 8 validation loss: 0.4928155243396759 acc: 0.75915325\n",
            "saved: H3P2T1_Pytorch_e8.pt\n",
            "Train Epoch: 9 [0/201648 (0%)]\tLoss: 0.421629\n",
            "Train Epoch: 9 [6400/201648 (3%)]\tLoss: 0.484603\n",
            "Train Epoch: 9 [12800/201648 (6%)]\tLoss: 0.511412\n",
            "Train Epoch: 9 [19200/201648 (10%)]\tLoss: 0.490574\n",
            "Train Epoch: 9 [25600/201648 (13%)]\tLoss: 0.641887\n",
            "Train Epoch: 9 [32000/201648 (16%)]\tLoss: 0.589458\n",
            "Train Epoch: 9 [38400/201648 (19%)]\tLoss: 0.340955\n"
          ]
        },
        {
          "name": "stdout",
          "output_type": "stream",
          "text": [
            "Train Epoch: 9 [44800/201648 (22%)]\tLoss: 0.663444\n",
            "Train Epoch: 9 [51200/201648 (25%)]\tLoss: 0.481792\n",
            "Train Epoch: 9 [57600/201648 (29%)]\tLoss: 0.488393\n",
            "Train Epoch: 9 [64000/201648 (32%)]\tLoss: 0.496797\n",
            "Train Epoch: 9 [70400/201648 (35%)]\tLoss: 0.427543\n",
            "Train Epoch: 9 [76800/201648 (38%)]\tLoss: 0.413129\n",
            "Train Epoch: 9 [83200/201648 (41%)]\tLoss: 0.496185\n",
            "Train Epoch: 9 [89600/201648 (44%)]\tLoss: 0.397985\n",
            "Train Epoch: 9 [96000/201648 (48%)]\tLoss: 0.550525\n",
            "Train Epoch: 9 [102400/201648 (51%)]\tLoss: 0.432410\n",
            "Train Epoch: 9 [108800/201648 (54%)]\tLoss: 0.598409\n",
            "Train Epoch: 9 [115200/201648 (57%)]\tLoss: 0.449757\n",
            "Train Epoch: 9 [121600/201648 (60%)]\tLoss: 0.483331\n",
            "Train Epoch: 9 [128000/201648 (63%)]\tLoss: 0.586052\n",
            "Train Epoch: 9 [134400/201648 (67%)]\tLoss: 0.464013\n",
            "Train Epoch: 9 [140800/201648 (70%)]\tLoss: 0.560022\n",
            "Train Epoch: 9 [147200/201648 (73%)]\tLoss: 0.565861\n",
            "Train Epoch: 9 [153600/201648 (76%)]\tLoss: 0.431315\n",
            "Train Epoch: 9 [160000/201648 (79%)]\tLoss: 0.536873\n",
            "Train Epoch: 9 [166400/201648 (83%)]\tLoss: 0.442621\n",
            "Train Epoch: 9 [172800/201648 (86%)]\tLoss: 0.472322\n",
            "Train Epoch: 9 [179200/201648 (89%)]\tLoss: 0.601400\n",
            "Train Epoch: 9 [185600/201648 (92%)]\tLoss: 0.595114\n",
            "Train Epoch: 9 [192000/201648 (95%)]\tLoss: 0.572048\n",
            "Train Epoch: 9 [198400/201648 (98%)]\tLoss: 0.446685\n",
            "epoch 9 training loss: 0.4892138837916781 acc: 0.7705308\n",
            "epoch 9 validation loss: 0.5044283180477771 acc: 0.76111877\n",
            "saved: H3P2T1_Pytorch_e9.pt\n"
          ]
        }
      ],
      "source": [
        ""
      ]
    },
    {
      "cell_type": "markdown",
      "metadata": {
        "id": "PuQ_2qGyJqPY"
      },
      "source": [
        "draw the curves of loss vs epoch"
      ]
    },
    {
      "cell_type": "code",
      "execution_count": null,
      "metadata": {
        "colab": {
          "base_uri": "https://localhost:8080/",
          "height": 406
        },
        "id": "oFfhSTWNJqPZ",
        "outputId": "af1088b0-9962-49e8-b029-f214f7ddf181"
      },
      "outputs": [
        {
          "output_type": "execute_result",
          "data": {
            "text/plain": [
              "<matplotlib.legend.Legend at 0x7fc8700d0410>"
            ]
          },
          "metadata": {},
          "execution_count": 31
        },
        {
          "output_type": "display_data",
          "data": {
            "image/png": "[encoded data removed]",
            "text/plain": [
              "<Figure size 720x432 with 2 Axes>"
            ]
          },
          "metadata": {
            "needs_background": "light"
          }
        }
      ],
      "source": [
        "epoch = range(0,epochSize)\n",
        "fig, ax = plt.subplots(1,2, figsize=(10,6))\n",
        "ax[0].plot(epoch, loss_train_list, 'b', label = 'training loss')\n",
        "ax[0].plot(epoch, loss_val_list,   'r', label = 'validation loss')\n",
        "ax[0].set_xlabel('epoch')\n",
        "ax[0].set_ylabel('loss')\n",
        "#ax[0].set_title('max_depth v.s. training accuracy')\n",
        "ax[0].grid(True)\n",
        "ax[0].legend()\n",
        "\n",
        "ax[1].plot(epoch, acc_train_list, 'b', label = 'training accuracy')\n",
        "ax[1].plot(epoch, acc_val_list,   'r', label = 'validation accuracy')\n",
        "ax[1].set_xlabel('epoch')\n",
        "ax[1].set_ylabel('accuracy')\n",
        "ax[1].grid(True)\n",
        "ax[1].legend()"
      ]
    },
    {
      "cell_type": "markdown",
      "metadata": {
        "id": "qdDfxQ_NJqPZ"
      },
      "source": [
        "### You may train the model for more than 10 epochs and see if you can get a better result"
      ]
    },
    {
      "cell_type": "code",
      "execution_count": null,
      "metadata": {
        "id": "dUUwxhKDJqPZ"
      },
      "outputs": [],
      "source": [
        "#optional\n",
        "def adjust_learning_rate(optimizer, epoch, initial_lr):\n",
        "    \n",
        "    lr = initial_lr * (0.1 ** (epoch // 20))\n",
        "    for g in optimizer.param_groups:\n",
        "        g['lr'] = lr"
      ]
    },
    {
      "cell_type": "code",
      "execution_count": null,
      "metadata": {
        "colab": {
          "base_uri": "https://localhost:8080/",
          "height": 1000
        },
        "id": "FxvX0heYJqPZ",
        "outputId": "c798dff3-015e-4209-9e60-2b26ab58672a"
      },
      "outputs": [
        {
          "output_type": "stream",
          "name": "stdout",
          "text": [
            "Train Epoch: 0 [0/201648 (0%)]\tLoss: 0.693181\n",
            "Train Epoch: 0 [12800/201648 (6%)]\tLoss: 0.539723\n",
            "Train Epoch: 0 [25600/201648 (13%)]\tLoss: 0.578263\n",
            "Train Epoch: 0 [38400/201648 (19%)]\tLoss: 0.573934\n",
            "Train Epoch: 0 [51200/201648 (25%)]\tLoss: 0.544106\n",
            "Train Epoch: 0 [64000/201648 (32%)]\tLoss: 0.559838\n",
            "Train Epoch: 0 [76800/201648 (38%)]\tLoss: 0.529138\n",
            "Train Epoch: 0 [89600/201648 (44%)]\tLoss: 0.533086\n",
            "Train Epoch: 0 [102400/201648 (51%)]\tLoss: 0.584659\n",
            "Train Epoch: 0 [115200/201648 (57%)]\tLoss: 0.622093\n",
            "Train Epoch: 0 [128000/201648 (63%)]\tLoss: 0.537304\n",
            "Train Epoch: 0 [140800/201648 (70%)]\tLoss: 0.551464\n",
            "Train Epoch: 0 [153600/201648 (76%)]\tLoss: 0.467504\n",
            "Train Epoch: 0 [166400/201648 (83%)]\tLoss: 0.477174\n",
            "Train Epoch: 0 [179200/201648 (89%)]\tLoss: 0.519535\n",
            "Train Epoch: 0 [192000/201648 (95%)]\tLoss: 0.557959\n",
            "epoch 0 training loss: 0.5502350496909082 acc: 0.74869573\n",
            "epoch 0 validation loss: 0.490705077159912 acc: 0.7584208\n",
            "saved:./H4P2T1_Pytorch_e0.pt\n",
            "Train Epoch: 1 [0/201648 (0%)]\tLoss: 0.543674\n",
            "Train Epoch: 1 [12800/201648 (6%)]\tLoss: 0.539432\n",
            "Train Epoch: 1 [25600/201648 (13%)]\tLoss: 0.625377\n",
            "Train Epoch: 1 [38400/201648 (19%)]\tLoss: 0.510794\n",
            "Train Epoch: 1 [51200/201648 (25%)]\tLoss: 0.492003\n",
            "Train Epoch: 1 [64000/201648 (32%)]\tLoss: 0.532788\n",
            "Train Epoch: 1 [76800/201648 (38%)]\tLoss: 0.594432\n",
            "Train Epoch: 1 [89600/201648 (44%)]\tLoss: 0.558569\n",
            "Train Epoch: 1 [102400/201648 (51%)]\tLoss: 0.529674\n",
            "Train Epoch: 1 [115200/201648 (57%)]\tLoss: 0.511751\n",
            "Train Epoch: 1 [128000/201648 (63%)]\tLoss: 0.587402\n",
            "Train Epoch: 1 [140800/201648 (70%)]\tLoss: 0.628320\n",
            "Train Epoch: 1 [153600/201648 (76%)]\tLoss: 0.566228\n",
            "Train Epoch: 1 [166400/201648 (83%)]\tLoss: 0.516544\n",
            "Train Epoch: 1 [179200/201648 (89%)]\tLoss: 0.500713\n",
            "Train Epoch: 1 [192000/201648 (95%)]\tLoss: 0.511436\n",
            "epoch 1 training loss: 0.5396817418667144 acc: 0.7612523\n",
            "epoch 1 validation loss: 0.5148776349552134 acc: 0.76165485\n",
            "saved:./H4P2T1_Pytorch_e1.pt\n",
            "Train Epoch: 2 [0/201648 (0%)]\tLoss: 0.485527\n",
            "Train Epoch: 2 [12800/201648 (6%)]\tLoss: 0.531267\n",
            "Train Epoch: 2 [25600/201648 (13%)]\tLoss: 0.522906\n",
            "Train Epoch: 2 [38400/201648 (19%)]\tLoss: 0.466184\n",
            "Train Epoch: 2 [51200/201648 (25%)]\tLoss: 0.538393\n",
            "Train Epoch: 2 [64000/201648 (32%)]\tLoss: 0.519163\n",
            "Train Epoch: 2 [76800/201648 (38%)]\tLoss: 0.617342\n",
            "Train Epoch: 2 [89600/201648 (44%)]\tLoss: 0.547829\n",
            "Train Epoch: 2 [102400/201648 (51%)]\tLoss: 0.484146\n",
            "Train Epoch: 2 [115200/201648 (57%)]\tLoss: 0.547228\n",
            "Train Epoch: 2 [128000/201648 (63%)]\tLoss: 0.444124\n",
            "Train Epoch: 2 [140800/201648 (70%)]\tLoss: 0.571630\n",
            "Train Epoch: 2 [153600/201648 (76%)]\tLoss: 0.496165\n",
            "Train Epoch: 2 [166400/201648 (83%)]\tLoss: 0.558880\n",
            "Train Epoch: 2 [179200/201648 (89%)]\tLoss: 0.599546\n",
            "Train Epoch: 2 [192000/201648 (95%)]\tLoss: 0.592694\n",
            "epoch 2 training loss: 0.5383965503938688 acc: 0.7616788\n",
            "epoch 2 validation loss: 0.5203721876791183 acc: 0.7635735\n",
            "saved:./H4P2T1_Pytorch_e2.pt\n",
            "Train Epoch: 3 [0/201648 (0%)]\tLoss: 0.555440\n",
            "Train Epoch: 3 [12800/201648 (6%)]\tLoss: 0.580240\n",
            "Train Epoch: 3 [25600/201648 (13%)]\tLoss: 0.520620\n",
            "Train Epoch: 3 [38400/201648 (19%)]\tLoss: 0.579050\n",
            "Train Epoch: 3 [51200/201648 (25%)]\tLoss: 0.506553\n",
            "Train Epoch: 3 [64000/201648 (32%)]\tLoss: 0.594380\n",
            "Train Epoch: 3 [76800/201648 (38%)]\tLoss: 0.518205\n",
            "Train Epoch: 3 [89600/201648 (44%)]\tLoss: 0.528168\n",
            "Train Epoch: 3 [102400/201648 (51%)]\tLoss: 0.498884\n",
            "Train Epoch: 3 [115200/201648 (57%)]\tLoss: 0.519469\n",
            "Train Epoch: 3 [128000/201648 (63%)]\tLoss: 0.550605\n",
            "Train Epoch: 3 [140800/201648 (70%)]\tLoss: 0.565324\n",
            "Train Epoch: 3 [153600/201648 (76%)]\tLoss: 0.568007\n",
            "Train Epoch: 3 [166400/201648 (83%)]\tLoss: 0.524807\n",
            "Train Epoch: 3 [179200/201648 (89%)]\tLoss: 0.670370\n",
            "Train Epoch: 3 [192000/201648 (95%)]\tLoss: 0.561197\n",
            "epoch 3 training loss: 0.5373982093857039 acc: 0.76245236\n",
            "epoch 3 validation loss: 0.49416455943533716 acc: 0.76195776\n",
            "saved:./H4P2T1_Pytorch_e3.pt\n",
            "Train Epoch: 4 [0/201648 (0%)]\tLoss: 0.509096\n",
            "Train Epoch: 4 [12800/201648 (6%)]\tLoss: 0.472774\n",
            "Train Epoch: 4 [25600/201648 (13%)]\tLoss: 0.449615\n",
            "Train Epoch: 4 [38400/201648 (19%)]\tLoss: 0.496363\n",
            "Train Epoch: 4 [51200/201648 (25%)]\tLoss: 0.582965\n",
            "Train Epoch: 4 [64000/201648 (32%)]\tLoss: 0.517014\n",
            "Train Epoch: 4 [76800/201648 (38%)]\tLoss: 0.571232\n",
            "Train Epoch: 4 [89600/201648 (44%)]\tLoss: 0.647538\n",
            "Train Epoch: 4 [102400/201648 (51%)]\tLoss: 0.548288\n",
            "Train Epoch: 4 [115200/201648 (57%)]\tLoss: 0.527174\n",
            "Train Epoch: 4 [128000/201648 (63%)]\tLoss: 0.530917\n",
            "Train Epoch: 4 [140800/201648 (70%)]\tLoss: 0.547941\n",
            "Train Epoch: 4 [153600/201648 (76%)]\tLoss: 0.548518\n",
            "Train Epoch: 4 [166400/201648 (83%)]\tLoss: 0.533657\n",
            "Train Epoch: 4 [179200/201648 (89%)]\tLoss: 0.572705\n",
            "Train Epoch: 4 [192000/201648 (95%)]\tLoss: 0.545654\n",
            "epoch 4 training loss: 0.5368507085282324 acc: 0.762988\n",
            "epoch 4 validation loss: 0.479328046929329 acc: 0.7629794\n",
            "saved:./H4P2T1_Pytorch_e4.pt\n",
            "Train Epoch: 5 [0/201648 (0%)]\tLoss: 0.505791\n",
            "Train Epoch: 5 [12800/201648 (6%)]\tLoss: 0.571003\n",
            "Train Epoch: 5 [25600/201648 (13%)]\tLoss: 0.575934\n",
            "Train Epoch: 5 [38400/201648 (19%)]\tLoss: 0.541236\n",
            "Train Epoch: 5 [51200/201648 (25%)]\tLoss: 0.620954\n",
            "Train Epoch: 5 [64000/201648 (32%)]\tLoss: 0.525581\n",
            "Train Epoch: 5 [76800/201648 (38%)]\tLoss: 0.535954\n",
            "Train Epoch: 5 [89600/201648 (44%)]\tLoss: 0.493850\n",
            "Train Epoch: 5 [102400/201648 (51%)]\tLoss: 0.548189\n",
            "Train Epoch: 5 [115200/201648 (57%)]\tLoss: 0.529424\n",
            "Train Epoch: 5 [128000/201648 (63%)]\tLoss: 0.521164\n",
            "Train Epoch: 5 [140800/201648 (70%)]\tLoss: 0.526195\n",
            "Train Epoch: 5 [153600/201648 (76%)]\tLoss: 0.497459\n",
            "Train Epoch: 5 [166400/201648 (83%)]\tLoss: 0.556265\n",
            "Train Epoch: 5 [179200/201648 (89%)]\tLoss: 0.490196\n",
            "Train Epoch: 5 [192000/201648 (95%)]\tLoss: 0.577176\n",
            "epoch 5 training loss: 0.535905789001069 acc: 0.76422286\n",
            "epoch 5 validation loss: 0.4818455009384358 acc: 0.7616276\n",
            "saved:./H4P2T1_Pytorch_e5.pt\n",
            "Train Epoch: 6 [0/201648 (0%)]\tLoss: 0.526944\n",
            "Train Epoch: 6 [12800/201648 (6%)]\tLoss: 0.645594\n",
            "Train Epoch: 6 [25600/201648 (13%)]\tLoss: 0.509705\n",
            "Train Epoch: 6 [38400/201648 (19%)]\tLoss: 0.537035\n",
            "Train Epoch: 6 [51200/201648 (25%)]\tLoss: 0.601548\n",
            "Train Epoch: 6 [64000/201648 (32%)]\tLoss: 0.566976\n",
            "Train Epoch: 6 [76800/201648 (38%)]\tLoss: 0.533976\n",
            "Train Epoch: 6 [89600/201648 (44%)]\tLoss: 0.536795\n",
            "Train Epoch: 6 [102400/201648 (51%)]\tLoss: 0.549558\n",
            "Train Epoch: 6 [115200/201648 (57%)]\tLoss: 0.458390\n",
            "Train Epoch: 6 [128000/201648 (63%)]\tLoss: 0.575715\n",
            "Train Epoch: 6 [140800/201648 (70%)]\tLoss: 0.583961\n",
            "Train Epoch: 6 [153600/201648 (76%)]\tLoss: 0.554574\n",
            "Train Epoch: 6 [166400/201648 (83%)]\tLoss: 0.563000\n",
            "Train Epoch: 6 [179200/201648 (89%)]\tLoss: 0.572438\n",
            "Train Epoch: 6 [192000/201648 (95%)]\tLoss: 0.514383\n",
            "epoch 6 training loss: 0.5357763754946964 acc: 0.763836\n",
            "epoch 6 validation loss: 0.5357703858233512 acc: 0.7532687\n",
            "saved:./H4P2T1_Pytorch_e6.pt\n",
            "Train Epoch: 7 [0/201648 (0%)]\tLoss: 0.438073\n",
            "Train Epoch: 7 [12800/201648 (6%)]\tLoss: 0.515400\n",
            "Train Epoch: 7 [25600/201648 (13%)]\tLoss: 0.608059\n",
            "Train Epoch: 7 [38400/201648 (19%)]\tLoss: 0.599536\n",
            "Train Epoch: 7 [51200/201648 (25%)]\tLoss: 0.510267\n",
            "Train Epoch: 7 [64000/201648 (32%)]\tLoss: 0.496064\n",
            "Train Epoch: 7 [76800/201648 (38%)]\tLoss: 0.580657\n",
            "Train Epoch: 7 [89600/201648 (44%)]\tLoss: 0.546585\n",
            "Train Epoch: 7 [102400/201648 (51%)]\tLoss: 0.563018\n",
            "Train Epoch: 7 [115200/201648 (57%)]\tLoss: 0.463293\n",
            "Train Epoch: 7 [128000/201648 (63%)]\tLoss: 0.548897\n",
            "Train Epoch: 7 [140800/201648 (70%)]\tLoss: 0.533842\n",
            "Train Epoch: 7 [153600/201648 (76%)]\tLoss: 0.479866\n",
            "Train Epoch: 7 [166400/201648 (83%)]\tLoss: 0.597969\n",
            "Train Epoch: 7 [179200/201648 (89%)]\tLoss: 0.503455\n",
            "Train Epoch: 7 [192000/201648 (95%)]\tLoss: 0.508460\n",
            "epoch 7 training loss: 0.5350337824871411 acc: 0.7646443\n",
            "epoch 7 validation loss: 0.49620283949882427 acc: 0.7568965\n",
            "saved:./H4P2T1_Pytorch_e7.pt\n",
            "Train Epoch: 8 [0/201648 (0%)]\tLoss: 0.570801\n",
            "Train Epoch: 8 [12800/201648 (6%)]\tLoss: 0.487499\n",
            "Train Epoch: 8 [25600/201648 (13%)]\tLoss: 0.519556\n",
            "Train Epoch: 8 [38400/201648 (19%)]\tLoss: 0.529548\n",
            "Train Epoch: 8 [51200/201648 (25%)]\tLoss: 0.542768\n",
            "Train Epoch: 8 [64000/201648 (32%)]\tLoss: 0.443341\n",
            "Train Epoch: 8 [76800/201648 (38%)]\tLoss: 0.522517\n",
            "Train Epoch: 8 [89600/201648 (44%)]\tLoss: 0.507525\n",
            "Train Epoch: 8 [102400/201648 (51%)]\tLoss: 0.528053\n",
            "Train Epoch: 8 [115200/201648 (57%)]\tLoss: 0.500247\n",
            "Train Epoch: 8 [128000/201648 (63%)]\tLoss: 0.539615\n",
            "Train Epoch: 8 [140800/201648 (70%)]\tLoss: 0.520461\n",
            "Train Epoch: 8 [153600/201648 (76%)]\tLoss: 0.492588\n",
            "Train Epoch: 8 [166400/201648 (83%)]\tLoss: 0.595758\n",
            "Train Epoch: 8 [179200/201648 (89%)]\tLoss: 0.531427\n",
            "Train Epoch: 8 [192000/201648 (95%)]\tLoss: 0.542869\n",
            "epoch 8 training loss: 0.5354648978511177 acc: 0.76469886\n",
            "epoch 8 validation loss: 0.4847735878317914 acc: 0.7608061\n",
            "saved:./H4P2T1_Pytorch_e8.pt\n",
            "Train Epoch: 9 [0/201648 (0%)]\tLoss: 0.554008\n",
            "Train Epoch: 9 [12800/201648 (6%)]\tLoss: 0.501353\n",
            "Train Epoch: 9 [25600/201648 (13%)]\tLoss: 0.604034\n",
            "Train Epoch: 9 [38400/201648 (19%)]\tLoss: 0.429904\n",
            "Train Epoch: 9 [51200/201648 (25%)]\tLoss: 0.495559\n",
            "Train Epoch: 9 [64000/201648 (32%)]\tLoss: 0.527332\n",
            "Train Epoch: 9 [76800/201648 (38%)]\tLoss: 0.470698\n",
            "Train Epoch: 9 [89600/201648 (44%)]\tLoss: 0.508789\n",
            "Train Epoch: 9 [102400/201648 (51%)]\tLoss: 0.577732\n",
            "Train Epoch: 9 [115200/201648 (57%)]\tLoss: 0.457995\n",
            "Train Epoch: 9 [128000/201648 (63%)]\tLoss: 0.547225\n",
            "Train Epoch: 9 [140800/201648 (70%)]\tLoss: 0.574029\n",
            "Train Epoch: 9 [153600/201648 (76%)]\tLoss: 0.494110\n",
            "Train Epoch: 9 [166400/201648 (83%)]\tLoss: 0.464024\n",
            "Train Epoch: 9 [179200/201648 (89%)]\tLoss: 0.522199\n",
            "Train Epoch: 9 [192000/201648 (95%)]\tLoss: 0.551846\n",
            "epoch 9 training loss: 0.5346908408076148 acc: 0.76526916\n",
            "epoch 9 validation loss: 0.5204792984939636 acc: 0.7578988\n",
            "saved:./H4P2T1_Pytorch_e9.pt\n"
          ]
        },
        {
          "output_type": "execute_result",
          "data": {
            "text/plain": [
              "<matplotlib.legend.Legend at 0x7fc8705d5c90>"
            ]
          },
          "metadata": {},
          "execution_count": 36
        },
        {
          "output_type": "display_data",
          "data": {
            "image/png": "[encoded data removed]",
            "text/plain": [
              "<Figure size 720x432 with 2 Axes>"
            ]
          },
          "metadata": {
            "needs_background": "light"
          }
        }
      ],
      "source": [
        "#to change the learning rate during traning, we may do this\n",
        "epochSize = 30\n",
        "initial_lr = 0.01\n",
        "\n",
        "\n",
        "net = Net()\n",
        "if torch.cuda.is_available():\n",
        "    net = net.cuda()\n",
        "    \n",
        "acc_train_list=[]\n",
        "acc_val_list=[]\n",
        "loss_train_list=[]\n",
        "loss_val_list=[]\n",
        "criterion = nn.CrossEntropyLoss() \n",
        "optimizer = torch.optim.Adam(net.parameters(), lr=initial_lr)\n",
        "for epoch in range(epochSize):\n",
        "    adjust_learning_rate(optimizer, epoch, initial_lr)\n",
        "    loss_train, acc_train = train(net, dataloader_train, optimizer, criterion, epoch)\n",
        "    loss_train_list.append(loss_train)\n",
        "    acc_train_list.append(acc_train)\n",
        "    print('epoch', epoch, 'training loss:', loss_train, 'acc:', acc_train)\n",
        "\n",
        "    loss_val, acc_val = test(net, dataloader_val, criterion)\n",
        "    loss_val_list.append(loss_val)\n",
        "    acc_val_list.append(acc_val)\n",
        "    print('epoch', epoch, 'validation loss:', loss_val, 'acc:', acc_val)\n",
        "\n",
        "    fileName = './H4P2T1_Pytorch_e'+str(epoch)+'.pt'\n",
        "    saveModel(net, epoch, fileName, loss_train, loss_val, acc_train, acc_val)\n",
        "    print('saved:'+fileName)\n",
        "\n",
        "\n",
        "\n",
        "epoch = range(0, epochSize)\n",
        "fig, ax = plt.subplots(1,2, figsize=(10,6))\n",
        "ax[0].plot(epoch, loss_train_list, 'b', label = 'training loss')\n",
        "ax[0].plot(epoch, loss_val_list,   'r', label = 'validation loss')\n",
        "ax[0].set_xlabel('epoch')\n",
        "ax[0].set_ylabel('loss')\n",
        "#ax[0].set_title('max_depth v.s. training accuracy')\n",
        "ax[0].grid(True)\n",
        "ax[0].legend()\n",
        "\n",
        "ax[1].plot(epoch, acc_train_list, 'b', label = 'training accuracy')\n",
        "ax[1].plot(epoch, acc_val_list,   'r', label = 'validation accuracy')\n",
        "ax[1].set_xlabel('epoch')\n",
        "ax[1].set_ylabel('accuracy')\n",
        "ax[1].grid(True)\n",
        "ax[1].legend()"
      ]
    },
    {
      "cell_type": "markdown",
      "metadata": {
        "id": "iVgGtJq0JqPZ"
      },
      "source": [
        "### after training, we load the best model from the harddrive and evaluate the model on the test set\n",
        "You may get a different result because of random initialization of network parameters"
      ]
    },
    {
      "cell_type": "code",
      "execution_count": null,
      "metadata": {
        "colab": {
          "base_uri": "https://localhost:8080/"
        },
        "id": "7Z5l2OvhJqPZ",
        "outputId": "93384c8f-9e11-43bf-b715-eb95924c8a9b"
      },
      "outputs": [
        {
          "output_type": "stream",
          "name": "stdout",
          "text": [
            "select epoch 2 as best model\n"
          ]
        }
      ],
      "source": [
        "# load the best model\n",
        "max_val_acvc = max(acc_val_list)\n",
        "max_index = acc_val_list.index(max(acc_val_list))\n",
        "print('select epoch '+str(max_index), 'as best model')\n",
        "\n",
        "epoch = max_index  \n",
        "fileName = fileName = './H4P2T1_Pytorch_e'+str(epoch)+'.pt'\n",
        "net = loadModel(net,fileName)"
      ]
    },
    {
      "cell_type": "code",
      "execution_count": null,
      "metadata": {
        "colab": {
          "base_uri": "https://localhost:8080/"
        },
        "id": "bpdJMexpJqPZ",
        "outputId": "9930aec6-0d6b-4ed0-fa55-12904fc08f37"
      },
      "outputs": [
        {
          "output_type": "stream",
          "name": "stdout",
          "text": [
            "test loss:0.49581062920820484\n",
            "test acc:0.7519547\n"
          ]
        }
      ],
      "source": [
        "#get the loss and accuracy on the test set\n",
        "loss_test, acc_test = test(net, dataloader_test, criterion)\n",
        "print('test loss:'+str(loss_test))\n",
        "print('test acc:'+str(acc_test))"
      ]
    }
  ],
  "metadata": {
    "kernelspec": {
      "display_name": "Python 3",
      "language": "python",
      "name": "python3"
    },
    "language_info": {
      "codemirror_mode": {
        "name": "ipython",
        "version": 3
      },
      "file_extension": ".py",
      "mimetype": "text/x-python",
      "name": "python",
      "nbconvert_exporter": "python",
      "pygments_lexer": "ipython3",
      "version": "3.8.3"
    },
    "colab": {
      "name": "H4P2T1_Pytorch.ipynb",
      "provenance": [],
      "collapsed_sections": []
    }
  },
  "nbformat": 4,
  "nbformat_minor": 0
}