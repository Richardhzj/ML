{
  "cells": [
    {
      "cell_type": "markdown",
      "metadata": {
        "id": "CMTlYZ5zWzfJ"
      },
      "source": [
        "# Regression using a Neural Network (Pytorch)\n",
        "The data is in 'housing.csv'. <br>\n",
        "Each row in the table is a data point:  the features of an area in California <br>\n",
        "Clearly, the `median_house_value` is correlated with some other features, e.g., `median_income` and location <br>\n",
        "Thus, we can estimate `median_house_value` = regression_model(`median_income`, `longitude`, `latitude`, ...) <br>\n",
        "The taks is to build an MLP regressor to predict `median_house_value` using the other features"
      ]
    },
    {
      "cell_type": "code",
      "execution_count": 1,
      "metadata": {
        "id": "7FmGucnl4Uk8"
      },
      "outputs": [],
      "source": [
        "import numpy as np\n",
        "import pandas as pd\n",
        "import matplotlib.pyplot as plt"
      ]
    },
    {
      "cell_type": "code",
      "execution_count": 2,
      "metadata": {
        "colab": {
          "base_uri": "https://localhost:8080/",
          "height": 206
        },
        "id": "tbXs0JEXWzfO",
        "outputId": "f754dd01-92c8-4200-bec3-98c6b3c3b2e9"
      },
      "outputs": [
        {
          "output_type": "execute_result",
          "data": {
            "text/html": [
              "<div>\n",
              "<style scoped>\n",
              "    .dataframe tbody tr th:only-of-type {\n",
              "        vertical-align: middle;\n",
              "    }\n",
              "\n",
              "    .dataframe tbody tr th {\n",
              "        vertical-align: top;\n",
              "    }\n",
              "\n",
              "    .dataframe thead th {\n",
              "        text-align: right;\n",
              "    }\n",
              "</style>\n",
              "<table border=\"1\" class=\"dataframe\">\n",
              "  <thead>\n",
              "    <tr style=\"text-align: right;\">\n",
              "      <th></th>\n",
              "      <th>longitude</th>\n",
              "      <th>latitude</th>\n",
              "      <th>housing_median_age</th>\n",
              "      <th>total_rooms</th>\n",
              "      <th>total_bedrooms</th>\n",
              "      <th>population</th>\n",
              "      <th>households</th>\n",
              "      <th>median_income</th>\n",
              "      <th>median_house_value</th>\n",
              "      <th>ocean_proximity</th>\n",
              "    </tr>\n",
              "  </thead>\n",
              "  <tbody>\n",
              "    <tr>\n",
              "      <th>0</th>\n",
              "      <td>-122.23</td>\n",
              "      <td>37.88</td>\n",
              "      <td>41.0</td>\n",
              "      <td>880.0</td>\n",
              "      <td>129.0</td>\n",
              "      <td>322.0</td>\n",
              "      <td>126.0</td>\n",
              "      <td>8.3252</td>\n",
              "      <td>452600.0</td>\n",
              "      <td>NEAR BAY</td>\n",
              "    </tr>\n",
              "    <tr>\n",
              "      <th>1</th>\n",
              "      <td>-122.22</td>\n",
              "      <td>37.86</td>\n",
              "      <td>21.0</td>\n",
              "      <td>7099.0</td>\n",
              "      <td>1106.0</td>\n",
              "      <td>2401.0</td>\n",
              "      <td>1138.0</td>\n",
              "      <td>8.3014</td>\n",
              "      <td>358500.0</td>\n",
              "      <td>NEAR BAY</td>\n",
              "    </tr>\n",
              "    <tr>\n",
              "      <th>2</th>\n",
              "      <td>-122.24</td>\n",
              "      <td>37.85</td>\n",
              "      <td>52.0</td>\n",
              "      <td>1467.0</td>\n",
              "      <td>190.0</td>\n",
              "      <td>496.0</td>\n",
              "      <td>177.0</td>\n",
              "      <td>7.2574</td>\n",
              "      <td>352100.0</td>\n",
              "      <td>NEAR BAY</td>\n",
              "    </tr>\n",
              "    <tr>\n",
              "      <th>3</th>\n",
              "      <td>-122.25</td>\n",
              "      <td>37.85</td>\n",
              "      <td>52.0</td>\n",
              "      <td>1274.0</td>\n",
              "      <td>235.0</td>\n",
              "      <td>558.0</td>\n",
              "      <td>219.0</td>\n",
              "      <td>5.6431</td>\n",
              "      <td>341300.0</td>\n",
              "      <td>NEAR BAY</td>\n",
              "    </tr>\n",
              "    <tr>\n",
              "      <th>4</th>\n",
              "      <td>-122.25</td>\n",
              "      <td>37.85</td>\n",
              "      <td>52.0</td>\n",
              "      <td>1627.0</td>\n",
              "      <td>280.0</td>\n",
              "      <td>565.0</td>\n",
              "      <td>259.0</td>\n",
              "      <td>3.8462</td>\n",
              "      <td>342200.0</td>\n",
              "      <td>NEAR BAY</td>\n",
              "    </tr>\n",
              "  </tbody>\n",
              "</table>\n",
              "</div>"
            ],
            "text/plain": [
              "   longitude  latitude  ...  median_house_value  ocean_proximity\n",
              "0    -122.23     37.88  ...            452600.0         NEAR BAY\n",
              "1    -122.22     37.86  ...            358500.0         NEAR BAY\n",
              "2    -122.24     37.85  ...            352100.0         NEAR BAY\n",
              "3    -122.25     37.85  ...            341300.0         NEAR BAY\n",
              "4    -122.25     37.85  ...            342200.0         NEAR BAY\n",
              "\n",
              "[5 rows x 10 columns]"
            ]
          },
          "metadata": {},
          "execution_count": 2
        }
      ],
      "source": [
        "housing = pd.read_csv(\"housing.csv\")\n",
        "housing.head()"
      ]
    },
    {
      "cell_type": "code",
      "execution_count": 3,
      "metadata": {
        "colab": {
          "base_uri": "https://localhost:8080/"
        },
        "id": "hNq0b5Y5WzfP",
        "outputId": "b333623e-4fbc-45e3-8ba9-7ad08b29f4e7"
      },
      "outputs": [
        {
          "output_type": "execute_result",
          "data": {
            "text/plain": [
              "(20640, 10)"
            ]
          },
          "metadata": {},
          "execution_count": 3
        }
      ],
      "source": [
        "housing.shape"
      ]
    },
    {
      "cell_type": "markdown",
      "metadata": {
        "id": "BpnopJNvWzfP"
      },
      "source": [
        "### Data pre-processing: remove NaN"
      ]
    },
    {
      "cell_type": "code",
      "execution_count": 4,
      "metadata": {
        "colab": {
          "base_uri": "https://localhost:8080/"
        },
        "id": "oIcDVU9zWzfQ",
        "outputId": "b422ce0a-3412-4f9d-89fb-bec47ae54381"
      },
      "outputs": [
        {
          "output_type": "execute_result",
          "data": {
            "text/plain": [
              "longitude               0\n",
              "latitude                0\n",
              "housing_median_age      0\n",
              "total_rooms             0\n",
              "total_bedrooms        207\n",
              "population              0\n",
              "households              0\n",
              "median_income           0\n",
              "median_house_value      0\n",
              "ocean_proximity         0\n",
              "dtype: int64"
            ]
          },
          "metadata": {},
          "execution_count": 4
        }
      ],
      "source": [
        "housing.isnull().sum()"
      ]
    },
    {
      "cell_type": "code",
      "execution_count": 5,
      "metadata": {
        "colab": {
          "base_uri": "https://localhost:8080/"
        },
        "id": "ekln-zWNWzfQ",
        "outputId": "ff74a988-95f7-48a8-abae-495cdb572bf6"
      },
      "outputs": [
        {
          "output_type": "execute_result",
          "data": {
            "text/plain": [
              "longitude             0\n",
              "latitude              0\n",
              "housing_median_age    0\n",
              "total_rooms           0\n",
              "total_bedrooms        0\n",
              "population            0\n",
              "households            0\n",
              "median_income         0\n",
              "median_house_value    0\n",
              "ocean_proximity       0\n",
              "dtype: int64"
            ]
          },
          "metadata": {},
          "execution_count": 5
        }
      ],
      "source": [
        "# there are 207 NaN in the column 'total_bedrooms', remove them\n",
        "# check housing again using housing.isnull().sum()\n",
        "housing['total_bedrooms'].fillna((housing['total_bedrooms'].mean()), inplace=True)\n",
        "housing.isnull().sum()"
      ]
    },
    {
      "cell_type": "markdown",
      "metadata": {
        "id": "JwnbT4BkWzfR"
      },
      "source": [
        "### Data pre-processing: Convert categorical data to numerical data - \"ocean_proximity\""
      ]
    },
    {
      "cell_type": "code",
      "execution_count": 6,
      "metadata": {
        "colab": {
          "base_uri": "https://localhost:8080/"
        },
        "id": "RXn7GRuM4vgm",
        "outputId": "314f7792-089e-4dad-deb6-646b18397f64",
        "scrolled": true
      },
      "outputs": [
        {
          "output_type": "execute_result",
          "data": {
            "text/plain": [
              "<1H OCEAN     9136\n",
              "INLAND        6551\n",
              "NEAR OCEAN    2658\n",
              "NEAR BAY      2290\n",
              "ISLAND           5\n",
              "Name: ocean_proximity, dtype: int64"
            ]
          },
          "metadata": {},
          "execution_count": 6
        }
      ],
      "source": [
        "housing[\"ocean_proximity\"].value_counts()"
      ]
    },
    {
      "cell_type": "code",
      "execution_count": 7,
      "metadata": {
        "colab": {
          "base_uri": "https://localhost:8080/",
          "height": 243
        },
        "id": "TTAdNmypWzfS",
        "outputId": "6146cd09-3505-4a1a-afe7-64e71b5f2945"
      },
      "outputs": [
        {
          "output_type": "execute_result",
          "data": {
            "text/html": [
              "<div>\n",
              "<style scoped>\n",
              "    .dataframe tbody tr th:only-of-type {\n",
              "        vertical-align: middle;\n",
              "    }\n",
              "\n",
              "    .dataframe tbody tr th {\n",
              "        vertical-align: top;\n",
              "    }\n",
              "\n",
              "    .dataframe thead th {\n",
              "        text-align: right;\n",
              "    }\n",
              "</style>\n",
              "<table border=\"1\" class=\"dataframe\">\n",
              "  <thead>\n",
              "    <tr style=\"text-align: right;\">\n",
              "      <th></th>\n",
              "      <th>longitude</th>\n",
              "      <th>latitude</th>\n",
              "      <th>housing_median_age</th>\n",
              "      <th>total_rooms</th>\n",
              "      <th>total_bedrooms</th>\n",
              "      <th>population</th>\n",
              "      <th>households</th>\n",
              "      <th>median_income</th>\n",
              "      <th>median_house_value</th>\n",
              "      <th>ocean_proximity_&lt;1H OCEAN</th>\n",
              "      <th>ocean_proximity_INLAND</th>\n",
              "      <th>ocean_proximity_ISLAND</th>\n",
              "      <th>ocean_proximity_NEAR BAY</th>\n",
              "      <th>ocean_proximity_NEAR OCEAN</th>\n",
              "    </tr>\n",
              "  </thead>\n",
              "  <tbody>\n",
              "    <tr>\n",
              "      <th>0</th>\n",
              "      <td>-122.23</td>\n",
              "      <td>37.88</td>\n",
              "      <td>41.0</td>\n",
              "      <td>880.0</td>\n",
              "      <td>129.0</td>\n",
              "      <td>322.0</td>\n",
              "      <td>126.0</td>\n",
              "      <td>8.3252</td>\n",
              "      <td>452600.0</td>\n",
              "      <td>0</td>\n",
              "      <td>0</td>\n",
              "      <td>0</td>\n",
              "      <td>1</td>\n",
              "      <td>0</td>\n",
              "    </tr>\n",
              "    <tr>\n",
              "      <th>1</th>\n",
              "      <td>-122.22</td>\n",
              "      <td>37.86</td>\n",
              "      <td>21.0</td>\n",
              "      <td>7099.0</td>\n",
              "      <td>1106.0</td>\n",
              "      <td>2401.0</td>\n",
              "      <td>1138.0</td>\n",
              "      <td>8.3014</td>\n",
              "      <td>358500.0</td>\n",
              "      <td>0</td>\n",
              "      <td>0</td>\n",
              "      <td>0</td>\n",
              "      <td>1</td>\n",
              "      <td>0</td>\n",
              "    </tr>\n",
              "    <tr>\n",
              "      <th>2</th>\n",
              "      <td>-122.24</td>\n",
              "      <td>37.85</td>\n",
              "      <td>52.0</td>\n",
              "      <td>1467.0</td>\n",
              "      <td>190.0</td>\n",
              "      <td>496.0</td>\n",
              "      <td>177.0</td>\n",
              "      <td>7.2574</td>\n",
              "      <td>352100.0</td>\n",
              "      <td>0</td>\n",
              "      <td>0</td>\n",
              "      <td>0</td>\n",
              "      <td>1</td>\n",
              "      <td>0</td>\n",
              "    </tr>\n",
              "    <tr>\n",
              "      <th>3</th>\n",
              "      <td>-122.25</td>\n",
              "      <td>37.85</td>\n",
              "      <td>52.0</td>\n",
              "      <td>1274.0</td>\n",
              "      <td>235.0</td>\n",
              "      <td>558.0</td>\n",
              "      <td>219.0</td>\n",
              "      <td>5.6431</td>\n",
              "      <td>341300.0</td>\n",
              "      <td>0</td>\n",
              "      <td>0</td>\n",
              "      <td>0</td>\n",
              "      <td>1</td>\n",
              "      <td>0</td>\n",
              "    </tr>\n",
              "    <tr>\n",
              "      <th>4</th>\n",
              "      <td>-122.25</td>\n",
              "      <td>37.85</td>\n",
              "      <td>52.0</td>\n",
              "      <td>1627.0</td>\n",
              "      <td>280.0</td>\n",
              "      <td>565.0</td>\n",
              "      <td>259.0</td>\n",
              "      <td>3.8462</td>\n",
              "      <td>342200.0</td>\n",
              "      <td>0</td>\n",
              "      <td>0</td>\n",
              "      <td>0</td>\n",
              "      <td>1</td>\n",
              "      <td>0</td>\n",
              "    </tr>\n",
              "  </tbody>\n",
              "</table>\n",
              "</div>"
            ],
            "text/plain": [
              "   longitude  latitude  ...  ocean_proximity_NEAR BAY  ocean_proximity_NEAR OCEAN\n",
              "0    -122.23     37.88  ...                         1                           0\n",
              "1    -122.22     37.86  ...                         1                           0\n",
              "2    -122.24     37.85  ...                         1                           0\n",
              "3    -122.25     37.85  ...                         1                           0\n",
              "4    -122.25     37.85  ...                         1                           0\n",
              "\n",
              "[5 rows x 14 columns]"
            ]
          },
          "metadata": {},
          "execution_count": 7
        }
      ],
      "source": [
        "#We can use one-hot encoding method by calling pd.get_dummies\n",
        "categorical_columns=['ocean_proximity'] # must be a list\n",
        "housing = pd.get_dummies(housing, columns=categorical_columns)\n",
        "housing.head()"
      ]
    },
    {
      "cell_type": "markdown",
      "metadata": {
        "id": "CrqHCwXRWzfT"
      },
      "source": [
        "### Visualize the data"
      ]
    },
    {
      "cell_type": "code",
      "execution_count": 8,
      "metadata": {
        "colab": {
          "base_uri": "https://localhost:8080/",
          "height": 433
        },
        "id": "n-LqRw1GWzfT",
        "outputId": "7eb226bb-786d-4149-e4ca-768bf1318733"
      },
      "outputs": [
        {
          "output_type": "execute_result",
          "data": {
            "text/plain": [
              "Text(0.5, 1.0, 'median_income')"
            ]
          },
          "metadata": {},
          "execution_count": 8
        },
        {
          "output_type": "display_data",
          "data": {
            "image/png": "[encoded data removed]",
            "text/plain": [
              "<Figure size 720x504 with 4 Axes>"
            ]
          },
          "metadata": {
            "needs_background": "light"
          }
        }
      ],
      "source": [
        "from skimage.io import imread\n",
        "california_img = imread('california.png')\n",
        "x1 = min(housing[\"longitude\"].values)\n",
        "x2 = max(housing[\"longitude\"].values)\n",
        "y1 = min(housing[\"latitude\"].values)\n",
        "y2 = max(housing[\"latitude\"].values)\n",
        "#---------------------------------------------\n",
        "# the parameter c refers to color\n",
        "# thus, median_house_value is color-coded in the left plot\n",
        "fig, ax =plt.subplots(1,2)\n",
        "housing.plot(ax=ax[0], kind=\"scatter\", x=\"longitude\", y=\"latitude\",\n",
        "             s=housing['population']/100, label=\"population\",\n",
        "             c=\"median_house_value\", cmap=plt.get_cmap(\"jet\"),\n",
        "             colorbar=True, alpha=0.4, figsize=(10,7))\n",
        "#---------------------------------------------\n",
        "# the parameter c refers to color\n",
        "# thus, median_income is color-coded in the right plot\n",
        "ax[0].imshow(california_img,extent=[x1,x2,y1,y2])\n",
        "ax[0].set_title('median_house_value')\n",
        "housing.plot(ax=ax[1], kind=\"scatter\", x=\"longitude\", y=\"latitude\",\n",
        "             s=housing['population']/100, label=\"population\",\n",
        "             c=\"median_income\", cmap=plt.get_cmap(\"jet\"),\n",
        "             colorbar=True, alpha=0.4, figsize=(10,7))\n",
        "ax[1].imshow(california_img,extent=[x1,x2,y1,y2])\n",
        "ax[1].set_title('median_income')"
      ]
    },
    {
      "cell_type": "markdown",
      "metadata": {
        "id": "gfKCpcyPWzfU"
      },
      "source": [
        "### Prepare the Training and Testing Datasets"
      ]
    },
    {
      "cell_type": "code",
      "execution_count": 9,
      "metadata": {
        "colab": {
          "base_uri": "https://localhost:8080/",
          "height": 243
        },
        "id": "H7gTSH7eWzfU",
        "outputId": "497f5a53-4214-44ba-9895-0d86c41ba672"
      },
      "outputs": [
        {
          "output_type": "execute_result",
          "data": {
            "text/html": [
              "<div>\n",
              "<style scoped>\n",
              "    .dataframe tbody tr th:only-of-type {\n",
              "        vertical-align: middle;\n",
              "    }\n",
              "\n",
              "    .dataframe tbody tr th {\n",
              "        vertical-align: top;\n",
              "    }\n",
              "\n",
              "    .dataframe thead th {\n",
              "        text-align: right;\n",
              "    }\n",
              "</style>\n",
              "<table border=\"1\" class=\"dataframe\">\n",
              "  <thead>\n",
              "    <tr style=\"text-align: right;\">\n",
              "      <th></th>\n",
              "      <th>longitude</th>\n",
              "      <th>latitude</th>\n",
              "      <th>housing_median_age</th>\n",
              "      <th>total_rooms</th>\n",
              "      <th>total_bedrooms</th>\n",
              "      <th>population</th>\n",
              "      <th>households</th>\n",
              "      <th>median_income</th>\n",
              "      <th>ocean_proximity_&lt;1H OCEAN</th>\n",
              "      <th>ocean_proximity_INLAND</th>\n",
              "      <th>ocean_proximity_ISLAND</th>\n",
              "      <th>ocean_proximity_NEAR BAY</th>\n",
              "      <th>ocean_proximity_NEAR OCEAN</th>\n",
              "    </tr>\n",
              "  </thead>\n",
              "  <tbody>\n",
              "    <tr>\n",
              "      <th>0</th>\n",
              "      <td>-122.23</td>\n",
              "      <td>37.88</td>\n",
              "      <td>41.0</td>\n",
              "      <td>880.0</td>\n",
              "      <td>129.0</td>\n",
              "      <td>322.0</td>\n",
              "      <td>126.0</td>\n",
              "      <td>8.3252</td>\n",
              "      <td>0</td>\n",
              "      <td>0</td>\n",
              "      <td>0</td>\n",
              "      <td>1</td>\n",
              "      <td>0</td>\n",
              "    </tr>\n",
              "    <tr>\n",
              "      <th>1</th>\n",
              "      <td>-122.22</td>\n",
              "      <td>37.86</td>\n",
              "      <td>21.0</td>\n",
              "      <td>7099.0</td>\n",
              "      <td>1106.0</td>\n",
              "      <td>2401.0</td>\n",
              "      <td>1138.0</td>\n",
              "      <td>8.3014</td>\n",
              "      <td>0</td>\n",
              "      <td>0</td>\n",
              "      <td>0</td>\n",
              "      <td>1</td>\n",
              "      <td>0</td>\n",
              "    </tr>\n",
              "    <tr>\n",
              "      <th>2</th>\n",
              "      <td>-122.24</td>\n",
              "      <td>37.85</td>\n",
              "      <td>52.0</td>\n",
              "      <td>1467.0</td>\n",
              "      <td>190.0</td>\n",
              "      <td>496.0</td>\n",
              "      <td>177.0</td>\n",
              "      <td>7.2574</td>\n",
              "      <td>0</td>\n",
              "      <td>0</td>\n",
              "      <td>0</td>\n",
              "      <td>1</td>\n",
              "      <td>0</td>\n",
              "    </tr>\n",
              "    <tr>\n",
              "      <th>3</th>\n",
              "      <td>-122.25</td>\n",
              "      <td>37.85</td>\n",
              "      <td>52.0</td>\n",
              "      <td>1274.0</td>\n",
              "      <td>235.0</td>\n",
              "      <td>558.0</td>\n",
              "      <td>219.0</td>\n",
              "      <td>5.6431</td>\n",
              "      <td>0</td>\n",
              "      <td>0</td>\n",
              "      <td>0</td>\n",
              "      <td>1</td>\n",
              "      <td>0</td>\n",
              "    </tr>\n",
              "    <tr>\n",
              "      <th>4</th>\n",
              "      <td>-122.25</td>\n",
              "      <td>37.85</td>\n",
              "      <td>52.0</td>\n",
              "      <td>1627.0</td>\n",
              "      <td>280.0</td>\n",
              "      <td>565.0</td>\n",
              "      <td>259.0</td>\n",
              "      <td>3.8462</td>\n",
              "      <td>0</td>\n",
              "      <td>0</td>\n",
              "      <td>0</td>\n",
              "      <td>1</td>\n",
              "      <td>0</td>\n",
              "    </tr>\n",
              "  </tbody>\n",
              "</table>\n",
              "</div>"
            ],
            "text/plain": [
              "   longitude  latitude  ...  ocean_proximity_NEAR BAY  ocean_proximity_NEAR OCEAN\n",
              "0    -122.23     37.88  ...                         1                           0\n",
              "1    -122.22     37.86  ...                         1                           0\n",
              "2    -122.24     37.85  ...                         1                           0\n",
              "3    -122.25     37.85  ...                         1                           0\n",
              "4    -122.25     37.85  ...                         1                           0\n",
              "\n",
              "[5 rows x 13 columns]"
            ]
          },
          "metadata": {},
          "execution_count": 9
        }
      ],
      "source": [
        "X=housing.drop(['median_house_value'], axis=1)\n",
        "X.head()"
      ]
    },
    {
      "cell_type": "code",
      "execution_count": 10,
      "metadata": {
        "colab": {
          "base_uri": "https://localhost:8080/"
        },
        "id": "Pq0IQpstWzfV",
        "outputId": "a3e8476b-74db-4811-ec4c-f854bbcb4ab4"
      },
      "outputs": [
        {
          "output_type": "execute_result",
          "data": {
            "text/plain": [
              "0    452600.0\n",
              "1    358500.0\n",
              "2    352100.0\n",
              "3    341300.0\n",
              "4    342200.0\n",
              "Name: median_house_value, dtype: float64"
            ]
          },
          "metadata": {},
          "execution_count": 10
        }
      ],
      "source": [
        "Y=housing['median_house_value']\n",
        "Y.head()"
      ]
    },
    {
      "cell_type": "code",
      "execution_count": 11,
      "metadata": {
        "id": "_Vqd_Dp8WzfV"
      },
      "outputs": [],
      "source": [
        "# convert pandas dataframe/series to numpy array\n",
        "# sklearn functions may not work well with pandas data types\n",
        "X_columns=X.columns #store the column names\n",
        "X=X.values.astype('float32')\n",
        "Y=Y.values.astype('float32')"
      ]
    },
    {
      "cell_type": "markdown",
      "metadata": {
        "id": "rVVkzeaTWzfW"
      },
      "source": [
        "### trainnig, validation, testing split"
      ]
    },
    {
      "cell_type": "code",
      "execution_count": 12,
      "metadata": {
        "colab": {
          "base_uri": "https://localhost:8080/"
        },
        "id": "GUdHt8-XWzfW",
        "outputId": "2a4435b3-90dd-4484-90f4-9c04b045bcf0"
      },
      "outputs": [
        {
          "output_type": "stream",
          "name": "stdout",
          "text": [
            "train: (14860, 13) (14860,)\n",
            "validation: (1652, 13) (1652,)\n",
            "test: (4128, 13) (4128,)\n"
          ]
        }
      ],
      "source": [
        "#trainnig, validation, testing split\n",
        "from sklearn.model_selection import train_test_split\n",
        "X_train, X_test, Y_train, Y_test = train_test_split(X, Y, test_size=0.2, random_state=0)\n",
        "#split X_train and Y_train into a 'pure' training set and a validation set\n",
        "X_train, X_val, Y_train, Y_val = train_test_split(X_train, Y_train, test_size=0.1, random_state=0)\n",
        "print('train:', X_train.shape, Y_train.shape)\n",
        "print('validation:', X_val.shape, Y_val.shape)\n",
        "print('test:', X_test.shape, Y_test.shape)"
      ]
    },
    {
      "cell_type": "code",
      "execution_count": 13,
      "metadata": {
        "id": "EEuMMbcGWzfW"
      },
      "outputs": [],
      "source": [
        "#apply feature normalization to training, validation and test sets\n",
        "from sklearn.preprocessing import MinMaxScaler\n",
        "scalerX=MinMaxScaler()\n",
        "scalerX.fit(X_train) # think about why fit to X_train, not X ?\n",
        "X_train=scalerX.transform(X_train)\n",
        "X_val=scalerX.transform(X_val)\n",
        "X_test=scalerX.transform(X_test)"
      ]
    },
    {
      "cell_type": "code",
      "execution_count": 14,
      "metadata": {
        "colab": {
          "base_uri": "https://localhost:8080/"
        },
        "id": "68tiLw12WzfW",
        "outputId": "888b7d1a-5566-435e-9462-1963dc8b3421"
      },
      "outputs": [
        {
          "output_type": "execute_result",
          "data": {
            "text/plain": [
              "array([0.5786848 , 0.38044596, 0.19607843, 0.12570114, 0.13671634,\n",
              "       0.00983827, 0.02795593, 0.11055019, 0.        , 1.        ,\n",
              "       0.        , 0.        , 0.        ], dtype=float32)"
            ]
          },
          "metadata": {},
          "execution_count": 14
        }
      ],
      "source": [
        "X_train[0]"
      ]
    },
    {
      "cell_type": "code",
      "execution_count": 15,
      "metadata": {
        "id": "40jt1tk0WzfX"
      },
      "outputs": [],
      "source": [
        "#normalize the output to facilitate convergence\n",
        "Y_train_max=Y_train.max()\n",
        "Y_train/=Y_train_max\n",
        "Y_val/=Y_train_max\n",
        "Y_test/=Y_train_max"
      ]
    },
    {
      "cell_type": "markdown",
      "metadata": {
        "id": "67au2TNXWzfX"
      },
      "source": [
        "### use LinearRegression as the baseline model"
      ]
    },
    {
      "cell_type": "code",
      "execution_count": 16,
      "metadata": {
        "id": "88G2gKkHWzfX"
      },
      "outputs": [],
      "source": [
        "#step1:\n",
        "from sklearn.linear_model import LinearRegression\n",
        "linear_model = LinearRegression(fit_intercept=True)"
      ]
    },
    {
      "cell_type": "code",
      "execution_count": 17,
      "metadata": {
        "colab": {
          "base_uri": "https://localhost:8080/"
        },
        "id": "xUHXjyfeWzfY",
        "outputId": "6d05baf4-aee4-4aa0-a43c-8179dcf3d0b4"
      },
      "outputs": [
        {
          "output_type": "execute_result",
          "data": {
            "text/plain": [
              "LinearRegression()"
            ]
          },
          "metadata": {},
          "execution_count": 17
        }
      ],
      "source": [
        "#step2:\n",
        "linear_model.fit(X_train, Y_train)"
      ]
    },
    {
      "cell_type": "code",
      "execution_count": 18,
      "metadata": {
        "colab": {
          "base_uri": "https://localhost:8080/"
        },
        "id": "QRytIcm3WzfY",
        "outputId": "4916722a-43b0-49e7-9719-cf589b7dffe7"
      },
      "outputs": [
        {
          "output_type": "execute_result",
          "data": {
            "text/plain": [
              "array([-0.52667564, -0.47057658,  0.11070046, -0.31356594,  0.8725233 ,\n",
              "       -2.8026845 ,  1.0090173 ,  1.1304911 , -0.04725012, -0.12498051,\n",
              "        0.26538336, -0.05612987, -0.03702499], dtype=float32)"
            ]
          },
          "metadata": {},
          "execution_count": 18
        }
      ],
      "source": [
        "linear_model.coef_"
      ]
    },
    {
      "cell_type": "code",
      "execution_count": 19,
      "metadata": {
        "colab": {
          "base_uri": "https://localhost:8080/"
        },
        "id": "3QsKazywWzfY",
        "outputId": "76f36168-366f-42b1-94f9-3ac3b2be9009"
      },
      "outputs": [
        {
          "output_type": "execute_result",
          "data": {
            "text/plain": [
              "0.54965425"
            ]
          },
          "metadata": {},
          "execution_count": 19
        }
      ],
      "source": [
        "linear_model.intercept_"
      ]
    },
    {
      "cell_type": "code",
      "execution_count": 20,
      "metadata": {
        "scrolled": false,
        "colab": {
          "base_uri": "https://localhost:8080/",
          "height": 386
        },
        "id": "9SMkTGuLWzfY",
        "outputId": "2ba23edf-a0d5-4d9f-aefa-1bdddbf65681"
      },
      "outputs": [
        {
          "output_type": "stream",
          "name": "stdout",
          "text": [
            "Evaluate model on testing set\n",
            "MSE= 0.018863907\n",
            "MAE= 0.09931183\n",
            "MAPE= 0.28951442\n"
          ]
        },
        {
          "output_type": "execute_result",
          "data": {
            "text/plain": [
              "Text(0, 0.5, 'Y_test_pred')"
            ]
          },
          "metadata": {},
          "execution_count": 20
        },
        {
          "output_type": "display_data",
          "data": {
            "image/png": "[encoded data removed]",
            "text/plain": [
              "<Figure size 432x288 with 1 Axes>"
            ]
          },
          "metadata": {
            "needs_background": "light"
          }
        }
      ],
      "source": [
        "#step3:\n",
        "Y_train_pred = linear_model.predict(X_train)\n",
        "Y_test_pred = linear_model.predict(X_test)\n",
        "print('Evaluate model on testing set')\n",
        "MSE = np.mean((Y_test - Y_test_pred)**2)\n",
        "MAE = np.mean(np.abs(Y_test - Y_test_pred))\n",
        "MAPE =  np.mean(np.abs(Y_test - Y_test_pred)/Y_test)\n",
        "print('MSE=', MSE)\n",
        "print('MAE=', MAE)\n",
        "print('MAPE=', MAPE)\n",
        "#step6: \n",
        "# the red line is the 45-degree line\n",
        "fig, ax = plt.subplots()\n",
        "ax.set_title('Y_test_pred vs Y_test')\n",
        "ax.plot(Y_test, Y_test_pred, '.')\n",
        "ymax=np.max([Y_test.max(), Y_test_pred.max()])\n",
        "ax.plot(np.linspace(0,ymax, 3), np.linspace(0, ymax, 3), '-r')\n",
        "ax.set_xlabel('Y_test')\n",
        "ax.set_ylabel('Y_test_pred')"
      ]
    },
    {
      "cell_type": "markdown",
      "metadata": {
        "id": "K0zb1QuFWzfY"
      },
      "source": [
        "## Your work begins here\n",
        "see NN_nonlinear_regression_Pytorch.ipynb"
      ]
    },
    {
      "cell_type": "markdown",
      "metadata": {
        "id": "tgt47Y6sWzfZ"
      },
      "source": [
        "#### define a dataset to hold/represent the data"
      ]
    },
    {
      "cell_type": "code",
      "execution_count": 21,
      "metadata": {
        "id": "Oy5UXuYYWzfZ"
      },
      "outputs": [],
      "source": [
        "#I give you the code here, because it is tricky\n",
        "import torch\n",
        "from torch.utils.data import Dataset as torch_dataset\n",
        "class MyDataset(torch_dataset):\n",
        "    def __init__(self, X, Y):\n",
        "        self.X=X\n",
        "        self.Y=Y.reshape(-1, 1) #this is very important\n",
        "    def __len__(self):\n",
        "        #return the number of data points\n",
        "        return self.X.shape[0]\n",
        "    def __getitem__(self, idx):        \n",
        "        # use the notation DatasetName[idx]\n",
        "        # to get a data point (x,y) by idx\n",
        "        # we need to convert numpy array to torch tensor\n",
        "        x=torch.tensor(self.X[idx], dtype=torch.float32)\n",
        "        y=torch.tensor(self.Y[idx], dtype=torch.float32)\n",
        "        return x, y"
      ]
    },
    {
      "cell_type": "markdown",
      "metadata": {
        "id": "y0MrTN_3WzfZ"
      },
      "source": [
        "Create instance objects of the `MyDataset` class <br>\n",
        "a training dataset `dataset_train` <br>\n",
        "a validation dataset `dataset_val` <br>\n",
        "a testing dataset `dataset_test` <br>"
      ]
    },
    {
      "cell_type": "code",
      "execution_count": 22,
      "metadata": {
        "id": "Ph5tgXQKWzfZ"
      },
      "outputs": [],
      "source": [
        "dataset_train = MyDataset(X_train, Y_train)\n",
        "dataset_val = MyDataset(X_val, Y_val)\n",
        "dataset_test = MyDataset(X_test, Y_test)"
      ]
    },
    {
      "cell_type": "code",
      "execution_count": 23,
      "metadata": {
        "colab": {
          "base_uri": "https://localhost:8080/"
        },
        "id": "A4tLggmuWzfZ",
        "outputId": "a7125280-f55a-4b01-a8e4-52388e95098e"
      },
      "outputs": [
        {
          "output_type": "execute_result",
          "data": {
            "text/plain": [
              "14860"
            ]
          },
          "metadata": {},
          "execution_count": 23
        }
      ],
      "source": [
        "len(dataset_train) # get the number of data points in the training set"
      ]
    },
    {
      "cell_type": "markdown",
      "metadata": {
        "id": "36oH_YyzWzfa"
      },
      "source": [
        "create dataloaders which will be used to generate minibatches <br>\n",
        "batch_size=N means each minibatch contains N data points  <br>\n",
        "note: the last minibatch may contain less than N data points"
      ]
    },
    {
      "cell_type": "code",
      "execution_count": 24,
      "metadata": {
        "id": "a-xW2M0VWzfa"
      },
      "outputs": [],
      "source": [
        "dataloader_train = torch.utils.data.DataLoader(dataset_train, batch_size= 128, shuffle= True, drop_last= False)\n",
        "dataloader_test = torch.utils.data.DataLoader(dataset_test, batch_size= 128, shuffle= False, drop_last= False)\n",
        "dataloader_val = torch.utils.data.DataLoader(dataset_val, batch_size= 128, shuffle= False, drop_last= False)"
      ]
    },
    {
      "cell_type": "code",
      "execution_count": 25,
      "metadata": {
        "colab": {
          "base_uri": "https://localhost:8080/"
        },
        "id": "uXEiOTWbWzfa",
        "outputId": "41af797f-968c-4651-f00a-e072b69dcb64"
      },
      "outputs": [
        {
          "output_type": "execute_result",
          "data": {
            "text/plain": [
              "117"
            ]
          },
          "metadata": {},
          "execution_count": 25
        }
      ],
      "source": [
        "len(dataloader_train) # get the number of minibatches"
      ]
    },
    {
      "cell_type": "code",
      "execution_count": 26,
      "metadata": {
        "colab": {
          "base_uri": "https://localhost:8080/"
        },
        "id": "nTdZQpE_Wzfa",
        "outputId": "283d816f-39cc-4b00-c695-4e1ba4683155"
      },
      "outputs": [
        {
          "output_type": "stream",
          "name": "stdout",
          "text": [
            "0 torch.Size([128, 13]) torch.Size([128, 1])\n",
            "1 torch.Size([128, 13]) torch.Size([128, 1])\n",
            "2 torch.Size([128, 13]) torch.Size([128, 1])\n",
            "3 torch.Size([128, 13]) torch.Size([128, 1])\n",
            "4 torch.Size([128, 13]) torch.Size([128, 1])\n",
            "5 torch.Size([128, 13]) torch.Size([128, 1])\n",
            "6 torch.Size([128, 13]) torch.Size([128, 1])\n",
            "7 torch.Size([128, 13]) torch.Size([128, 1])\n",
            "8 torch.Size([128, 13]) torch.Size([128, 1])\n",
            "9 torch.Size([128, 13]) torch.Size([128, 1])\n",
            "10 torch.Size([128, 13]) torch.Size([128, 1])\n",
            "11 torch.Size([128, 13]) torch.Size([128, 1])\n",
            "12 torch.Size([128, 13]) torch.Size([128, 1])\n",
            "13 torch.Size([128, 13]) torch.Size([128, 1])\n",
            "14 torch.Size([128, 13]) torch.Size([128, 1])\n",
            "15 torch.Size([128, 13]) torch.Size([128, 1])\n",
            "16 torch.Size([128, 13]) torch.Size([128, 1])\n",
            "17 torch.Size([128, 13]) torch.Size([128, 1])\n",
            "18 torch.Size([128, 13]) torch.Size([128, 1])\n",
            "19 torch.Size([128, 13]) torch.Size([128, 1])\n",
            "20 torch.Size([128, 13]) torch.Size([128, 1])\n",
            "21 torch.Size([128, 13]) torch.Size([128, 1])\n",
            "22 torch.Size([128, 13]) torch.Size([128, 1])\n",
            "23 torch.Size([128, 13]) torch.Size([128, 1])\n",
            "24 torch.Size([128, 13]) torch.Size([128, 1])\n",
            "25 torch.Size([128, 13]) torch.Size([128, 1])\n",
            "26 torch.Size([128, 13]) torch.Size([128, 1])\n",
            "27 torch.Size([128, 13]) torch.Size([128, 1])\n",
            "28 torch.Size([128, 13]) torch.Size([128, 1])\n",
            "29 torch.Size([128, 13]) torch.Size([128, 1])\n",
            "30 torch.Size([128, 13]) torch.Size([128, 1])\n",
            "31 torch.Size([128, 13]) torch.Size([128, 1])\n",
            "32 torch.Size([128, 13]) torch.Size([128, 1])\n",
            "33 torch.Size([128, 13]) torch.Size([128, 1])\n",
            "34 torch.Size([128, 13]) torch.Size([128, 1])\n",
            "35 torch.Size([128, 13]) torch.Size([128, 1])\n",
            "36 torch.Size([128, 13]) torch.Size([128, 1])\n",
            "37 torch.Size([128, 13]) torch.Size([128, 1])\n",
            "38 torch.Size([128, 13]) torch.Size([128, 1])\n",
            "39 torch.Size([128, 13]) torch.Size([128, 1])\n",
            "40 torch.Size([128, 13]) torch.Size([128, 1])\n",
            "41 torch.Size([128, 13]) torch.Size([128, 1])\n",
            "42 torch.Size([128, 13]) torch.Size([128, 1])\n",
            "43 torch.Size([128, 13]) torch.Size([128, 1])\n",
            "44 torch.Size([128, 13]) torch.Size([128, 1])\n",
            "45 torch.Size([128, 13]) torch.Size([128, 1])\n",
            "46 torch.Size([128, 13]) torch.Size([128, 1])\n",
            "47 torch.Size([128, 13]) torch.Size([128, 1])\n",
            "48 torch.Size([128, 13]) torch.Size([128, 1])\n",
            "49 torch.Size([128, 13]) torch.Size([128, 1])\n",
            "50 torch.Size([128, 13]) torch.Size([128, 1])\n",
            "51 torch.Size([128, 13]) torch.Size([128, 1])\n",
            "52 torch.Size([128, 13]) torch.Size([128, 1])\n",
            "53 torch.Size([128, 13]) torch.Size([128, 1])\n",
            "54 torch.Size([128, 13]) torch.Size([128, 1])\n",
            "55 torch.Size([128, 13]) torch.Size([128, 1])\n",
            "56 torch.Size([128, 13]) torch.Size([128, 1])\n",
            "57 torch.Size([128, 13]) torch.Size([128, 1])\n",
            "58 torch.Size([128, 13]) torch.Size([128, 1])\n",
            "59 torch.Size([128, 13]) torch.Size([128, 1])\n",
            "60 torch.Size([128, 13]) torch.Size([128, 1])\n",
            "61 torch.Size([128, 13]) torch.Size([128, 1])\n",
            "62 torch.Size([128, 13]) torch.Size([128, 1])\n",
            "63 torch.Size([128, 13]) torch.Size([128, 1])\n",
            "64 torch.Size([128, 13]) torch.Size([128, 1])\n",
            "65 torch.Size([128, 13]) torch.Size([128, 1])\n",
            "66 torch.Size([128, 13]) torch.Size([128, 1])\n",
            "67 torch.Size([128, 13]) torch.Size([128, 1])\n",
            "68 torch.Size([128, 13]) torch.Size([128, 1])\n",
            "69 torch.Size([128, 13]) torch.Size([128, 1])\n",
            "70 torch.Size([128, 13]) torch.Size([128, 1])\n",
            "71 torch.Size([128, 13]) torch.Size([128, 1])\n",
            "72 torch.Size([128, 13]) torch.Size([128, 1])\n",
            "73 torch.Size([128, 13]) torch.Size([128, 1])\n",
            "74 torch.Size([128, 13]) torch.Size([128, 1])\n",
            "75 torch.Size([128, 13]) torch.Size([128, 1])\n",
            "76 torch.Size([128, 13]) torch.Size([128, 1])\n",
            "77 torch.Size([128, 13]) torch.Size([128, 1])\n",
            "78 torch.Size([128, 13]) torch.Size([128, 1])\n",
            "79 torch.Size([128, 13]) torch.Size([128, 1])\n",
            "80 torch.Size([128, 13]) torch.Size([128, 1])\n",
            "81 torch.Size([128, 13]) torch.Size([128, 1])\n",
            "82 torch.Size([128, 13]) torch.Size([128, 1])\n",
            "83 torch.Size([128, 13]) torch.Size([128, 1])\n",
            "84 torch.Size([128, 13]) torch.Size([128, 1])\n",
            "85 torch.Size([128, 13]) torch.Size([128, 1])\n",
            "86 torch.Size([128, 13]) torch.Size([128, 1])\n",
            "87 torch.Size([128, 13]) torch.Size([128, 1])\n",
            "88 torch.Size([128, 13]) torch.Size([128, 1])\n",
            "89 torch.Size([128, 13]) torch.Size([128, 1])\n",
            "90 torch.Size([128, 13]) torch.Size([128, 1])\n",
            "91 torch.Size([128, 13]) torch.Size([128, 1])\n",
            "92 torch.Size([128, 13]) torch.Size([128, 1])\n",
            "93 torch.Size([128, 13]) torch.Size([128, 1])\n",
            "94 torch.Size([128, 13]) torch.Size([128, 1])\n",
            "95 torch.Size([128, 13]) torch.Size([128, 1])\n",
            "96 torch.Size([128, 13]) torch.Size([128, 1])\n",
            "97 torch.Size([128, 13]) torch.Size([128, 1])\n",
            "98 torch.Size([128, 13]) torch.Size([128, 1])\n",
            "99 torch.Size([128, 13]) torch.Size([128, 1])\n",
            "100 torch.Size([128, 13]) torch.Size([128, 1])\n",
            "101 torch.Size([128, 13]) torch.Size([128, 1])\n",
            "102 torch.Size([128, 13]) torch.Size([128, 1])\n",
            "103 torch.Size([128, 13]) torch.Size([128, 1])\n",
            "104 torch.Size([128, 13]) torch.Size([128, 1])\n",
            "105 torch.Size([128, 13]) torch.Size([128, 1])\n",
            "106 torch.Size([128, 13]) torch.Size([128, 1])\n",
            "107 torch.Size([128, 13]) torch.Size([128, 1])\n",
            "108 torch.Size([128, 13]) torch.Size([128, 1])\n",
            "109 torch.Size([128, 13]) torch.Size([128, 1])\n",
            "110 torch.Size([128, 13]) torch.Size([128, 1])\n",
            "111 torch.Size([128, 13]) torch.Size([128, 1])\n",
            "112 torch.Size([128, 13]) torch.Size([128, 1])\n",
            "113 torch.Size([128, 13]) torch.Size([128, 1])\n",
            "114 torch.Size([128, 13]) torch.Size([128, 1])\n",
            "115 torch.Size([128, 13]) torch.Size([128, 1])\n",
            "116 torch.Size([12, 13]) torch.Size([12, 1])\n"
          ]
        }
      ],
      "source": [
        "#verify the shape of each tensor in a batch\n",
        "for batch_idx, (X, Y) in enumerate(dataloader_train):\n",
        "    print(batch_idx, X.size(), Y.size())"
      ]
    },
    {
      "cell_type": "markdown",
      "metadata": {
        "id": "CXhCUo2ZWzfa"
      },
      "source": [
        "#### Now, let's build a neural network that has many hidden layers and nonlinear activation - softplus"
      ]
    },
    {
      "cell_type": "code",
      "execution_count": 27,
      "metadata": {
        "id": "i8ErrN8fWzfa"
      },
      "outputs": [],
      "source": [
        "import torch.nn as nn\n",
        "import torch.nn.functional as F\n",
        "class Net(nn.Module):\n",
        "    def __init__(self, input_dim, output_dim, n_units):\n",
        "        super().__init__()\n",
        "        self.layer1 = nn.Linear(input_dim, n_units)\n",
        "        self.layer2 = nn.Linear(n_units, n_units)\n",
        "        self.layer3 = nn.Linear(n_units, output_dim)      \n",
        "        \n",
        "    def forward(self,x):\n",
        "        x = self.layer1(x)\n",
        "        x = F.softplus(x)\n",
        "        x = self.layer2(x)\n",
        "        x = F.softplus(x)\n",
        "        x = self.layer3(x)\n",
        "        return x"
      ]
    },
    {
      "cell_type": "markdown",
      "metadata": {
        "id": "ZSFx4MwKWzfb"
      },
      "source": [
        "create an instance object of the class"
      ]
    },
    {
      "cell_type": "code",
      "execution_count": 28,
      "metadata": {
        "id": "jNBs3mlRWzfb"
      },
      "outputs": [],
      "source": [
        "net = Net(input_dim=13, output_dim=1, n_units=128)"
      ]
    },
    {
      "cell_type": "code",
      "execution_count": 29,
      "metadata": {
        "colab": {
          "base_uri": "https://localhost:8080/"
        },
        "id": "5AHjGbbcWzfb",
        "outputId": "56fdbfd8-1655-41b9-b7dd-4cf9715d2d6b"
      },
      "outputs": [
        {
          "output_type": "stream",
          "name": "stdout",
          "text": [
            "Net(\n",
            "  (layer1): Linear(in_features=13, out_features=128, bias=True)\n",
            "  (layer2): Linear(in_features=128, out_features=128, bias=True)\n",
            "  (layer3): Linear(in_features=128, out_features=1, bias=True)\n",
            ")\n"
          ]
        }
      ],
      "source": [
        "#move the model to GPU if you have a GPU\n",
        "\n",
        "if torch.cuda.is_available():\n",
        "    net = net.cuda()\n",
        "print(net)"
      ]
    },
    {
      "cell_type": "markdown",
      "metadata": {
        "id": "PumArbr9Wzfb"
      },
      "source": [
        "define a function to train the neural network in one epoch"
      ]
    },
    {
      "cell_type": "code",
      "execution_count": 30,
      "metadata": {
        "id": "4cVs0hNAWzfb"
      },
      "outputs": [],
      "source": [
        "def train(model, dataloader, optimizer, criterion, epoch):\n",
        "    model.train()\n",
        "    loss_train = 0\n",
        "    for batch_index, (data,label) in enumerate(dataloader):\n",
        "        if torch.cuda.is_available():\n",
        "            data,label = data.cuda(), label.cuda()\n",
        "            \n",
        "        optimizer.zero_grad() # set grad 0 for each grad update\n",
        "        y_pred = model.forward(data)\n",
        "        loss = criterion(y_pred,label)\n",
        "        loss.backward()\n",
        "        optimizer.step()\n",
        "        loss_train += loss.item()\n",
        "        if batch_index % 100 == 0:\n",
        "            print('Train Epoch: {} [{}/{} ({:.0f}%)]\\tLoss: {:.6f}'.format(\n",
        "                    epoch, batch_index * data.size(0), len(dataloader.dataset),\n",
        "                    100. * batch_index / len(dataloader), loss.item()))\n",
        "    loss_train/=len(dataloader)\n",
        "    return loss_train"
      ]
    },
    {
      "cell_type": "markdown",
      "metadata": {
        "id": "CKO-XVDbWzfb"
      },
      "source": [
        "define a function to evaluate the neural network on the validation set or the testing set"
      ]
    },
    {
      "cell_type": "code",
      "execution_count": 31,
      "metadata": {
        "id": "gtmVRlRzWzfb"
      },
      "outputs": [],
      "source": [
        "def test(model, dataloader, criterion):\n",
        "    model.eval()\n",
        "    loss_test = 0\n",
        "    sample_count = 0\n",
        "\n",
        "    with torch.no_grad():\n",
        "        for batch_index, (data,label) in enumerate(dataloader):   \n",
        "            if torch.cuda.is_available():\n",
        "                data,label = data.cuda(), label.cuda()\n",
        "            y_pred = model.forward(data)\n",
        "            loss = criterion(y_pred,label)\n",
        "            loss_test += loss.item()\n",
        "            \n",
        "        \n",
        "    loss_test /= len(dataloader)\n",
        "    return loss_test"
      ]
    },
    {
      "cell_type": "markdown",
      "metadata": {
        "id": "C4jnl6i0Wzfc"
      },
      "source": [
        "create an optimizer (e.g. Adam) and send the parameters of the model to the optimizer"
      ]
    },
    {
      "cell_type": "code",
      "execution_count": 32,
      "metadata": {
        "id": "nIctcZAKWzfc"
      },
      "outputs": [],
      "source": [
        "optimizer = torch.optim.SGD(net.parameters(), lr=0.01, momentum=0.9)"
      ]
    },
    {
      "cell_type": "markdown",
      "metadata": {
        "id": "YXXiO5XOWzfc"
      },
      "source": [
        "train the neural network model for many epochs <br>\n",
        "It may need 100 epochs to converge.\n",
        "So, we will not save any model to harddrive "
      ]
    },
    {
      "cell_type": "code",
      "execution_count": 33,
      "metadata": {
        "id": "lvEJA6iWWzfc"
      },
      "outputs": [],
      "source": [
        "criterion = nn.MSELoss()\n",
        "loss_train_list=[]\n",
        "loss_val_list=[]\n",
        "epochSize = 100"
      ]
    },
    {
      "cell_type": "code",
      "execution_count": 34,
      "metadata": {
        "scrolled": false,
        "colab": {
          "base_uri": "https://localhost:8080/"
        },
        "id": "ac07CPRzWzfc",
        "outputId": "f0f90e71-d66e-4232-b473-eb03277f51a4"
      },
      "outputs": [
        {
          "output_type": "stream",
          "name": "stdout",
          "text": [
            "Train Epoch: 0 [0/14860 (0%)]\tLoss: 0.914888\n",
            "Train Epoch: 0 [12800/14860 (85%)]\tLoss: 0.055085\n",
            "epoch 0 training loss: 0.10703626817140059\n",
            "epoch 0 validation loss: 0.048031167628673405\n",
            "Train Epoch: 1 [0/14860 (0%)]\tLoss: 0.052762\n",
            "Train Epoch: 1 [12800/14860 (85%)]\tLoss: 0.042997\n",
            "epoch 1 training loss: 0.04252217460073467\n",
            "epoch 1 validation loss: 0.03914599378521626\n",
            "Train Epoch: 2 [0/14860 (0%)]\tLoss: 0.042982\n",
            "Train Epoch: 2 [12800/14860 (85%)]\tLoss: 0.034738\n",
            "epoch 2 training loss: 0.039488416149193406\n",
            "epoch 2 validation loss: 0.043028684762807995\n",
            "Train Epoch: 3 [0/14860 (0%)]\tLoss: 0.043674\n",
            "Train Epoch: 3 [12800/14860 (85%)]\tLoss: 0.028668\n",
            "epoch 3 training loss: 0.037742376852876104\n",
            "epoch 3 validation loss: 0.0342632715518658\n",
            "Train Epoch: 4 [0/14860 (0%)]\tLoss: 0.034715\n",
            "Train Epoch: 4 [12800/14860 (85%)]\tLoss: 0.038413\n",
            "epoch 4 training loss: 0.033330532746055186\n",
            "epoch 4 validation loss: 0.03160451008723332\n",
            "Train Epoch: 5 [0/14860 (0%)]\tLoss: 0.027617\n",
            "Train Epoch: 5 [12800/14860 (85%)]\tLoss: 0.036836\n",
            "epoch 5 training loss: 0.030526139908748813\n",
            "epoch 5 validation loss: 0.029859325490318812\n",
            "Train Epoch: 6 [0/14860 (0%)]\tLoss: 0.027158\n",
            "Train Epoch: 6 [12800/14860 (85%)]\tLoss: 0.023181\n",
            "epoch 6 training loss: 0.030004127317259453\n",
            "epoch 6 validation loss: 0.039612140793066755\n",
            "Train Epoch: 7 [0/14860 (0%)]\tLoss: 0.041511\n",
            "Train Epoch: 7 [12800/14860 (85%)]\tLoss: 0.025205\n",
            "epoch 7 training loss: 0.026433724902060807\n",
            "epoch 7 validation loss: 0.024928882718086243\n",
            "Train Epoch: 8 [0/14860 (0%)]\tLoss: 0.023887\n",
            "Train Epoch: 8 [12800/14860 (85%)]\tLoss: 0.024998\n",
            "epoch 8 training loss: 0.02420809980418183\n",
            "epoch 8 validation loss: 0.02532668125170928\n",
            "Train Epoch: 9 [0/14860 (0%)]\tLoss: 0.019470\n",
            "Train Epoch: 9 [12800/14860 (85%)]\tLoss: 0.024585\n",
            "epoch 9 training loss: 0.02290576120090281\n",
            "epoch 9 validation loss: 0.024119186430023268\n",
            "Train Epoch: 10 [0/14860 (0%)]\tLoss: 0.015454\n",
            "Train Epoch: 10 [12800/14860 (85%)]\tLoss: 0.023812\n",
            "epoch 10 training loss: 0.023296406994072292\n",
            "epoch 10 validation loss: 0.022718971881728906\n",
            "Train Epoch: 11 [0/14860 (0%)]\tLoss: 0.019000\n",
            "Train Epoch: 11 [12800/14860 (85%)]\tLoss: 0.021103\n",
            "epoch 11 training loss: 0.02253043630088751\n",
            "epoch 11 validation loss: 0.024206218381340686\n",
            "Train Epoch: 12 [0/14860 (0%)]\tLoss: 0.023193\n",
            "Train Epoch: 12 [12800/14860 (85%)]\tLoss: 0.020750\n",
            "epoch 12 training loss: 0.022670818500730217\n",
            "epoch 12 validation loss: 0.025467711572463695\n",
            "Train Epoch: 13 [0/14860 (0%)]\tLoss: 0.019478\n",
            "Train Epoch: 13 [12800/14860 (85%)]\tLoss: 0.028575\n",
            "epoch 13 training loss: 0.023184810414846636\n",
            "epoch 13 validation loss: 0.02522957855119155\n",
            "Train Epoch: 14 [0/14860 (0%)]\tLoss: 0.028118\n",
            "Train Epoch: 14 [12800/14860 (85%)]\tLoss: 0.027459\n",
            "epoch 14 training loss: 0.022559905743114967\n",
            "epoch 14 validation loss: 0.022476939054635856\n",
            "Train Epoch: 15 [0/14860 (0%)]\tLoss: 0.021127\n",
            "Train Epoch: 15 [12800/14860 (85%)]\tLoss: 0.024501\n",
            "epoch 15 training loss: 0.021769717001380064\n",
            "epoch 15 validation loss: 0.02499486176440349\n",
            "Train Epoch: 16 [0/14860 (0%)]\tLoss: 0.029359\n",
            "Train Epoch: 16 [12800/14860 (85%)]\tLoss: 0.023466\n",
            "epoch 16 training loss: 0.022248007926262088\n",
            "epoch 16 validation loss: 0.034494213186777554\n",
            "Train Epoch: 17 [0/14860 (0%)]\tLoss: 0.029208\n",
            "Train Epoch: 17 [12800/14860 (85%)]\tLoss: 0.025782\n",
            "epoch 17 training loss: 0.02172404695620649\n",
            "epoch 17 validation loss: 0.029646784353714723\n",
            "Train Epoch: 18 [0/14860 (0%)]\tLoss: 0.024589\n",
            "Train Epoch: 18 [12800/14860 (85%)]\tLoss: 0.021490\n",
            "epoch 18 training loss: 0.0220239930268791\n",
            "epoch 18 validation loss: 0.025261052812521275\n",
            "Train Epoch: 19 [0/14860 (0%)]\tLoss: 0.029509\n",
            "Train Epoch: 19 [12800/14860 (85%)]\tLoss: 0.022930\n",
            "epoch 19 training loss: 0.02163631497667386\n",
            "epoch 19 validation loss: 0.02217969871484316\n",
            "Train Epoch: 20 [0/14860 (0%)]\tLoss: 0.018396\n",
            "Train Epoch: 20 [12800/14860 (85%)]\tLoss: 0.020660\n",
            "epoch 20 training loss: 0.02256366215709947\n",
            "epoch 20 validation loss: 0.022469010633917954\n",
            "Train Epoch: 21 [0/14860 (0%)]\tLoss: 0.017926\n",
            "Train Epoch: 21 [12800/14860 (85%)]\tLoss: 0.023039\n",
            "epoch 21 training loss: 0.02199550049029227\n",
            "epoch 21 validation loss: 0.024195625088535823\n",
            "Train Epoch: 22 [0/14860 (0%)]\tLoss: 0.021652\n",
            "Train Epoch: 22 [12800/14860 (85%)]\tLoss: 0.015692\n",
            "epoch 22 training loss: 0.021689553331169818\n",
            "epoch 22 validation loss: 0.022461504460527346\n",
            "Train Epoch: 23 [0/14860 (0%)]\tLoss: 0.019456\n",
            "Train Epoch: 23 [12800/14860 (85%)]\tLoss: 0.022349\n",
            "epoch 23 training loss: 0.02150693891617732\n",
            "epoch 23 validation loss: 0.02262433560994955\n",
            "Train Epoch: 24 [0/14860 (0%)]\tLoss: 0.017297\n",
            "Train Epoch: 24 [12800/14860 (85%)]\tLoss: 0.021333\n",
            "epoch 24 training loss: 0.021374221604603987\n",
            "epoch 24 validation loss: 0.023631052042429265\n",
            "Train Epoch: 25 [0/14860 (0%)]\tLoss: 0.027496\n",
            "Train Epoch: 25 [12800/14860 (85%)]\tLoss: 0.021072\n",
            "epoch 25 training loss: 0.021752464378045663\n",
            "epoch 25 validation loss: 0.028658273844764784\n",
            "Train Epoch: 26 [0/14860 (0%)]\tLoss: 0.024264\n",
            "Train Epoch: 26 [12800/14860 (85%)]\tLoss: 0.029246\n",
            "epoch 26 training loss: 0.025420146317690864\n",
            "epoch 26 validation loss: 0.02859388621380696\n",
            "Train Epoch: 27 [0/14860 (0%)]\tLoss: 0.021440\n",
            "Train Epoch: 27 [12800/14860 (85%)]\tLoss: 0.024028\n",
            "epoch 27 training loss: 0.0219260022107862\n",
            "epoch 27 validation loss: 0.022071163098399457\n",
            "Train Epoch: 28 [0/14860 (0%)]\tLoss: 0.024754\n",
            "Train Epoch: 28 [12800/14860 (85%)]\tLoss: 0.024129\n",
            "epoch 28 training loss: 0.021214978753501534\n",
            "epoch 28 validation loss: 0.02294801505139241\n",
            "Train Epoch: 29 [0/14860 (0%)]\tLoss: 0.025029\n",
            "Train Epoch: 29 [12800/14860 (85%)]\tLoss: 0.019032\n",
            "epoch 29 training loss: 0.02275799066783526\n",
            "epoch 29 validation loss: 0.022485498482218154\n",
            "Train Epoch: 30 [0/14860 (0%)]\tLoss: 0.017611\n",
            "Train Epoch: 30 [12800/14860 (85%)]\tLoss: 0.021421\n",
            "epoch 30 training loss: 0.021362723336897343\n",
            "epoch 30 validation loss: 0.026280078033988293\n",
            "Train Epoch: 31 [0/14860 (0%)]\tLoss: 0.026371\n",
            "Train Epoch: 31 [12800/14860 (85%)]\tLoss: 0.018707\n",
            "epoch 31 training loss: 0.02146847826293391\n",
            "epoch 31 validation loss: 0.022542773817594234\n",
            "Train Epoch: 32 [0/14860 (0%)]\tLoss: 0.019149\n",
            "Train Epoch: 32 [12800/14860 (85%)]\tLoss: 0.019541\n",
            "epoch 32 training loss: 0.021406592395252142\n",
            "epoch 32 validation loss: 0.022305351610367116\n",
            "Train Epoch: 33 [0/14860 (0%)]\tLoss: 0.015965\n",
            "Train Epoch: 33 [12800/14860 (85%)]\tLoss: 0.022097\n",
            "epoch 33 training loss: 0.02092446663026881\n",
            "epoch 33 validation loss: 0.022008928255392954\n",
            "Train Epoch: 34 [0/14860 (0%)]\tLoss: 0.015010\n",
            "Train Epoch: 34 [12800/14860 (85%)]\tLoss: 0.026502\n",
            "epoch 34 training loss: 0.0216582831250042\n",
            "epoch 34 validation loss: 0.028798409952567175\n",
            "Train Epoch: 35 [0/14860 (0%)]\tLoss: 0.030402\n",
            "Train Epoch: 35 [12800/14860 (85%)]\tLoss: 0.029686\n",
            "epoch 35 training loss: 0.021825856545096278\n",
            "epoch 35 validation loss: 0.023133556716717206\n",
            "Train Epoch: 36 [0/14860 (0%)]\tLoss: 0.030164\n",
            "Train Epoch: 36 [12800/14860 (85%)]\tLoss: 0.017262\n",
            "epoch 36 training loss: 0.02234689699501818\n",
            "epoch 36 validation loss: 0.024828895639914732\n",
            "Train Epoch: 37 [0/14860 (0%)]\tLoss: 0.024273\n",
            "Train Epoch: 37 [12800/14860 (85%)]\tLoss: 0.019660\n",
            "epoch 37 training loss: 0.02196714295567865\n",
            "epoch 37 validation loss: 0.021923296726666965\n",
            "Train Epoch: 38 [0/14860 (0%)]\tLoss: 0.019403\n",
            "Train Epoch: 38 [12800/14860 (85%)]\tLoss: 0.022949\n",
            "epoch 38 training loss: 0.02170773469007168\n",
            "epoch 38 validation loss: 0.028356625483586237\n",
            "Train Epoch: 39 [0/14860 (0%)]\tLoss: 0.027859\n",
            "Train Epoch: 39 [12800/14860 (85%)]\tLoss: 0.028475\n",
            "epoch 39 training loss: 0.02129967658756635\n",
            "epoch 39 validation loss: 0.021889368788554117\n",
            "Train Epoch: 40 [0/14860 (0%)]\tLoss: 0.011221\n",
            "Train Epoch: 40 [12800/14860 (85%)]\tLoss: 0.018762\n",
            "epoch 40 training loss: 0.021515990774600934\n",
            "epoch 40 validation loss: 0.02220502968590993\n",
            "Train Epoch: 41 [0/14860 (0%)]\tLoss: 0.024548\n",
            "Train Epoch: 41 [12800/14860 (85%)]\tLoss: 0.016955\n",
            "epoch 41 training loss: 0.020892526134530194\n",
            "epoch 41 validation loss: 0.024579135271219108\n",
            "Train Epoch: 42 [0/14860 (0%)]\tLoss: 0.015714\n",
            "Train Epoch: 42 [12800/14860 (85%)]\tLoss: 0.024146\n",
            "epoch 42 training loss: 0.021885746660140846\n",
            "epoch 42 validation loss: 0.023511229656063594\n",
            "Train Epoch: 43 [0/14860 (0%)]\tLoss: 0.020906\n",
            "Train Epoch: 43 [12800/14860 (85%)]\tLoss: 0.017854\n",
            "epoch 43 training loss: 0.021317758708873875\n",
            "epoch 43 validation loss: 0.023325434097876914\n",
            "Train Epoch: 44 [0/14860 (0%)]\tLoss: 0.020480\n",
            "Train Epoch: 44 [12800/14860 (85%)]\tLoss: 0.021268\n",
            "epoch 44 training loss: 0.02119319795224911\n",
            "epoch 44 validation loss: 0.02284478209912777\n",
            "Train Epoch: 45 [0/14860 (0%)]\tLoss: 0.022318\n",
            "Train Epoch: 45 [12800/14860 (85%)]\tLoss: 0.020841\n",
            "epoch 45 training loss: 0.020907592410460498\n",
            "epoch 45 validation loss: 0.022030480635853913\n",
            "Train Epoch: 46 [0/14860 (0%)]\tLoss: 0.015180\n",
            "Train Epoch: 46 [12800/14860 (85%)]\tLoss: 0.019207\n",
            "epoch 46 training loss: 0.02140950629662754\n",
            "epoch 46 validation loss: 0.02201378646378334\n",
            "Train Epoch: 47 [0/14860 (0%)]\tLoss: 0.018684\n",
            "Train Epoch: 47 [12800/14860 (85%)]\tLoss: 0.020601\n",
            "epoch 47 training loss: 0.021093742078186102\n",
            "epoch 47 validation loss: 0.025377174982657798\n",
            "Train Epoch: 48 [0/14860 (0%)]\tLoss: 0.018985\n",
            "Train Epoch: 48 [12800/14860 (85%)]\tLoss: 0.025027\n",
            "epoch 48 training loss: 0.02129232647836718\n",
            "epoch 48 validation loss: 0.023968962092812244\n",
            "Train Epoch: 49 [0/14860 (0%)]\tLoss: 0.027256\n",
            "Train Epoch: 49 [12800/14860 (85%)]\tLoss: 0.022116\n",
            "epoch 49 training loss: 0.021691207885423787\n",
            "epoch 49 validation loss: 0.021839959690204032\n",
            "Train Epoch: 50 [0/14860 (0%)]\tLoss: 0.018491\n",
            "Train Epoch: 50 [12800/14860 (85%)]\tLoss: 0.015762\n",
            "epoch 50 training loss: 0.02079396391621767\n",
            "epoch 50 validation loss: 0.02271253429353237\n",
            "Train Epoch: 51 [0/14860 (0%)]\tLoss: 0.024499\n",
            "Train Epoch: 51 [12800/14860 (85%)]\tLoss: 0.019376\n",
            "epoch 51 training loss: 0.021020536008489948\n",
            "epoch 51 validation loss: 0.023358865139576104\n",
            "Train Epoch: 52 [0/14860 (0%)]\tLoss: 0.028652\n",
            "Train Epoch: 52 [12800/14860 (85%)]\tLoss: 0.014334\n",
            "epoch 52 training loss: 0.020969542913520947\n",
            "epoch 52 validation loss: 0.02435315787219084\n",
            "Train Epoch: 53 [0/14860 (0%)]\tLoss: 0.026977\n",
            "Train Epoch: 53 [12800/14860 (85%)]\tLoss: 0.013261\n",
            "epoch 53 training loss: 0.021590846757858228\n",
            "epoch 53 validation loss: 0.024292223155498505\n",
            "Train Epoch: 54 [0/14860 (0%)]\tLoss: 0.018295\n",
            "Train Epoch: 54 [12800/14860 (85%)]\tLoss: 0.032332\n",
            "epoch 54 training loss: 0.020838701715454076\n",
            "epoch 54 validation loss: 0.022069809241936758\n",
            "Train Epoch: 55 [0/14860 (0%)]\tLoss: 0.021976\n",
            "Train Epoch: 55 [12800/14860 (85%)]\tLoss: 0.026041\n",
            "epoch 55 training loss: 0.02043057249015213\n",
            "epoch 55 validation loss: 0.02827318886724802\n",
            "Train Epoch: 56 [0/14860 (0%)]\tLoss: 0.026945\n",
            "Train Epoch: 56 [12800/14860 (85%)]\tLoss: 0.021976\n",
            "epoch 56 training loss: 0.021246528786280725\n",
            "epoch 56 validation loss: 0.02491345342535239\n",
            "Train Epoch: 57 [0/14860 (0%)]\tLoss: 0.030064\n",
            "Train Epoch: 57 [12800/14860 (85%)]\tLoss: 0.019677\n",
            "epoch 57 training loss: 0.021129851038448322\n",
            "epoch 57 validation loss: 0.02322221203492238\n",
            "Train Epoch: 58 [0/14860 (0%)]\tLoss: 0.029807\n",
            "Train Epoch: 58 [12800/14860 (85%)]\tLoss: 0.033334\n",
            "epoch 58 training loss: 0.021274312900809143\n",
            "epoch 58 validation loss: 0.021730871727833383\n",
            "Train Epoch: 59 [0/14860 (0%)]\tLoss: 0.017998\n",
            "Train Epoch: 59 [12800/14860 (85%)]\tLoss: 0.023706\n",
            "epoch 59 training loss: 0.02073213739049995\n",
            "epoch 59 validation loss: 0.022143388310304053\n",
            "Train Epoch: 60 [0/14860 (0%)]\tLoss: 0.020943\n",
            "Train Epoch: 60 [12800/14860 (85%)]\tLoss: 0.018432\n",
            "epoch 60 training loss: 0.020595906756054133\n",
            "epoch 60 validation loss: 0.026017732774982087\n",
            "Train Epoch: 61 [0/14860 (0%)]\tLoss: 0.023454\n",
            "Train Epoch: 61 [12800/14860 (85%)]\tLoss: 0.023570\n",
            "epoch 61 training loss: 0.021495184646202967\n",
            "epoch 61 validation loss: 0.028468517873149652\n",
            "Train Epoch: 62 [0/14860 (0%)]\tLoss: 0.022805\n",
            "Train Epoch: 62 [12800/14860 (85%)]\tLoss: 0.020119\n",
            "epoch 62 training loss: 0.020709958492627002\n",
            "epoch 62 validation loss: 0.023681809266026203\n",
            "Train Epoch: 63 [0/14860 (0%)]\tLoss: 0.024476\n",
            "Train Epoch: 63 [12800/14860 (85%)]\tLoss: 0.022692\n",
            "epoch 63 training loss: 0.02088479396019481\n",
            "epoch 63 validation loss: 0.021644900911129437\n",
            "Train Epoch: 64 [0/14860 (0%)]\tLoss: 0.025884\n",
            "Train Epoch: 64 [12800/14860 (85%)]\tLoss: 0.019275\n",
            "epoch 64 training loss: 0.02061372860852215\n",
            "epoch 64 validation loss: 0.02449727473923793\n",
            "Train Epoch: 65 [0/14860 (0%)]\tLoss: 0.020826\n",
            "Train Epoch: 65 [12800/14860 (85%)]\tLoss: 0.015813\n",
            "epoch 65 training loss: 0.021012637708495315\n",
            "epoch 65 validation loss: 0.024624422192573547\n",
            "Train Epoch: 66 [0/14860 (0%)]\tLoss: 0.028867\n",
            "Train Epoch: 66 [12800/14860 (85%)]\tLoss: 0.023996\n",
            "epoch 66 training loss: 0.020977141717687633\n",
            "epoch 66 validation loss: 0.02934911073400424\n",
            "Train Epoch: 67 [0/14860 (0%)]\tLoss: 0.018009\n",
            "Train Epoch: 67 [12800/14860 (85%)]\tLoss: 0.018165\n",
            "epoch 67 training loss: 0.021087690407776426\n",
            "epoch 67 validation loss: 0.021663895736520108\n",
            "Train Epoch: 68 [0/14860 (0%)]\tLoss: 0.015305\n",
            "Train Epoch: 68 [12800/14860 (85%)]\tLoss: 0.022317\n",
            "epoch 68 training loss: 0.020424694992983952\n",
            "epoch 68 validation loss: 0.02441725177833667\n",
            "Train Epoch: 69 [0/14860 (0%)]\tLoss: 0.023217\n",
            "Train Epoch: 69 [12800/14860 (85%)]\tLoss: 0.020308\n",
            "epoch 69 training loss: 0.020586628490724623\n",
            "epoch 69 validation loss: 0.021564932969900277\n",
            "Train Epoch: 70 [0/14860 (0%)]\tLoss: 0.018526\n",
            "Train Epoch: 70 [12800/14860 (85%)]\tLoss: 0.025921\n",
            "epoch 70 training loss: 0.020471920617497884\n",
            "epoch 70 validation loss: 0.02156060690490099\n",
            "Train Epoch: 71 [0/14860 (0%)]\tLoss: 0.015142\n",
            "Train Epoch: 71 [12800/14860 (85%)]\tLoss: 0.018806\n",
            "epoch 71 training loss: 0.020402851196117382\n",
            "epoch 71 validation loss: 0.02252253732429101\n",
            "Train Epoch: 72 [0/14860 (0%)]\tLoss: 0.022976\n",
            "Train Epoch: 72 [12800/14860 (85%)]\tLoss: 0.023020\n",
            "epoch 72 training loss: 0.020752464827054586\n",
            "epoch 72 validation loss: 0.024795856326818466\n",
            "Train Epoch: 73 [0/14860 (0%)]\tLoss: 0.019946\n",
            "Train Epoch: 73 [12800/14860 (85%)]\tLoss: 0.014380\n",
            "epoch 73 training loss: 0.021109065868788295\n",
            "epoch 73 validation loss: 0.022691615069141753\n",
            "Train Epoch: 74 [0/14860 (0%)]\tLoss: 0.015940\n",
            "Train Epoch: 74 [12800/14860 (85%)]\tLoss: 0.024068\n",
            "epoch 74 training loss: 0.021525804900651813\n",
            "epoch 74 validation loss: 0.023479667563851062\n",
            "Train Epoch: 75 [0/14860 (0%)]\tLoss: 0.027184\n",
            "Train Epoch: 75 [12800/14860 (85%)]\tLoss: 0.017493\n",
            "epoch 75 training loss: 0.021018764776233424\n",
            "epoch 75 validation loss: 0.02163215225132612\n",
            "Train Epoch: 76 [0/14860 (0%)]\tLoss: 0.016744\n",
            "Train Epoch: 76 [12800/14860 (85%)]\tLoss: 0.021997\n",
            "epoch 76 training loss: 0.02039583680084628\n",
            "epoch 76 validation loss: 0.022523711077295817\n",
            "Train Epoch: 77 [0/14860 (0%)]\tLoss: 0.021712\n",
            "Train Epoch: 77 [12800/14860 (85%)]\tLoss: 0.021484\n",
            "epoch 77 training loss: 0.021142545753182508\n",
            "epoch 77 validation loss: 0.02704581030859397\n",
            "Train Epoch: 78 [0/14860 (0%)]\tLoss: 0.021135\n",
            "Train Epoch: 78 [12800/14860 (85%)]\tLoss: 0.022024\n",
            "epoch 78 training loss: 0.020791337721877627\n",
            "epoch 78 validation loss: 0.024246221408247948\n",
            "Train Epoch: 79 [0/14860 (0%)]\tLoss: 0.018491\n",
            "Train Epoch: 79 [12800/14860 (85%)]\tLoss: 0.023624\n",
            "epoch 79 training loss: 0.020479820382136565\n",
            "epoch 79 validation loss: 0.02276303289601436\n",
            "Train Epoch: 80 [0/14860 (0%)]\tLoss: 0.025005\n",
            "Train Epoch: 80 [12800/14860 (85%)]\tLoss: 0.020068\n",
            "epoch 80 training loss: 0.020680006975546863\n",
            "epoch 80 validation loss: 0.021531456938156716\n",
            "Train Epoch: 81 [0/14860 (0%)]\tLoss: 0.019351\n",
            "Train Epoch: 81 [12800/14860 (85%)]\tLoss: 0.021380\n",
            "epoch 81 training loss: 0.020491027145877354\n",
            "epoch 81 validation loss: 0.02154117192213352\n",
            "Train Epoch: 82 [0/14860 (0%)]\tLoss: 0.020167\n",
            "Train Epoch: 82 [12800/14860 (85%)]\tLoss: 0.023194\n",
            "epoch 82 training loss: 0.020585919523404703\n",
            "epoch 82 validation loss: 0.021535591150705632\n",
            "Train Epoch: 83 [0/14860 (0%)]\tLoss: 0.014093\n",
            "Train Epoch: 83 [12800/14860 (85%)]\tLoss: 0.021405\n",
            "epoch 83 training loss: 0.02043363571358033\n",
            "epoch 83 validation loss: 0.027236125360314663\n",
            "Train Epoch: 84 [0/14860 (0%)]\tLoss: 0.023089\n",
            "Train Epoch: 84 [12800/14860 (85%)]\tLoss: 0.012549\n",
            "epoch 84 training loss: 0.02037910149138198\n",
            "epoch 84 validation loss: 0.021520638981690772\n",
            "Train Epoch: 85 [0/14860 (0%)]\tLoss: 0.020506\n",
            "Train Epoch: 85 [12800/14860 (85%)]\tLoss: 0.021964\n",
            "epoch 85 training loss: 0.020281504473497726\n",
            "epoch 85 validation loss: 0.02517592075925607\n",
            "Train Epoch: 86 [0/14860 (0%)]\tLoss: 0.028233\n",
            "Train Epoch: 86 [12800/14860 (85%)]\tLoss: 0.015198\n",
            "epoch 86 training loss: 0.020747234153314534\n",
            "epoch 86 validation loss: 0.022551967834050838\n",
            "Train Epoch: 87 [0/14860 (0%)]\tLoss: 0.020077\n",
            "Train Epoch: 87 [12800/14860 (85%)]\tLoss: 0.015373\n",
            "epoch 87 training loss: 0.020355606829731636\n",
            "epoch 87 validation loss: 0.021606006014805574\n",
            "Train Epoch: 88 [0/14860 (0%)]\tLoss: 0.021075\n",
            "Train Epoch: 88 [12800/14860 (85%)]\tLoss: 0.025775\n",
            "epoch 88 training loss: 0.02031582428349389\n",
            "epoch 88 validation loss: 0.022553319827868387\n",
            "Train Epoch: 89 [0/14860 (0%)]\tLoss: 0.020954\n",
            "Train Epoch: 89 [12800/14860 (85%)]\tLoss: 0.025594\n",
            "epoch 89 training loss: 0.02035040058927913\n",
            "epoch 89 validation loss: 0.02159881004347251\n",
            "Train Epoch: 90 [0/14860 (0%)]\tLoss: 0.024888\n",
            "Train Epoch: 90 [12800/14860 (85%)]\tLoss: 0.024415\n",
            "epoch 90 training loss: 0.020418882330195006\n",
            "epoch 90 validation loss: 0.021695721751222245\n",
            "Train Epoch: 91 [0/14860 (0%)]\tLoss: 0.023279\n",
            "Train Epoch: 91 [12800/14860 (85%)]\tLoss: 0.017885\n",
            "epoch 91 training loss: 0.020405034510753095\n",
            "epoch 91 validation loss: 0.021876445756508753\n",
            "Train Epoch: 92 [0/14860 (0%)]\tLoss: 0.017719\n",
            "Train Epoch: 92 [12800/14860 (85%)]\tLoss: 0.019627\n",
            "epoch 92 training loss: 0.02043422929242126\n",
            "epoch 92 validation loss: 0.021370232678376712\n",
            "Train Epoch: 93 [0/14860 (0%)]\tLoss: 0.021742\n",
            "Train Epoch: 93 [12800/14860 (85%)]\tLoss: 0.026504\n",
            "epoch 93 training loss: 0.02029231700122866\n",
            "epoch 93 validation loss: 0.023014143825723574\n",
            "Train Epoch: 94 [0/14860 (0%)]\tLoss: 0.020960\n",
            "Train Epoch: 94 [12800/14860 (85%)]\tLoss: 0.027365\n",
            "epoch 94 training loss: 0.0206108467382753\n",
            "epoch 94 validation loss: 0.02400956775706548\n",
            "Train Epoch: 95 [0/14860 (0%)]\tLoss: 0.019752\n",
            "Train Epoch: 95 [12800/14860 (85%)]\tLoss: 0.015796\n",
            "epoch 95 training loss: 0.020301260595392976\n",
            "epoch 95 validation loss: 0.021435111474532347\n",
            "Train Epoch: 96 [0/14860 (0%)]\tLoss: 0.023876\n",
            "Train Epoch: 96 [12800/14860 (85%)]\tLoss: 0.024075\n",
            "epoch 96 training loss: 0.020453515247656748\n",
            "epoch 96 validation loss: 0.02134898419563587\n",
            "Train Epoch: 97 [0/14860 (0%)]\tLoss: 0.016331\n",
            "Train Epoch: 97 [12800/14860 (85%)]\tLoss: 0.031145\n",
            "epoch 97 training loss: 0.021334104120540313\n",
            "epoch 97 validation loss: 0.03176316060125828\n",
            "Train Epoch: 98 [0/14860 (0%)]\tLoss: 0.030975\n",
            "Train Epoch: 98 [12800/14860 (85%)]\tLoss: 0.031206\n",
            "epoch 98 training loss: 0.021158256973975744\n",
            "epoch 98 validation loss: 0.021482461633590553\n",
            "Train Epoch: 99 [0/14860 (0%)]\tLoss: 0.025505\n",
            "Train Epoch: 99 [12800/14860 (85%)]\tLoss: 0.021901\n",
            "epoch 99 training loss: 0.019950031167548947\n",
            "epoch 99 validation loss: 0.021462122838084515\n"
          ]
        }
      ],
      "source": [
        "for epoch in range(epochSize):\n",
        "    loss_train = train(net, dataloader_train, optimizer, criterion, epoch)\n",
        "    loss_train_list.append(loss_train)\n",
        "    print('epoch', epoch, 'training loss:', loss_train)\n",
        "    \n",
        "    loss_val = test(net, dataloader_val, criterion)\n",
        "    loss_val_list.append(loss_val)\n",
        "    print('epoch', epoch, 'validation loss:', loss_val)"
      ]
    },
    {
      "cell_type": "markdown",
      "metadata": {
        "id": "yWiMc7dhWzfc"
      },
      "source": [
        "plot the loss vs epoch curve"
      ]
    },
    {
      "cell_type": "code",
      "execution_count": 37,
      "metadata": {
        "colab": {
          "base_uri": "https://localhost:8080/",
          "height": 302
        },
        "id": "EoLkkYaTWzfc",
        "outputId": "3e6844b9-aea4-4add-aee1-0e704aade804"
      },
      "outputs": [
        {
          "output_type": "execute_result",
          "data": {
            "text/plain": [
              "<matplotlib.legend.Legend at 0x7f476c5ee0d0>"
            ]
          },
          "metadata": {},
          "execution_count": 37
        },
        {
          "output_type": "display_data",
          "data": {
            "image/png": "[encoded data removed]",
            "text/plain": [
              "<Figure size 432x288 with 1 Axes>"
            ]
          },
          "metadata": {
            "needs_background": "light"
          }
        }
      ],
      "source": [
        "import matplotlib.pyplot as plt\n",
        "epoch = range(0,epochSize)\n",
        "fig, ax = plt.subplots()\n",
        "ax.plot(epoch, loss_train_list, 'b', label = 'training loss')\n",
        "ax.plot(epoch, loss_val_list,   'r', label = 'validation loss')\n",
        "ax.set_xlabel('epoch', fontsize = 16)\n",
        "ax.legend(fontsize=16)"
      ]
    },
    {
      "cell_type": "code",
      "execution_count": 39,
      "metadata": {
        "id": "1drB4QM1Wzfc"
      },
      "outputs": [],
      "source": [
        "# obtain Yp_test\n",
        "# \"Yp_test=model(X_test)\"  may need lots of memory\n",
        "# we can use a for loop to get Yp_test, see the function test\n",
        "Yp_test=[]\n",
        "net.eval()\n",
        "with torch.no_grad(): # tell Pytorch not to build graph in the 'with' section\n",
        "     for batch_idx, (X, Y) in enumerate(dataloader_test):\n",
        "         if torch.cuda.is_available():\n",
        "             X = X.cuda()\n",
        "         Yp = net.forward(X)#forward pass\n",
        "         Yp_test.append(Yp.detach().cpu().numpy())        \n",
        "Yp_test=np.concatenate(Yp_test, axis=0).squeeze()"
      ]
    },
    {
      "cell_type": "code",
      "execution_count": 40,
      "metadata": {
        "colab": {
          "base_uri": "https://localhost:8080/"
        },
        "id": "gKrZhvUxWzfd",
        "outputId": "94f838a8-d025-4a6d-cd13-45760302e028"
      },
      "outputs": [
        {
          "output_type": "stream",
          "name": "stdout",
          "text": [
            "Evaluate model on testing set\n",
            "MSE= 0.020257961\n",
            "MAE= 0.10561602\n",
            "MAPE= 0.31419522\n"
          ]
        }
      ],
      "source": [
        "# compute MSE, MAE and MAPE on test set\n",
        "import numpy as np\n",
        "MSE = np.mean((Y_test - Yp_test)**2)\n",
        "MAE = np.mean(np.abs(Y_test - Yp_test))\n",
        "MAPE =  np.mean(np.abs(Y_test - Yp_test)/Y_test)\n",
        "print('Evaluate model on testing set')\n",
        "print('MSE=', MSE)\n",
        "print('MAE=', MAE)\n",
        "print('MAPE=', MAPE)"
      ]
    },
    {
      "cell_type": "code",
      "execution_count": 41,
      "metadata": {
        "colab": {
          "base_uri": "https://localhost:8080/",
          "height": 286
        },
        "id": "9yZq9E7AWzfd",
        "outputId": "2a76b963-8c9e-41bf-db8a-f40a28e34499"
      },
      "outputs": [
        {
          "output_type": "display_data",
          "data": {
            "image/png": "[encoded data removed]",
            "text/plain": [
              "<Figure size 432x288 with 1 Axes>"
            ]
          },
          "metadata": {
            "needs_background": "light"
          }
        }
      ],
      "source": [
        "# plot Yp_test vs Y_test\n",
        "# the red line is the 45-degree line\n",
        "fig, ax = plt.subplots()\n",
        "ax.plot(Y_test, Yp_test, '.')\n",
        "ax.plot(Y_test, Y_test, 'r-')\n",
        "ax.set_xlabel('Y_test', fontsize=16)\n",
        "ax.set_ylabel('Yp_test', fontsize=16)\n",
        "ax.grid(False)"
      ]
    },
    {
      "cell_type": "markdown",
      "metadata": {
        "id": "ZzVWQpZQWzfd"
      },
      "source": [
        "### change the structure of the MLP model and see if it can do better than XGBoost"
      ]
    },
    {
      "cell_type": "code",
      "execution_count": 43,
      "metadata": {
        "colab": {
          "base_uri": "https://localhost:8080/",
          "height": 350
        },
        "id": "NXJwyve2Wzfd",
        "outputId": "1151e6b6-f3f1-407d-9464-a3eef92541b8"
      },
      "outputs": [
        {
          "output_type": "stream",
          "name": "stdout",
          "text": [
            "[07:14:50] WARNING: /workspace/src/objective/regression_obj.cu:152: reg:linear is now deprecated in favor of reg:squarederror.\n",
            "[07:14:51] WARNING: /workspace/src/objective/regression_obj.cu:152: reg:linear is now deprecated in favor of reg:squarederror.\n"
          ]
        },
        {
          "output_type": "execute_result",
          "data": {
            "text/plain": [
              "Text(0.5, 1.0, 'MSE=0.008540076, MAE=0.060400516, MAPE=0.17073536')"
            ]
          },
          "metadata": {},
          "execution_count": 43
        },
        {
          "output_type": "display_data",
          "data": {
            "image/png": "[encoded data removed]",
            "text/plain": [
              "<Figure size 432x288 with 1 Axes>"
            ]
          },
          "metadata": {
            "needs_background": "light"
          }
        }
      ],
      "source": [
        "#define a new model\n",
        "#train, validate and test the model\n",
        "#compare it with XGBoost in homework #3\n",
        "\n",
        "from sklearn.model_selection import GridSearchCV\n",
        "from xgboost.sklearn import XGBRegressor\n",
        "\n",
        "def my_scorer(model, X, y):\n",
        "    y_pred = model.predict(X)\n",
        "    #MSE = np.mean((y_pred - y)**2)\n",
        "    #MAE = np.mean(np.abs(y_pred - y))\n",
        "    MAPE =  np.mean(np.abs(y_pred - y)/y)\n",
        "    return MAPE\n",
        "\n",
        "depth_list=np.array([1, 2, 3, 4, 5, 10, 20, 30, 40, 50, 60, 70, 80, 90, 100])\n",
        "parameters = {'max_depth':depth_list}\n",
        "GSC = GridSearchCV(XGBRegressor(), parameters, cv=10, scoring=my_scorer, n_jobs=4)\n",
        "GSC.fit(X_train, Y_train)\n",
        "MAPE_mean=GSC.cv_results_['mean_test_score']\n",
        "max_depth_best = depth_list[np.argmin(MAPE_mean)]\n",
        "# build a XGBRegressor using the best hyperparameter and fit it to the training data\n",
        "xgb_model=XGBRegressor(max_depth=max_depth_best)\n",
        "xgb_model.fit(X_train, Y_train)\n",
        "Y_train_pred = xgb_model.predict(X_train)\n",
        "Y_test_pred = xgb_model.predict(X_test)\n",
        "\n",
        "MSE = np.mean((Y_test - Y_test_pred)**2)\n",
        "MAE = np.mean(np.abs(Y_test - Y_test_pred))\n",
        "MAPE = np.mean(np.abs(Y_test - Y_test_pred)/Y_test)\n",
        "#\n",
        "\n",
        "plt.plot(Y_test,Y_test, '-r')\n",
        "plt.plot(Y_test, Y_test_pred, '.')\n",
        "plt.xlabel('Y_test')\n",
        "plt.ylabel('Y_test_pred')\n",
        "plt.title('MSE='+str(MSE)+', MAE='+str(MAE)+', MAPE='+str(MAPE))\n",
        "#plt.axis([0, 1e6, 0, 1e6])"
      ]
    },
    {
      "cell_type": "code",
      "source": [
        "\n",
        "import torch.nn as nn\n",
        "import torch.nn.functional as F\n",
        "class NewNet(nn.Module):\n",
        "    def __init__(self):\n",
        "        super(NewNet,self).__init__()\n",
        "        self.layer1 = nn.Linear(13, 64)        \n",
        "        self.layer2 = nn.Linear(64, 128)\n",
        "        self.layer3 = nn.Linear(128, 128)\n",
        "        self.layer4 = nn.Linear(128, 64) \n",
        "        self.layer5 = nn.Linear(64, 1)\n",
        "        \n",
        "    def forward(self,x):\n",
        "        x = self.layer1(x)\n",
        "        x = F.softplus(x)\n",
        "        x = self.layer2(x)\n",
        "        x = F.softplus(x)\n",
        "        x = self.layer3(x)\n",
        "        x = F.softplus(x)\n",
        "        x = self.layer4(x)\n",
        "        x = F.softplus(x)\n",
        "        x = self.layer5(x)\n",
        "        return x\n",
        "\n",
        "\n",
        "newnet = NewNet()\n",
        "optimizer = torch.optim.SGD(newnet.parameters(), lr=0.01, momentum=0.9)\n",
        "if torch.cuda.is_available():\n",
        "    newnet = newnet.cuda()\n",
        "print(newnet)\n",
        "\n",
        "\n",
        "criterion = nn.MSELoss()\n",
        "loss_train_list=[]\n",
        "loss_val_list=[]\n",
        "epochSize = 100\n",
        "\n",
        "for epoch in range(epochSize):\n",
        "    loss_train = train(newnet, dataloader_train, optimizer, criterion, epoch)\n",
        "    loss_train_list.append(loss_train)\n",
        "    print('epoch', epoch, 'training loss:', loss_train)\n",
        "    \n",
        "    loss_val = test(newnet, dataloader_val, criterion)\n",
        "    loss_val_list.append(loss_val)\n",
        "    print('epoch', epoch, 'validation loss:', loss_val)\n",
        "\n",
        "import matplotlib.pyplot as plt\n",
        "epoch = range(0,epochSize)\n",
        "fig, ax = plt.subplots()\n",
        "ax.plot(epoch, loss_train_list, 'b', label = 'training loss')\n",
        "ax.plot(epoch, loss_val_list,   'r', label = 'validation loss')\n",
        "ax.set_xlabel('epoch', fontsize = 16)\n",
        "ax.legend(fontsize=16)\n",
        "\n",
        "Yp_test=[]\n",
        "newnet.eval()\n",
        "with torch.no_grad(): # tell Pytorch not to build graph in the 'with' section\n",
        "    for batch_idx, (X, Y) in enumerate(dataloader_test):\n",
        "        if torch.cuda.is_available():\n",
        "            X = X.cuda()\n",
        "        Yp = newnet.forward(X)#forward pass\n",
        "        Yp_test.append(Yp.detach().cpu().numpy())        \n",
        "Yp_test=np.concatenate(Yp_test, axis=0).squeeze()\n",
        "\n"
      ],
      "metadata": {
        "colab": {
          "base_uri": "https://localhost:8080/",
          "height": 1000
        },
        "id": "yMrISDP2jrRQ",
        "outputId": "0e149c67-83ab-448d-ef8a-19901c122756"
      },
      "execution_count": 44,
      "outputs": [
        {
          "output_type": "stream",
          "name": "stdout",
          "text": [
            "NewNet(\n",
            "  (layer1): Linear(in_features=13, out_features=64, bias=True)\n",
            "  (layer2): Linear(in_features=64, out_features=128, bias=True)\n",
            "  (layer3): Linear(in_features=128, out_features=128, bias=True)\n",
            "  (layer4): Linear(in_features=128, out_features=64, bias=True)\n",
            "  (layer5): Linear(in_features=64, out_features=1, bias=True)\n",
            ")\n",
            "Train Epoch: 0 [0/14860 (0%)]\tLoss: 0.109761\n",
            "Train Epoch: 0 [12800/14860 (85%)]\tLoss: 0.048891\n",
            "epoch 0 training loss: 0.059182703924866825\n",
            "epoch 0 validation loss: 0.05369031715851564\n",
            "Train Epoch: 1 [0/14860 (0%)]\tLoss: 0.057764\n",
            "Train Epoch: 1 [12800/14860 (85%)]\tLoss: 0.043553\n",
            "epoch 1 training loss: 0.05531301540442002\n",
            "epoch 1 validation loss: 0.053159973942316495\n",
            "Train Epoch: 2 [0/14860 (0%)]\tLoss: 0.044272\n",
            "Train Epoch: 2 [12800/14860 (85%)]\tLoss: 0.050496\n",
            "epoch 2 training loss: 0.05402708599646377\n",
            "epoch 2 validation loss: 0.05285917709653194\n",
            "Train Epoch: 3 [0/14860 (0%)]\tLoss: 0.051184\n",
            "Train Epoch: 3 [12800/14860 (85%)]\tLoss: 0.049457\n",
            "epoch 3 training loss: 0.05371623820601366\n",
            "epoch 3 validation loss: 0.07473714019243534\n",
            "Train Epoch: 4 [0/14860 (0%)]\tLoss: 0.093777\n",
            "Train Epoch: 4 [12800/14860 (85%)]\tLoss: 0.056495\n",
            "epoch 4 training loss: 0.05438594854412935\n",
            "epoch 4 validation loss: 0.05218775455768292\n",
            "Train Epoch: 5 [0/14860 (0%)]\tLoss: 0.056726\n",
            "Train Epoch: 5 [12800/14860 (85%)]\tLoss: 0.046900\n",
            "epoch 5 training loss: 0.05344765566480465\n",
            "epoch 5 validation loss: 0.051925497845961496\n",
            "Train Epoch: 6 [0/14860 (0%)]\tLoss: 0.053727\n",
            "Train Epoch: 6 [12800/14860 (85%)]\tLoss: 0.052278\n",
            "epoch 6 training loss: 0.05324648260178729\n",
            "epoch 6 validation loss: 0.05615227440228829\n",
            "Train Epoch: 7 [0/14860 (0%)]\tLoss: 0.051434\n",
            "Train Epoch: 7 [12800/14860 (85%)]\tLoss: 0.065529\n",
            "epoch 7 training loss: 0.05236106716160081\n",
            "epoch 7 validation loss: 0.05312902852892876\n",
            "Train Epoch: 8 [0/14860 (0%)]\tLoss: 0.060839\n",
            "Train Epoch: 8 [12800/14860 (85%)]\tLoss: 0.040473\n",
            "epoch 8 training loss: 0.050133176084257595\n",
            "epoch 8 validation loss: 0.04824916989757465\n",
            "Train Epoch: 9 [0/14860 (0%)]\tLoss: 0.047154\n",
            "Train Epoch: 9 [12800/14860 (85%)]\tLoss: 0.042528\n",
            "epoch 9 training loss: 0.04848402273705882\n",
            "epoch 9 validation loss: 0.04643716376561385\n",
            "Train Epoch: 10 [0/14860 (0%)]\tLoss: 0.045405\n",
            "Train Epoch: 10 [12800/14860 (85%)]\tLoss: 0.032747\n",
            "epoch 10 training loss: 0.046296342857118346\n",
            "epoch 10 validation loss: 0.04470762982964516\n",
            "Train Epoch: 11 [0/14860 (0%)]\tLoss: 0.048561\n",
            "Train Epoch: 11 [12800/14860 (85%)]\tLoss: 0.026665\n",
            "epoch 11 training loss: 0.04499460863443012\n",
            "epoch 11 validation loss: 0.04084747069730209\n",
            "Train Epoch: 12 [0/14860 (0%)]\tLoss: 0.044992\n",
            "Train Epoch: 12 [12800/14860 (85%)]\tLoss: 0.042107\n",
            "epoch 12 training loss: 0.04074869577128153\n",
            "epoch 12 validation loss: 0.038736930260291465\n",
            "Train Epoch: 13 [0/14860 (0%)]\tLoss: 0.032711\n",
            "Train Epoch: 13 [12800/14860 (85%)]\tLoss: 0.048740\n",
            "epoch 13 training loss: 0.041226245844975494\n",
            "epoch 13 validation loss: 0.04988124995277478\n",
            "Train Epoch: 14 [0/14860 (0%)]\tLoss: 0.047394\n",
            "Train Epoch: 14 [12800/14860 (85%)]\tLoss: 0.031879\n",
            "epoch 14 training loss: 0.038244131713723525\n",
            "epoch 14 validation loss: 0.036875795716276534\n",
            "Train Epoch: 15 [0/14860 (0%)]\tLoss: 0.031311\n",
            "Train Epoch: 15 [12800/14860 (85%)]\tLoss: 0.040673\n",
            "epoch 15 training loss: 0.038828391199692704\n",
            "epoch 15 validation loss: 0.03731012860169777\n",
            "Train Epoch: 16 [0/14860 (0%)]\tLoss: 0.034929\n",
            "Train Epoch: 16 [12800/14860 (85%)]\tLoss: 0.038929\n",
            "epoch 16 training loss: 0.03564396425763257\n",
            "epoch 16 validation loss: 0.03458837075875355\n",
            "Train Epoch: 17 [0/14860 (0%)]\tLoss: 0.023933\n",
            "Train Epoch: 17 [12800/14860 (85%)]\tLoss: 0.044780\n",
            "epoch 17 training loss: 0.03497244043546355\n",
            "epoch 17 validation loss: 0.043387589832911126\n",
            "Train Epoch: 18 [0/14860 (0%)]\tLoss: 0.046828\n",
            "Train Epoch: 18 [12800/14860 (85%)]\tLoss: 0.027301\n",
            "epoch 18 training loss: 0.035022828775720716\n",
            "epoch 18 validation loss: 0.035277827141376644\n",
            "Train Epoch: 19 [0/14860 (0%)]\tLoss: 0.037406\n",
            "Train Epoch: 19 [12800/14860 (85%)]\tLoss: 0.033383\n",
            "epoch 19 training loss: 0.033129027670519985\n",
            "epoch 19 validation loss: 0.03910467601739443\n",
            "Train Epoch: 20 [0/14860 (0%)]\tLoss: 0.044699\n",
            "Train Epoch: 20 [12800/14860 (85%)]\tLoss: 0.034601\n",
            "epoch 20 training loss: 0.031788214929720275\n",
            "epoch 20 validation loss: 0.03267298094355143\n",
            "Train Epoch: 21 [0/14860 (0%)]\tLoss: 0.028338\n",
            "Train Epoch: 21 [12800/14860 (85%)]\tLoss: 0.030350\n",
            "epoch 21 training loss: 0.028848845925596025\n",
            "epoch 21 validation loss: 0.03841169780263534\n",
            "Train Epoch: 22 [0/14860 (0%)]\tLoss: 0.034186\n",
            "Train Epoch: 22 [12800/14860 (85%)]\tLoss: 0.023858\n",
            "epoch 22 training loss: 0.027130042497291524\n",
            "epoch 22 validation loss: 0.026661973303327195\n",
            "Train Epoch: 23 [0/14860 (0%)]\tLoss: 0.029019\n",
            "Train Epoch: 23 [12800/14860 (85%)]\tLoss: 0.018889\n",
            "epoch 23 training loss: 0.026994469647224132\n",
            "epoch 23 validation loss: 0.02903133272551573\n",
            "Train Epoch: 24 [0/14860 (0%)]\tLoss: 0.024677\n",
            "Train Epoch: 24 [12800/14860 (85%)]\tLoss: 0.047807\n",
            "epoch 24 training loss: 0.025840145157666035\n",
            "epoch 24 validation loss: 0.05323000166278619\n",
            "Train Epoch: 25 [0/14860 (0%)]\tLoss: 0.032647\n",
            "Train Epoch: 25 [12800/14860 (85%)]\tLoss: 0.022979\n",
            "epoch 25 training loss: 0.023693583332575284\n",
            "epoch 25 validation loss: 0.023395708833749477\n",
            "Train Epoch: 26 [0/14860 (0%)]\tLoss: 0.019502\n",
            "Train Epoch: 26 [12800/14860 (85%)]\tLoss: 0.026314\n",
            "epoch 26 training loss: 0.02351356803192797\n",
            "epoch 26 validation loss: 0.029850498988078192\n",
            "Train Epoch: 27 [0/14860 (0%)]\tLoss: 0.028254\n",
            "Train Epoch: 27 [12800/14860 (85%)]\tLoss: 0.022016\n",
            "epoch 27 training loss: 0.024911223544587947\n",
            "epoch 27 validation loss: 0.022783842797462758\n",
            "Train Epoch: 28 [0/14860 (0%)]\tLoss: 0.023524\n",
            "Train Epoch: 28 [12800/14860 (85%)]\tLoss: 0.020777\n",
            "epoch 28 training loss: 0.02353618046443941\n",
            "epoch 28 validation loss: 0.024696134174099334\n",
            "Train Epoch: 29 [0/14860 (0%)]\tLoss: 0.023052\n",
            "Train Epoch: 29 [12800/14860 (85%)]\tLoss: 0.025908\n",
            "epoch 29 training loss: 0.0215299190977254\n",
            "epoch 29 validation loss: 0.029612306792002458\n",
            "Train Epoch: 30 [0/14860 (0%)]\tLoss: 0.022745\n",
            "Train Epoch: 30 [12800/14860 (85%)]\tLoss: 0.015120\n",
            "epoch 30 training loss: 0.02302923134695261\n",
            "epoch 30 validation loss: 0.03227619396952482\n",
            "Train Epoch: 31 [0/14860 (0%)]\tLoss: 0.033281\n",
            "Train Epoch: 31 [12800/14860 (85%)]\tLoss: 0.022033\n",
            "epoch 31 training loss: 0.022796746351334274\n",
            "epoch 31 validation loss: 0.029818286546147786\n",
            "Train Epoch: 32 [0/14860 (0%)]\tLoss: 0.018839\n",
            "Train Epoch: 32 [12800/14860 (85%)]\tLoss: 0.019574\n",
            "epoch 32 training loss: 0.02242824375533905\n",
            "epoch 32 validation loss: 0.03392483537586836\n",
            "Train Epoch: 33 [0/14860 (0%)]\tLoss: 0.022176\n",
            "Train Epoch: 33 [12800/14860 (85%)]\tLoss: 0.020393\n",
            "epoch 33 training loss: 0.024752840988783754\n",
            "epoch 33 validation loss: 0.033412531161537536\n",
            "Train Epoch: 34 [0/14860 (0%)]\tLoss: 0.035718\n",
            "Train Epoch: 34 [12800/14860 (85%)]\tLoss: 0.025470\n",
            "epoch 34 training loss: 0.022954849160125114\n",
            "epoch 34 validation loss: 0.022445143558658086\n",
            "Train Epoch: 35 [0/14860 (0%)]\tLoss: 0.021107\n",
            "Train Epoch: 35 [12800/14860 (85%)]\tLoss: 0.020066\n",
            "epoch 35 training loss: 0.022716411015289463\n",
            "epoch 35 validation loss: 0.02485640304019818\n",
            "Train Epoch: 36 [0/14860 (0%)]\tLoss: 0.034893\n",
            "Train Epoch: 36 [12800/14860 (85%)]\tLoss: 0.015135\n",
            "epoch 36 training loss: 0.021909507266126383\n",
            "epoch 36 validation loss: 0.025759276145925887\n",
            "Train Epoch: 37 [0/14860 (0%)]\tLoss: 0.026471\n",
            "Train Epoch: 37 [12800/14860 (85%)]\tLoss: 0.023455\n",
            "epoch 37 training loss: 0.02290967273979615\n",
            "epoch 37 validation loss: 0.022716248837801125\n",
            "Train Epoch: 38 [0/14860 (0%)]\tLoss: 0.020363\n",
            "Train Epoch: 38 [12800/14860 (85%)]\tLoss: 0.016371\n",
            "epoch 38 training loss: 0.02204545092386886\n",
            "epoch 38 validation loss: 0.022615424285714444\n",
            "Train Epoch: 39 [0/14860 (0%)]\tLoss: 0.023308\n",
            "Train Epoch: 39 [12800/14860 (85%)]\tLoss: 0.019999\n",
            "epoch 39 training loss: 0.02249739629526933\n",
            "epoch 39 validation loss: 0.02329582104889246\n",
            "Train Epoch: 40 [0/14860 (0%)]\tLoss: 0.018981\n",
            "Train Epoch: 40 [12800/14860 (85%)]\tLoss: 0.017103\n",
            "epoch 40 training loss: 0.021971322890593965\n",
            "epoch 40 validation loss: 0.0228312686085701\n",
            "Train Epoch: 41 [0/14860 (0%)]\tLoss: 0.018840\n",
            "Train Epoch: 41 [12800/14860 (85%)]\tLoss: 0.019302\n",
            "epoch 41 training loss: 0.022620376780565478\n",
            "epoch 41 validation loss: 0.023591879468697768\n",
            "Train Epoch: 42 [0/14860 (0%)]\tLoss: 0.023114\n",
            "Train Epoch: 42 [12800/14860 (85%)]\tLoss: 0.024848\n",
            "epoch 42 training loss: 0.021993450024443813\n",
            "epoch 42 validation loss: 0.024000381764311057\n",
            "Train Epoch: 43 [0/14860 (0%)]\tLoss: 0.021890\n",
            "Train Epoch: 43 [12800/14860 (85%)]\tLoss: 0.030433\n",
            "epoch 43 training loss: 0.02163520746697218\n",
            "epoch 43 validation loss: 0.025503982288333085\n",
            "Train Epoch: 44 [0/14860 (0%)]\tLoss: 0.022004\n",
            "Train Epoch: 44 [12800/14860 (85%)]\tLoss: 0.018396\n",
            "epoch 44 training loss: 0.02174763995198867\n",
            "epoch 44 validation loss: 0.022540666162967682\n",
            "Train Epoch: 45 [0/14860 (0%)]\tLoss: 0.019772\n",
            "Train Epoch: 45 [12800/14860 (85%)]\tLoss: 0.017081\n",
            "epoch 45 training loss: 0.02172316048039585\n",
            "epoch 45 validation loss: 0.026993816288617942\n",
            "Train Epoch: 46 [0/14860 (0%)]\tLoss: 0.023227\n",
            "Train Epoch: 46 [12800/14860 (85%)]\tLoss: 0.018200\n",
            "epoch 46 training loss: 0.02224351565202332\n",
            "epoch 46 validation loss: 0.026281787225833304\n",
            "Train Epoch: 47 [0/14860 (0%)]\tLoss: 0.022693\n",
            "Train Epoch: 47 [12800/14860 (85%)]\tLoss: 0.021847\n",
            "epoch 47 training loss: 0.022107534508547213\n",
            "epoch 47 validation loss: 0.024391694854085263\n",
            "Train Epoch: 48 [0/14860 (0%)]\tLoss: 0.027368\n",
            "Train Epoch: 48 [12800/14860 (85%)]\tLoss: 0.020949\n",
            "epoch 48 training loss: 0.021016191388679367\n",
            "epoch 48 validation loss: 0.02224058758180875\n",
            "Train Epoch: 49 [0/14860 (0%)]\tLoss: 0.020736\n",
            "Train Epoch: 49 [12800/14860 (85%)]\tLoss: 0.016305\n",
            "epoch 49 training loss: 0.020943182425048106\n",
            "epoch 49 validation loss: 0.023034609854221344\n",
            "Train Epoch: 50 [0/14860 (0%)]\tLoss: 0.020424\n",
            "Train Epoch: 50 [12800/14860 (85%)]\tLoss: 0.020966\n",
            "epoch 50 training loss: 0.022206856964681394\n",
            "epoch 50 validation loss: 0.023171166244607706\n",
            "Train Epoch: 51 [0/14860 (0%)]\tLoss: 0.020413\n",
            "Train Epoch: 51 [12800/14860 (85%)]\tLoss: 0.020013\n",
            "epoch 51 training loss: 0.02185879214706584\n",
            "epoch 51 validation loss: 0.026085236897835366\n",
            "Train Epoch: 52 [0/14860 (0%)]\tLoss: 0.022682\n",
            "Train Epoch: 52 [12800/14860 (85%)]\tLoss: 0.022212\n",
            "epoch 52 training loss: 0.02150000284752275\n",
            "epoch 52 validation loss: 0.02323020636462248\n",
            "Train Epoch: 53 [0/14860 (0%)]\tLoss: 0.018735\n",
            "Train Epoch: 53 [12800/14860 (85%)]\tLoss: 0.020953\n",
            "epoch 53 training loss: 0.02132985209966572\n",
            "epoch 53 validation loss: 0.023665086867717598\n",
            "Train Epoch: 54 [0/14860 (0%)]\tLoss: 0.025953\n",
            "Train Epoch: 54 [12800/14860 (85%)]\tLoss: 0.018235\n",
            "epoch 54 training loss: 0.02143614185958082\n",
            "epoch 54 validation loss: 0.02401776024355338\n",
            "Train Epoch: 55 [0/14860 (0%)]\tLoss: 0.025556\n",
            "Train Epoch: 55 [12800/14860 (85%)]\tLoss: 0.020110\n",
            "epoch 55 training loss: 0.02122666959802055\n",
            "epoch 55 validation loss: 0.022681856671204932\n",
            "Train Epoch: 56 [0/14860 (0%)]\tLoss: 0.016128\n",
            "Train Epoch: 56 [12800/14860 (85%)]\tLoss: 0.025402\n",
            "epoch 56 training loss: 0.02178853556004345\n",
            "epoch 56 validation loss: 0.02217804826796055\n",
            "Train Epoch: 57 [0/14860 (0%)]\tLoss: 0.032273\n",
            "Train Epoch: 57 [12800/14860 (85%)]\tLoss: 0.019780\n",
            "epoch 57 training loss: 0.022798680676481664\n",
            "epoch 57 validation loss: 0.028130513400985643\n",
            "Train Epoch: 58 [0/14860 (0%)]\tLoss: 0.029326\n",
            "Train Epoch: 58 [12800/14860 (85%)]\tLoss: 0.017111\n",
            "epoch 58 training loss: 0.0223502496846466\n",
            "epoch 58 validation loss: 0.027327762773403756\n",
            "Train Epoch: 59 [0/14860 (0%)]\tLoss: 0.025725\n",
            "Train Epoch: 59 [12800/14860 (85%)]\tLoss: 0.023215\n",
            "epoch 59 training loss: 0.021546303334399167\n",
            "epoch 59 validation loss: 0.02431518011368238\n",
            "Train Epoch: 60 [0/14860 (0%)]\tLoss: 0.025993\n",
            "Train Epoch: 60 [12800/14860 (85%)]\tLoss: 0.021776\n",
            "epoch 60 training loss: 0.02116987243708637\n",
            "epoch 60 validation loss: 0.024079402478841636\n",
            "Train Epoch: 61 [0/14860 (0%)]\tLoss: 0.028311\n",
            "Train Epoch: 61 [12800/14860 (85%)]\tLoss: 0.023417\n",
            "epoch 61 training loss: 0.020857183891547542\n",
            "epoch 61 validation loss: 0.022481092896599036\n",
            "Train Epoch: 62 [0/14860 (0%)]\tLoss: 0.021071\n",
            "Train Epoch: 62 [12800/14860 (85%)]\tLoss: 0.016165\n",
            "epoch 62 training loss: 0.021470893484850723\n",
            "epoch 62 validation loss: 0.02214751564539396\n",
            "Train Epoch: 63 [0/14860 (0%)]\tLoss: 0.020828\n",
            "Train Epoch: 63 [12800/14860 (85%)]\tLoss: 0.018526\n",
            "epoch 63 training loss: 0.020980318665950216\n",
            "epoch 63 validation loss: 0.022310587505881604\n",
            "Train Epoch: 64 [0/14860 (0%)]\tLoss: 0.019962\n",
            "Train Epoch: 64 [12800/14860 (85%)]\tLoss: 0.018140\n",
            "epoch 64 training loss: 0.0208985000434849\n",
            "epoch 64 validation loss: 0.022444712427946236\n",
            "Train Epoch: 65 [0/14860 (0%)]\tLoss: 0.019944\n",
            "Train Epoch: 65 [12800/14860 (85%)]\tLoss: 0.025597\n",
            "epoch 65 training loss: 0.020932644287235718\n",
            "epoch 65 validation loss: 0.02208095187178025\n",
            "Train Epoch: 66 [0/14860 (0%)]\tLoss: 0.023965\n",
            "Train Epoch: 66 [12800/14860 (85%)]\tLoss: 0.018516\n",
            "epoch 66 training loss: 0.021214180514534824\n",
            "epoch 66 validation loss: 0.02207636933487195\n",
            "Train Epoch: 67 [0/14860 (0%)]\tLoss: 0.021384\n",
            "Train Epoch: 67 [12800/14860 (85%)]\tLoss: 0.021657\n",
            "epoch 67 training loss: 0.020925834556070402\n",
            "epoch 67 validation loss: 0.023308018079170816\n",
            "Train Epoch: 68 [0/14860 (0%)]\tLoss: 0.020490\n",
            "Train Epoch: 68 [12800/14860 (85%)]\tLoss: 0.027382\n",
            "epoch 68 training loss: 0.020931044060131933\n",
            "epoch 68 validation loss: 0.02266565538369692\n",
            "Train Epoch: 69 [0/14860 (0%)]\tLoss: 0.017136\n",
            "Train Epoch: 69 [12800/14860 (85%)]\tLoss: 0.016140\n",
            "epoch 69 training loss: 0.021064216597403727\n",
            "epoch 69 validation loss: 0.022077081725001335\n",
            "Train Epoch: 70 [0/14860 (0%)]\tLoss: 0.019082\n",
            "Train Epoch: 70 [12800/14860 (85%)]\tLoss: 0.014887\n",
            "epoch 70 training loss: 0.022251583715407256\n",
            "epoch 70 validation loss: 0.022078634168093022\n",
            "Train Epoch: 71 [0/14860 (0%)]\tLoss: 0.026683\n",
            "Train Epoch: 71 [12800/14860 (85%)]\tLoss: 0.018199\n",
            "epoch 71 training loss: 0.021120450833541714\n",
            "epoch 71 validation loss: 0.024349606954134427\n",
            "Train Epoch: 72 [0/14860 (0%)]\tLoss: 0.021212\n",
            "Train Epoch: 72 [12800/14860 (85%)]\tLoss: 0.019677\n",
            "epoch 72 training loss: 0.021462242198614482\n",
            "epoch 72 validation loss: 0.02371614555326792\n",
            "Train Epoch: 73 [0/14860 (0%)]\tLoss: 0.030372\n",
            "Train Epoch: 73 [12800/14860 (85%)]\tLoss: 0.021461\n",
            "epoch 73 training loss: 0.020761408230178375\n",
            "epoch 73 validation loss: 0.02201577892097143\n",
            "Train Epoch: 74 [0/14860 (0%)]\tLoss: 0.019421\n",
            "Train Epoch: 74 [12800/14860 (85%)]\tLoss: 0.020901\n",
            "epoch 74 training loss: 0.021084171648208912\n",
            "epoch 74 validation loss: 0.02245353549145735\n",
            "Train Epoch: 75 [0/14860 (0%)]\tLoss: 0.017563\n",
            "Train Epoch: 75 [12800/14860 (85%)]\tLoss: 0.017683\n",
            "epoch 75 training loss: 0.020845362566347815\n",
            "epoch 75 validation loss: 0.022293411911680147\n",
            "Train Epoch: 76 [0/14860 (0%)]\tLoss: 0.019592\n",
            "Train Epoch: 76 [12800/14860 (85%)]\tLoss: 0.021271\n",
            "epoch 76 training loss: 0.021120411574713185\n",
            "epoch 76 validation loss: 0.021984582480329733\n",
            "Train Epoch: 77 [0/14860 (0%)]\tLoss: 0.021502\n",
            "Train Epoch: 77 [12800/14860 (85%)]\tLoss: 0.019552\n",
            "epoch 77 training loss: 0.02068872426628557\n",
            "epoch 77 validation loss: 0.023328825401572082\n",
            "Train Epoch: 78 [0/14860 (0%)]\tLoss: 0.020020\n",
            "Train Epoch: 78 [12800/14860 (85%)]\tLoss: 0.021147\n",
            "epoch 78 training loss: 0.021366840817480005\n",
            "epoch 78 validation loss: 0.023854109960106704\n",
            "Train Epoch: 79 [0/14860 (0%)]\tLoss: 0.025145\n",
            "Train Epoch: 79 [12800/14860 (85%)]\tLoss: 0.012783\n",
            "epoch 79 training loss: 0.021548398061949983\n",
            "epoch 79 validation loss: 0.02571723094353309\n",
            "Train Epoch: 80 [0/14860 (0%)]\tLoss: 0.021950\n",
            "Train Epoch: 80 [12800/14860 (85%)]\tLoss: 0.025887\n",
            "epoch 80 training loss: 0.020927113727626637\n",
            "epoch 80 validation loss: 0.02286614663898945\n",
            "Train Epoch: 81 [0/14860 (0%)]\tLoss: 0.021208\n",
            "Train Epoch: 81 [12800/14860 (85%)]\tLoss: 0.017634\n",
            "epoch 81 training loss: 0.02069535829986517\n",
            "epoch 81 validation loss: 0.02193073770747735\n",
            "Train Epoch: 82 [0/14860 (0%)]\tLoss: 0.014769\n",
            "Train Epoch: 82 [12800/14860 (85%)]\tLoss: 0.027325\n",
            "epoch 82 training loss: 0.02062641785472122\n",
            "epoch 82 validation loss: 0.02208266593515873\n",
            "Train Epoch: 83 [0/14860 (0%)]\tLoss: 0.028575\n",
            "Train Epoch: 83 [12800/14860 (85%)]\tLoss: 0.016670\n",
            "epoch 83 training loss: 0.020904628727107476\n",
            "epoch 83 validation loss: 0.02213299159820263\n",
            "Train Epoch: 84 [0/14860 (0%)]\tLoss: 0.016902\n",
            "Train Epoch: 84 [12800/14860 (85%)]\tLoss: 0.015037\n",
            "epoch 84 training loss: 0.020901900031564072\n",
            "epoch 84 validation loss: 0.021985772567299697\n",
            "Train Epoch: 85 [0/14860 (0%)]\tLoss: 0.017858\n",
            "Train Epoch: 85 [12800/14860 (85%)]\tLoss: 0.016781\n",
            "epoch 85 training loss: 0.021037194766422622\n",
            "epoch 85 validation loss: 0.026855538240992106\n",
            "Train Epoch: 86 [0/14860 (0%)]\tLoss: 0.020876\n",
            "Train Epoch: 86 [12800/14860 (85%)]\tLoss: 0.020067\n",
            "epoch 86 training loss: 0.020929687501241762\n",
            "epoch 86 validation loss: 0.023380818848426525\n",
            "Train Epoch: 87 [0/14860 (0%)]\tLoss: 0.016949\n",
            "Train Epoch: 87 [12800/14860 (85%)]\tLoss: 0.023831\n",
            "epoch 87 training loss: 0.020763344290610563\n",
            "epoch 87 validation loss: 0.022801157373648424\n",
            "Train Epoch: 88 [0/14860 (0%)]\tLoss: 0.023696\n",
            "Train Epoch: 88 [12800/14860 (85%)]\tLoss: 0.020950\n",
            "epoch 88 training loss: 0.020917183735495448\n",
            "epoch 88 validation loss: 0.02301319516622103\n",
            "Train Epoch: 89 [0/14860 (0%)]\tLoss: 0.018411\n",
            "Train Epoch: 89 [12800/14860 (85%)]\tLoss: 0.017193\n",
            "epoch 89 training loss: 0.021266307570358627\n",
            "epoch 89 validation loss: 0.022994676748147376\n",
            "Train Epoch: 90 [0/14860 (0%)]\tLoss: 0.015150\n",
            "Train Epoch: 90 [12800/14860 (85%)]\tLoss: 0.018858\n",
            "epoch 90 training loss: 0.020607261536404107\n",
            "epoch 90 validation loss: 0.02286759835596268\n",
            "Train Epoch: 91 [0/14860 (0%)]\tLoss: 0.021344\n",
            "Train Epoch: 91 [12800/14860 (85%)]\tLoss: 0.020139\n",
            "epoch 91 training loss: 0.020593981879452865\n",
            "epoch 91 validation loss: 0.026304825853842955\n",
            "Train Epoch: 92 [0/14860 (0%)]\tLoss: 0.018896\n",
            "Train Epoch: 92 [12800/14860 (85%)]\tLoss: 0.018618\n",
            "epoch 92 training loss: 0.02120719265797709\n",
            "epoch 92 validation loss: 0.02187797799706459\n",
            "Train Epoch: 93 [0/14860 (0%)]\tLoss: 0.021377\n",
            "Train Epoch: 93 [12800/14860 (85%)]\tLoss: 0.014820\n",
            "epoch 93 training loss: 0.020633507527920425\n",
            "epoch 93 validation loss: 0.02417974116710516\n",
            "Train Epoch: 94 [0/14860 (0%)]\tLoss: 0.019635\n",
            "Train Epoch: 94 [12800/14860 (85%)]\tLoss: 0.024208\n",
            "epoch 94 training loss: 0.0205997492497166\n",
            "epoch 94 validation loss: 0.024021081626415253\n",
            "Train Epoch: 95 [0/14860 (0%)]\tLoss: 0.020160\n",
            "Train Epoch: 95 [12800/14860 (85%)]\tLoss: 0.019695\n",
            "epoch 95 training loss: 0.021188069803592485\n",
            "epoch 95 validation loss: 0.021925098477647856\n",
            "Train Epoch: 96 [0/14860 (0%)]\tLoss: 0.032040\n",
            "Train Epoch: 96 [12800/14860 (85%)]\tLoss: 0.018713\n",
            "epoch 96 training loss: 0.02096815773437166\n",
            "epoch 96 validation loss: 0.02206969991899454\n",
            "Train Epoch: 97 [0/14860 (0%)]\tLoss: 0.020079\n",
            "Train Epoch: 97 [12800/14860 (85%)]\tLoss: 0.015865\n",
            "epoch 97 training loss: 0.020600706068241697\n",
            "epoch 97 validation loss: 0.02192412703656233\n",
            "Train Epoch: 98 [0/14860 (0%)]\tLoss: 0.021027\n",
            "Train Epoch: 98 [12800/14860 (85%)]\tLoss: 0.018456\n",
            "epoch 98 training loss: 0.020442102932267718\n",
            "epoch 98 validation loss: 0.02181487874342845\n",
            "Train Epoch: 99 [0/14860 (0%)]\tLoss: 0.016887\n",
            "Train Epoch: 99 [12800/14860 (85%)]\tLoss: 0.022412\n",
            "epoch 99 training loss: 0.020719120350594703\n",
            "epoch 99 validation loss: 0.022302680290662326\n"
          ]
        },
        {
          "output_type": "display_data",
          "data": {
            "image/png": "[encoded data removed]",
            "text/plain": [
              "<Figure size 432x288 with 1 Axes>"
            ]
          },
          "metadata": {
            "needs_background": "light"
          }
        }
      ]
    },
    {
      "cell_type": "code",
      "source": [
        "# compute MSE, MAE and MAPE on test set\n",
        "import numpy as np\n",
        "MSE = np.mean((Y_test - Yp_test)**2)\n",
        "MAE = np.mean(np.abs(Y_test - Yp_test))\n",
        "MAPE =  np.mean(np.abs(Y_test - Yp_test)/Y_test)\n",
        "\n",
        "print('MSE=', MSE)\n",
        "print('MAE=', MAE)\n",
        "print('MAPE=', MAPE)\n",
        "\n",
        "\n",
        "# plot Yp_test vs Y_test\n",
        "# the red line is the 45-degree line\n",
        "fig, ax = plt.subplots()\n",
        "ax.plot(Y_test, Yp_test, '.')\n",
        "ax.plot(Y_test, Y_test, 'r-')\n",
        "ax.set_xlabel('Y_test', fontsize=16)\n",
        "ax.set_ylabel('Yp_test', fontsize=16)\n",
        "plt.title('MSE='+str(MSE)+', MAE='+str(MAE)+', MAPE='+str(MAPE))\n",
        "ax.grid(False)"
      ],
      "metadata": {
        "colab": {
          "base_uri": "https://localhost:8080/",
          "height": 356
        },
        "id": "kFMnk2MgkXFc",
        "outputId": "527910a7-e9ae-4b4f-a1a8-2e5b9354b4e5"
      },
      "execution_count": 46,
      "outputs": [
        {
          "output_type": "stream",
          "name": "stdout",
          "text": [
            "MSE= 0.021196023\n",
            "MAE= 0.110505864\n",
            "MAPE= 0.33792174\n"
          ]
        },
        {
          "output_type": "display_data",
          "data": {
            "image/png": "[encoded data removed]",
            "text/plain": [
              "<Figure size 432x288 with 1 Axes>"
            ]
          },
          "metadata": {
            "needs_background": "light"
          }
        }
      ]
    }
  ],
  "metadata": {
    "colab": {
      "name": "H4P2T2_Pytorch.ipynb",
      "provenance": []
    },
    "kernelspec": {
      "display_name": "Python 3",
      "language": "python",
      "name": "python3"
    },
    "language_info": {
      "codemirror_mode": {
        "name": "ipython",
        "version": 3
      },
      "file_extension": ".py",
      "mimetype": "text/x-python",
      "name": "python",
      "nbconvert_exporter": "python",
      "pygments_lexer": "ipython3",
      "version": "3.8.3"
    }
  },
  "nbformat": 4,
  "nbformat_minor": 0
}