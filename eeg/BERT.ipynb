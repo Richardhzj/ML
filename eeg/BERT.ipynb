{
  "nbformat": 4,
  "nbformat_minor": 0,
  "metadata": {
    "colab": {
      "provenance": [],
      "machine_shape": "hm"
    },
    "kernelspec": {
      "name": "python3",
      "display_name": "Python 3"
    },
    "language_info": {
      "name": "python"
    },
    "accelerator": "GPU",
    "gpuClass": "standard"
  },
  "cells": [
    {
      "cell_type": "code",
      "execution_count": null,
      "metadata": {
        "colab": {
          "base_uri": "https://localhost:8080/",
          "height": 1000
        },
        "id": "ZkfTCFY-yWn4",
        "outputId": "9597977c-dfdc-4b3e-8b17-4ad7422ff612"
      },
      "outputs": [
        {
          "output_type": "stream",
          "name": "stdout",
          "text": [
            "Looking in indexes: https://pypi.org/simple, https://us-python.pkg.dev/colab-wheels/public/simple/\n",
            "Collecting git+https://github.com/d2l-ai/d2l-zh@release\n",
            "  Cloning https://github.com/d2l-ai/d2l-zh (to revision release) to /tmp/pip-req-build-n653gjb4\n",
            "  Running command git clone -q https://github.com/d2l-ai/d2l-zh /tmp/pip-req-build-n653gjb4\n",
            "  Running command git checkout -b release --track origin/release\n",
            "  Switched to a new branch 'release'\n",
            "  Branch 'release' set up to track remote branch 'release' from 'origin'.\n",
            "  Running command git submodule update --init --recursive -q\n",
            "Collecting jupyter==1.0.0\n",
            "  Downloading jupyter-1.0.0-py2.py3-none-any.whl (2.7 kB)\n",
            "Collecting numpy==1.21.5\n",
            "  Downloading numpy-1.21.5-cp38-cp38-manylinux_2_12_x86_64.manylinux2010_x86_64.whl (15.7 MB)\n",
            "\u001b[K     |████████████████████████████████| 15.7 MB 9.7 kB/s \n",
            "\u001b[?25hCollecting matplotlib==3.5.1\n",
            "  Downloading matplotlib-3.5.1-cp38-cp38-manylinux_2_5_x86_64.manylinux1_x86_64.whl (11.3 MB)\n",
            "\u001b[K     |████████████████████████████████| 11.3 MB 66.9 MB/s \n",
            "\u001b[?25hCollecting requests==2.25.1\n",
            "  Downloading requests-2.25.1-py2.py3-none-any.whl (61 kB)\n",
            "\u001b[K     |████████████████████████████████| 61 kB 7.4 MB/s \n",
            "\u001b[?25hCollecting pandas==1.2.4\n",
            "  Downloading pandas-1.2.4-cp38-cp38-manylinux1_x86_64.whl (9.7 MB)\n",
            "\u001b[K     |████████████████████████████████| 9.7 MB 73.2 MB/s \n",
            "\u001b[?25hCollecting qtconsole\n",
            "  Downloading qtconsole-5.4.0-py3-none-any.whl (121 kB)\n",
            "\u001b[K     |████████████████████████████████| 121 kB 84.8 MB/s \n",
            "\u001b[?25hRequirement already satisfied: ipywidgets in /usr/local/lib/python3.8/dist-packages (from jupyter==1.0.0->d2l==2.0.0) (7.7.1)\n",
            "Requirement already satisfied: jupyter-console in /usr/local/lib/python3.8/dist-packages (from jupyter==1.0.0->d2l==2.0.0) (6.1.0)\n",
            "Requirement already satisfied: ipykernel in /usr/local/lib/python3.8/dist-packages (from jupyter==1.0.0->d2l==2.0.0) (5.3.4)\n",
            "Requirement already satisfied: notebook in /usr/local/lib/python3.8/dist-packages (from jupyter==1.0.0->d2l==2.0.0) (5.7.16)\n",
            "Requirement already satisfied: nbconvert in /usr/local/lib/python3.8/dist-packages (from jupyter==1.0.0->d2l==2.0.0) (5.6.1)\n",
            "Requirement already satisfied: packaging>=20.0 in /usr/local/lib/python3.8/dist-packages (from matplotlib==3.5.1->d2l==2.0.0) (21.3)\n",
            "Requirement already satisfied: python-dateutil>=2.7 in /usr/local/lib/python3.8/dist-packages (from matplotlib==3.5.1->d2l==2.0.0) (2.8.2)\n",
            "Requirement already satisfied: pyparsing>=2.2.1 in /usr/local/lib/python3.8/dist-packages (from matplotlib==3.5.1->d2l==2.0.0) (3.0.9)\n",
            "Collecting fonttools>=4.22.0\n",
            "  Downloading fonttools-4.38.0-py3-none-any.whl (965 kB)\n",
            "\u001b[K     |████████████████████████████████| 965 kB 82.2 MB/s \n",
            "\u001b[?25hRequirement already satisfied: kiwisolver>=1.0.1 in /usr/local/lib/python3.8/dist-packages (from matplotlib==3.5.1->d2l==2.0.0) (1.4.4)\n",
            "Requirement already satisfied: cycler>=0.10 in /usr/local/lib/python3.8/dist-packages (from matplotlib==3.5.1->d2l==2.0.0) (0.11.0)\n",
            "Requirement already satisfied: pillow>=6.2.0 in /usr/local/lib/python3.8/dist-packages (from matplotlib==3.5.1->d2l==2.0.0) (7.1.2)\n",
            "Requirement already satisfied: pytz>=2017.3 in /usr/local/lib/python3.8/dist-packages (from pandas==1.2.4->d2l==2.0.0) (2022.6)\n",
            "Requirement already satisfied: chardet<5,>=3.0.2 in /usr/local/lib/python3.8/dist-packages (from requests==2.25.1->d2l==2.0.0) (3.0.4)\n",
            "Requirement already satisfied: urllib3<1.27,>=1.21.1 in /usr/local/lib/python3.8/dist-packages (from requests==2.25.1->d2l==2.0.0) (1.24.3)\n",
            "Requirement already satisfied: certifi>=2017.4.17 in /usr/local/lib/python3.8/dist-packages (from requests==2.25.1->d2l==2.0.0) (2022.9.24)\n",
            "Requirement already satisfied: idna<3,>=2.5 in /usr/local/lib/python3.8/dist-packages (from requests==2.25.1->d2l==2.0.0) (2.10)\n",
            "Requirement already satisfied: six>=1.5 in /usr/local/lib/python3.8/dist-packages (from python-dateutil>=2.7->matplotlib==3.5.1->d2l==2.0.0) (1.15.0)\n",
            "Requirement already satisfied: jupyter-client in /usr/local/lib/python3.8/dist-packages (from ipykernel->jupyter==1.0.0->d2l==2.0.0) (6.1.12)\n",
            "Requirement already satisfied: tornado>=4.2 in /usr/local/lib/python3.8/dist-packages (from ipykernel->jupyter==1.0.0->d2l==2.0.0) (6.0.4)\n",
            "Requirement already satisfied: ipython>=5.0.0 in /usr/local/lib/python3.8/dist-packages (from ipykernel->jupyter==1.0.0->d2l==2.0.0) (7.9.0)\n",
            "Requirement already satisfied: traitlets>=4.1.0 in /usr/local/lib/python3.8/dist-packages (from ipykernel->jupyter==1.0.0->d2l==2.0.0) (5.6.0)\n",
            "Requirement already satisfied: pygments in /usr/local/lib/python3.8/dist-packages (from ipython>=5.0.0->ipykernel->jupyter==1.0.0->d2l==2.0.0) (2.6.1)\n",
            "Requirement already satisfied: pexpect in /usr/local/lib/python3.8/dist-packages (from ipython>=5.0.0->ipykernel->jupyter==1.0.0->d2l==2.0.0) (4.8.0)\n",
            "Requirement already satisfied: prompt-toolkit<2.1.0,>=2.0.0 in /usr/local/lib/python3.8/dist-packages (from ipython>=5.0.0->ipykernel->jupyter==1.0.0->d2l==2.0.0) (2.0.10)\n",
            "Requirement already satisfied: decorator in /usr/local/lib/python3.8/dist-packages (from ipython>=5.0.0->ipykernel->jupyter==1.0.0->d2l==2.0.0) (4.4.2)\n",
            "Requirement already satisfied: setuptools>=18.5 in /usr/local/lib/python3.8/dist-packages (from ipython>=5.0.0->ipykernel->jupyter==1.0.0->d2l==2.0.0) (57.4.0)\n",
            "Collecting jedi>=0.10\n",
            "  Downloading jedi-0.18.2-py2.py3-none-any.whl (1.6 MB)\n",
            "\u001b[K     |████████████████████████████████| 1.6 MB 67.7 MB/s \n",
            "\u001b[?25hRequirement already satisfied: backcall in /usr/local/lib/python3.8/dist-packages (from ipython>=5.0.0->ipykernel->jupyter==1.0.0->d2l==2.0.0) (0.2.0)\n",
            "Requirement already satisfied: pickleshare in /usr/local/lib/python3.8/dist-packages (from ipython>=5.0.0->ipykernel->jupyter==1.0.0->d2l==2.0.0) (0.7.5)\n",
            "Requirement already satisfied: parso<0.9.0,>=0.8.0 in /usr/local/lib/python3.8/dist-packages (from jedi>=0.10->ipython>=5.0.0->ipykernel->jupyter==1.0.0->d2l==2.0.0) (0.8.3)\n",
            "Requirement already satisfied: wcwidth in /usr/local/lib/python3.8/dist-packages (from prompt-toolkit<2.1.0,>=2.0.0->ipython>=5.0.0->ipykernel->jupyter==1.0.0->d2l==2.0.0) (0.2.5)\n",
            "Requirement already satisfied: ipython-genutils~=0.2.0 in /usr/local/lib/python3.8/dist-packages (from ipywidgets->jupyter==1.0.0->d2l==2.0.0) (0.2.0)\n",
            "Requirement already satisfied: jupyterlab-widgets>=1.0.0 in /usr/local/lib/python3.8/dist-packages (from ipywidgets->jupyter==1.0.0->d2l==2.0.0) (3.0.3)\n",
            "Requirement already satisfied: widgetsnbextension~=3.6.0 in /usr/local/lib/python3.8/dist-packages (from ipywidgets->jupyter==1.0.0->d2l==2.0.0) (3.6.1)\n",
            "Requirement already satisfied: jupyter-core>=4.4.0 in /usr/local/lib/python3.8/dist-packages (from notebook->jupyter==1.0.0->d2l==2.0.0) (5.1.0)\n",
            "Requirement already satisfied: nbformat in /usr/local/lib/python3.8/dist-packages (from notebook->jupyter==1.0.0->d2l==2.0.0) (5.7.0)\n",
            "Requirement already satisfied: prometheus-client in /usr/local/lib/python3.8/dist-packages (from notebook->jupyter==1.0.0->d2l==2.0.0) (0.15.0)\n",
            "Requirement already satisfied: Send2Trash in /usr/local/lib/python3.8/dist-packages (from notebook->jupyter==1.0.0->d2l==2.0.0) (1.8.0)\n",
            "Requirement already satisfied: jinja2<=3.0.0 in /usr/local/lib/python3.8/dist-packages (from notebook->jupyter==1.0.0->d2l==2.0.0) (2.11.3)\n",
            "Requirement already satisfied: pyzmq>=17 in /usr/local/lib/python3.8/dist-packages (from notebook->jupyter==1.0.0->d2l==2.0.0) (23.2.1)\n",
            "Requirement already satisfied: terminado>=0.8.1 in /usr/local/lib/python3.8/dist-packages (from notebook->jupyter==1.0.0->d2l==2.0.0) (0.13.3)\n",
            "Requirement already satisfied: MarkupSafe>=0.23 in /usr/local/lib/python3.8/dist-packages (from jinja2<=3.0.0->notebook->jupyter==1.0.0->d2l==2.0.0) (2.0.1)\n",
            "Requirement already satisfied: platformdirs>=2.5 in /usr/local/lib/python3.8/dist-packages (from jupyter-core>=4.4.0->notebook->jupyter==1.0.0->d2l==2.0.0) (2.5.4)\n",
            "Requirement already satisfied: mistune<2,>=0.8.1 in /usr/local/lib/python3.8/dist-packages (from nbconvert->jupyter==1.0.0->d2l==2.0.0) (0.8.4)\n",
            "Requirement already satisfied: entrypoints>=0.2.2 in /usr/local/lib/python3.8/dist-packages (from nbconvert->jupyter==1.0.0->d2l==2.0.0) (0.4)\n",
            "Requirement already satisfied: defusedxml in /usr/local/lib/python3.8/dist-packages (from nbconvert->jupyter==1.0.0->d2l==2.0.0) (0.7.1)\n",
            "Requirement already satisfied: bleach in /usr/local/lib/python3.8/dist-packages (from nbconvert->jupyter==1.0.0->d2l==2.0.0) (5.0.1)\n",
            "Requirement already satisfied: pandocfilters>=1.4.1 in /usr/local/lib/python3.8/dist-packages (from nbconvert->jupyter==1.0.0->d2l==2.0.0) (1.5.0)\n",
            "Requirement already satisfied: testpath in /usr/local/lib/python3.8/dist-packages (from nbconvert->jupyter==1.0.0->d2l==2.0.0) (0.6.0)\n",
            "Requirement already satisfied: jsonschema>=2.6 in /usr/local/lib/python3.8/dist-packages (from nbformat->notebook->jupyter==1.0.0->d2l==2.0.0) (4.3.3)\n",
            "Requirement already satisfied: fastjsonschema in /usr/local/lib/python3.8/dist-packages (from nbformat->notebook->jupyter==1.0.0->d2l==2.0.0) (2.16.2)\n",
            "Requirement already satisfied: attrs>=17.4.0 in /usr/local/lib/python3.8/dist-packages (from jsonschema>=2.6->nbformat->notebook->jupyter==1.0.0->d2l==2.0.0) (22.1.0)\n",
            "Requirement already satisfied: pyrsistent!=0.17.0,!=0.17.1,!=0.17.2,>=0.14.0 in /usr/local/lib/python3.8/dist-packages (from jsonschema>=2.6->nbformat->notebook->jupyter==1.0.0->d2l==2.0.0) (0.19.2)\n",
            "Requirement already satisfied: importlib-resources>=1.4.0 in /usr/local/lib/python3.8/dist-packages (from jsonschema>=2.6->nbformat->notebook->jupyter==1.0.0->d2l==2.0.0) (5.10.0)\n",
            "Requirement already satisfied: zipp>=3.1.0 in /usr/local/lib/python3.8/dist-packages (from importlib-resources>=1.4.0->jsonschema>=2.6->nbformat->notebook->jupyter==1.0.0->d2l==2.0.0) (3.11.0)\n",
            "Requirement already satisfied: ptyprocess in /usr/local/lib/python3.8/dist-packages (from terminado>=0.8.1->notebook->jupyter==1.0.0->d2l==2.0.0) (0.7.0)\n",
            "Requirement already satisfied: webencodings in /usr/local/lib/python3.8/dist-packages (from bleach->nbconvert->jupyter==1.0.0->d2l==2.0.0) (0.5.1)\n",
            "Collecting qtpy>=2.0.1\n",
            "  Downloading QtPy-2.3.0-py3-none-any.whl (83 kB)\n",
            "\u001b[K     |████████████████████████████████| 83 kB 2.6 MB/s \n",
            "\u001b[?25hBuilding wheels for collected packages: d2l\n",
            "  Building wheel for d2l (setup.py) ... \u001b[?25l\u001b[?25hdone\n",
            "  Created wheel for d2l: filename=d2l-2.0.0-py3-none-any.whl size=111040 sha256=1f04628aebaadd77ae9141b45f54727d2c45786ef2ce91f9d9441239c23db7c2\n",
            "  Stored in directory: /tmp/pip-ephem-wheel-cache-sxajizwl/wheels/e6/b3/a5/6d60cbd92e523d2ed8e65c7b444ae1850196d21db7c3694d62\n",
            "Successfully built d2l\n",
            "Installing collected packages: jedi, qtpy, qtconsole, numpy, fonttools, requests, pandas, matplotlib, jupyter, d2l\n",
            "  Attempting uninstall: numpy\n",
            "    Found existing installation: numpy 1.21.6\n",
            "    Uninstalling numpy-1.21.6:\n",
            "      Successfully uninstalled numpy-1.21.6\n",
            "  Attempting uninstall: requests\n",
            "    Found existing installation: requests 2.23.0\n",
            "    Uninstalling requests-2.23.0:\n",
            "      Successfully uninstalled requests-2.23.0\n",
            "  Attempting uninstall: pandas\n",
            "    Found existing installation: pandas 1.3.5\n",
            "    Uninstalling pandas-1.3.5:\n",
            "      Successfully uninstalled pandas-1.3.5\n",
            "  Attempting uninstall: matplotlib\n",
            "    Found existing installation: matplotlib 3.2.2\n",
            "    Uninstalling matplotlib-3.2.2:\n",
            "      Successfully uninstalled matplotlib-3.2.2\n",
            "Successfully installed d2l-2.0.0 fonttools-4.38.0 jedi-0.18.2 jupyter-1.0.0 matplotlib-3.5.1 numpy-1.21.5 pandas-1.2.4 qtconsole-5.4.0 qtpy-2.3.0 requests-2.25.1\n"
          ]
        },
        {
          "output_type": "display_data",
          "data": {
            "application/vnd.colab-display-data+json": {
              "pip_warning": {
                "packages": [
                  "matplotlib",
                  "mpl_toolkits",
                  "numpy"
                ]
              }
            }
          },
          "metadata": {}
        }
      ],
      "source": [
        "!pip install git+https://github.com/d2l-ai/d2l-zh@release  # installing d2l"
      ]
    },
    {
      "cell_type": "code",
      "source": [
        "pip install matplotlib-inline"
      ],
      "metadata": {
        "colab": {
          "base_uri": "https://localhost:8080/"
        },
        "id": "B0YijN4Yysno",
        "outputId": "fbf26c59-b2d3-4e37-9e8d-c011190be41c"
      },
      "execution_count": null,
      "outputs": [
        {
          "output_type": "stream",
          "name": "stdout",
          "text": [
            "Looking in indexes: https://pypi.org/simple, https://us-python.pkg.dev/colab-wheels/public/simple/\n",
            "Collecting matplotlib-inline\n",
            "  Downloading matplotlib_inline-0.1.6-py3-none-any.whl (9.4 kB)\n",
            "Requirement already satisfied: traitlets in /usr/local/lib/python3.8/dist-packages (from matplotlib-inline) (5.6.0)\n",
            "Installing collected packages: matplotlib-inline\n",
            "Successfully installed matplotlib-inline-0.1.6\n"
          ]
        }
      ]
    },
    {
      "cell_type": "code",
      "source": [
        "import os\n",
        "import pathlib\n",
        "import pandas as pd\n",
        "import numpy as np\n",
        "import torch\n",
        "from torch.utils.data import Dataset,DataLoader\n",
        "from torch import nn\n",
        "from sklearn.model_selection import train_test_split\n",
        "\n",
        "import json\n",
        "import multiprocessing\n",
        "import glob"
      ],
      "metadata": {
        "id": "48QoLuYDyvvb"
      },
      "execution_count": null,
      "outputs": []
    },
    {
      "cell_type": "code",
      "source": [
        "from d2l import torch as d2l"
      ],
      "metadata": {
        "id": "vqvIh5o-yxX5"
      },
      "execution_count": null,
      "outputs": []
    },
    {
      "cell_type": "code",
      "source": [
        "d2l.DATA_HUB['bert.base'] = (d2l.DATA_URL + 'bert.base.torch.zip',\n",
        "                             '225d66f04cae318b841a13d32af3acc165f253ac')\n",
        "d2l.DATA_HUB['bert.small'] = (d2l.DATA_URL + 'bert.small.torch.zip',\n",
        "                              'c72329e68a732bef0452e4b96a1c341c8910f81f')"
      ],
      "metadata": {
        "id": "kaoE0khzc5gc"
      },
      "execution_count": null,
      "outputs": []
    },
    {
      "cell_type": "code",
      "source": [
        "def load_pretrained_model(pretrained_model, num_hiddens, ffn_num_hiddens,\n",
        "                          num_heads, num_layers, dropout, max_len, devices):\n",
        "    data_dir = d2l.download_extract(pretrained_model)\n",
        "    vocab = d2l.Vocab()\n",
        "    vocab.idx_to_token = json.load(open(os.path.join(data_dir,\n",
        "        'vocab.json')))\n",
        "    vocab.token_to_idx = {token: idx for idx, token in enumerate(\n",
        "        vocab.idx_to_token)}\n",
        "    bert = d2l.BERTModel(len(vocab), num_hiddens, norm_shape=[256],\n",
        "                         ffn_num_input=256, ffn_num_hiddens=ffn_num_hiddens,\n",
        "                         num_heads=4, num_layers=2, dropout=0.2,\n",
        "                         max_len=max_len, key_size=256, query_size=256,\n",
        "                         value_size=256, hid_in_features=256,\n",
        "                         mlm_in_features=256, nsp_in_features=256)\n",
        "    # load pretrained BERT params\n",
        "    bert.load_state_dict(torch.load(os.path.join(data_dir,\n",
        "                                                 'pretrained.params')))\n",
        "    return bert, vocab"
      ],
      "metadata": {
        "id": "2qdUaiHkc_x7"
      },
      "execution_count": null,
      "outputs": []
    },
    {
      "cell_type": "code",
      "source": [
        "devices = d2l.try_all_gpus()\n",
        "bert, vocab = load_pretrained_model(\n",
        "    'bert.small', num_hiddens=256, ffn_num_hiddens=512, num_heads=4,\n",
        "    num_layers=2, dropout=0.1, max_len=512, devices=devices)"
      ],
      "metadata": {
        "colab": {
          "base_uri": "https://localhost:8080/"
        },
        "id": "pTxKc4CodA54",
        "outputId": "a7a45de8-c681-4c07-be1f-b5e0a7c6e7ff"
      },
      "execution_count": null,
      "outputs": [
        {
          "output_type": "stream",
          "name": "stdout",
          "text": [
            "正在从http://d2l-data.s3-accelerate.amazonaws.com/bert.small.torch.zip下载../data/bert.small.torch.zip...\n"
          ]
        }
      ]
    },
    {
      "cell_type": "code",
      "source": [
        "print(type(vocab.idx_to_token))\n",
        "len(vocab.idx_to_token)"
      ],
      "metadata": {
        "colab": {
          "base_uri": "https://localhost:8080/"
        },
        "id": "zLlNlHajdCpD",
        "outputId": "cf39c466-7101-4c1f-e936-92340b0cbdc8"
      },
      "execution_count": null,
      "outputs": [
        {
          "output_type": "stream",
          "name": "stdout",
          "text": [
            "<class 'list'>\n"
          ]
        },
        {
          "output_type": "execute_result",
          "data": {
            "text/plain": [
              "60005"
            ]
          },
          "metadata": {},
          "execution_count": 7
        }
      ]
    },
    {
      "cell_type": "markdown",
      "source": [
        "# Data preprocessing\n",
        "\n",
        "## put patients or healthy subject's acquisitions to EEG folders\n",
        "\n",
        "## patient's data without 134733100.0 are 24 rows (global min)\n",
        "## (17, 24, 8000)\n",
        "## (16, 24, 8000)\n",
        "\n",
        "## for healthy subjcts is 29"
      ],
      "metadata": {
        "id": "8YoZbuCWdEwh"
      }
    },
    {
      "cell_type": "code",
      "source": [
        "class EEGLoader(Dataset):\n",
        "  def __init__(self,root):\n",
        "    super(EEGLoader,self).__init__()\n",
        "    self.root = root\n",
        "    self.name2label = {}\n",
        "    for name in sorted(os.listdir(os.path.join(root))):\n",
        "      if not os.path.isdir(os.path.join(root,name)):\n",
        "        continue\n",
        "      self.name2label[name] = len(self.name2label.keys())\n",
        "    print(self.name2label)\n",
        "\n",
        "    # no enough data, so split two dataset manually. Just in case use shuffle,split will get only one or two samples for test \n",
        "    # assert len(data) == len(labels)\n",
        "\n",
        "\n",
        "  # def load_csv(self,filename):\n",
        "  #     data  = []\n",
        "  #     for name in self.name2label.keys():\n",
        "  #       print(\"name\",name)\n",
        "  #       data +=glob.glob(os.path.join(self.root,name,'*.csv'))\n",
        "  #       # 。split(os.sep)[-2]\n",
        "  #     print(len(data),data)\n",
        "\n",
        "\n",
        "  def load_csv(self,foldername):\n",
        "      # data  = []\n",
        "      data =glob.glob(os.path.join(self.root,foldername,'*.csv'))\n",
        "      # 。split(os.sep)[-2]\n",
        "      print(len(data),data)\n",
        "\n",
        "      res = []\n",
        "      for file in data:\n",
        "        EEGMatrix = pd.read_csv(file,header=None).values\n",
        "        EEGwithoutConstantValue = []\n",
        "        for channel in EEGMatrix:\n",
        "          # print(\"channel len\",len(channel))\n",
        "          # for testing since number of each acquisition's unique channels without 134733100 is different. get min number 29 rows first. Do data preprocessing to reduce channels to 17 later.\n",
        "          if 134733100.0 in channel:\n",
        "            continue\n",
        "          EEGwithoutConstantValue.append(channel)\n",
        "        # print(np.array(EEGwithoutConstantValue).shape)\n",
        "        EEGwithoutConstantValue = EEGwithoutConstantValue[:24]\n",
        "        # print(np.array(EEGwithoutConstantValue).shape)\n",
        "        res.append(EEGwithoutConstantValue)\n",
        "      return res\n",
        "  \n",
        "\n",
        "  def __len__(self):\n",
        "      pass\n",
        "\n",
        "  def __getitem__(self,idx):\n",
        "      pass\n",
        "data = EEGLoader('/content/drive/MyDrive/EEG')\n",
        "\n",
        "resting_list = data.load_csv(\"01-health\")\n",
        "music_list = data.load_csv(\"08-health\")\n",
        "\n",
        "print(np.array(resting_list).shape)\n",
        "print(np.array(music_list).shape)\n",
        "\n",
        "# 9,24,8000\n",
        "# acqusition, channel, feature\n",
        "\n",
        "\n",
        "# 9,24*128,400\n"
      ],
      "metadata": {
        "colab": {
          "base_uri": "https://localhost:8080/"
        },
        "id": "IhLP9pt_yzGf",
        "outputId": "e4ff2c4c-2d58-4f5c-9e07-47fa66d4e587"
      },
      "execution_count": null,
      "outputs": [
        {
          "output_type": "stream",
          "name": "stdout",
          "text": [
            "{'01': 0, '01-health': 1, '01-previous': 2, '08': 3, '08-health': 4, '08-previous': 5}\n",
            "90 ['/content/drive/MyDrive/EEG/01-health/Acquisition 19-rawTrigger8-1.csv', '/content/drive/MyDrive/EEG/01-health/Acquisition 19-rawTrigger8-3.csv', '/content/drive/MyDrive/EEG/01-health/Acquisition 19-rawTrigger8-5.csv', '/content/drive/MyDrive/EEG/01-health/Acquisition 19-rawTrigger8-4.csv', '/content/drive/MyDrive/EEG/01-health/Acquisition 19-rawTrigger8-2.csv', '/content/drive/MyDrive/EEG/01-health/Acquisition 19-rawTrigger8-9.csv', '/content/drive/MyDrive/EEG/01-health/Acquisition 19-rawTrigger8-6.csv', '/content/drive/MyDrive/EEG/01-health/Acquisition 19-rawTrigger8-8.csv', '/content/drive/MyDrive/EEG/01-health/Acquisition 19-rawTrigger8-7.csv', '/content/drive/MyDrive/EEG/01-health/Acquisition 19-rawTrigger8-10.csv', '/content/drive/MyDrive/EEG/01-health/Acquisition 20-rawTrigger8-3.csv', '/content/drive/MyDrive/EEG/01-health/Acquisition 20-rawTrigger8-1.csv', '/content/drive/MyDrive/EEG/01-health/Acquisition 20-rawTrigger8-2.csv', '/content/drive/MyDrive/EEG/01-health/Acquisition 20-rawTrigger8-4.csv', '/content/drive/MyDrive/EEG/01-health/Acquisition 20-rawTrigger8-7.csv', '/content/drive/MyDrive/EEG/01-health/Acquisition 20-rawTrigger8-6.csv', '/content/drive/MyDrive/EEG/01-health/Acquisition 20-rawTrigger8-5.csv', '/content/drive/MyDrive/EEG/01-health/Acquisition 20-rawTrigger8-8.csv', '/content/drive/MyDrive/EEG/01-health/Acquisition 20-rawTrigger8-9.csv', '/content/drive/MyDrive/EEG/01-health/Acquisition 20-rawTrigger8-10.csv', '/content/drive/MyDrive/EEG/01-health/Acquisition 21-rawTrigger8-2.csv', '/content/drive/MyDrive/EEG/01-health/Acquisition 21-rawTrigger8-3.csv', '/content/drive/MyDrive/EEG/01-health/Acquisition 21-rawTrigger8-1.csv', '/content/drive/MyDrive/EEG/01-health/Acquisition 21-rawTrigger8-4.csv', '/content/drive/MyDrive/EEG/01-health/Acquisition 21-rawTrigger8-6.csv', '/content/drive/MyDrive/EEG/01-health/Acquisition 21-rawTrigger8-7.csv', '/content/drive/MyDrive/EEG/01-health/Acquisition 21-rawTrigger8-5.csv', '/content/drive/MyDrive/EEG/01-health/Acquisition 21-rawTrigger8-8.csv', '/content/drive/MyDrive/EEG/01-health/Acquisition 21-rawTrigger8-10.csv', '/content/drive/MyDrive/EEG/01-health/Acquisition 21-rawTrigger8-9.csv', '/content/drive/MyDrive/EEG/01-health/Acquisition 24-rawTrigger8-4.csv', '/content/drive/MyDrive/EEG/01-health/Acquisition 24-rawTrigger8-1.csv', '/content/drive/MyDrive/EEG/01-health/Acquisition 24-rawTrigger8-2.csv', '/content/drive/MyDrive/EEG/01-health/Acquisition 24-rawTrigger8-3.csv', '/content/drive/MyDrive/EEG/01-health/Acquisition 24-rawTrigger8-9.csv', '/content/drive/MyDrive/EEG/01-health/Acquisition 24-rawTrigger8-5.csv', '/content/drive/MyDrive/EEG/01-health/Acquisition 24-rawTrigger8-7.csv', '/content/drive/MyDrive/EEG/01-health/Acquisition 24-rawTrigger8-8.csv', '/content/drive/MyDrive/EEG/01-health/Acquisition 24-rawTrigger8-6.csv', '/content/drive/MyDrive/EEG/01-health/Acquisition 24-rawTrigger8-10.csv', '/content/drive/MyDrive/EEG/01-health/Acquisition 25-rawTrigger8-1.csv', '/content/drive/MyDrive/EEG/01-health/Acquisition 25-rawTrigger8-2.csv', '/content/drive/MyDrive/EEG/01-health/Acquisition 25-rawTrigger8-3.csv', '/content/drive/MyDrive/EEG/01-health/Acquisition 25-rawTrigger8-4.csv', '/content/drive/MyDrive/EEG/01-health/Acquisition 25-rawTrigger8-6.csv', '/content/drive/MyDrive/EEG/01-health/Acquisition 25-rawTrigger8-5.csv', '/content/drive/MyDrive/EEG/01-health/Acquisition 25-rawTrigger8-10.csv', '/content/drive/MyDrive/EEG/01-health/Acquisition 25-rawTrigger8-7.csv', '/content/drive/MyDrive/EEG/01-health/Acquisition 25-rawTrigger8-8.csv', '/content/drive/MyDrive/EEG/01-health/Acquisition 25-rawTrigger8-9.csv', '/content/drive/MyDrive/EEG/01-health/Acquisition 27-rawTrigger8-1.csv', '/content/drive/MyDrive/EEG/01-health/Acquisition 27-rawTrigger8-3.csv', '/content/drive/MyDrive/EEG/01-health/Acquisition 27-rawTrigger8-4.csv', '/content/drive/MyDrive/EEG/01-health/Acquisition 27-rawTrigger8-6.csv', '/content/drive/MyDrive/EEG/01-health/Acquisition 27-rawTrigger8-2.csv', '/content/drive/MyDrive/EEG/01-health/Acquisition 27-rawTrigger8-5.csv', '/content/drive/MyDrive/EEG/01-health/Acquisition 27-rawTrigger8-9.csv', '/content/drive/MyDrive/EEG/01-health/Acquisition 27-rawTrigger8-7.csv', '/content/drive/MyDrive/EEG/01-health/Acquisition 27-rawTrigger8-10.csv', '/content/drive/MyDrive/EEG/01-health/Acquisition 27-rawTrigger8-8.csv', '/content/drive/MyDrive/EEG/01-health/Acquisition 28-rawTrigger8-2.csv', '/content/drive/MyDrive/EEG/01-health/Acquisition 28-rawTrigger8-1.csv', '/content/drive/MyDrive/EEG/01-health/Acquisition 28-rawTrigger8-4.csv', '/content/drive/MyDrive/EEG/01-health/Acquisition 28-rawTrigger8-3.csv', '/content/drive/MyDrive/EEG/01-health/Acquisition 28-rawTrigger8-6.csv', '/content/drive/MyDrive/EEG/01-health/Acquisition 28-rawTrigger8-5.csv', '/content/drive/MyDrive/EEG/01-health/Acquisition 28-rawTrigger8-9.csv', '/content/drive/MyDrive/EEG/01-health/Acquisition 28-rawTrigger8-7.csv', '/content/drive/MyDrive/EEG/01-health/Acquisition 28-rawTrigger8-10.csv', '/content/drive/MyDrive/EEG/01-health/Acquisition 28-rawTrigger8-8.csv', '/content/drive/MyDrive/EEG/01-health/Acquisition 36-rawTrigger8-3.csv', '/content/drive/MyDrive/EEG/01-health/Acquisition 36-rawTrigger8-1.csv', '/content/drive/MyDrive/EEG/01-health/Acquisition 36-rawTrigger8-2.csv', '/content/drive/MyDrive/EEG/01-health/Acquisition 36-rawTrigger8-4.csv', '/content/drive/MyDrive/EEG/01-health/Acquisition 36-rawTrigger8-5.csv', '/content/drive/MyDrive/EEG/01-health/Acquisition 36-rawTrigger8-7.csv', '/content/drive/MyDrive/EEG/01-health/Acquisition 36-rawTrigger8-6.csv', '/content/drive/MyDrive/EEG/01-health/Acquisition 36-rawTrigger8-8.csv', '/content/drive/MyDrive/EEG/01-health/Acquisition 36-rawTrigger8-9.csv', '/content/drive/MyDrive/EEG/01-health/Acquisition 36-rawTrigger8-10.csv', '/content/drive/MyDrive/EEG/01-health/Acquisition 38-rawTrigger8-4.csv', '/content/drive/MyDrive/EEG/01-health/Acquisition 38-rawTrigger8-2.csv', '/content/drive/MyDrive/EEG/01-health/Acquisition 38-rawTrigger8-1.csv', '/content/drive/MyDrive/EEG/01-health/Acquisition 38-rawTrigger8-3.csv', '/content/drive/MyDrive/EEG/01-health/Acquisition 38-rawTrigger8-5.csv', '/content/drive/MyDrive/EEG/01-health/Acquisition 38-rawTrigger8-8.csv', '/content/drive/MyDrive/EEG/01-health/Acquisition 38-rawTrigger8-7.csv', '/content/drive/MyDrive/EEG/01-health/Acquisition 38-rawTrigger8-6.csv', '/content/drive/MyDrive/EEG/01-health/Acquisition 38-rawTrigger8-10.csv', '/content/drive/MyDrive/EEG/01-health/Acquisition 38-rawTrigger8-9.csv']\n",
            "192 ['/content/drive/MyDrive/EEG/08-health/Acquisition 19-rawTrigger8-1.csv', '/content/drive/MyDrive/EEG/08-health/Acquisition 19-rawTrigger8-3.csv', '/content/drive/MyDrive/EEG/08-health/Acquisition 19-rawTrigger8-4.csv', '/content/drive/MyDrive/EEG/08-health/Acquisition 19-rawTrigger8-6.csv', '/content/drive/MyDrive/EEG/08-health/Acquisition 19-rawTrigger8-7.csv', '/content/drive/MyDrive/EEG/08-health/Acquisition 19-rawTrigger8-5.csv', '/content/drive/MyDrive/EEG/08-health/Acquisition 19-rawTrigger8-2.csv', '/content/drive/MyDrive/EEG/08-health/Acquisition 19-rawTrigger8-11.csv', '/content/drive/MyDrive/EEG/08-health/Acquisition 19-rawTrigger8-9.csv', '/content/drive/MyDrive/EEG/08-health/Acquisition 19-rawTrigger8-8.csv', '/content/drive/MyDrive/EEG/08-health/Acquisition 19-rawTrigger8-10.csv', '/content/drive/MyDrive/EEG/08-health/Acquisition 19-rawTrigger8-12.csv', '/content/drive/MyDrive/EEG/08-health/Acquisition 19-rawTrigger8-15.csv', '/content/drive/MyDrive/EEG/08-health/Acquisition 19-rawTrigger8-13.csv', '/content/drive/MyDrive/EEG/08-health/Acquisition 19-rawTrigger8-14.csv', '/content/drive/MyDrive/EEG/08-health/Acquisition 19-rawTrigger8-16.csv', '/content/drive/MyDrive/EEG/08-health/Acquisition 19-rawTrigger8-18.csv', '/content/drive/MyDrive/EEG/08-health/Acquisition 19-rawTrigger8-17.csv', '/content/drive/MyDrive/EEG/08-health/Acquisition 20-rawTrigger8-1.csv', '/content/drive/MyDrive/EEG/08-health/Acquisition 20-rawTrigger8-2.csv', '/content/drive/MyDrive/EEG/08-health/Acquisition 20-rawTrigger8-4.csv', '/content/drive/MyDrive/EEG/08-health/Acquisition 20-rawTrigger8-6.csv', '/content/drive/MyDrive/EEG/08-health/Acquisition 20-rawTrigger8-5.csv', '/content/drive/MyDrive/EEG/08-health/Acquisition 20-rawTrigger8-3.csv', '/content/drive/MyDrive/EEG/08-health/Acquisition 20-rawTrigger8-11.csv', '/content/drive/MyDrive/EEG/08-health/Acquisition 20-rawTrigger8-9.csv', '/content/drive/MyDrive/EEG/08-health/Acquisition 20-rawTrigger8-7.csv', '/content/drive/MyDrive/EEG/08-health/Acquisition 20-rawTrigger8-10.csv', '/content/drive/MyDrive/EEG/08-health/Acquisition 20-rawTrigger8-8.csv', '/content/drive/MyDrive/EEG/08-health/Acquisition 20-rawTrigger8-12.csv', '/content/drive/MyDrive/EEG/08-health/Acquisition 20-rawTrigger8-14.csv', '/content/drive/MyDrive/EEG/08-health/Acquisition 20-rawTrigger8-16.csv', '/content/drive/MyDrive/EEG/08-health/Acquisition 20-rawTrigger8-13.csv', '/content/drive/MyDrive/EEG/08-health/Acquisition 20-rawTrigger8-15.csv', '/content/drive/MyDrive/EEG/08-health/Acquisition 20-rawTrigger8-18.csv', '/content/drive/MyDrive/EEG/08-health/Acquisition 20-rawTrigger8-20.csv', '/content/drive/MyDrive/EEG/08-health/Acquisition 20-rawTrigger8-17.csv', '/content/drive/MyDrive/EEG/08-health/Acquisition 20-rawTrigger8-19.csv', '/content/drive/MyDrive/EEG/08-health/Acquisition 21-rawTrigger8-3.csv', '/content/drive/MyDrive/EEG/08-health/Acquisition 21-rawTrigger8-1.csv', '/content/drive/MyDrive/EEG/08-health/Acquisition 21-rawTrigger8-2.csv', '/content/drive/MyDrive/EEG/08-health/Acquisition 21-rawTrigger8-4.csv', '/content/drive/MyDrive/EEG/08-health/Acquisition 21-rawTrigger8-6.csv', '/content/drive/MyDrive/EEG/08-health/Acquisition 21-rawTrigger8-5.csv', '/content/drive/MyDrive/EEG/08-health/Acquisition 21-rawTrigger8-7.csv', '/content/drive/MyDrive/EEG/08-health/Acquisition 21-rawTrigger8-11.csv', '/content/drive/MyDrive/EEG/08-health/Acquisition 21-rawTrigger8-9.csv', '/content/drive/MyDrive/EEG/08-health/Acquisition 21-rawTrigger8-10.csv', '/content/drive/MyDrive/EEG/08-health/Acquisition 21-rawTrigger8-12.csv', '/content/drive/MyDrive/EEG/08-health/Acquisition 21-rawTrigger8-8.csv', '/content/drive/MyDrive/EEG/08-health/Acquisition 21-rawTrigger8-15.csv', '/content/drive/MyDrive/EEG/08-health/Acquisition 21-rawTrigger8-13.csv', '/content/drive/MyDrive/EEG/08-health/Acquisition 21-rawTrigger8-14.csv', '/content/drive/MyDrive/EEG/08-health/Acquisition 21-rawTrigger8-16.csv', '/content/drive/MyDrive/EEG/08-health/Acquisition 21-rawTrigger8-19.csv', '/content/drive/MyDrive/EEG/08-health/Acquisition 21-rawTrigger8-17.csv', '/content/drive/MyDrive/EEG/08-health/Acquisition 21-rawTrigger8-18.csv', '/content/drive/MyDrive/EEG/08-health/Acquisition 21-rawTrigger8-20.csv', '/content/drive/MyDrive/EEG/08-health/Acquisition 24-rawTrigger8-1.csv', '/content/drive/MyDrive/EEG/08-health/Acquisition 24-rawTrigger8-2.csv', '/content/drive/MyDrive/EEG/08-health/Acquisition 24-rawTrigger8-5.csv', '/content/drive/MyDrive/EEG/08-health/Acquisition 24-rawTrigger8-4.csv', '/content/drive/MyDrive/EEG/08-health/Acquisition 24-rawTrigger8-6.csv', '/content/drive/MyDrive/EEG/08-health/Acquisition 24-rawTrigger8-3.csv', '/content/drive/MyDrive/EEG/08-health/Acquisition 24-rawTrigger8-10.csv', '/content/drive/MyDrive/EEG/08-health/Acquisition 24-rawTrigger8-8.csv', '/content/drive/MyDrive/EEG/08-health/Acquisition 24-rawTrigger8-7.csv', '/content/drive/MyDrive/EEG/08-health/Acquisition 24-rawTrigger8-9.csv', '/content/drive/MyDrive/EEG/08-health/Acquisition 24-rawTrigger8-11.csv', '/content/drive/MyDrive/EEG/08-health/Acquisition 24-rawTrigger8-12.csv', '/content/drive/MyDrive/EEG/08-health/Acquisition 24-rawTrigger8-13.csv', '/content/drive/MyDrive/EEG/08-health/Acquisition 24-rawTrigger8-15.csv', '/content/drive/MyDrive/EEG/08-health/Acquisition 24-rawTrigger8-17.csv', '/content/drive/MyDrive/EEG/08-health/Acquisition 24-rawTrigger8-16.csv', '/content/drive/MyDrive/EEG/08-health/Acquisition 24-rawTrigger8-14.csv', '/content/drive/MyDrive/EEG/08-health/Acquisition 24-rawTrigger8-20.csv', '/content/drive/MyDrive/EEG/08-health/Acquisition 24-rawTrigger8-18.csv', '/content/drive/MyDrive/EEG/08-health/Acquisition 24-rawTrigger8-19.csv', '/content/drive/MyDrive/EEG/08-health/Acquisition 25-rawTrigger8-1.csv', '/content/drive/MyDrive/EEG/08-health/Acquisition 25-rawTrigger8-5.csv', '/content/drive/MyDrive/EEG/08-health/Acquisition 25-rawTrigger8-4.csv', '/content/drive/MyDrive/EEG/08-health/Acquisition 25-rawTrigger8-3.csv', '/content/drive/MyDrive/EEG/08-health/Acquisition 25-rawTrigger8-2.csv', '/content/drive/MyDrive/EEG/08-health/Acquisition 25-rawTrigger8-6.csv', '/content/drive/MyDrive/EEG/08-health/Acquisition 25-rawTrigger8-8.csv', '/content/drive/MyDrive/EEG/08-health/Acquisition 25-rawTrigger8-7.csv', '/content/drive/MyDrive/EEG/08-health/Acquisition 25-rawTrigger8-9.csv', '/content/drive/MyDrive/EEG/08-health/Acquisition 25-rawTrigger8-11.csv', '/content/drive/MyDrive/EEG/08-health/Acquisition 25-rawTrigger8-12.csv', '/content/drive/MyDrive/EEG/08-health/Acquisition 25-rawTrigger8-10.csv', '/content/drive/MyDrive/EEG/08-health/Acquisition 25-rawTrigger8-14.csv', '/content/drive/MyDrive/EEG/08-health/Acquisition 25-rawTrigger8-13.csv', '/content/drive/MyDrive/EEG/08-health/Acquisition 25-rawTrigger8-15.csv', '/content/drive/MyDrive/EEG/08-health/Acquisition 25-rawTrigger8-16.csv', '/content/drive/MyDrive/EEG/08-health/Acquisition 25-rawTrigger8-18.csv', '/content/drive/MyDrive/EEG/08-health/Acquisition 25-rawTrigger8-19.csv', '/content/drive/MyDrive/EEG/08-health/Acquisition 25-rawTrigger8-17.csv', '/content/drive/MyDrive/EEG/08-health/Acquisition 27-rawTrigger8-1.csv', '/content/drive/MyDrive/EEG/08-health/Acquisition 27-rawTrigger8-3.csv', '/content/drive/MyDrive/EEG/08-health/Acquisition 27-rawTrigger8-4.csv', '/content/drive/MyDrive/EEG/08-health/Acquisition 27-rawTrigger8-2.csv', '/content/drive/MyDrive/EEG/08-health/Acquisition 27-rawTrigger8-5.csv', '/content/drive/MyDrive/EEG/08-health/Acquisition 27-rawTrigger8-6.csv', '/content/drive/MyDrive/EEG/08-health/Acquisition 27-rawTrigger8-8.csv', '/content/drive/MyDrive/EEG/08-health/Acquisition 27-rawTrigger8-7.csv', '/content/drive/MyDrive/EEG/08-health/Acquisition 27-rawTrigger8-9.csv', '/content/drive/MyDrive/EEG/08-health/Acquisition 27-rawTrigger8-11.csv', '/content/drive/MyDrive/EEG/08-health/Acquisition 27-rawTrigger8-10.csv', '/content/drive/MyDrive/EEG/08-health/Acquisition 27-rawTrigger8-12.csv', '/content/drive/MyDrive/EEG/08-health/Acquisition 27-rawTrigger8-15.csv', '/content/drive/MyDrive/EEG/08-health/Acquisition 27-rawTrigger8-13.csv', '/content/drive/MyDrive/EEG/08-health/Acquisition 27-rawTrigger8-14.csv', '/content/drive/MyDrive/EEG/08-health/Acquisition 28-rawTrigger8-1.csv', '/content/drive/MyDrive/EEG/08-health/Acquisition 28-rawTrigger8-3.csv', '/content/drive/MyDrive/EEG/08-health/Acquisition 28-rawTrigger8-2.csv', '/content/drive/MyDrive/EEG/08-health/Acquisition 28-rawTrigger8-6.csv', '/content/drive/MyDrive/EEG/08-health/Acquisition 28-rawTrigger8-4.csv', '/content/drive/MyDrive/EEG/08-health/Acquisition 28-rawTrigger8-5.csv', '/content/drive/MyDrive/EEG/08-health/Acquisition 28-rawTrigger8-10.csv', '/content/drive/MyDrive/EEG/08-health/Acquisition 28-rawTrigger8-8.csv', '/content/drive/MyDrive/EEG/08-health/Acquisition 28-rawTrigger8-9.csv', '/content/drive/MyDrive/EEG/08-health/Acquisition 28-rawTrigger8-7.csv', '/content/drive/MyDrive/EEG/08-health/Acquisition 28-rawTrigger8-11.csv', '/content/drive/MyDrive/EEG/08-health/Acquisition 28-rawTrigger8-13.csv', '/content/drive/MyDrive/EEG/08-health/Acquisition 28-rawTrigger8-12.csv', '/content/drive/MyDrive/EEG/08-health/Acquisition 28-rawTrigger8-17.csv', '/content/drive/MyDrive/EEG/08-health/Acquisition 28-rawTrigger8-14.csv', '/content/drive/MyDrive/EEG/08-health/Acquisition 28-rawTrigger8-15.csv', '/content/drive/MyDrive/EEG/08-health/Acquisition 28-rawTrigger8-16.csv', '/content/drive/MyDrive/EEG/08-health/Acquisition 28-rawTrigger8-19.csv', '/content/drive/MyDrive/EEG/08-health/Acquisition 28-rawTrigger8-18.csv', '/content/drive/MyDrive/EEG/08-health/Acquisition 28-rawTrigger8-20.csv', '/content/drive/MyDrive/EEG/08-health/Acquisition 36-rawTrigger8-3.csv', '/content/drive/MyDrive/EEG/08-health/Acquisition 36-rawTrigger8-1.csv', '/content/drive/MyDrive/EEG/08-health/Acquisition 36-rawTrigger8-2.csv', '/content/drive/MyDrive/EEG/08-health/Acquisition 36-rawTrigger8-4.csv', '/content/drive/MyDrive/EEG/08-health/Acquisition 36-rawTrigger8-6.csv', '/content/drive/MyDrive/EEG/08-health/Acquisition 36-rawTrigger8-5.csv', '/content/drive/MyDrive/EEG/08-health/Acquisition 36-rawTrigger8-10.csv', '/content/drive/MyDrive/EEG/08-health/Acquisition 36-rawTrigger8-9.csv', '/content/drive/MyDrive/EEG/08-health/Acquisition 36-rawTrigger8-8.csv', '/content/drive/MyDrive/EEG/08-health/Acquisition 36-rawTrigger8-7.csv', '/content/drive/MyDrive/EEG/08-health/Acquisition 36-rawTrigger8-14.csv', '/content/drive/MyDrive/EEG/08-health/Acquisition 36-rawTrigger8-12.csv', '/content/drive/MyDrive/EEG/08-health/Acquisition 36-rawTrigger8-11.csv', '/content/drive/MyDrive/EEG/08-health/Acquisition 36-rawTrigger8-13.csv', '/content/drive/MyDrive/EEG/08-health/Acquisition 36-rawTrigger8-16.csv', '/content/drive/MyDrive/EEG/08-health/Acquisition 36-rawTrigger8-17.csv', '/content/drive/MyDrive/EEG/08-health/Acquisition 36-rawTrigger8-18.csv', '/content/drive/MyDrive/EEG/08-health/Acquisition 36-rawTrigger8-15.csv', '/content/drive/MyDrive/EEG/08-health/Acquisition 36-rawTrigger8-20.csv', '/content/drive/MyDrive/EEG/08-health/Acquisition 36-rawTrigger8-19.csv', '/content/drive/MyDrive/EEG/08-health/Acquisition 38-rawTrigger8-1.csv', '/content/drive/MyDrive/EEG/08-health/Acquisition 38-rawTrigger8-4.csv', '/content/drive/MyDrive/EEG/08-health/Acquisition 38-rawTrigger8-2.csv', '/content/drive/MyDrive/EEG/08-health/Acquisition 38-rawTrigger8-3.csv', '/content/drive/MyDrive/EEG/08-health/Acquisition 38-rawTrigger8-6.csv', '/content/drive/MyDrive/EEG/08-health/Acquisition 38-rawTrigger8-5.csv', '/content/drive/MyDrive/EEG/08-health/Acquisition 38-rawTrigger8-8.csv', '/content/drive/MyDrive/EEG/08-health/Acquisition 38-rawTrigger8-7.csv', '/content/drive/MyDrive/EEG/08-health/Acquisition 38-rawTrigger8-9.csv', '/content/drive/MyDrive/EEG/08-health/Acquisition 38-rawTrigger8-11.csv', '/content/drive/MyDrive/EEG/08-health/Acquisition 38-rawTrigger8-10.csv', '/content/drive/MyDrive/EEG/08-health/Acquisition 38-rawTrigger8-12.csv', '/content/drive/MyDrive/EEG/08-health/Acquisition 38-rawTrigger8-15.csv', '/content/drive/MyDrive/EEG/08-health/Acquisition 38-rawTrigger8-14.csv', '/content/drive/MyDrive/EEG/08-health/Acquisition 38-rawTrigger8-13.csv', '/content/drive/MyDrive/EEG/08-health/Acquisition 38-rawTrigger8-19.csv', '/content/drive/MyDrive/EEG/08-health/Acquisition 38-rawTrigger8-16.csv', '/content/drive/MyDrive/EEG/08-health/Acquisition 38-rawTrigger8-18.csv', '/content/drive/MyDrive/EEG/08-health/Acquisition 38-rawTrigger8-17.csv', '/content/drive/MyDrive/EEG/08-health/Acquisition 38-rawTrigger8-20.csv', '/content/drive/MyDrive/EEG/08-health/Acquisition 39-rawTrigger8-1.csv', '/content/drive/MyDrive/EEG/08-health/Acquisition 39-rawTrigger8-2.csv', '/content/drive/MyDrive/EEG/08-health/Acquisition 39-rawTrigger8-4.csv', '/content/drive/MyDrive/EEG/08-health/Acquisition 39-rawTrigger8-3.csv', '/content/drive/MyDrive/EEG/08-health/Acquisition 39-rawTrigger8-8.csv', '/content/drive/MyDrive/EEG/08-health/Acquisition 39-rawTrigger8-5.csv', '/content/drive/MyDrive/EEG/08-health/Acquisition 39-rawTrigger8-7.csv', '/content/drive/MyDrive/EEG/08-health/Acquisition 39-rawTrigger8-6.csv', '/content/drive/MyDrive/EEG/08-health/Acquisition 39-rawTrigger8-10.csv', '/content/drive/MyDrive/EEG/08-health/Acquisition 39-rawTrigger8-9.csv', '/content/drive/MyDrive/EEG/08-health/Acquisition 39-rawTrigger8-11.csv', '/content/drive/MyDrive/EEG/08-health/Acquisition 39-rawTrigger8-14.csv', '/content/drive/MyDrive/EEG/08-health/Acquisition 39-rawTrigger8-12.csv', '/content/drive/MyDrive/EEG/08-health/Acquisition 39-rawTrigger8-13.csv', '/content/drive/MyDrive/EEG/08-health/Acquisition 39-rawTrigger8-15.csv', '/content/drive/MyDrive/EEG/08-health/Acquisition 39-rawTrigger8-17.csv', '/content/drive/MyDrive/EEG/08-health/Acquisition 39-rawTrigger8-16.csv', '/content/drive/MyDrive/EEG/08-health/Acquisition 39-rawTrigger8-18.csv', '/content/drive/MyDrive/EEG/08-health/Acquisition 39-rawTrigger8-19.csv', '/content/drive/MyDrive/EEG/08-health/Acquisition 39-rawTrigger8-20.csv']\n",
            "(90, 24, 8000)\n",
            "(192, 24, 8000)\n"
          ]
        }
      ]
    },
    {
      "cell_type": "code",
      "source": [
        "from keras.utils import np_utils\n",
        "from keras.models import Sequential\n",
        "from keras.layers import Dense, Dropout, Activation\n",
        "from keras.layers import Embedding\n",
        "from keras.layers import LSTM\n",
        "from keras.optimizers import Adam, Nadam, RMSprop"
      ],
      "metadata": {
        "id": "LEDUxHTwtKLV"
      },
      "execution_count": null,
      "outputs": []
    },
    {
      "cell_type": "code",
      "source": [
        "# 测试lstm\n",
        "\n",
        "# train\n",
        "x_train_a = resting_list[:60]\n",
        "# .reshape((300,160,24))\n",
        "x_train_a  = np.array(x_train_a)\n",
        "x_train_a.shape\n",
        "\n",
        "x_train_b = music_list[:150]\n",
        "# .reshape((300,160,24))\n",
        "x_train_b = np.array(x_train_b)\n",
        "x_train = np.vstack((x_train_a,x_train_b))\n",
        "x_train.shape\n",
        "\n",
        "x_train /= 200\n",
        "x_train = x_train.astype(\"float32\")\n",
        "\n",
        "# test\n",
        "x_test_a = resting_list[60:]\n",
        "# .reshape((150,160,24))\n",
        "x_test_a  = np.array(x_test_a)\n",
        "x_test_a.shape\n",
        "print(len(x_test_a))\n",
        "\n",
        "x_test_b = music_list[150:]\n",
        "# .reshape((150,160,24))\n",
        "x_test_b = np.array(x_test_b)\n",
        "x_test = np.vstack((x_test_a,x_test_b))\n",
        "x_test.shape\n",
        "\n",
        "x_test /= 200\n",
        "x_test = x_test.astype(\"float32\")\n",
        "print(len(x_test))\n",
        "# labels\n",
        "y_train = np.append(np.zeros(len(x_train_a),dtype=int), np.ones(len(x_train_b),dtype=int))\n",
        "y_train.shape\n",
        "\n",
        "y_train = np_utils.to_categorical(y_train,2)\n",
        "y_train = y_train.astype(\"float32\")\n",
        "y_train\n",
        "\n",
        "y_test = np.append(np.zeros(len(x_test_a),dtype=int), np.ones(len(x_test_b),dtype=int))\n",
        "y_test.shape\n",
        "\n",
        "\n",
        "y_test = np_utils.to_categorical(y_test,2)\n",
        "y_test = y_test.astype(\"float32\")\n",
        "\n",
        "# example  x_train = data.reshape((316,500,28))\n",
        "# 因为8000这个其实就是timestamp. 那用window拖长的话。 时间属性"
      ],
      "metadata": {
        "colab": {
          "base_uri": "https://localhost:8080/"
        },
        "id": "p5VVu2EkkCiq",
        "outputId": "bb6696bf-38fe-432e-a27d-6bc16e075e8c"
      },
      "execution_count": null,
      "outputs": [
        {
          "output_type": "stream",
          "name": "stdout",
          "text": [
            "30\n",
            "72\n"
          ]
        }
      ]
    },
    {
      "cell_type": "code",
      "source": [
        "len(y_train)"
      ],
      "metadata": {
        "colab": {
          "base_uri": "https://localhost:8080/"
        },
        "id": "c-wOOoYvyLxT",
        "outputId": "408ad70f-e2e5-469a-810c-4f1c66770a9e"
      },
      "execution_count": null,
      "outputs": [
        {
          "output_type": "execute_result",
          "data": {
            "text/plain": [
              "12"
            ]
          },
          "metadata": {},
          "execution_count": 78
        }
      ]
    },
    {
      "cell_type": "code",
      "source": [
        "model = Sequential()\n",
        "model.add(LSTM(10, return_sequences = True, input_shape=(24,8000)))\n",
        "model.add(LSTM(10, return_sequences = True))\n",
        "model.add(LSTM(5))\n",
        "model.add(Dense(2, activation ='softmax'))\n",
        "model.summary()\n",
        "\n",
        "optim = Nadam(learning_rate = 0.001)\n",
        "\n",
        "model.compile(loss = 'categorical_crossentropy', optimizer=optim, metrics = ['accuracy'])"
      ],
      "metadata": {
        "colab": {
          "base_uri": "https://localhost:8080/"
        },
        "id": "41A6cCEUwjcw",
        "outputId": "3cc1bc8a-f1d9-4984-cdba-c723378902f7"
      },
      "execution_count": null,
      "outputs": [
        {
          "output_type": "stream",
          "name": "stdout",
          "text": [
            "Model: \"sequential\"\n",
            "_________________________________________________________________\n",
            " Layer (type)                Output Shape              Param #   \n",
            "=================================================================\n",
            " lstm (LSTM)                 (None, 24, 10)            320440    \n",
            "                                                                 \n",
            " lstm_1 (LSTM)               (None, 24, 10)            840       \n",
            "                                                                 \n",
            " lstm_2 (LSTM)               (None, 5)                 320       \n",
            "                                                                 \n",
            " dense (Dense)               (None, 2)                 12        \n",
            "                                                                 \n",
            "=================================================================\n",
            "Total params: 321,612\n",
            "Trainable params: 321,612\n",
            "Non-trainable params: 0\n",
            "_________________________________________________________________\n"
          ]
        }
      ]
    },
    {
      "cell_type": "code",
      "source": [
        "model.fit(x_train,y_train,epochs=40,batch_size=1)"
      ],
      "metadata": {
        "colab": {
          "base_uri": "https://localhost:8080/"
        },
        "id": "EHYA1bcwxmdc",
        "outputId": "8535a4e4-aa8a-4f51-a5ad-5cf02312349f"
      },
      "execution_count": null,
      "outputs": [
        {
          "output_type": "stream",
          "name": "stdout",
          "text": [
            "Epoch 1/40\n",
            "210/210 [==============================] - 10s 9ms/step - loss: 0.6298 - accuracy: 0.7143\n",
            "Epoch 2/40\n",
            "210/210 [==============================] - 2s 9ms/step - loss: 0.6025 - accuracy: 0.7095\n",
            "Epoch 3/40\n",
            "210/210 [==============================] - 2s 9ms/step - loss: 0.5982 - accuracy: 0.7143\n",
            "Epoch 4/40\n",
            "210/210 [==============================] - 2s 8ms/step - loss: 0.5888 - accuracy: 0.7143\n",
            "Epoch 5/40\n",
            "210/210 [==============================] - 2s 9ms/step - loss: 0.5829 - accuracy: 0.7143\n",
            "Epoch 6/40\n",
            "210/210 [==============================] - 2s 8ms/step - loss: 0.5769 - accuracy: 0.7143\n",
            "Epoch 7/40\n",
            "210/210 [==============================] - 2s 9ms/step - loss: 0.5809 - accuracy: 0.7143\n",
            "Epoch 8/40\n",
            "210/210 [==============================] - 2s 9ms/step - loss: 0.5696 - accuracy: 0.7143\n",
            "Epoch 9/40\n",
            "210/210 [==============================] - 2s 9ms/step - loss: 0.5624 - accuracy: 0.7143\n",
            "Epoch 10/40\n",
            "210/210 [==============================] - 2s 9ms/step - loss: 0.5662 - accuracy: 0.7143\n",
            "Epoch 11/40\n",
            "210/210 [==============================] - 2s 9ms/step - loss: 0.5526 - accuracy: 0.7143\n",
            "Epoch 12/40\n",
            "210/210 [==============================] - 2s 9ms/step - loss: 0.5319 - accuracy: 0.7143\n",
            "Epoch 13/40\n",
            "210/210 [==============================] - 2s 9ms/step - loss: 0.5087 - accuracy: 0.7381\n",
            "Epoch 14/40\n",
            "210/210 [==============================] - 2s 9ms/step - loss: 0.5360 - accuracy: 0.7143\n",
            "Epoch 15/40\n",
            "210/210 [==============================] - 2s 9ms/step - loss: 0.5853 - accuracy: 0.6905\n",
            "Epoch 16/40\n",
            "210/210 [==============================] - 2s 9ms/step - loss: 0.5680 - accuracy: 0.7143\n",
            "Epoch 17/40\n",
            "210/210 [==============================] - 2s 9ms/step - loss: 0.5430 - accuracy: 0.7143\n",
            "Epoch 18/40\n",
            "210/210 [==============================] - 2s 9ms/step - loss: 0.5234 - accuracy: 0.7190\n",
            "Epoch 19/40\n",
            "210/210 [==============================] - 2s 10ms/step - loss: 0.5400 - accuracy: 0.7333\n",
            "Epoch 20/40\n",
            "210/210 [==============================] - 2s 9ms/step - loss: 0.5874 - accuracy: 0.6619\n",
            "Epoch 21/40\n",
            "210/210 [==============================] - 2s 9ms/step - loss: 0.5633 - accuracy: 0.6857\n",
            "Epoch 22/40\n",
            "210/210 [==============================] - 2s 9ms/step - loss: 0.5632 - accuracy: 0.7143\n",
            "Epoch 23/40\n",
            "210/210 [==============================] - 2s 9ms/step - loss: 0.5690 - accuracy: 0.7143\n",
            "Epoch 24/40\n",
            "210/210 [==============================] - 2s 9ms/step - loss: 0.5616 - accuracy: 0.7143\n",
            "Epoch 25/40\n",
            "210/210 [==============================] - 2s 9ms/step - loss: 0.5672 - accuracy: 0.7143\n",
            "Epoch 26/40\n",
            "210/210 [==============================] - 2s 9ms/step - loss: 0.5561 - accuracy: 0.7143\n",
            "Epoch 27/40\n",
            "210/210 [==============================] - 2s 9ms/step - loss: 0.5526 - accuracy: 0.7143\n",
            "Epoch 28/40\n",
            "210/210 [==============================] - 2s 9ms/step - loss: 0.5476 - accuracy: 0.7143\n",
            "Epoch 29/40\n",
            "210/210 [==============================] - 2s 9ms/step - loss: 0.5467 - accuracy: 0.7143\n",
            "Epoch 30/40\n",
            "210/210 [==============================] - 2s 9ms/step - loss: 0.5513 - accuracy: 0.7095\n",
            "Epoch 31/40\n",
            "210/210 [==============================] - 2s 9ms/step - loss: 0.5522 - accuracy: 0.7095\n",
            "Epoch 32/40\n",
            "210/210 [==============================] - 2s 9ms/step - loss: 0.5531 - accuracy: 0.7095\n",
            "Epoch 33/40\n",
            "210/210 [==============================] - 2s 9ms/step - loss: 0.5456 - accuracy: 0.6905\n",
            "Epoch 34/40\n",
            "210/210 [==============================] - 2s 9ms/step - loss: 0.5374 - accuracy: 0.7381\n",
            "Epoch 35/40\n",
            "210/210 [==============================] - 2s 9ms/step - loss: 0.5241 - accuracy: 0.7381\n",
            "Epoch 36/40\n",
            "210/210 [==============================] - 2s 9ms/step - loss: 0.5585 - accuracy: 0.7190\n",
            "Epoch 37/40\n",
            "210/210 [==============================] - 2s 9ms/step - loss: 0.6393 - accuracy: 0.7143\n",
            "Epoch 38/40\n",
            "210/210 [==============================] - 2s 9ms/step - loss: 0.5962 - accuracy: 0.7143\n",
            "Epoch 39/40\n",
            "210/210 [==============================] - 2s 9ms/step - loss: 0.5867 - accuracy: 0.7143\n",
            "Epoch 40/40\n",
            "210/210 [==============================] - 2s 9ms/step - loss: 0.5821 - accuracy: 0.7143\n"
          ]
        },
        {
          "output_type": "execute_result",
          "data": {
            "text/plain": [
              "<keras.callbacks.History at 0x7f48910824f0>"
            ]
          },
          "metadata": {},
          "execution_count": 8
        }
      ]
    },
    {
      "cell_type": "code",
      "source": [
        "len(y_test)"
      ],
      "metadata": {
        "colab": {
          "base_uri": "https://localhost:8080/"
        },
        "id": "ty8mpKvEyFgl",
        "outputId": "2527f6b8-fcfc-43cb-f991-eeb7c70bf271"
      },
      "execution_count": null,
      "outputs": [
        {
          "output_type": "execute_result",
          "data": {
            "text/plain": [
              "300"
            ]
          },
          "metadata": {},
          "execution_count": 56
        }
      ]
    },
    {
      "cell_type": "code",
      "source": [
        "score,acc = model.evaluate(x_test,y_test,batch_size=1)\n",
        "print(\"score\",score)\n",
        "print(\"acc\", acc)\n",
        "len(x_test)"
      ],
      "metadata": {
        "colab": {
          "base_uri": "https://localhost:8080/"
        },
        "id": "1lXf6opVxtKh",
        "outputId": "c0ed3c2f-12a2-4ec1-868b-c43a8b495067"
      },
      "execution_count": null,
      "outputs": [
        {
          "output_type": "stream",
          "name": "stdout",
          "text": [
            "300/300 [==============================] - 3s 7ms/step - loss: 0.8877 - accuracy: 0.2567\n",
            "score 0.887744665145874\n",
            "acc 0.2566666603088379\n"
          ]
        },
        {
          "output_type": "execute_result",
          "data": {
            "text/plain": [
              "300"
            ]
          },
          "metadata": {},
          "execution_count": 75
        }
      ]
    },
    {
      "cell_type": "code",
      "source": [
        "from tensorflow import keras\n",
        "from keras.layers import *\n",
        "from keras.layers.convolutional import UpSampling2D, Conv2D\n",
        "from keras.models import Model\n",
        "import datetime\n",
        "import matplotlib.pyplot as plt\n",
        "import numpy as np\n",
        "from tensorflow.keras import optimizers\n",
        "from keras.layers import Reshape"
      ],
      "metadata": {
        "id": "377Cb1lp9n2y"
      },
      "execution_count": null,
      "outputs": []
    },
    {
      "cell_type": "code",
      "source": [
        "# cnn\n",
        "# (192, 24, 8000) -> transpose 192 8000 24 -> reshape 192,20,400,24 \n",
        "# 192,8000,2\n",
        "# 变成(192,20,400,24)\n",
        "inputs = Input(shape=(20,400,24))\n",
        "# inputs = Input(shape=(24, 8000, 1))\n",
        "conv1 = Conv2D(32, 3, activation='relu', padding='same')(inputs)\n",
        "conv2 = Conv2D(32, 3, activation='relu', padding='same')(conv1)\n",
        "conv2 = Conv2D(32, 3, activation='relu', padding='same')(conv2)\n",
        "pool1 = MaxPooling2D(pool_size=(2, 2))(conv2)\n",
        "conv3 = Conv2D(32, 3, activation='relu', padding='same')(pool1)\n",
        "conv3 = Conv2D(32, 3, activation='relu', padding='same')(conv3)\n",
        "conv3 = Conv2D(32, 3, activation='relu', padding='same')(conv3)\n",
        "conv3 = Conv2D(32, 3, activation='relu', padding='same')(conv3)\n",
        "\n",
        "# input_shape = [10, 200, 32], output_shape = [8000, 2]  其实并不是一定跟最早的8000一致。 需要一致的是维度吧？ 只需要把前两个维度合并， 变成[2000,32]就可以了。 并不是一定得前面做一次conv2d，让filterdeng等于2？\n",
        "reshape = Reshape((2000,32))(conv3)\n",
        "\n",
        "D1 = Dropout(0.1)(reshape)\n",
        "D1 = Flatten()(D1)\n",
        "D1 = Dense(32,activation='relu')(D1) #relu\n",
        "Out = Dense(2, activation='softmax')(D1)\n",
        "\n",
        "model = Model(inputs, Out)\n",
        "model.summary()\n",
        "\n",
        "opt = optimizers.Adam(learning_rate=0.0001, decay=1e-6) #0.002， 0.0005\n",
        "model.compile(loss='categorical_crossentropy',\n",
        "              optimizer=opt,\n",
        "              metrics=['accuracy'])"
      ],
      "metadata": {
        "colab": {
          "base_uri": "https://localhost:8080/"
        },
        "id": "BTtIlX1A5xnF",
        "outputId": "54490d9c-3c6b-4aef-f358-0def45b2bc3a"
      },
      "execution_count": null,
      "outputs": [
        {
          "output_type": "stream",
          "name": "stdout",
          "text": [
            "Model: \"model_4\"\n",
            "_________________________________________________________________\n",
            " Layer (type)                Output Shape              Param #   \n",
            "=================================================================\n",
            " input_7 (InputLayer)        [(None, 20, 400, 24)]     0         \n",
            "                                                                 \n",
            " conv2d_42 (Conv2D)          (None, 20, 400, 32)       6944      \n",
            "                                                                 \n",
            " conv2d_43 (Conv2D)          (None, 20, 400, 32)       9248      \n",
            "                                                                 \n",
            " conv2d_44 (Conv2D)          (None, 20, 400, 32)       9248      \n",
            "                                                                 \n",
            " max_pooling2d_6 (MaxPooling  (None, 10, 200, 32)      0         \n",
            " 2D)                                                             \n",
            "                                                                 \n",
            " conv2d_45 (Conv2D)          (None, 10, 200, 32)       9248      \n",
            "                                                                 \n",
            " conv2d_46 (Conv2D)          (None, 10, 200, 32)       9248      \n",
            "                                                                 \n",
            " conv2d_47 (Conv2D)          (None, 10, 200, 32)       9248      \n",
            "                                                                 \n",
            " conv2d_48 (Conv2D)          (None, 10, 200, 32)       9248      \n",
            "                                                                 \n",
            " reshape_4 (Reshape)         (None, 2000, 32)          0         \n",
            "                                                                 \n",
            " dropout_4 (Dropout)         (None, 2000, 32)          0         \n",
            "                                                                 \n",
            " flatten_4 (Flatten)         (None, 64000)             0         \n",
            "                                                                 \n",
            " dense_9 (Dense)             (None, 32)                2048032   \n",
            "                                                                 \n",
            " dense_10 (Dense)            (None, 2)                 66        \n",
            "                                                                 \n",
            "=================================================================\n",
            "Total params: 2,110,530\n",
            "Trainable params: 2,110,530\n",
            "Non-trainable params: 0\n",
            "_________________________________________________________________\n"
          ]
        }
      ]
    },
    {
      "cell_type": "code",
      "source": [
        "x_test = x_test.transpose(0,2,1).reshape((72,20,400,24))"
      ],
      "metadata": {
        "id": "3noXA54hJ94h"
      },
      "execution_count": null,
      "outputs": []
    },
    {
      "cell_type": "code",
      "source": [
        "x_train= x_train.transpose(0,2,1)\n",
        "x_train.shape\n",
        "x_train = x_train.reshape((210,20,400,24 ))\n",
        "x_train.shape\n",
        "\n",
        "x_test = x_test.transpose(0,2,1).reshape((72,20,400,24))\n"
      ],
      "metadata": {
        "colab": {
          "base_uri": "https://localhost:8080/",
          "height": 235
        },
        "id": "eiFByc4dJd30",
        "outputId": "be18e853-f45c-4ab1-e843-9d0c5f50ac31"
      },
      "execution_count": null,
      "outputs": [
        {
          "output_type": "error",
          "ename": "ValueError",
          "evalue": "ignored",
          "traceback": [
            "\u001b[0;31m---------------------------------------------------------------------------\u001b[0m",
            "\u001b[0;31mValueError\u001b[0m                                Traceback (most recent call last)",
            "\u001b[0;32m<ipython-input-29-d0022281089c>\u001b[0m in \u001b[0;36m<module>\u001b[0;34m\u001b[0m\n\u001b[0;32m----> 1\u001b[0;31m \u001b[0mx_train\u001b[0m\u001b[0;34m=\u001b[0m \u001b[0mx_train\u001b[0m\u001b[0;34m.\u001b[0m\u001b[0mtranspose\u001b[0m\u001b[0;34m(\u001b[0m\u001b[0;36m0\u001b[0m\u001b[0;34m,\u001b[0m\u001b[0;36m2\u001b[0m\u001b[0;34m,\u001b[0m\u001b[0;36m1\u001b[0m\u001b[0;34m)\u001b[0m\u001b[0;34m\u001b[0m\u001b[0;34m\u001b[0m\u001b[0m\n\u001b[0m\u001b[1;32m      2\u001b[0m \u001b[0mx_train\u001b[0m\u001b[0;34m.\u001b[0m\u001b[0mshape\u001b[0m\u001b[0;34m\u001b[0m\u001b[0;34m\u001b[0m\u001b[0m\n\u001b[1;32m      3\u001b[0m \u001b[0mx_train\u001b[0m \u001b[0;34m=\u001b[0m \u001b[0mx_train\u001b[0m\u001b[0;34m.\u001b[0m\u001b[0mreshape\u001b[0m\u001b[0;34m(\u001b[0m\u001b[0;34m(\u001b[0m\u001b[0;36m210\u001b[0m\u001b[0;34m,\u001b[0m\u001b[0;36m20\u001b[0m\u001b[0;34m,\u001b[0m\u001b[0;36m400\u001b[0m\u001b[0;34m,\u001b[0m\u001b[0;36m24\u001b[0m \u001b[0;34m)\u001b[0m\u001b[0;34m)\u001b[0m\u001b[0;34m\u001b[0m\u001b[0;34m\u001b[0m\u001b[0m\n\u001b[1;32m      4\u001b[0m \u001b[0mx_train\u001b[0m\u001b[0;34m.\u001b[0m\u001b[0mshape\u001b[0m\u001b[0;34m\u001b[0m\u001b[0;34m\u001b[0m\u001b[0m\n\u001b[1;32m      5\u001b[0m \u001b[0;34m\u001b[0m\u001b[0m\n",
            "\u001b[0;31mValueError\u001b[0m: axes don't match array"
          ]
        }
      ]
    },
    {
      "cell_type": "code",
      "source": [
        "history = model.fit(x_train,y_train,epochs=15,batch_size=3)"
      ],
      "metadata": {
        "colab": {
          "base_uri": "https://localhost:8080/"
        },
        "id": "TVKBT9Tl6a16",
        "outputId": "4393a686-0035-4d4d-8b06-facbb6b6b635"
      },
      "execution_count": null,
      "outputs": [
        {
          "output_type": "stream",
          "name": "stdout",
          "text": [
            "Epoch 1/15\n",
            "70/70 [==============================] - 1s 6ms/step - loss: 1.4613 - accuracy: 0.6333\n",
            "Epoch 2/15\n",
            "70/70 [==============================] - 0s 5ms/step - loss: 0.6433 - accuracy: 0.7143\n",
            "Epoch 3/15\n",
            "70/70 [==============================] - 0s 5ms/step - loss: 0.6244 - accuracy: 0.7143\n",
            "Epoch 4/15\n",
            "70/70 [==============================] - 0s 5ms/step - loss: 0.6233 - accuracy: 0.7143\n",
            "Epoch 5/15\n",
            "70/70 [==============================] - 0s 5ms/step - loss: 0.6221 - accuracy: 0.7143\n",
            "Epoch 6/15\n",
            "70/70 [==============================] - 0s 6ms/step - loss: 0.6352 - accuracy: 0.7143\n",
            "Epoch 7/15\n",
            "70/70 [==============================] - 0s 6ms/step - loss: 0.6199 - accuracy: 0.7143\n",
            "Epoch 8/15\n",
            "70/70 [==============================] - 0s 6ms/step - loss: 0.6188 - accuracy: 0.7143\n",
            "Epoch 9/15\n",
            "70/70 [==============================] - 0s 5ms/step - loss: 0.6177 - accuracy: 0.7143\n",
            "Epoch 10/15\n",
            "70/70 [==============================] - 0s 5ms/step - loss: 0.6166 - accuracy: 0.7143\n",
            "Epoch 11/15\n",
            "70/70 [==============================] - 0s 6ms/step - loss: 0.6155 - accuracy: 0.7143\n",
            "Epoch 12/15\n",
            "70/70 [==============================] - 0s 5ms/step - loss: 0.6145 - accuracy: 0.7143\n",
            "Epoch 13/15\n",
            "70/70 [==============================] - 0s 5ms/step - loss: 0.6135 - accuracy: 0.7143\n",
            "Epoch 14/15\n",
            "70/70 [==============================] - 0s 6ms/step - loss: 0.6125 - accuracy: 0.7143\n",
            "Epoch 15/15\n",
            "70/70 [==============================] - 0s 5ms/step - loss: 0.6115 - accuracy: 0.7143\n"
          ]
        }
      ]
    },
    {
      "cell_type": "code",
      "source": [
        "test_loss,test_acc = model.evaluate(x_test,y_test)"
      ],
      "metadata": {
        "colab": {
          "base_uri": "https://localhost:8080/"
        },
        "id": "CoEChnHv-Fgm",
        "outputId": "4ada1a68-a9f4-4df5-ec60-41e162a184ac"
      },
      "execution_count": null,
      "outputs": [
        {
          "output_type": "stream",
          "name": "stdout",
          "text": [
            "3/3 [==============================] - 2s 254ms/step - loss: 0.6853 - accuracy: 0.5833\n"
          ]
        }
      ]
    },
    {
      "cell_type": "code",
      "source": [
        "music_list = np.reshape(np.array(music_list),(-1,8000))\n",
        "music_list.shape"
      ],
      "metadata": {
        "colab": {
          "base_uri": "https://localhost:8080/"
        },
        "id": "NeNcAv0rP8dO",
        "outputId": "94efcf38-db25-45ef-9295-1b64202e821a"
      },
      "execution_count": null,
      "outputs": [
        {
          "output_type": "execute_result",
          "data": {
            "text/plain": [
              "(216, 8000)"
            ]
          },
          "metadata": {},
          "execution_count": 7
        }
      ]
    },
    {
      "cell_type": "code",
      "source": [
        " np.savetxt(\"testFFT.csv\",music_list,delimiter=\",\")"
      ],
      "metadata": {
        "id": "c3PpjWJ3QOo0"
      },
      "execution_count": null,
      "outputs": []
    },
    {
      "cell_type": "code",
      "source": [
        "np.min(music_list)\n",
        "a =  ['FP1','FP2','F7','F3','FZ','F4','F8','FT7','FC3','FCZ','FC4','FT8','T7','C3','CZ','C4','T8','TP7','CP3','CPZ','CP4','TP8','A1','P7','P3','PZ','P4','P8','A2','O1','OZ','O2']\n",
        "len(a)"
      ],
      "metadata": {
        "colab": {
          "base_uri": "https://localhost:8080/"
        },
        "id": "L_Oq5UVqHqSM",
        "outputId": "c6984b5f-287d-4fba-dc73-ff19629780aa"
      },
      "execution_count": null,
      "outputs": [
        {
          "output_type": "execute_result",
          "data": {
            "text/plain": [
              "32"
            ]
          },
          "metadata": {},
          "execution_count": 9
        }
      ]
    },
    {
      "cell_type": "code",
      "source": [
        "def window(data,kernel_size, stride=10):\n",
        "  res = []\n",
        "  previous = 0\n",
        "  for i in range(stride, len(data),stride):\n",
        "    # print(\"start\", previous,\"end\",previous + kernel_size)\n",
        "    # print(data[previous:previous + kernel_size])\n",
        "    # print(type(data[previous:previous + kernel_size]))\n",
        "    res.append(data[previous:previous + kernel_size])\n",
        "    if previous + kernel_size == len(data):\n",
        "      break\n",
        "    previous = i\n",
        "  # for i in res:\n",
        "  #   if len(i)!= 100:\n",
        "  #     print(len(i))\n",
        "  return res\n",
        "# 每一个1x8000，变成了159x100\n",
        "# 所以每一个acquisition有24行， 那17个或者16个acquisition，就会有408跟384\n",
        "rsWindowList = []\n",
        "musicWindowList = []\n",
        "\n",
        "for acqusition in resting_list:\n",
        "  for channel in acqusition:\n",
        "    # print(np.array(window(channel,100,50)).shape)\n",
        "    rsWindowList.append(window(channel,100,50))\n",
        "print(np.array(rsWindowList).shape)\n",
        "\n",
        "for acqusition in music_list:\n",
        "  for channel in acqusition:\n",
        "    musicWindowList.append(window(channel,100,50))\n",
        "print(np.array(musicWindowList).shape)\n",
        "\n",
        "\n",
        "rsWindowList = np.reshape(np.array(rsWindowList),(-1,100))\n",
        "musicWindowList = np.reshape(np.array(musicWindowList),(-1,100))\n",
        "\n",
        "print(np.array(rsWindowList).shape)\n",
        "print(np.array(musicWindowList).shape)"
      ],
      "metadata": {
        "colab": {
          "base_uri": "https://localhost:8080/"
        },
        "id": "2CLtCcRW_TEQ",
        "outputId": "a4a37188-becb-466c-cf64-fb160b01f4be"
      },
      "execution_count": null,
      "outputs": [
        {
          "output_type": "stream",
          "name": "stdout",
          "text": [
            "(216, 159, 100)\n",
            "(216, 159, 100)\n",
            "(34344, 100)\n",
            "(34344, 100)\n"
          ]
        }
      ]
    },
    {
      "cell_type": "code",
      "source": [
        "totalList = np.vstack((rsWindowList,musicWindowList))\n",
        "totalList = totalList.astype(np.int64)\n",
        "totalList.shape\n"
      ],
      "metadata": {
        "colab": {
          "base_uri": "https://localhost:8080/"
        },
        "id": "j-6Xd0g9CAxu",
        "outputId": "4bdc523d-a00b-4a08-b9e1-bb554a9c69be"
      },
      "execution_count": null,
      "outputs": [
        {
          "output_type": "execute_result",
          "data": {
            "text/plain": [
              "(68688, 100)"
            ]
          },
          "metadata": {},
          "execution_count": 38
        }
      ]
    },
    {
      "cell_type": "code",
      "source": [
        "# healthy subject:\n",
        "# min -54388\n",
        "# max 132496\n",
        "\n",
        "# patient\n",
        "# min -34910\n",
        "# max 124135\n",
        "print(np.min(totalList)) \n",
        "print(np.max(totalList)) "
      ],
      "metadata": {
        "colab": {
          "base_uri": "https://localhost:8080/"
        },
        "id": "RGDmFuOjCVAn",
        "outputId": "bd2f8e80-c252-4a6a-dfe8-13929dc6d4bd"
      },
      "execution_count": null,
      "outputs": [
        {
          "output_type": "stream",
          "name": "stdout",
          "text": [
            "-54388\n",
            "132496\n"
          ]
        }
      ]
    },
    {
      "cell_type": "code",
      "source": [
        " np.savetxt(\"beforeQuantiz.csv\",totalList,delimiter=\",\")"
      ],
      "metadata": {
        "id": "lphqGXAYCJ4l"
      },
      "execution_count": null,
      "outputs": []
    },
    {
      "cell_type": "code",
      "source": [
        "# test\n",
        "tmp = range (-38604,17153,2)\n",
        "partition = list(tmp)\n",
        "partition.append(17153)\n",
        "print(len(partition))\n",
        "\n",
        "print(len(range(200,28081)))\n",
        "\n",
        "# EEG\n",
        "tmp = range (-54388,132496,7)\n",
        "partition = list(tmp)\n",
        "partition.append(132496)\n",
        "print(len(partition))\n",
        "\n",
        "print(len(range(200,26899)))"
      ],
      "metadata": {
        "colab": {
          "base_uri": "https://localhost:8080/"
        },
        "id": "CMzRX269F_Nn",
        "outputId": "2145e2d9-5004-4d26-e6d5-2465313d46c3"
      },
      "execution_count": null,
      "outputs": [
        {
          "output_type": "stream",
          "name": "stdout",
          "text": [
            "27880\n",
            "27881\n",
            "26699\n",
            "26699\n"
          ]
        }
      ]
    },
    {
      "cell_type": "code",
      "source": [
        "\n",
        "a = np.arange(60).reshape(3,10,2)+10\n",
        "print(a)\n",
        "a = a.reshape((6,5,2))\n",
        "print(\"second one\")\n",
        "print(a)"
      ],
      "metadata": {
        "colab": {
          "base_uri": "https://localhost:8080/"
        },
        "id": "0V792FxrZyRU",
        "outputId": "4042683a-d063-4dc6-acfc-3750fa20f9c6"
      },
      "execution_count": null,
      "outputs": [
        {
          "output_type": "stream",
          "name": "stdout",
          "text": [
            "[[[10 11]\n",
            "  [12 13]\n",
            "  [14 15]\n",
            "  [16 17]\n",
            "  [18 19]\n",
            "  [20 21]\n",
            "  [22 23]\n",
            "  [24 25]\n",
            "  [26 27]\n",
            "  [28 29]]\n",
            "\n",
            " [[30 31]\n",
            "  [32 33]\n",
            "  [34 35]\n",
            "  [36 37]\n",
            "  [38 39]\n",
            "  [40 41]\n",
            "  [42 43]\n",
            "  [44 45]\n",
            "  [46 47]\n",
            "  [48 49]]\n",
            "\n",
            " [[50 51]\n",
            "  [52 53]\n",
            "  [54 55]\n",
            "  [56 57]\n",
            "  [58 59]\n",
            "  [60 61]\n",
            "  [62 63]\n",
            "  [64 65]\n",
            "  [66 67]\n",
            "  [68 69]]]\n",
            "second one\n",
            "[[[10 11]\n",
            "  [12 13]\n",
            "  [14 15]\n",
            "  [16 17]\n",
            "  [18 19]]\n",
            "\n",
            " [[20 21]\n",
            "  [22 23]\n",
            "  [24 25]\n",
            "  [26 27]\n",
            "  [28 29]]\n",
            "\n",
            " [[30 31]\n",
            "  [32 33]\n",
            "  [34 35]\n",
            "  [36 37]\n",
            "  [38 39]]\n",
            "\n",
            " [[40 41]\n",
            "  [42 43]\n",
            "  [44 45]\n",
            "  [46 47]\n",
            "  [48 49]]\n",
            "\n",
            " [[50 51]\n",
            "  [52 53]\n",
            "  [54 55]\n",
            "  [56 57]\n",
            "  [58 59]]\n",
            "\n",
            " [[60 61]\n",
            "  [62 63]\n",
            "  [64 65]\n",
            "  [66 67]\n",
            "  [68 69]]]\n"
          ]
        }
      ]
    },
    {
      "cell_type": "code",
      "source": [
        "totalList = np.loadtxt(\"afterQuantizHealthy.csv\",delimiter=\",\",dtype=int)"
      ],
      "metadata": {
        "id": "zgp0I8ODMCL0"
      },
      "execution_count": null,
      "outputs": []
    },
    {
      "cell_type": "code",
      "source": [
        "np.min(totalList)"
      ],
      "metadata": {
        "colab": {
          "base_uri": "https://localhost:8080/"
        },
        "id": "slEe2ebda8_l",
        "outputId": "15885d59-ce52-46aa-b6aa-8f0637811bc3"
      },
      "execution_count": null,
      "outputs": [
        {
          "output_type": "execute_result",
          "data": {
            "text/plain": [
              "200"
            ]
          },
          "metadata": {},
          "execution_count": 25
        }
      ]
    },
    {
      "cell_type": "code",
      "source": [
        "print(totalList.shape)\n",
        "# restList len\n",
        "totalList = totalList.astype(np.int64)\n",
        "restList = totalList[:34344]\n",
        "musicList = totalList[34344:]\n",
        "\n",
        "rsLabels = np.zeros(len(restList), dtype=int)\n",
        "musicLabels = np.ones(len(musicList), dtype=int)"
      ],
      "metadata": {
        "colab": {
          "base_uri": "https://localhost:8080/"
        },
        "id": "Vw0Uuw52by6z",
        "outputId": "50be7bbf-c7d7-4220-e062-6fdf90be480f"
      },
      "execution_count": null,
      "outputs": [
        {
          "output_type": "stream",
          "name": "stdout",
          "text": [
            "(68688, 100)\n"
          ]
        }
      ]
    },
    {
      "cell_type": "code",
      "source": [
        "# totalData = hvData+patientData\n",
        "totalData = restList.tolist()+musicList.tolist()\n",
        "totalLabels =  rsLabels.tolist() + musicLabels.tolist()\n",
        "# totalLabels =  onehot_hvLabels.tolist() + onehot_patientLabels.tolist()\n",
        "torch.tensor(totalLabels)  ### \n",
        "len(totalLabels)"
      ],
      "metadata": {
        "colab": {
          "base_uri": "https://localhost:8080/"
        },
        "id": "1PRnOfe3ckff",
        "outputId": "e5bbe127-3624-4959-ae98-11fb28e42c43"
      },
      "execution_count": null,
      "outputs": [
        {
          "output_type": "execute_result",
          "data": {
            "text/plain": [
              "68688"
            ]
          },
          "metadata": {},
          "execution_count": 8
        }
      ]
    },
    {
      "cell_type": "code",
      "source": [
        "print(7*24)\n",
        "print(14*24)\n",
        "\n",
        "print(168*159) #rest\n",
        "print(336*159) #music\n",
        "print(17*24*159)"
      ],
      "metadata": {
        "colab": {
          "base_uri": "https://localhost:8080/"
        },
        "id": "qLaFfYeizodD",
        "outputId": "7e0ace34-791e-4cfd-a090-d03818369f11"
      },
      "execution_count": null,
      "outputs": [
        {
          "output_type": "stream",
          "name": "stdout",
          "text": [
            "168\n",
            "336\n",
            "26712\n",
            "53424\n",
            "64872\n"
          ]
        }
      ]
    },
    {
      "cell_type": "code",
      "source": [
        "a = np.ones(5)\n",
        "b = np.zeros(6)\n",
        "c = np.hstack((a,b))\n",
        "len(c)"
      ],
      "metadata": {
        "colab": {
          "base_uri": "https://localhost:8080/"
        },
        "id": "3KfC9Sre19rt",
        "outputId": "8691539d-3604-40d6-b35c-b4bd7ea14201"
      },
      "execution_count": null,
      "outputs": [
        {
          "output_type": "execute_result",
          "data": {
            "text/plain": [
              "11"
            ]
          },
          "metadata": {},
          "execution_count": 27
        }
      ]
    },
    {
      "cell_type": "code",
      "source": [
        "x_train = restList.tolist()[:26712] + musicList.tolist()[:26712]\n",
        "x_test =  restList.tolist()[26712:] + musicList.tolist()[26712:]\n",
        "y_train = np.hstack((rsLabels[:26712],musicLabels[:26712]))\n",
        "y_test  = np.hstack((rsLabels[26712:],musicLabels[26712:]))"
      ],
      "metadata": {
        "id": "f2gf6tClzvuI"
      },
      "execution_count": null,
      "outputs": []
    },
    {
      "cell_type": "code",
      "source": [
        "x_train, x_test, y_train, y_test = train_test_split(totalData, totalLabels, test_size=0.1, random_state=0)"
      ],
      "metadata": {
        "id": "HBA2UQAYcuAq"
      },
      "execution_count": null,
      "outputs": []
    },
    {
      "cell_type": "code",
      "source": [
        "# just in case data.Dataset's format is incorrect, create a function in demo's format\n",
        "def getDataset(x_train, x_test, y_train, y_test, is_train):\n",
        "  if is_train:\n",
        "    return x_train,y_train\n",
        "  else:\n",
        "    return x_test,y_test"
      ],
      "metadata": {
        "id": "f25WOGJEcv4V"
      },
      "execution_count": null,
      "outputs": []
    },
    {
      "cell_type": "code",
      "source": [
        "class EGGBERTDataset(torch.utils.data.Dataset):\n",
        "  # dataset[0]:data, dataset[1]:label \n",
        "    def __init__(self, dataset, max_len, vocab=None):\n",
        "        self.labels = torch.tensor(dataset[1])\n",
        "        self.vocab = vocab\n",
        "        self.max_len = max_len\n",
        "        (self.all_token_ids, self.all_segments,\n",
        "         self.valid_lens) = self._preprocess(dataset[0])\n",
        "        print(\"dataset len \",len(dataset[0]))\n",
        "        print('read ' + str(len(self.all_token_ids)) + ' examples')\n",
        "\n",
        "\n",
        "    def _preprocess(self, all_tokens):\n",
        "      pool = multiprocessing.Pool(4)  \n",
        "      out = pool.map(self._get_tokens_and_segments, all_tokens)\n",
        "      print(\"all tokens \",len(all_tokens))\n",
        "      print(\"first token \", all_tokens[0])\n",
        "      print(\"out len \",len(out))\n",
        "      all_token_ids = [\n",
        "            token_ids for token_ids, segments, valid_len in out]\n",
        "      all_segments = [segments for token_ids, segments, valid_len in out]\n",
        "      valid_lens = [valid_len for token_ids, segments, valid_len in out]\n",
        "\n",
        "      print(\"len of token \" ,len(all_token_ids[0]))\n",
        "      print(\"len of segment \" ,len(all_segments[0]))\n",
        "      return (torch.tensor(all_token_ids, dtype=torch.long),\n",
        "              torch.tensor(all_segments, dtype=torch.long),\n",
        "              torch.tensor(valid_lens))\n",
        "\n",
        "    def _get_tokens_and_segments(self,tokens_a, tokens_b=None):\n",
        "        \"\"\"获取输入序列的词元及其片段索引\n",
        "\n",
        "        Defined in :numref:`sec_bert`\"\"\"\n",
        "        # <cls> = 3, <sep> = 4\n",
        "        tokens = [3] + tokens_a + [4]\n",
        "        # 0和1分别标记片段A和B\n",
        "        segments = [0] * (len(tokens_a) + 2)\n",
        "        if tokens_b is not None:\n",
        "            tokens += tokens_b + ['4']\n",
        "            segments += [1] * (len(tokens_b) + 1)\n",
        "        \n",
        "        # 1 = ,[<pad>]\n",
        "        pad_tokens = tokens + [1] \\\n",
        "                                * (self.max_len - len(tokens))\n",
        "        segments = segments + [0] * (self.max_len - len(segments))\n",
        "\n",
        "\n",
        "        # print(tokens)\n",
        "        valid_len = len(tokens)\n",
        "   \n",
        "        torch.tensor(pad_tokens,dtype=torch.long)\n",
        "        torch.tensor(segments,dtype=torch.long)\n",
        "        torch.tensor(valid_len)\n",
        "        return pad_tokens,segments,valid_len\n",
        "\n",
        "\n",
        "    def __getitem__(self, idx):\n",
        "        return (self.all_token_ids[idx], self.all_segments[idx],\n",
        "                self.valid_lens[idx]), self.labels[idx]\n",
        "\n",
        "    def __len__(self):\n",
        "        return len(self.all_token_ids)\n",
        "# test_set = EGGBERTDataset( getDataset(x_train, x_test, y_train, y_test, False), 128, vocab)"
      ],
      "metadata": {
        "id": "LTMUHyBscyvx"
      },
      "execution_count": null,
      "outputs": []
    },
    {
      "cell_type": "code",
      "source": [
        "batch_size, max_len, num_workers = 64, 128,2\n",
        "train_set = EGGBERTDataset( getDataset(x_train, x_test, y_train, y_test, True), max_len, vocab)\n",
        "test_set = EGGBERTDataset( getDataset(x_train, x_test, y_train, y_test, False), max_len, vocab)\n",
        "train_iter = torch.utils.data.DataLoader(train_set, batch_size, shuffle=True,\n",
        "                                   num_workers=num_workers)\n",
        "test_iter = torch.utils.data.DataLoader(test_set, batch_size,\n",
        "                                  num_workers=num_workers)"
      ],
      "metadata": {
        "colab": {
          "base_uri": "https://localhost:8080/"
        },
        "id": "9R1wZoOudJ05",
        "outputId": "364f5f7c-770c-4d9b-9b26-92ad35d6ca49"
      },
      "execution_count": null,
      "outputs": [
        {
          "output_type": "stream",
          "name": "stdout",
          "text": [
            "all tokens  53424\n",
            "first token  [4159, 4160, 4163, 4166, 4167, 4169, 4169, 4168, 4169, 4168, 4166, 4162, 4162, 4159, 4157, 4158, 4157, 4156, 4159, 4164, 4165, 4166, 4169, 4169, 4169, 4170, 4168, 4164, 4161, 4160, 4158, 4158, 4159, 4157, 4158, 4161, 4164, 4164, 4167, 4169, 4167, 4168, 4168, 4166, 4162, 4161, 4160, 4158, 4159, 4158, 4155, 4156, 4159, 4162, 4163, 4166, 4167, 4167, 4168, 4167, 4164, 4161, 4161, 4160, 4158, 4159, 4158, 4157, 4160, 4164, 4164, 4166, 4167, 4166, 4166, 4167, 4166, 4163, 4160, 4160, 4158, 4157, 4158, 4156, 4158, 4160, 4163, 4164, 4166, 4168, 4167, 4168, 4167, 4166, 4162, 4160, 4159, 4157, 4159, 4158]\n",
            "out len  53424\n",
            "len of token  128\n",
            "len of segment  128\n",
            "dataset len  53424\n",
            "read 53424 examples\n",
            "all tokens  15264\n",
            "first token  [3674, 3672, 3671, 3672, 3672, 3672, 3673, 3673, 3672, 3673, 3673, 3672, 3673, 3673, 3672, 3670, 3670, 3670, 3668, 3668, 3669, 3668, 3667, 3664, 3665, 3664, 3660, 3658, 3662, 3667, 3670, 3673, 3674, 3675, 3675, 3674, 3673, 3671, 3669, 3668, 3667, 3666, 3664, 3663, 3666, 3671, 3673, 3672, 3670, 3668, 3668, 3668, 3667, 3668, 3667, 3666, 3664, 3665, 3667, 3668, 3669, 3668, 3668, 3668, 3668, 3667, 3667, 3667, 3667, 3668, 3667, 3666, 3666, 3666, 3666, 3666, 3665, 3664, 3664, 3665, 3666, 3664, 3661, 3659, 3661, 3661, 3660, 3661, 3664, 3665, 3664, 3666, 3667, 3667, 3668, 3669, 3668, 3666, 3662, 3655]\n",
            "out len  15264\n",
            "len of token  128\n",
            "len of segment  128\n",
            "dataset len  15264\n",
            "read 15264 examples\n"
          ]
        }
      ]
    },
    {
      "cell_type": "markdown",
      "source": [
        "# Fine tuning"
      ],
      "metadata": {
        "id": "e7nlTpKsdMuO"
      }
    },
    {
      "cell_type": "code",
      "source": [
        "class BERTClassifier(nn.Module):\n",
        "    def __init__(self, bert):\n",
        "        super(BERTClassifier, self).__init__()\n",
        "        self.encoder = bert.encoder\n",
        "        self.hidden = bert.hidden\n",
        "        self.output = nn.Linear(256,2)\n",
        "\n",
        "    def forward(self, inputs):\n",
        "        tokens_X, segments_X, valid_lens_x = inputs\n",
        "        encoded_X = self.encoder(tokens_X, segments_X, valid_lens_x)\n",
        "        return self.output(self.hidden(encoded_X[:, 0, :])) # get embedding feature of first token"
      ],
      "metadata": {
        "id": "ZGaolW9odQd6"
      },
      "execution_count": null,
      "outputs": []
    },
    {
      "cell_type": "code",
      "source": [
        "net = BERTClassifier(bert) # <- load_pretrained_model"
      ],
      "metadata": {
        "id": "lq4HO0qndSsl"
      },
      "execution_count": null,
      "outputs": []
    },
    {
      "cell_type": "markdown",
      "source": [
        "# healthy subject performance"
      ],
      "metadata": {
        "id": "E8vD-7wQRUsp"
      }
    },
    {
      "cell_type": "code",
      "source": [
        "lr, num_epochs = 1e-4, 10 \n",
        "trainer = torch.optim.Adam(net.parameters(), lr=lr)\n",
        "loss = nn.CrossEntropyLoss(reduction='none')\n",
        "# loss = nn.BCELoss()\n",
        "# Using a target size (torch.Size([64])) that is different to the input size (torch.Size([64, 2])) is deprecated. Please ensure they have the same size.\n",
        "d2l.train_ch13(net, train_iter, test_iter, loss, trainer, num_epochs,devices)"
      ],
      "metadata": {
        "colab": {
          "base_uri": "https://localhost:8080/",
          "height": 302
        },
        "id": "NFu2jMQIdT_i",
        "outputId": "d30120b0-ceb0-4e42-bb59-35c05e27351e"
      },
      "execution_count": null,
      "outputs": [
        {
          "output_type": "stream",
          "name": "stdout",
          "text": [
            "loss 0.018, train acc 0.993, test acc 0.984\n",
            "1882.7 examples/sec on [device(type='cuda', index=0)]\n"
          ]
        },
        {
          "output_type": "display_data",
          "data": {
            "text/plain": [
              "<Figure size 252x180 with 1 Axes>"
            ],
            "image/svg+xml": "<?xml version=\"1.0\" encoding=\"utf-8\" standalone=\"no\"?>\n<!DOCTYPE svg PUBLIC \"-//W3C//DTD SVG 1.1//EN\"\n  \"http://www.w3.org/Graphics/SVG/1.1/DTD/svg11.dtd\">\n<svg xmlns:xlink=\"http://www.w3.org/1999/xlink\" width=\"238.965625pt\" height=\"184.455469pt\" viewBox=\"0 0 238.965625 184.455469\" xmlns=\"http://www.w3.org/2000/svg\" version=\"1.1\">\n <metadata>\n  <rdf:RDF xmlns:dc=\"http://purl.org/dc/elements/1.1/\" xmlns:cc=\"http://creativecommons.org/ns#\" xmlns:rdf=\"http://www.w3.org/1999/02/22-rdf-syntax-ns#\">\n   <cc:Work>\n    <dc:type rdf:resource=\"http://purl.org/dc/dcmitype/StillImage\"/>\n    <dc:date>2022-11-21T04:40:55.100308</dc:date>\n    <dc:format>image/svg+xml</dc:format>\n    <dc:creator>\n     <cc:Agent>\n      <dc:title>Matplotlib v3.5.1, https://matplotlib.org/</dc:title>\n     </cc:Agent>\n    </dc:creator>\n   </cc:Work>\n  </rdf:RDF>\n </metadata>\n <defs>\n  <style type=\"text/css\">*{stroke-linejoin: round; stroke-linecap: butt}</style>\n </defs>\n <g id=\"figure_1\">\n  <g id=\"patch_1\">\n   <path d=\"M 0 184.455469 \nL 238.965625 184.455469 \nL 238.965625 -0 \nL 0 -0 \nL 0 184.455469 \nz\n\" style=\"fill: none\"/>\n  </g>\n  <g id=\"axes_1\">\n   <g id=\"patch_2\">\n    <path d=\"M 30.103125 146.899219 \nL 225.403125 146.899219 \nL 225.403125 10.999219 \nL 30.103125 10.999219 \nz\n\" style=\"fill: #ffffff\"/>\n   </g>\n   <g id=\"matplotlib.axis_1\">\n    <g id=\"xtick_1\">\n     <g id=\"line2d_1\">\n      <path d=\"M 51.803125 146.899219 \nL 51.803125 10.999219 \n\" clip-path=\"url(#pf52bd554c6)\" style=\"fill: none; stroke: #b0b0b0; stroke-width: 0.8; stroke-linecap: square\"/>\n     </g>\n     <g id=\"line2d_2\">\n      <defs>\n       <path id=\"me2280ac474\" d=\"M 0 0 \nL 0 3.5 \n\" style=\"stroke: #000000; stroke-width: 0.8\"/>\n      </defs>\n      <g>\n       <use xlink:href=\"#me2280ac474\" x=\"51.803125\" y=\"146.899219\" style=\"stroke: #000000; stroke-width: 0.8\"/>\n      </g>\n     </g>\n     <g id=\"text_1\">\n      <!-- 2 -->\n      <g transform=\"translate(48.621875 161.497656)scale(0.1 -0.1)\">\n       <defs>\n        <path id=\"DejaVuSans-32\" d=\"M 1228 531 \nL 3431 531 \nL 3431 0 \nL 469 0 \nL 469 531 \nQ 828 903 1448 1529 \nQ 2069 2156 2228 2338 \nQ 2531 2678 2651 2914 \nQ 2772 3150 2772 3378 \nQ 2772 3750 2511 3984 \nQ 2250 4219 1831 4219 \nQ 1534 4219 1204 4116 \nQ 875 4013 500 3803 \nL 500 4441 \nQ 881 4594 1212 4672 \nQ 1544 4750 1819 4750 \nQ 2544 4750 2975 4387 \nQ 3406 4025 3406 3419 \nQ 3406 3131 3298 2873 \nQ 3191 2616 2906 2266 \nQ 2828 2175 2409 1742 \nQ 1991 1309 1228 531 \nz\n\" transform=\"scale(0.015625)\"/>\n       </defs>\n       <use xlink:href=\"#DejaVuSans-32\"/>\n      </g>\n     </g>\n    </g>\n    <g id=\"xtick_2\">\n     <g id=\"line2d_3\">\n      <path d=\"M 95.203125 146.899219 \nL 95.203125 10.999219 \n\" clip-path=\"url(#pf52bd554c6)\" style=\"fill: none; stroke: #b0b0b0; stroke-width: 0.8; stroke-linecap: square\"/>\n     </g>\n     <g id=\"line2d_4\">\n      <g>\n       <use xlink:href=\"#me2280ac474\" x=\"95.203125\" y=\"146.899219\" style=\"stroke: #000000; stroke-width: 0.8\"/>\n      </g>\n     </g>\n     <g id=\"text_2\">\n      <!-- 4 -->\n      <g transform=\"translate(92.021875 161.497656)scale(0.1 -0.1)\">\n       <defs>\n        <path id=\"DejaVuSans-34\" d=\"M 2419 4116 \nL 825 1625 \nL 2419 1625 \nL 2419 4116 \nz\nM 2253 4666 \nL 3047 4666 \nL 3047 1625 \nL 3713 1625 \nL 3713 1100 \nL 3047 1100 \nL 3047 0 \nL 2419 0 \nL 2419 1100 \nL 313 1100 \nL 313 1709 \nL 2253 4666 \nz\n\" transform=\"scale(0.015625)\"/>\n       </defs>\n       <use xlink:href=\"#DejaVuSans-34\"/>\n      </g>\n     </g>\n    </g>\n    <g id=\"xtick_3\">\n     <g id=\"line2d_5\">\n      <path d=\"M 138.603125 146.899219 \nL 138.603125 10.999219 \n\" clip-path=\"url(#pf52bd554c6)\" style=\"fill: none; stroke: #b0b0b0; stroke-width: 0.8; stroke-linecap: square\"/>\n     </g>\n     <g id=\"line2d_6\">\n      <g>\n       <use xlink:href=\"#me2280ac474\" x=\"138.603125\" y=\"146.899219\" style=\"stroke: #000000; stroke-width: 0.8\"/>\n      </g>\n     </g>\n     <g id=\"text_3\">\n      <!-- 6 -->\n      <g transform=\"translate(135.421875 161.497656)scale(0.1 -0.1)\">\n       <defs>\n        <path id=\"DejaVuSans-36\" d=\"M 2113 2584 \nQ 1688 2584 1439 2293 \nQ 1191 2003 1191 1497 \nQ 1191 994 1439 701 \nQ 1688 409 2113 409 \nQ 2538 409 2786 701 \nQ 3034 994 3034 1497 \nQ 3034 2003 2786 2293 \nQ 2538 2584 2113 2584 \nz\nM 3366 4563 \nL 3366 3988 \nQ 3128 4100 2886 4159 \nQ 2644 4219 2406 4219 \nQ 1781 4219 1451 3797 \nQ 1122 3375 1075 2522 \nQ 1259 2794 1537 2939 \nQ 1816 3084 2150 3084 \nQ 2853 3084 3261 2657 \nQ 3669 2231 3669 1497 \nQ 3669 778 3244 343 \nQ 2819 -91 2113 -91 \nQ 1303 -91 875 529 \nQ 447 1150 447 2328 \nQ 447 3434 972 4092 \nQ 1497 4750 2381 4750 \nQ 2619 4750 2861 4703 \nQ 3103 4656 3366 4563 \nz\n\" transform=\"scale(0.015625)\"/>\n       </defs>\n       <use xlink:href=\"#DejaVuSans-36\"/>\n      </g>\n     </g>\n    </g>\n    <g id=\"xtick_4\">\n     <g id=\"line2d_7\">\n      <path d=\"M 182.003125 146.899219 \nL 182.003125 10.999219 \n\" clip-path=\"url(#pf52bd554c6)\" style=\"fill: none; stroke: #b0b0b0; stroke-width: 0.8; stroke-linecap: square\"/>\n     </g>\n     <g id=\"line2d_8\">\n      <g>\n       <use xlink:href=\"#me2280ac474\" x=\"182.003125\" y=\"146.899219\" style=\"stroke: #000000; stroke-width: 0.8\"/>\n      </g>\n     </g>\n     <g id=\"text_4\">\n      <!-- 8 -->\n      <g transform=\"translate(178.821875 161.497656)scale(0.1 -0.1)\">\n       <defs>\n        <path id=\"DejaVuSans-38\" d=\"M 2034 2216 \nQ 1584 2216 1326 1975 \nQ 1069 1734 1069 1313 \nQ 1069 891 1326 650 \nQ 1584 409 2034 409 \nQ 2484 409 2743 651 \nQ 3003 894 3003 1313 \nQ 3003 1734 2745 1975 \nQ 2488 2216 2034 2216 \nz\nM 1403 2484 \nQ 997 2584 770 2862 \nQ 544 3141 544 3541 \nQ 544 4100 942 4425 \nQ 1341 4750 2034 4750 \nQ 2731 4750 3128 4425 \nQ 3525 4100 3525 3541 \nQ 3525 3141 3298 2862 \nQ 3072 2584 2669 2484 \nQ 3125 2378 3379 2068 \nQ 3634 1759 3634 1313 \nQ 3634 634 3220 271 \nQ 2806 -91 2034 -91 \nQ 1263 -91 848 271 \nQ 434 634 434 1313 \nQ 434 1759 690 2068 \nQ 947 2378 1403 2484 \nz\nM 1172 3481 \nQ 1172 3119 1398 2916 \nQ 1625 2713 2034 2713 \nQ 2441 2713 2670 2916 \nQ 2900 3119 2900 3481 \nQ 2900 3844 2670 4047 \nQ 2441 4250 2034 4250 \nQ 1625 4250 1398 4047 \nQ 1172 3844 1172 3481 \nz\n\" transform=\"scale(0.015625)\"/>\n       </defs>\n       <use xlink:href=\"#DejaVuSans-38\"/>\n      </g>\n     </g>\n    </g>\n    <g id=\"xtick_5\">\n     <g id=\"line2d_9\">\n      <path d=\"M 225.403125 146.899219 \nL 225.403125 10.999219 \n\" clip-path=\"url(#pf52bd554c6)\" style=\"fill: none; stroke: #b0b0b0; stroke-width: 0.8; stroke-linecap: square\"/>\n     </g>\n     <g id=\"line2d_10\">\n      <g>\n       <use xlink:href=\"#me2280ac474\" x=\"225.403125\" y=\"146.899219\" style=\"stroke: #000000; stroke-width: 0.8\"/>\n      </g>\n     </g>\n     <g id=\"text_5\">\n      <!-- 10 -->\n      <g transform=\"translate(219.040625 161.497656)scale(0.1 -0.1)\">\n       <defs>\n        <path id=\"DejaVuSans-31\" d=\"M 794 531 \nL 1825 531 \nL 1825 4091 \nL 703 3866 \nL 703 4441 \nL 1819 4666 \nL 2450 4666 \nL 2450 531 \nL 3481 531 \nL 3481 0 \nL 794 0 \nL 794 531 \nz\n\" transform=\"scale(0.015625)\"/>\n        <path id=\"DejaVuSans-30\" d=\"M 2034 4250 \nQ 1547 4250 1301 3770 \nQ 1056 3291 1056 2328 \nQ 1056 1369 1301 889 \nQ 1547 409 2034 409 \nQ 2525 409 2770 889 \nQ 3016 1369 3016 2328 \nQ 3016 3291 2770 3770 \nQ 2525 4250 2034 4250 \nz\nM 2034 4750 \nQ 2819 4750 3233 4129 \nQ 3647 3509 3647 2328 \nQ 3647 1150 3233 529 \nQ 2819 -91 2034 -91 \nQ 1250 -91 836 529 \nQ 422 1150 422 2328 \nQ 422 3509 836 4129 \nQ 1250 4750 2034 4750 \nz\n\" transform=\"scale(0.015625)\"/>\n       </defs>\n       <use xlink:href=\"#DejaVuSans-31\"/>\n       <use xlink:href=\"#DejaVuSans-30\" x=\"63.623047\"/>\n      </g>\n     </g>\n    </g>\n    <g id=\"text_6\">\n     <!-- epoch -->\n     <g transform=\"translate(112.525 175.175781)scale(0.1 -0.1)\">\n      <defs>\n       <path id=\"DejaVuSans-65\" d=\"M 3597 1894 \nL 3597 1613 \nL 953 1613 \nQ 991 1019 1311 708 \nQ 1631 397 2203 397 \nQ 2534 397 2845 478 \nQ 3156 559 3463 722 \nL 3463 178 \nQ 3153 47 2828 -22 \nQ 2503 -91 2169 -91 \nQ 1331 -91 842 396 \nQ 353 884 353 1716 \nQ 353 2575 817 3079 \nQ 1281 3584 2069 3584 \nQ 2775 3584 3186 3129 \nQ 3597 2675 3597 1894 \nz\nM 3022 2063 \nQ 3016 2534 2758 2815 \nQ 2500 3097 2075 3097 \nQ 1594 3097 1305 2825 \nQ 1016 2553 972 2059 \nL 3022 2063 \nz\n\" transform=\"scale(0.015625)\"/>\n       <path id=\"DejaVuSans-70\" d=\"M 1159 525 \nL 1159 -1331 \nL 581 -1331 \nL 581 3500 \nL 1159 3500 \nL 1159 2969 \nQ 1341 3281 1617 3432 \nQ 1894 3584 2278 3584 \nQ 2916 3584 3314 3078 \nQ 3713 2572 3713 1747 \nQ 3713 922 3314 415 \nQ 2916 -91 2278 -91 \nQ 1894 -91 1617 61 \nQ 1341 213 1159 525 \nz\nM 3116 1747 \nQ 3116 2381 2855 2742 \nQ 2594 3103 2138 3103 \nQ 1681 3103 1420 2742 \nQ 1159 2381 1159 1747 \nQ 1159 1113 1420 752 \nQ 1681 391 2138 391 \nQ 2594 391 2855 752 \nQ 3116 1113 3116 1747 \nz\n\" transform=\"scale(0.015625)\"/>\n       <path id=\"DejaVuSans-6f\" d=\"M 1959 3097 \nQ 1497 3097 1228 2736 \nQ 959 2375 959 1747 \nQ 959 1119 1226 758 \nQ 1494 397 1959 397 \nQ 2419 397 2687 759 \nQ 2956 1122 2956 1747 \nQ 2956 2369 2687 2733 \nQ 2419 3097 1959 3097 \nz\nM 1959 3584 \nQ 2709 3584 3137 3096 \nQ 3566 2609 3566 1747 \nQ 3566 888 3137 398 \nQ 2709 -91 1959 -91 \nQ 1206 -91 779 398 \nQ 353 888 353 1747 \nQ 353 2609 779 3096 \nQ 1206 3584 1959 3584 \nz\n\" transform=\"scale(0.015625)\"/>\n       <path id=\"DejaVuSans-63\" d=\"M 3122 3366 \nL 3122 2828 \nQ 2878 2963 2633 3030 \nQ 2388 3097 2138 3097 \nQ 1578 3097 1268 2742 \nQ 959 2388 959 1747 \nQ 959 1106 1268 751 \nQ 1578 397 2138 397 \nQ 2388 397 2633 464 \nQ 2878 531 3122 666 \nL 3122 134 \nQ 2881 22 2623 -34 \nQ 2366 -91 2075 -91 \nQ 1284 -91 818 406 \nQ 353 903 353 1747 \nQ 353 2603 823 3093 \nQ 1294 3584 2113 3584 \nQ 2378 3584 2631 3529 \nQ 2884 3475 3122 3366 \nz\n\" transform=\"scale(0.015625)\"/>\n       <path id=\"DejaVuSans-68\" d=\"M 3513 2113 \nL 3513 0 \nL 2938 0 \nL 2938 2094 \nQ 2938 2591 2744 2837 \nQ 2550 3084 2163 3084 \nQ 1697 3084 1428 2787 \nQ 1159 2491 1159 1978 \nL 1159 0 \nL 581 0 \nL 581 4863 \nL 1159 4863 \nL 1159 2956 \nQ 1366 3272 1645 3428 \nQ 1925 3584 2291 3584 \nQ 2894 3584 3203 3211 \nQ 3513 2838 3513 2113 \nz\n\" transform=\"scale(0.015625)\"/>\n      </defs>\n      <use xlink:href=\"#DejaVuSans-65\"/>\n      <use xlink:href=\"#DejaVuSans-70\" x=\"61.523438\"/>\n      <use xlink:href=\"#DejaVuSans-6f\" x=\"125\"/>\n      <use xlink:href=\"#DejaVuSans-63\" x=\"186.181641\"/>\n      <use xlink:href=\"#DejaVuSans-68\" x=\"241.162109\"/>\n     </g>\n    </g>\n   </g>\n   <g id=\"matplotlib.axis_2\">\n    <g id=\"ytick_1\">\n     <g id=\"line2d_11\">\n      <path d=\"M 30.103125 146.899219 \nL 225.403125 146.899219 \n\" clip-path=\"url(#pf52bd554c6)\" style=\"fill: none; stroke: #b0b0b0; stroke-width: 0.8; stroke-linecap: square\"/>\n     </g>\n     <g id=\"line2d_12\">\n      <defs>\n       <path id=\"m2ca468439a\" d=\"M 0 0 \nL -3.5 0 \n\" style=\"stroke: #000000; stroke-width: 0.8\"/>\n      </defs>\n      <g>\n       <use xlink:href=\"#m2ca468439a\" x=\"30.103125\" y=\"146.899219\" style=\"stroke: #000000; stroke-width: 0.8\"/>\n      </g>\n     </g>\n     <g id=\"text_7\">\n      <!-- 0.0 -->\n      <g transform=\"translate(7.2 150.698437)scale(0.1 -0.1)\">\n       <defs>\n        <path id=\"DejaVuSans-2e\" d=\"M 684 794 \nL 1344 794 \nL 1344 0 \nL 684 0 \nL 684 794 \nz\n\" transform=\"scale(0.015625)\"/>\n       </defs>\n       <use xlink:href=\"#DejaVuSans-30\"/>\n       <use xlink:href=\"#DejaVuSans-2e\" x=\"63.623047\"/>\n       <use xlink:href=\"#DejaVuSans-30\" x=\"95.410156\"/>\n      </g>\n     </g>\n    </g>\n    <g id=\"ytick_2\">\n     <g id=\"line2d_13\">\n      <path d=\"M 30.103125 119.719219 \nL 225.403125 119.719219 \n\" clip-path=\"url(#pf52bd554c6)\" style=\"fill: none; stroke: #b0b0b0; stroke-width: 0.8; stroke-linecap: square\"/>\n     </g>\n     <g id=\"line2d_14\">\n      <g>\n       <use xlink:href=\"#m2ca468439a\" x=\"30.103125\" y=\"119.719219\" style=\"stroke: #000000; stroke-width: 0.8\"/>\n      </g>\n     </g>\n     <g id=\"text_8\">\n      <!-- 0.2 -->\n      <g transform=\"translate(7.2 123.518437)scale(0.1 -0.1)\">\n       <use xlink:href=\"#DejaVuSans-30\"/>\n       <use xlink:href=\"#DejaVuSans-2e\" x=\"63.623047\"/>\n       <use xlink:href=\"#DejaVuSans-32\" x=\"95.410156\"/>\n      </g>\n     </g>\n    </g>\n    <g id=\"ytick_3\">\n     <g id=\"line2d_15\">\n      <path d=\"M 30.103125 92.539219 \nL 225.403125 92.539219 \n\" clip-path=\"url(#pf52bd554c6)\" style=\"fill: none; stroke: #b0b0b0; stroke-width: 0.8; stroke-linecap: square\"/>\n     </g>\n     <g id=\"line2d_16\">\n      <g>\n       <use xlink:href=\"#m2ca468439a\" x=\"30.103125\" y=\"92.539219\" style=\"stroke: #000000; stroke-width: 0.8\"/>\n      </g>\n     </g>\n     <g id=\"text_9\">\n      <!-- 0.4 -->\n      <g transform=\"translate(7.2 96.338437)scale(0.1 -0.1)\">\n       <use xlink:href=\"#DejaVuSans-30\"/>\n       <use xlink:href=\"#DejaVuSans-2e\" x=\"63.623047\"/>\n       <use xlink:href=\"#DejaVuSans-34\" x=\"95.410156\"/>\n      </g>\n     </g>\n    </g>\n    <g id=\"ytick_4\">\n     <g id=\"line2d_17\">\n      <path d=\"M 30.103125 65.359219 \nL 225.403125 65.359219 \n\" clip-path=\"url(#pf52bd554c6)\" style=\"fill: none; stroke: #b0b0b0; stroke-width: 0.8; stroke-linecap: square\"/>\n     </g>\n     <g id=\"line2d_18\">\n      <g>\n       <use xlink:href=\"#m2ca468439a\" x=\"30.103125\" y=\"65.359219\" style=\"stroke: #000000; stroke-width: 0.8\"/>\n      </g>\n     </g>\n     <g id=\"text_10\">\n      <!-- 0.6 -->\n      <g transform=\"translate(7.2 69.158437)scale(0.1 -0.1)\">\n       <use xlink:href=\"#DejaVuSans-30\"/>\n       <use xlink:href=\"#DejaVuSans-2e\" x=\"63.623047\"/>\n       <use xlink:href=\"#DejaVuSans-36\" x=\"95.410156\"/>\n      </g>\n     </g>\n    </g>\n    <g id=\"ytick_5\">\n     <g id=\"line2d_19\">\n      <path d=\"M 30.103125 38.179219 \nL 225.403125 38.179219 \n\" clip-path=\"url(#pf52bd554c6)\" style=\"fill: none; stroke: #b0b0b0; stroke-width: 0.8; stroke-linecap: square\"/>\n     </g>\n     <g id=\"line2d_20\">\n      <g>\n       <use xlink:href=\"#m2ca468439a\" x=\"30.103125\" y=\"38.179219\" style=\"stroke: #000000; stroke-width: 0.8\"/>\n      </g>\n     </g>\n     <g id=\"text_11\">\n      <!-- 0.8 -->\n      <g transform=\"translate(7.2 41.978437)scale(0.1 -0.1)\">\n       <use xlink:href=\"#DejaVuSans-30\"/>\n       <use xlink:href=\"#DejaVuSans-2e\" x=\"63.623047\"/>\n       <use xlink:href=\"#DejaVuSans-38\" x=\"95.410156\"/>\n      </g>\n     </g>\n    </g>\n    <g id=\"ytick_6\">\n     <g id=\"line2d_21\">\n      <path d=\"M 30.103125 10.999219 \nL 225.403125 10.999219 \n\" clip-path=\"url(#pf52bd554c6)\" style=\"fill: none; stroke: #b0b0b0; stroke-width: 0.8; stroke-linecap: square\"/>\n     </g>\n     <g id=\"line2d_22\">\n      <g>\n       <use xlink:href=\"#m2ca468439a\" x=\"30.103125\" y=\"10.999219\" style=\"stroke: #000000; stroke-width: 0.8\"/>\n      </g>\n     </g>\n     <g id=\"text_12\">\n      <!-- 1.0 -->\n      <g transform=\"translate(7.2 14.798437)scale(0.1 -0.1)\">\n       <use xlink:href=\"#DejaVuSans-31\"/>\n       <use xlink:href=\"#DejaVuSans-2e\" x=\"63.623047\"/>\n       <use xlink:href=\"#DejaVuSans-30\" x=\"95.410156\"/>\n      </g>\n     </g>\n    </g>\n   </g>\n   <g id=\"line2d_23\">\n    <path d=\"M 12.731978 133.70317 \nL 17.06083 135.34179 \nL 21.389683 135.811798 \nL 25.718536 136.101354 \nL 30.047389 136.503649 \nL 30.103125 136.509572 \nL 34.431978 140.069217 \nL 38.76083 139.515742 \nL 43.089683 139.505821 \nL 47.418536 139.673149 \nL 51.747389 139.660604 \nL 51.803125 139.651435 \nL 56.131978 141.254691 \nL 60.46083 141.094949 \nL 64.789683 141.172798 \nL 69.118536 141.226367 \nL 73.447389 141.165245 \nL 73.503125 141.159799 \nL 77.831978 142.212125 \nL 82.16083 142.043672 \nL 86.489683 142.238546 \nL 90.818536 142.204421 \nL 95.147389 142.278969 \nL 95.203125 142.280871 \nL 99.531978 143.232215 \nL 103.86083 142.978057 \nL 108.189683 142.812392 \nL 112.518536 142.723858 \nL 116.847389 142.700211 \nL 116.903125 142.7011 \nL 121.231978 143.483648 \nL 125.56083 143.414106 \nL 129.889683 143.454347 \nL 134.218536 143.509976 \nL 138.547389 143.402017 \nL 138.603125 143.406415 \nL 142.931978 143.931272 \nL 147.26083 143.973607 \nL 151.589683 143.746155 \nL 155.918536 143.617125 \nL 160.247389 143.617808 \nL 160.303125 143.614842 \nL 164.631978 144.293923 \nL 168.96083 144.05314 \nL 173.289683 143.990277 \nL 177.618536 143.952438 \nL 181.947389 144.006185 \nL 182.003125 143.997733 \nL 186.331978 144.149124 \nL 190.66083 144.289944 \nL 194.989683 144.14286 \nL 199.318536 144.267874 \nL 203.647389 144.266922 \nL 203.703125 144.264406 \nL 208.031978 144.811358 \nL 212.36083 144.629644 \nL 216.689683 144.591538 \nL 221.018536 144.55126 \nL 225.347389 144.446667 \nL 225.403125 144.446905 \n\" clip-path=\"url(#pf52bd554c6)\" style=\"fill: none; stroke: #1f77b4; stroke-width: 1.5; stroke-linecap: square\"/>\n   </g>\n   <g id=\"line2d_24\">\n    <path d=\"M 12.731978 15.719994 \nL 17.06083 15.364569 \nL 21.389683 15.227867 \nL 25.718536 15.154959 \nL 30.047389 15.062002 \nL 30.103125 15.061773 \nL 34.431978 14.034003 \nL 38.76083 14.061343 \nL 43.089683 14.003625 \nL 47.418536 13.92692 \nL 51.747389 13.926464 \nL 51.803125 13.931972 \nL 56.131978 13.195564 \nL 60.46083 13.345936 \nL 64.789683 13.307963 \nL 69.118536 13.304926 \nL 73.447389 13.306748 \nL 73.503125 13.311582 \nL 77.831978 12.776345 \nL 82.16083 12.913047 \nL 86.489683 12.864441 \nL 90.818536 12.915325 \nL 95.147389 12.889352 \nL 95.203125 12.887679 \nL 99.531978 12.512054 \nL 103.86083 12.621416 \nL 108.189683 12.627491 \nL 112.518536 12.694323 \nL 116.847389 12.719841 \nL 116.903125 12.720301 \nL 121.231978 12.393579 \nL 125.56083 12.384466 \nL 129.889683 12.354087 \nL 134.218536 12.327506 \nL 138.547389 12.373529 \nL 138.603125 12.37099 \nL 142.931978 12.101948 \nL 147.26083 12.161186 \nL 151.589683 12.305482 \nL 155.918536 12.332063 \nL 160.247389 12.302444 \nL 160.303125 12.305495 \nL 164.631978 12.047267 \nL 168.96083 12.161186 \nL 173.289683 12.202196 \nL 177.618536 12.204475 \nL 181.947389 12.202196 \nL 182.003125 12.205432 \nL 186.331978 12.074608 \nL 190.66083 12.01537 \nL 194.989683 12.101948 \nL 199.318536 12.044989 \nL 203.647389 12.043622 \nL 203.703125 12.045331 \nL 208.031978 11.828544 \nL 212.36083 11.928792 \nL 216.689683 11.93183 \nL 221.018536 11.915122 \nL 225.347389 11.972537 \nL 225.403125 11.970739 \n\" clip-path=\"url(#pf52bd554c6)\" style=\"fill: none; stroke-dasharray: 5.55,2.4; stroke-dashoffset: 0; stroke: #bf00bf; stroke-width: 1.5\"/>\n   </g>\n   <g id=\"line2d_25\">\n    <path d=\"M 30.103125 14.339412 \nL 51.803125 14.175677 \nL 73.503125 13.700845 \nL 95.203125 13.717219 \nL 116.903125 13.880954 \nL 138.603125 13.176893 \nL 160.303125 13.226014 \nL 182.003125 13.144146 \nL 203.703125 12.980412 \nL 225.403125 13.144146 \n\" clip-path=\"url(#pf52bd554c6)\" style=\"fill: none; stroke-dasharray: 9.6,2.4,1.5,2.4; stroke-dashoffset: 0; stroke: #008000; stroke-width: 1.5\"/>\n   </g>\n   <g id=\"patch_3\">\n    <path d=\"M 30.103125 146.899219 \nL 30.103125 10.999219 \n\" style=\"fill: none; stroke: #000000; stroke-width: 0.8; stroke-linejoin: miter; stroke-linecap: square\"/>\n   </g>\n   <g id=\"patch_4\">\n    <path d=\"M 225.403125 146.899219 \nL 225.403125 10.999219 \n\" style=\"fill: none; stroke: #000000; stroke-width: 0.8; stroke-linejoin: miter; stroke-linecap: square\"/>\n   </g>\n   <g id=\"patch_5\">\n    <path d=\"M 30.103125 146.899219 \nL 225.403125 146.899219 \n\" style=\"fill: none; stroke: #000000; stroke-width: 0.8; stroke-linejoin: miter; stroke-linecap: square\"/>\n   </g>\n   <g id=\"patch_6\">\n    <path d=\"M 30.103125 10.999219 \nL 225.403125 10.999219 \n\" style=\"fill: none; stroke: #000000; stroke-width: 0.8; stroke-linejoin: miter; stroke-linecap: square\"/>\n   </g>\n   <g id=\"legend_1\">\n    <g id=\"patch_7\">\n     <path d=\"M 140.634375 63.033594 \nL 218.403125 63.033594 \nQ 220.403125 63.033594 220.403125 61.033594 \nL 220.403125 17.999219 \nQ 220.403125 15.999219 218.403125 15.999219 \nL 140.634375 15.999219 \nQ 138.634375 15.999219 138.634375 17.999219 \nL 138.634375 61.033594 \nQ 138.634375 63.033594 140.634375 63.033594 \nz\n\" style=\"fill: #ffffff; opacity: 0.8; stroke: #cccccc; stroke-linejoin: miter\"/>\n    </g>\n    <g id=\"line2d_26\">\n     <path d=\"M 142.634375 24.097656 \nL 152.634375 24.097656 \nL 162.634375 24.097656 \n\" style=\"fill: none; stroke: #1f77b4; stroke-width: 1.5; stroke-linecap: square\"/>\n    </g>\n    <g id=\"text_13\">\n     <!-- train loss -->\n     <g transform=\"translate(170.634375 27.597656)scale(0.1 -0.1)\">\n      <defs>\n       <path id=\"DejaVuSans-74\" d=\"M 1172 4494 \nL 1172 3500 \nL 2356 3500 \nL 2356 3053 \nL 1172 3053 \nL 1172 1153 \nQ 1172 725 1289 603 \nQ 1406 481 1766 481 \nL 2356 481 \nL 2356 0 \nL 1766 0 \nQ 1100 0 847 248 \nQ 594 497 594 1153 \nL 594 3053 \nL 172 3053 \nL 172 3500 \nL 594 3500 \nL 594 4494 \nL 1172 4494 \nz\n\" transform=\"scale(0.015625)\"/>\n       <path id=\"DejaVuSans-72\" d=\"M 2631 2963 \nQ 2534 3019 2420 3045 \nQ 2306 3072 2169 3072 \nQ 1681 3072 1420 2755 \nQ 1159 2438 1159 1844 \nL 1159 0 \nL 581 0 \nL 581 3500 \nL 1159 3500 \nL 1159 2956 \nQ 1341 3275 1631 3429 \nQ 1922 3584 2338 3584 \nQ 2397 3584 2469 3576 \nQ 2541 3569 2628 3553 \nL 2631 2963 \nz\n\" transform=\"scale(0.015625)\"/>\n       <path id=\"DejaVuSans-61\" d=\"M 2194 1759 \nQ 1497 1759 1228 1600 \nQ 959 1441 959 1056 \nQ 959 750 1161 570 \nQ 1363 391 1709 391 \nQ 2188 391 2477 730 \nQ 2766 1069 2766 1631 \nL 2766 1759 \nL 2194 1759 \nz\nM 3341 1997 \nL 3341 0 \nL 2766 0 \nL 2766 531 \nQ 2569 213 2275 61 \nQ 1981 -91 1556 -91 \nQ 1019 -91 701 211 \nQ 384 513 384 1019 \nQ 384 1609 779 1909 \nQ 1175 2209 1959 2209 \nL 2766 2209 \nL 2766 2266 \nQ 2766 2663 2505 2880 \nQ 2244 3097 1772 3097 \nQ 1472 3097 1187 3025 \nQ 903 2953 641 2809 \nL 641 3341 \nQ 956 3463 1253 3523 \nQ 1550 3584 1831 3584 \nQ 2591 3584 2966 3190 \nQ 3341 2797 3341 1997 \nz\n\" transform=\"scale(0.015625)\"/>\n       <path id=\"DejaVuSans-69\" d=\"M 603 3500 \nL 1178 3500 \nL 1178 0 \nL 603 0 \nL 603 3500 \nz\nM 603 4863 \nL 1178 4863 \nL 1178 4134 \nL 603 4134 \nL 603 4863 \nz\n\" transform=\"scale(0.015625)\"/>\n       <path id=\"DejaVuSans-6e\" d=\"M 3513 2113 \nL 3513 0 \nL 2938 0 \nL 2938 2094 \nQ 2938 2591 2744 2837 \nQ 2550 3084 2163 3084 \nQ 1697 3084 1428 2787 \nQ 1159 2491 1159 1978 \nL 1159 0 \nL 581 0 \nL 581 3500 \nL 1159 3500 \nL 1159 2956 \nQ 1366 3272 1645 3428 \nQ 1925 3584 2291 3584 \nQ 2894 3584 3203 3211 \nQ 3513 2838 3513 2113 \nz\n\" transform=\"scale(0.015625)\"/>\n       <path id=\"DejaVuSans-20\" transform=\"scale(0.015625)\"/>\n       <path id=\"DejaVuSans-6c\" d=\"M 603 4863 \nL 1178 4863 \nL 1178 0 \nL 603 0 \nL 603 4863 \nz\n\" transform=\"scale(0.015625)\"/>\n       <path id=\"DejaVuSans-73\" d=\"M 2834 3397 \nL 2834 2853 \nQ 2591 2978 2328 3040 \nQ 2066 3103 1784 3103 \nQ 1356 3103 1142 2972 \nQ 928 2841 928 2578 \nQ 928 2378 1081 2264 \nQ 1234 2150 1697 2047 \nL 1894 2003 \nQ 2506 1872 2764 1633 \nQ 3022 1394 3022 966 \nQ 3022 478 2636 193 \nQ 2250 -91 1575 -91 \nQ 1294 -91 989 -36 \nQ 684 19 347 128 \nL 347 722 \nQ 666 556 975 473 \nQ 1284 391 1588 391 \nQ 1994 391 2212 530 \nQ 2431 669 2431 922 \nQ 2431 1156 2273 1281 \nQ 2116 1406 1581 1522 \nL 1381 1569 \nQ 847 1681 609 1914 \nQ 372 2147 372 2553 \nQ 372 3047 722 3315 \nQ 1072 3584 1716 3584 \nQ 2034 3584 2315 3537 \nQ 2597 3491 2834 3397 \nz\n\" transform=\"scale(0.015625)\"/>\n      </defs>\n      <use xlink:href=\"#DejaVuSans-74\"/>\n      <use xlink:href=\"#DejaVuSans-72\" x=\"39.208984\"/>\n      <use xlink:href=\"#DejaVuSans-61\" x=\"80.322266\"/>\n      <use xlink:href=\"#DejaVuSans-69\" x=\"141.601562\"/>\n      <use xlink:href=\"#DejaVuSans-6e\" x=\"169.384766\"/>\n      <use xlink:href=\"#DejaVuSans-20\" x=\"232.763672\"/>\n      <use xlink:href=\"#DejaVuSans-6c\" x=\"264.550781\"/>\n      <use xlink:href=\"#DejaVuSans-6f\" x=\"292.333984\"/>\n      <use xlink:href=\"#DejaVuSans-73\" x=\"353.515625\"/>\n      <use xlink:href=\"#DejaVuSans-73\" x=\"405.615234\"/>\n     </g>\n    </g>\n    <g id=\"line2d_27\">\n     <path d=\"M 142.634375 38.775781 \nL 152.634375 38.775781 \nL 162.634375 38.775781 \n\" style=\"fill: none; stroke-dasharray: 5.55,2.4; stroke-dashoffset: 0; stroke: #bf00bf; stroke-width: 1.5\"/>\n    </g>\n    <g id=\"text_14\">\n     <!-- train acc -->\n     <g transform=\"translate(170.634375 42.275781)scale(0.1 -0.1)\">\n      <use xlink:href=\"#DejaVuSans-74\"/>\n      <use xlink:href=\"#DejaVuSans-72\" x=\"39.208984\"/>\n      <use xlink:href=\"#DejaVuSans-61\" x=\"80.322266\"/>\n      <use xlink:href=\"#DejaVuSans-69\" x=\"141.601562\"/>\n      <use xlink:href=\"#DejaVuSans-6e\" x=\"169.384766\"/>\n      <use xlink:href=\"#DejaVuSans-20\" x=\"232.763672\"/>\n      <use xlink:href=\"#DejaVuSans-61\" x=\"264.550781\"/>\n      <use xlink:href=\"#DejaVuSans-63\" x=\"325.830078\"/>\n      <use xlink:href=\"#DejaVuSans-63\" x=\"380.810547\"/>\n     </g>\n    </g>\n    <g id=\"line2d_28\">\n     <path d=\"M 142.634375 53.453906 \nL 152.634375 53.453906 \nL 162.634375 53.453906 \n\" style=\"fill: none; stroke-dasharray: 9.6,2.4,1.5,2.4; stroke-dashoffset: 0; stroke: #008000; stroke-width: 1.5\"/>\n    </g>\n    <g id=\"text_15\">\n     <!-- test acc -->\n     <g transform=\"translate(170.634375 56.953906)scale(0.1 -0.1)\">\n      <use xlink:href=\"#DejaVuSans-74\"/>\n      <use xlink:href=\"#DejaVuSans-65\" x=\"39.208984\"/>\n      <use xlink:href=\"#DejaVuSans-73\" x=\"100.732422\"/>\n      <use xlink:href=\"#DejaVuSans-74\" x=\"152.832031\"/>\n      <use xlink:href=\"#DejaVuSans-20\" x=\"192.041016\"/>\n      <use xlink:href=\"#DejaVuSans-61\" x=\"223.828125\"/>\n      <use xlink:href=\"#DejaVuSans-63\" x=\"285.107422\"/>\n      <use xlink:href=\"#DejaVuSans-63\" x=\"340.087891\"/>\n     </g>\n    </g>\n   </g>\n  </g>\n </g>\n <defs>\n  <clipPath id=\"pf52bd554c6\">\n   <rect x=\"30.103125\" y=\"10.999219\" width=\"195.3\" height=\"135.9\"/>\n  </clipPath>\n </defs>\n</svg>\n"
          },
          "metadata": {
            "needs_background": "light"
          }
        }
      ]
    },
    {
      "cell_type": "markdown",
      "source": [
        "# patient performance"
      ],
      "metadata": {
        "id": "DflF-1XejDYe"
      }
    },
    {
      "cell_type": "code",
      "source": [
        "lr, num_epochs = 1e-4, 10 \n",
        "trainer = torch.optim.Adam(net.parameters(), lr=lr)\n",
        "loss = nn.CrossEntropyLoss(reduction='none')\n",
        "# loss = nn.BCELoss()\n",
        "# Using a target size (torch.Size([64])) that is different to the input size (torch.Size([64, 2])) is deprecated. Please ensure they have the same size.\n",
        "d2l.train_ch13(net, train_iter, test_iter, loss, trainer, num_epochs,devices)"
      ],
      "metadata": {
        "colab": {
          "base_uri": "https://localhost:8080/",
          "height": 302
        },
        "id": "Bv6bB5IHRZ89",
        "outputId": "a23885f6-802b-4bb8-ff60-130a522c0e33"
      },
      "execution_count": null,
      "outputs": [
        {
          "output_type": "stream",
          "name": "stdout",
          "text": [
            "loss 0.029, train acc 0.989, test acc 0.982\n",
            "1863.0 examples/sec on [device(type='cuda', index=0)]\n"
          ]
        },
        {
          "output_type": "display_data",
          "data": {
            "text/plain": [
              "<Figure size 252x180 with 1 Axes>"
            ],
            "image/svg+xml": "<?xml version=\"1.0\" encoding=\"utf-8\" standalone=\"no\"?>\n<!DOCTYPE svg PUBLIC \"-//W3C//DTD SVG 1.1//EN\"\n  \"http://www.w3.org/Graphics/SVG/1.1/DTD/svg11.dtd\">\n<svg xmlns:xlink=\"http://www.w3.org/1999/xlink\" width=\"238.965625pt\" height=\"184.455469pt\" viewBox=\"0 0 238.965625 184.455469\" xmlns=\"http://www.w3.org/2000/svg\" version=\"1.1\">\n <metadata>\n  <rdf:RDF xmlns:dc=\"http://purl.org/dc/elements/1.1/\" xmlns:cc=\"http://creativecommons.org/ns#\" xmlns:rdf=\"http://www.w3.org/1999/02/22-rdf-syntax-ns#\">\n   <cc:Work>\n    <dc:type rdf:resource=\"http://purl.org/dc/dcmitype/StillImage\"/>\n    <dc:date>2022-11-21T19:07:26.081473</dc:date>\n    <dc:format>image/svg+xml</dc:format>\n    <dc:creator>\n     <cc:Agent>\n      <dc:title>Matplotlib v3.5.1, https://matplotlib.org/</dc:title>\n     </cc:Agent>\n    </dc:creator>\n   </cc:Work>\n  </rdf:RDF>\n </metadata>\n <defs>\n  <style type=\"text/css\">*{stroke-linejoin: round; stroke-linecap: butt}</style>\n </defs>\n <g id=\"figure_1\">\n  <g id=\"patch_1\">\n   <path d=\"M 0 184.455469 \nL 238.965625 184.455469 \nL 238.965625 -0 \nL 0 -0 \nL 0 184.455469 \nz\n\" style=\"fill: none\"/>\n  </g>\n  <g id=\"axes_1\">\n   <g id=\"patch_2\">\n    <path d=\"M 30.103125 146.899219 \nL 225.403125 146.899219 \nL 225.403125 10.999219 \nL 30.103125 10.999219 \nz\n\" style=\"fill: #ffffff\"/>\n   </g>\n   <g id=\"matplotlib.axis_1\">\n    <g id=\"xtick_1\">\n     <g id=\"line2d_1\">\n      <path d=\"M 51.803125 146.899219 \nL 51.803125 10.999219 \n\" clip-path=\"url(#pf325b9871f)\" style=\"fill: none; stroke: #b0b0b0; stroke-width: 0.8; stroke-linecap: square\"/>\n     </g>\n     <g id=\"line2d_2\">\n      <defs>\n       <path id=\"mdc7a08a2b8\" d=\"M 0 0 \nL 0 3.5 \n\" style=\"stroke: #000000; stroke-width: 0.8\"/>\n      </defs>\n      <g>\n       <use xlink:href=\"#mdc7a08a2b8\" x=\"51.803125\" y=\"146.899219\" style=\"stroke: #000000; stroke-width: 0.8\"/>\n      </g>\n     </g>\n     <g id=\"text_1\">\n      <!-- 2 -->\n      <g transform=\"translate(48.621875 161.497656)scale(0.1 -0.1)\">\n       <defs>\n        <path id=\"DejaVuSans-32\" d=\"M 1228 531 \nL 3431 531 \nL 3431 0 \nL 469 0 \nL 469 531 \nQ 828 903 1448 1529 \nQ 2069 2156 2228 2338 \nQ 2531 2678 2651 2914 \nQ 2772 3150 2772 3378 \nQ 2772 3750 2511 3984 \nQ 2250 4219 1831 4219 \nQ 1534 4219 1204 4116 \nQ 875 4013 500 3803 \nL 500 4441 \nQ 881 4594 1212 4672 \nQ 1544 4750 1819 4750 \nQ 2544 4750 2975 4387 \nQ 3406 4025 3406 3419 \nQ 3406 3131 3298 2873 \nQ 3191 2616 2906 2266 \nQ 2828 2175 2409 1742 \nQ 1991 1309 1228 531 \nz\n\" transform=\"scale(0.015625)\"/>\n       </defs>\n       <use xlink:href=\"#DejaVuSans-32\"/>\n      </g>\n     </g>\n    </g>\n    <g id=\"xtick_2\">\n     <g id=\"line2d_3\">\n      <path d=\"M 95.203125 146.899219 \nL 95.203125 10.999219 \n\" clip-path=\"url(#pf325b9871f)\" style=\"fill: none; stroke: #b0b0b0; stroke-width: 0.8; stroke-linecap: square\"/>\n     </g>\n     <g id=\"line2d_4\">\n      <g>\n       <use xlink:href=\"#mdc7a08a2b8\" x=\"95.203125\" y=\"146.899219\" style=\"stroke: #000000; stroke-width: 0.8\"/>\n      </g>\n     </g>\n     <g id=\"text_2\">\n      <!-- 4 -->\n      <g transform=\"translate(92.021875 161.497656)scale(0.1 -0.1)\">\n       <defs>\n        <path id=\"DejaVuSans-34\" d=\"M 2419 4116 \nL 825 1625 \nL 2419 1625 \nL 2419 4116 \nz\nM 2253 4666 \nL 3047 4666 \nL 3047 1625 \nL 3713 1625 \nL 3713 1100 \nL 3047 1100 \nL 3047 0 \nL 2419 0 \nL 2419 1100 \nL 313 1100 \nL 313 1709 \nL 2253 4666 \nz\n\" transform=\"scale(0.015625)\"/>\n       </defs>\n       <use xlink:href=\"#DejaVuSans-34\"/>\n      </g>\n     </g>\n    </g>\n    <g id=\"xtick_3\">\n     <g id=\"line2d_5\">\n      <path d=\"M 138.603125 146.899219 \nL 138.603125 10.999219 \n\" clip-path=\"url(#pf325b9871f)\" style=\"fill: none; stroke: #b0b0b0; stroke-width: 0.8; stroke-linecap: square\"/>\n     </g>\n     <g id=\"line2d_6\">\n      <g>\n       <use xlink:href=\"#mdc7a08a2b8\" x=\"138.603125\" y=\"146.899219\" style=\"stroke: #000000; stroke-width: 0.8\"/>\n      </g>\n     </g>\n     <g id=\"text_3\">\n      <!-- 6 -->\n      <g transform=\"translate(135.421875 161.497656)scale(0.1 -0.1)\">\n       <defs>\n        <path id=\"DejaVuSans-36\" d=\"M 2113 2584 \nQ 1688 2584 1439 2293 \nQ 1191 2003 1191 1497 \nQ 1191 994 1439 701 \nQ 1688 409 2113 409 \nQ 2538 409 2786 701 \nQ 3034 994 3034 1497 \nQ 3034 2003 2786 2293 \nQ 2538 2584 2113 2584 \nz\nM 3366 4563 \nL 3366 3988 \nQ 3128 4100 2886 4159 \nQ 2644 4219 2406 4219 \nQ 1781 4219 1451 3797 \nQ 1122 3375 1075 2522 \nQ 1259 2794 1537 2939 \nQ 1816 3084 2150 3084 \nQ 2853 3084 3261 2657 \nQ 3669 2231 3669 1497 \nQ 3669 778 3244 343 \nQ 2819 -91 2113 -91 \nQ 1303 -91 875 529 \nQ 447 1150 447 2328 \nQ 447 3434 972 4092 \nQ 1497 4750 2381 4750 \nQ 2619 4750 2861 4703 \nQ 3103 4656 3366 4563 \nz\n\" transform=\"scale(0.015625)\"/>\n       </defs>\n       <use xlink:href=\"#DejaVuSans-36\"/>\n      </g>\n     </g>\n    </g>\n    <g id=\"xtick_4\">\n     <g id=\"line2d_7\">\n      <path d=\"M 182.003125 146.899219 \nL 182.003125 10.999219 \n\" clip-path=\"url(#pf325b9871f)\" style=\"fill: none; stroke: #b0b0b0; stroke-width: 0.8; stroke-linecap: square\"/>\n     </g>\n     <g id=\"line2d_8\">\n      <g>\n       <use xlink:href=\"#mdc7a08a2b8\" x=\"182.003125\" y=\"146.899219\" style=\"stroke: #000000; stroke-width: 0.8\"/>\n      </g>\n     </g>\n     <g id=\"text_4\">\n      <!-- 8 -->\n      <g transform=\"translate(178.821875 161.497656)scale(0.1 -0.1)\">\n       <defs>\n        <path id=\"DejaVuSans-38\" d=\"M 2034 2216 \nQ 1584 2216 1326 1975 \nQ 1069 1734 1069 1313 \nQ 1069 891 1326 650 \nQ 1584 409 2034 409 \nQ 2484 409 2743 651 \nQ 3003 894 3003 1313 \nQ 3003 1734 2745 1975 \nQ 2488 2216 2034 2216 \nz\nM 1403 2484 \nQ 997 2584 770 2862 \nQ 544 3141 544 3541 \nQ 544 4100 942 4425 \nQ 1341 4750 2034 4750 \nQ 2731 4750 3128 4425 \nQ 3525 4100 3525 3541 \nQ 3525 3141 3298 2862 \nQ 3072 2584 2669 2484 \nQ 3125 2378 3379 2068 \nQ 3634 1759 3634 1313 \nQ 3634 634 3220 271 \nQ 2806 -91 2034 -91 \nQ 1263 -91 848 271 \nQ 434 634 434 1313 \nQ 434 1759 690 2068 \nQ 947 2378 1403 2484 \nz\nM 1172 3481 \nQ 1172 3119 1398 2916 \nQ 1625 2713 2034 2713 \nQ 2441 2713 2670 2916 \nQ 2900 3119 2900 3481 \nQ 2900 3844 2670 4047 \nQ 2441 4250 2034 4250 \nQ 1625 4250 1398 4047 \nQ 1172 3844 1172 3481 \nz\n\" transform=\"scale(0.015625)\"/>\n       </defs>\n       <use xlink:href=\"#DejaVuSans-38\"/>\n      </g>\n     </g>\n    </g>\n    <g id=\"xtick_5\">\n     <g id=\"line2d_9\">\n      <path d=\"M 225.403125 146.899219 \nL 225.403125 10.999219 \n\" clip-path=\"url(#pf325b9871f)\" style=\"fill: none; stroke: #b0b0b0; stroke-width: 0.8; stroke-linecap: square\"/>\n     </g>\n     <g id=\"line2d_10\">\n      <g>\n       <use xlink:href=\"#mdc7a08a2b8\" x=\"225.403125\" y=\"146.899219\" style=\"stroke: #000000; stroke-width: 0.8\"/>\n      </g>\n     </g>\n     <g id=\"text_5\">\n      <!-- 10 -->\n      <g transform=\"translate(219.040625 161.497656)scale(0.1 -0.1)\">\n       <defs>\n        <path id=\"DejaVuSans-31\" d=\"M 794 531 \nL 1825 531 \nL 1825 4091 \nL 703 3866 \nL 703 4441 \nL 1819 4666 \nL 2450 4666 \nL 2450 531 \nL 3481 531 \nL 3481 0 \nL 794 0 \nL 794 531 \nz\n\" transform=\"scale(0.015625)\"/>\n        <path id=\"DejaVuSans-30\" d=\"M 2034 4250 \nQ 1547 4250 1301 3770 \nQ 1056 3291 1056 2328 \nQ 1056 1369 1301 889 \nQ 1547 409 2034 409 \nQ 2525 409 2770 889 \nQ 3016 1369 3016 2328 \nQ 3016 3291 2770 3770 \nQ 2525 4250 2034 4250 \nz\nM 2034 4750 \nQ 2819 4750 3233 4129 \nQ 3647 3509 3647 2328 \nQ 3647 1150 3233 529 \nQ 2819 -91 2034 -91 \nQ 1250 -91 836 529 \nQ 422 1150 422 2328 \nQ 422 3509 836 4129 \nQ 1250 4750 2034 4750 \nz\n\" transform=\"scale(0.015625)\"/>\n       </defs>\n       <use xlink:href=\"#DejaVuSans-31\"/>\n       <use xlink:href=\"#DejaVuSans-30\" x=\"63.623047\"/>\n      </g>\n     </g>\n    </g>\n    <g id=\"text_6\">\n     <!-- epoch -->\n     <g transform=\"translate(112.525 175.175781)scale(0.1 -0.1)\">\n      <defs>\n       <path id=\"DejaVuSans-65\" d=\"M 3597 1894 \nL 3597 1613 \nL 953 1613 \nQ 991 1019 1311 708 \nQ 1631 397 2203 397 \nQ 2534 397 2845 478 \nQ 3156 559 3463 722 \nL 3463 178 \nQ 3153 47 2828 -22 \nQ 2503 -91 2169 -91 \nQ 1331 -91 842 396 \nQ 353 884 353 1716 \nQ 353 2575 817 3079 \nQ 1281 3584 2069 3584 \nQ 2775 3584 3186 3129 \nQ 3597 2675 3597 1894 \nz\nM 3022 2063 \nQ 3016 2534 2758 2815 \nQ 2500 3097 2075 3097 \nQ 1594 3097 1305 2825 \nQ 1016 2553 972 2059 \nL 3022 2063 \nz\n\" transform=\"scale(0.015625)\"/>\n       <path id=\"DejaVuSans-70\" d=\"M 1159 525 \nL 1159 -1331 \nL 581 -1331 \nL 581 3500 \nL 1159 3500 \nL 1159 2969 \nQ 1341 3281 1617 3432 \nQ 1894 3584 2278 3584 \nQ 2916 3584 3314 3078 \nQ 3713 2572 3713 1747 \nQ 3713 922 3314 415 \nQ 2916 -91 2278 -91 \nQ 1894 -91 1617 61 \nQ 1341 213 1159 525 \nz\nM 3116 1747 \nQ 3116 2381 2855 2742 \nQ 2594 3103 2138 3103 \nQ 1681 3103 1420 2742 \nQ 1159 2381 1159 1747 \nQ 1159 1113 1420 752 \nQ 1681 391 2138 391 \nQ 2594 391 2855 752 \nQ 3116 1113 3116 1747 \nz\n\" transform=\"scale(0.015625)\"/>\n       <path id=\"DejaVuSans-6f\" d=\"M 1959 3097 \nQ 1497 3097 1228 2736 \nQ 959 2375 959 1747 \nQ 959 1119 1226 758 \nQ 1494 397 1959 397 \nQ 2419 397 2687 759 \nQ 2956 1122 2956 1747 \nQ 2956 2369 2687 2733 \nQ 2419 3097 1959 3097 \nz\nM 1959 3584 \nQ 2709 3584 3137 3096 \nQ 3566 2609 3566 1747 \nQ 3566 888 3137 398 \nQ 2709 -91 1959 -91 \nQ 1206 -91 779 398 \nQ 353 888 353 1747 \nQ 353 2609 779 3096 \nQ 1206 3584 1959 3584 \nz\n\" transform=\"scale(0.015625)\"/>\n       <path id=\"DejaVuSans-63\" d=\"M 3122 3366 \nL 3122 2828 \nQ 2878 2963 2633 3030 \nQ 2388 3097 2138 3097 \nQ 1578 3097 1268 2742 \nQ 959 2388 959 1747 \nQ 959 1106 1268 751 \nQ 1578 397 2138 397 \nQ 2388 397 2633 464 \nQ 2878 531 3122 666 \nL 3122 134 \nQ 2881 22 2623 -34 \nQ 2366 -91 2075 -91 \nQ 1284 -91 818 406 \nQ 353 903 353 1747 \nQ 353 2603 823 3093 \nQ 1294 3584 2113 3584 \nQ 2378 3584 2631 3529 \nQ 2884 3475 3122 3366 \nz\n\" transform=\"scale(0.015625)\"/>\n       <path id=\"DejaVuSans-68\" d=\"M 3513 2113 \nL 3513 0 \nL 2938 0 \nL 2938 2094 \nQ 2938 2591 2744 2837 \nQ 2550 3084 2163 3084 \nQ 1697 3084 1428 2787 \nQ 1159 2491 1159 1978 \nL 1159 0 \nL 581 0 \nL 581 4863 \nL 1159 4863 \nL 1159 2956 \nQ 1366 3272 1645 3428 \nQ 1925 3584 2291 3584 \nQ 2894 3584 3203 3211 \nQ 3513 2838 3513 2113 \nz\n\" transform=\"scale(0.015625)\"/>\n      </defs>\n      <use xlink:href=\"#DejaVuSans-65\"/>\n      <use xlink:href=\"#DejaVuSans-70\" x=\"61.523438\"/>\n      <use xlink:href=\"#DejaVuSans-6f\" x=\"125\"/>\n      <use xlink:href=\"#DejaVuSans-63\" x=\"186.181641\"/>\n      <use xlink:href=\"#DejaVuSans-68\" x=\"241.162109\"/>\n     </g>\n    </g>\n   </g>\n   <g id=\"matplotlib.axis_2\">\n    <g id=\"ytick_1\">\n     <g id=\"line2d_11\">\n      <path d=\"M 30.103125 146.899219 \nL 225.403125 146.899219 \n\" clip-path=\"url(#pf325b9871f)\" style=\"fill: none; stroke: #b0b0b0; stroke-width: 0.8; stroke-linecap: square\"/>\n     </g>\n     <g id=\"line2d_12\">\n      <defs>\n       <path id=\"m73b8e9caff\" d=\"M 0 0 \nL -3.5 0 \n\" style=\"stroke: #000000; stroke-width: 0.8\"/>\n      </defs>\n      <g>\n       <use xlink:href=\"#m73b8e9caff\" x=\"30.103125\" y=\"146.899219\" style=\"stroke: #000000; stroke-width: 0.8\"/>\n      </g>\n     </g>\n     <g id=\"text_7\">\n      <!-- 0.0 -->\n      <g transform=\"translate(7.2 150.698437)scale(0.1 -0.1)\">\n       <defs>\n        <path id=\"DejaVuSans-2e\" d=\"M 684 794 \nL 1344 794 \nL 1344 0 \nL 684 0 \nL 684 794 \nz\n\" transform=\"scale(0.015625)\"/>\n       </defs>\n       <use xlink:href=\"#DejaVuSans-30\"/>\n       <use xlink:href=\"#DejaVuSans-2e\" x=\"63.623047\"/>\n       <use xlink:href=\"#DejaVuSans-30\" x=\"95.410156\"/>\n      </g>\n     </g>\n    </g>\n    <g id=\"ytick_2\">\n     <g id=\"line2d_13\">\n      <path d=\"M 30.103125 119.719219 \nL 225.403125 119.719219 \n\" clip-path=\"url(#pf325b9871f)\" style=\"fill: none; stroke: #b0b0b0; stroke-width: 0.8; stroke-linecap: square\"/>\n     </g>\n     <g id=\"line2d_14\">\n      <g>\n       <use xlink:href=\"#m73b8e9caff\" x=\"30.103125\" y=\"119.719219\" style=\"stroke: #000000; stroke-width: 0.8\"/>\n      </g>\n     </g>\n     <g id=\"text_8\">\n      <!-- 0.2 -->\n      <g transform=\"translate(7.2 123.518437)scale(0.1 -0.1)\">\n       <use xlink:href=\"#DejaVuSans-30\"/>\n       <use xlink:href=\"#DejaVuSans-2e\" x=\"63.623047\"/>\n       <use xlink:href=\"#DejaVuSans-32\" x=\"95.410156\"/>\n      </g>\n     </g>\n    </g>\n    <g id=\"ytick_3\">\n     <g id=\"line2d_15\">\n      <path d=\"M 30.103125 92.539219 \nL 225.403125 92.539219 \n\" clip-path=\"url(#pf325b9871f)\" style=\"fill: none; stroke: #b0b0b0; stroke-width: 0.8; stroke-linecap: square\"/>\n     </g>\n     <g id=\"line2d_16\">\n      <g>\n       <use xlink:href=\"#m73b8e9caff\" x=\"30.103125\" y=\"92.539219\" style=\"stroke: #000000; stroke-width: 0.8\"/>\n      </g>\n     </g>\n     <g id=\"text_9\">\n      <!-- 0.4 -->\n      <g transform=\"translate(7.2 96.338437)scale(0.1 -0.1)\">\n       <use xlink:href=\"#DejaVuSans-30\"/>\n       <use xlink:href=\"#DejaVuSans-2e\" x=\"63.623047\"/>\n       <use xlink:href=\"#DejaVuSans-34\" x=\"95.410156\"/>\n      </g>\n     </g>\n    </g>\n    <g id=\"ytick_4\">\n     <g id=\"line2d_17\">\n      <path d=\"M 30.103125 65.359219 \nL 225.403125 65.359219 \n\" clip-path=\"url(#pf325b9871f)\" style=\"fill: none; stroke: #b0b0b0; stroke-width: 0.8; stroke-linecap: square\"/>\n     </g>\n     <g id=\"line2d_18\">\n      <g>\n       <use xlink:href=\"#m73b8e9caff\" x=\"30.103125\" y=\"65.359219\" style=\"stroke: #000000; stroke-width: 0.8\"/>\n      </g>\n     </g>\n     <g id=\"text_10\">\n      <!-- 0.6 -->\n      <g transform=\"translate(7.2 69.158437)scale(0.1 -0.1)\">\n       <use xlink:href=\"#DejaVuSans-30\"/>\n       <use xlink:href=\"#DejaVuSans-2e\" x=\"63.623047\"/>\n       <use xlink:href=\"#DejaVuSans-36\" x=\"95.410156\"/>\n      </g>\n     </g>\n    </g>\n    <g id=\"ytick_5\">\n     <g id=\"line2d_19\">\n      <path d=\"M 30.103125 38.179219 \nL 225.403125 38.179219 \n\" clip-path=\"url(#pf325b9871f)\" style=\"fill: none; stroke: #b0b0b0; stroke-width: 0.8; stroke-linecap: square\"/>\n     </g>\n     <g id=\"line2d_20\">\n      <g>\n       <use xlink:href=\"#m73b8e9caff\" x=\"30.103125\" y=\"38.179219\" style=\"stroke: #000000; stroke-width: 0.8\"/>\n      </g>\n     </g>\n     <g id=\"text_11\">\n      <!-- 0.8 -->\n      <g transform=\"translate(7.2 41.978437)scale(0.1 -0.1)\">\n       <use xlink:href=\"#DejaVuSans-30\"/>\n       <use xlink:href=\"#DejaVuSans-2e\" x=\"63.623047\"/>\n       <use xlink:href=\"#DejaVuSans-38\" x=\"95.410156\"/>\n      </g>\n     </g>\n    </g>\n    <g id=\"ytick_6\">\n     <g id=\"line2d_21\">\n      <path d=\"M 30.103125 10.999219 \nL 225.403125 10.999219 \n\" clip-path=\"url(#pf325b9871f)\" style=\"fill: none; stroke: #b0b0b0; stroke-width: 0.8; stroke-linecap: square\"/>\n     </g>\n     <g id=\"line2d_22\">\n      <g>\n       <use xlink:href=\"#m73b8e9caff\" x=\"30.103125\" y=\"10.999219\" style=\"stroke: #000000; stroke-width: 0.8\"/>\n      </g>\n     </g>\n     <g id=\"text_12\">\n      <!-- 1.0 -->\n      <g transform=\"translate(7.2 14.798437)scale(0.1 -0.1)\">\n       <use xlink:href=\"#DejaVuSans-31\"/>\n       <use xlink:href=\"#DejaVuSans-2e\" x=\"63.623047\"/>\n       <use xlink:href=\"#DejaVuSans-30\" x=\"95.410156\"/>\n      </g>\n     </g>\n    </g>\n   </g>\n   <g id=\"line2d_23\">\n    <path d=\"M 12.740674 79.056289 \nL 17.078224 88.033059 \nL 21.415773 93.519416 \nL 25.753323 97.59342 \nL 30.090872 100.858291 \nL 30.103125 100.872062 \nL 34.440674 119.989264 \nL 38.778224 120.51988 \nL 43.115773 121.206176 \nL 47.453323 122.036321 \nL 51.790872 122.667203 \nL 51.803125 122.660794 \nL 56.140674 129.607533 \nL 60.478224 129.651987 \nL 64.815773 130.078213 \nL 69.153323 130.316983 \nL 73.490872 130.829792 \nL 73.503125 130.825531 \nL 77.840674 134.673456 \nL 82.178224 134.880513 \nL 86.515773 134.951588 \nL 90.853323 135.096392 \nL 95.190872 135.198692 \nL 95.203125 135.203226 \nL 99.540674 138.113538 \nL 103.878224 137.975085 \nL 108.215773 137.723061 \nL 112.553323 137.910274 \nL 116.890872 138.029669 \nL 116.903125 138.030523 \nL 121.240674 139.682372 \nL 125.578224 139.715873 \nL 129.915773 139.770851 \nL 134.253323 139.617071 \nL 138.590872 139.706406 \nL 138.603125 139.708016 \nL 142.940674 141.240866 \nL 147.278224 140.810972 \nL 151.615773 140.883822 \nL 155.953323 140.800883 \nL 160.290872 140.759295 \nL 160.303125 140.760135 \nL 164.640674 141.770211 \nL 168.978224 141.670211 \nL 173.315773 141.771804 \nL 177.653323 141.834988 \nL 181.990872 141.804987 \nL 182.003125 141.807134 \nL 186.340674 142.808822 \nL 190.678224 142.720217 \nL 195.015773 142.506985 \nL 199.353323 142.468803 \nL 203.690872 142.503483 \nL 203.703125 142.501242 \nL 208.040674 143.220405 \nL 212.378224 143.085703 \nL 216.715773 142.911943 \nL 221.053323 142.884642 \nL 225.390872 142.895033 \nL 225.403125 142.896906 \n\" clip-path=\"url(#pf325b9871f)\" style=\"fill: none; stroke: #1f77b4; stroke-width: 1.5; stroke-linecap: square\"/>\n   </g>\n   <g id=\"line2d_24\">\n    <path d=\"M 12.740674 46.437831 \nL 17.078224 39.980542 \nL 21.415773 36.576443 \nL 25.753323 34.129092 \nL 30.090872 32.196404 \nL 30.103125 32.188515 \nL 34.440674 21.964314 \nL 38.778224 21.67639 \nL 43.115773 21.386467 \nL 47.453323 20.973077 \nL 51.790872 20.681854 \nL 51.803125 20.68435 \nL 56.140674 17.699444 \nL 60.478224 17.732435 \nL 64.815773 17.615466 \nL 69.153323 17.473004 \nL 73.490872 17.320344 \nL 73.503125 17.323272 \nL 77.840674 15.953906 \nL 82.178224 15.809944 \nL 86.515773 15.699974 \nL 90.853323 15.604499 \nL 95.190872 15.517222 \nL 95.203125 15.515029 \nL 99.540674 14.232362 \nL 103.878224 14.370326 \nL 108.215773 14.502291 \nL 112.553323 14.421312 \nL 116.890872 14.364327 \nL 116.903125 14.363893 \nL 121.240674 13.728496 \nL 125.578224 13.764486 \nL 129.915773 13.714499 \nL 134.253323 13.741992 \nL 138.590872 13.703302 \nL 138.603125 13.70199 \nL 142.940674 13.092664 \nL 147.278224 13.266618 \nL 151.615773 13.240625 \nL 155.953323 13.281614 \nL 160.290872 13.300209 \nL 160.303125 13.300292 \nL 164.640674 13.008686 \nL 168.978224 12.954701 \nL 173.315773 12.902715 \nL 177.653323 12.890218 \nL 181.990872 12.923509 \nL 182.003125 12.922575 \nL 186.340674 12.612791 \nL 190.678224 12.657779 \nL 195.015773 12.734759 \nL 199.353323 12.72976 \nL 203.690872 12.707566 \nL 203.703125 12.709135 \nL 208.040674 12.312871 \nL 212.378224 12.453833 \nL 216.715773 12.492823 \nL 221.053323 12.486825 \nL 225.390872 12.480826 \nL 225.403125 12.480107 \n\" clip-path=\"url(#pf325b9871f)\" style=\"fill: none; stroke-dasharray: 5.55,2.4; stroke-dashoffset: 0; stroke: #bf00bf; stroke-width: 1.5\"/>\n   </g>\n   <g id=\"line2d_25\">\n    <path d=\"M 30.103125 22.913266 \nL 51.803125 19.071418 \nL 73.503125 17.549787 \nL 95.203125 15.456195 \nL 116.903125 15.272736 \nL 138.603125 14.571275 \nL 160.303125 14.312274 \nL 182.003125 14.171981 \nL 203.703125 13.772688 \nL 225.403125 13.502895 \n\" clip-path=\"url(#pf325b9871f)\" style=\"fill: none; stroke-dasharray: 9.6,2.4,1.5,2.4; stroke-dashoffset: 0; stroke: #008000; stroke-width: 1.5\"/>\n   </g>\n   <g id=\"patch_3\">\n    <path d=\"M 30.103125 146.899219 \nL 30.103125 10.999219 \n\" style=\"fill: none; stroke: #000000; stroke-width: 0.8; stroke-linejoin: miter; stroke-linecap: square\"/>\n   </g>\n   <g id=\"patch_4\">\n    <path d=\"M 225.403125 146.899219 \nL 225.403125 10.999219 \n\" style=\"fill: none; stroke: #000000; stroke-width: 0.8; stroke-linejoin: miter; stroke-linecap: square\"/>\n   </g>\n   <g id=\"patch_5\">\n    <path d=\"M 30.103125 146.899219 \nL 225.403125 146.899219 \n\" style=\"fill: none; stroke: #000000; stroke-width: 0.8; stroke-linejoin: miter; stroke-linecap: square\"/>\n   </g>\n   <g id=\"patch_6\">\n    <path d=\"M 30.103125 10.999219 \nL 225.403125 10.999219 \n\" style=\"fill: none; stroke: #000000; stroke-width: 0.8; stroke-linejoin: miter; stroke-linecap: square\"/>\n   </g>\n   <g id=\"legend_1\">\n    <g id=\"patch_7\">\n     <path d=\"M 140.634375 63.033594 \nL 218.403125 63.033594 \nQ 220.403125 63.033594 220.403125 61.033594 \nL 220.403125 17.999219 \nQ 220.403125 15.999219 218.403125 15.999219 \nL 140.634375 15.999219 \nQ 138.634375 15.999219 138.634375 17.999219 \nL 138.634375 61.033594 \nQ 138.634375 63.033594 140.634375 63.033594 \nz\n\" style=\"fill: #ffffff; opacity: 0.8; stroke: #cccccc; stroke-linejoin: miter\"/>\n    </g>\n    <g id=\"line2d_26\">\n     <path d=\"M 142.634375 24.097656 \nL 152.634375 24.097656 \nL 162.634375 24.097656 \n\" style=\"fill: none; stroke: #1f77b4; stroke-width: 1.5; stroke-linecap: square\"/>\n    </g>\n    <g id=\"text_13\">\n     <!-- train loss -->\n     <g transform=\"translate(170.634375 27.597656)scale(0.1 -0.1)\">\n      <defs>\n       <path id=\"DejaVuSans-74\" d=\"M 1172 4494 \nL 1172 3500 \nL 2356 3500 \nL 2356 3053 \nL 1172 3053 \nL 1172 1153 \nQ 1172 725 1289 603 \nQ 1406 481 1766 481 \nL 2356 481 \nL 2356 0 \nL 1766 0 \nQ 1100 0 847 248 \nQ 594 497 594 1153 \nL 594 3053 \nL 172 3053 \nL 172 3500 \nL 594 3500 \nL 594 4494 \nL 1172 4494 \nz\n\" transform=\"scale(0.015625)\"/>\n       <path id=\"DejaVuSans-72\" d=\"M 2631 2963 \nQ 2534 3019 2420 3045 \nQ 2306 3072 2169 3072 \nQ 1681 3072 1420 2755 \nQ 1159 2438 1159 1844 \nL 1159 0 \nL 581 0 \nL 581 3500 \nL 1159 3500 \nL 1159 2956 \nQ 1341 3275 1631 3429 \nQ 1922 3584 2338 3584 \nQ 2397 3584 2469 3576 \nQ 2541 3569 2628 3553 \nL 2631 2963 \nz\n\" transform=\"scale(0.015625)\"/>\n       <path id=\"DejaVuSans-61\" d=\"M 2194 1759 \nQ 1497 1759 1228 1600 \nQ 959 1441 959 1056 \nQ 959 750 1161 570 \nQ 1363 391 1709 391 \nQ 2188 391 2477 730 \nQ 2766 1069 2766 1631 \nL 2766 1759 \nL 2194 1759 \nz\nM 3341 1997 \nL 3341 0 \nL 2766 0 \nL 2766 531 \nQ 2569 213 2275 61 \nQ 1981 -91 1556 -91 \nQ 1019 -91 701 211 \nQ 384 513 384 1019 \nQ 384 1609 779 1909 \nQ 1175 2209 1959 2209 \nL 2766 2209 \nL 2766 2266 \nQ 2766 2663 2505 2880 \nQ 2244 3097 1772 3097 \nQ 1472 3097 1187 3025 \nQ 903 2953 641 2809 \nL 641 3341 \nQ 956 3463 1253 3523 \nQ 1550 3584 1831 3584 \nQ 2591 3584 2966 3190 \nQ 3341 2797 3341 1997 \nz\n\" transform=\"scale(0.015625)\"/>\n       <path id=\"DejaVuSans-69\" d=\"M 603 3500 \nL 1178 3500 \nL 1178 0 \nL 603 0 \nL 603 3500 \nz\nM 603 4863 \nL 1178 4863 \nL 1178 4134 \nL 603 4134 \nL 603 4863 \nz\n\" transform=\"scale(0.015625)\"/>\n       <path id=\"DejaVuSans-6e\" d=\"M 3513 2113 \nL 3513 0 \nL 2938 0 \nL 2938 2094 \nQ 2938 2591 2744 2837 \nQ 2550 3084 2163 3084 \nQ 1697 3084 1428 2787 \nQ 1159 2491 1159 1978 \nL 1159 0 \nL 581 0 \nL 581 3500 \nL 1159 3500 \nL 1159 2956 \nQ 1366 3272 1645 3428 \nQ 1925 3584 2291 3584 \nQ 2894 3584 3203 3211 \nQ 3513 2838 3513 2113 \nz\n\" transform=\"scale(0.015625)\"/>\n       <path id=\"DejaVuSans-20\" transform=\"scale(0.015625)\"/>\n       <path id=\"DejaVuSans-6c\" d=\"M 603 4863 \nL 1178 4863 \nL 1178 0 \nL 603 0 \nL 603 4863 \nz\n\" transform=\"scale(0.015625)\"/>\n       <path id=\"DejaVuSans-73\" d=\"M 2834 3397 \nL 2834 2853 \nQ 2591 2978 2328 3040 \nQ 2066 3103 1784 3103 \nQ 1356 3103 1142 2972 \nQ 928 2841 928 2578 \nQ 928 2378 1081 2264 \nQ 1234 2150 1697 2047 \nL 1894 2003 \nQ 2506 1872 2764 1633 \nQ 3022 1394 3022 966 \nQ 3022 478 2636 193 \nQ 2250 -91 1575 -91 \nQ 1294 -91 989 -36 \nQ 684 19 347 128 \nL 347 722 \nQ 666 556 975 473 \nQ 1284 391 1588 391 \nQ 1994 391 2212 530 \nQ 2431 669 2431 922 \nQ 2431 1156 2273 1281 \nQ 2116 1406 1581 1522 \nL 1381 1569 \nQ 847 1681 609 1914 \nQ 372 2147 372 2553 \nQ 372 3047 722 3315 \nQ 1072 3584 1716 3584 \nQ 2034 3584 2315 3537 \nQ 2597 3491 2834 3397 \nz\n\" transform=\"scale(0.015625)\"/>\n      </defs>\n      <use xlink:href=\"#DejaVuSans-74\"/>\n      <use xlink:href=\"#DejaVuSans-72\" x=\"39.208984\"/>\n      <use xlink:href=\"#DejaVuSans-61\" x=\"80.322266\"/>\n      <use xlink:href=\"#DejaVuSans-69\" x=\"141.601562\"/>\n      <use xlink:href=\"#DejaVuSans-6e\" x=\"169.384766\"/>\n      <use xlink:href=\"#DejaVuSans-20\" x=\"232.763672\"/>\n      <use xlink:href=\"#DejaVuSans-6c\" x=\"264.550781\"/>\n      <use xlink:href=\"#DejaVuSans-6f\" x=\"292.333984\"/>\n      <use xlink:href=\"#DejaVuSans-73\" x=\"353.515625\"/>\n      <use xlink:href=\"#DejaVuSans-73\" x=\"405.615234\"/>\n     </g>\n    </g>\n    <g id=\"line2d_27\">\n     <path d=\"M 142.634375 38.775781 \nL 152.634375 38.775781 \nL 162.634375 38.775781 \n\" style=\"fill: none; stroke-dasharray: 5.55,2.4; stroke-dashoffset: 0; stroke: #bf00bf; stroke-width: 1.5\"/>\n    </g>\n    <g id=\"text_14\">\n     <!-- train acc -->\n     <g transform=\"translate(170.634375 42.275781)scale(0.1 -0.1)\">\n      <use xlink:href=\"#DejaVuSans-74\"/>\n      <use xlink:href=\"#DejaVuSans-72\" x=\"39.208984\"/>\n      <use xlink:href=\"#DejaVuSans-61\" x=\"80.322266\"/>\n      <use xlink:href=\"#DejaVuSans-69\" x=\"141.601562\"/>\n      <use xlink:href=\"#DejaVuSans-6e\" x=\"169.384766\"/>\n      <use xlink:href=\"#DejaVuSans-20\" x=\"232.763672\"/>\n      <use xlink:href=\"#DejaVuSans-61\" x=\"264.550781\"/>\n      <use xlink:href=\"#DejaVuSans-63\" x=\"325.830078\"/>\n      <use xlink:href=\"#DejaVuSans-63\" x=\"380.810547\"/>\n     </g>\n    </g>\n    <g id=\"line2d_28\">\n     <path d=\"M 142.634375 53.453906 \nL 152.634375 53.453906 \nL 162.634375 53.453906 \n\" style=\"fill: none; stroke-dasharray: 9.6,2.4,1.5,2.4; stroke-dashoffset: 0; stroke: #008000; stroke-width: 1.5\"/>\n    </g>\n    <g id=\"text_15\">\n     <!-- test acc -->\n     <g transform=\"translate(170.634375 56.953906)scale(0.1 -0.1)\">\n      <use xlink:href=\"#DejaVuSans-74\"/>\n      <use xlink:href=\"#DejaVuSans-65\" x=\"39.208984\"/>\n      <use xlink:href=\"#DejaVuSans-73\" x=\"100.732422\"/>\n      <use xlink:href=\"#DejaVuSans-74\" x=\"152.832031\"/>\n      <use xlink:href=\"#DejaVuSans-20\" x=\"192.041016\"/>\n      <use xlink:href=\"#DejaVuSans-61\" x=\"223.828125\"/>\n      <use xlink:href=\"#DejaVuSans-63\" x=\"285.107422\"/>\n      <use xlink:href=\"#DejaVuSans-63\" x=\"340.087891\"/>\n     </g>\n    </g>\n   </g>\n  </g>\n </g>\n <defs>\n  <clipPath id=\"pf325b9871f\">\n   <rect x=\"30.103125\" y=\"10.999219\" width=\"195.3\" height=\"135.9\"/>\n  </clipPath>\n </defs>\n</svg>\n"
          },
          "metadata": {
            "needs_background": "light"
          }
        }
      ]
    },
    {
      "cell_type": "code",
      "source": [
        "lr, num_epochs = 1e-4, 10 \n",
        "trainer = torch.optim.Adam(net.parameters(), lr=lr)\n",
        "loss = nn.CrossEntropyLoss(reduction='none')\n",
        "# loss = nn.BCELoss()\n",
        "# Using a target size (torch.Size([64])) that is different to the input size (torch.Size([64, 2])) is deprecated. Please ensure they have the same size.\n",
        "d2l.train_ch13(net, train_iter, test_iter, loss, trainer, num_epochs,devices)"
      ],
      "metadata": {
        "colab": {
          "base_uri": "https://localhost:8080/",
          "height": 302
        },
        "id": "a24Kicv_lpj0",
        "outputId": "e53eaf72-426f-4157-dbe8-8772ce7ecf6f"
      },
      "execution_count": null,
      "outputs": [
        {
          "output_type": "stream",
          "name": "stdout",
          "text": [
            "loss 0.012, train acc 0.995, test acc 0.985\n",
            "1861.7 examples/sec on [device(type='cuda', index=0)]\n"
          ]
        },
        {
          "output_type": "display_data",
          "data": {
            "text/plain": [
              "<Figure size 252x180 with 1 Axes>"
            ],
            "image/svg+xml": "<?xml version=\"1.0\" encoding=\"utf-8\" standalone=\"no\"?>\n<!DOCTYPE svg PUBLIC \"-//W3C//DTD SVG 1.1//EN\"\n  \"http://www.w3.org/Graphics/SVG/1.1/DTD/svg11.dtd\">\n<svg xmlns:xlink=\"http://www.w3.org/1999/xlink\" width=\"238.965625pt\" height=\"184.455469pt\" viewBox=\"0 0 238.965625 184.455469\" xmlns=\"http://www.w3.org/2000/svg\" version=\"1.1\">\n <metadata>\n  <rdf:RDF xmlns:dc=\"http://purl.org/dc/elements/1.1/\" xmlns:cc=\"http://creativecommons.org/ns#\" xmlns:rdf=\"http://www.w3.org/1999/02/22-rdf-syntax-ns#\">\n   <cc:Work>\n    <dc:type rdf:resource=\"http://purl.org/dc/dcmitype/StillImage\"/>\n    <dc:date>2022-11-21T19:18:56.231332</dc:date>\n    <dc:format>image/svg+xml</dc:format>\n    <dc:creator>\n     <cc:Agent>\n      <dc:title>Matplotlib v3.5.1, https://matplotlib.org/</dc:title>\n     </cc:Agent>\n    </dc:creator>\n   </cc:Work>\n  </rdf:RDF>\n </metadata>\n <defs>\n  <style type=\"text/css\">*{stroke-linejoin: round; stroke-linecap: butt}</style>\n </defs>\n <g id=\"figure_1\">\n  <g id=\"patch_1\">\n   <path d=\"M 0 184.455469 \nL 238.965625 184.455469 \nL 238.965625 -0 \nL 0 -0 \nL 0 184.455469 \nz\n\" style=\"fill: none\"/>\n  </g>\n  <g id=\"axes_1\">\n   <g id=\"patch_2\">\n    <path d=\"M 30.103125 146.899219 \nL 225.403125 146.899219 \nL 225.403125 10.999219 \nL 30.103125 10.999219 \nz\n\" style=\"fill: #ffffff\"/>\n   </g>\n   <g id=\"matplotlib.axis_1\">\n    <g id=\"xtick_1\">\n     <g id=\"line2d_1\">\n      <path d=\"M 51.803125 146.899219 \nL 51.803125 10.999219 \n\" clip-path=\"url(#p1ae73d22f2)\" style=\"fill: none; stroke: #b0b0b0; stroke-width: 0.8; stroke-linecap: square\"/>\n     </g>\n     <g id=\"line2d_2\">\n      <defs>\n       <path id=\"mc55c6bc81a\" d=\"M 0 0 \nL 0 3.5 \n\" style=\"stroke: #000000; stroke-width: 0.8\"/>\n      </defs>\n      <g>\n       <use xlink:href=\"#mc55c6bc81a\" x=\"51.803125\" y=\"146.899219\" style=\"stroke: #000000; stroke-width: 0.8\"/>\n      </g>\n     </g>\n     <g id=\"text_1\">\n      <!-- 2 -->\n      <g transform=\"translate(48.621875 161.497656)scale(0.1 -0.1)\">\n       <defs>\n        <path id=\"DejaVuSans-32\" d=\"M 1228 531 \nL 3431 531 \nL 3431 0 \nL 469 0 \nL 469 531 \nQ 828 903 1448 1529 \nQ 2069 2156 2228 2338 \nQ 2531 2678 2651 2914 \nQ 2772 3150 2772 3378 \nQ 2772 3750 2511 3984 \nQ 2250 4219 1831 4219 \nQ 1534 4219 1204 4116 \nQ 875 4013 500 3803 \nL 500 4441 \nQ 881 4594 1212 4672 \nQ 1544 4750 1819 4750 \nQ 2544 4750 2975 4387 \nQ 3406 4025 3406 3419 \nQ 3406 3131 3298 2873 \nQ 3191 2616 2906 2266 \nQ 2828 2175 2409 1742 \nQ 1991 1309 1228 531 \nz\n\" transform=\"scale(0.015625)\"/>\n       </defs>\n       <use xlink:href=\"#DejaVuSans-32\"/>\n      </g>\n     </g>\n    </g>\n    <g id=\"xtick_2\">\n     <g id=\"line2d_3\">\n      <path d=\"M 95.203125 146.899219 \nL 95.203125 10.999219 \n\" clip-path=\"url(#p1ae73d22f2)\" style=\"fill: none; stroke: #b0b0b0; stroke-width: 0.8; stroke-linecap: square\"/>\n     </g>\n     <g id=\"line2d_4\">\n      <g>\n       <use xlink:href=\"#mc55c6bc81a\" x=\"95.203125\" y=\"146.899219\" style=\"stroke: #000000; stroke-width: 0.8\"/>\n      </g>\n     </g>\n     <g id=\"text_2\">\n      <!-- 4 -->\n      <g transform=\"translate(92.021875 161.497656)scale(0.1 -0.1)\">\n       <defs>\n        <path id=\"DejaVuSans-34\" d=\"M 2419 4116 \nL 825 1625 \nL 2419 1625 \nL 2419 4116 \nz\nM 2253 4666 \nL 3047 4666 \nL 3047 1625 \nL 3713 1625 \nL 3713 1100 \nL 3047 1100 \nL 3047 0 \nL 2419 0 \nL 2419 1100 \nL 313 1100 \nL 313 1709 \nL 2253 4666 \nz\n\" transform=\"scale(0.015625)\"/>\n       </defs>\n       <use xlink:href=\"#DejaVuSans-34\"/>\n      </g>\n     </g>\n    </g>\n    <g id=\"xtick_3\">\n     <g id=\"line2d_5\">\n      <path d=\"M 138.603125 146.899219 \nL 138.603125 10.999219 \n\" clip-path=\"url(#p1ae73d22f2)\" style=\"fill: none; stroke: #b0b0b0; stroke-width: 0.8; stroke-linecap: square\"/>\n     </g>\n     <g id=\"line2d_6\">\n      <g>\n       <use xlink:href=\"#mc55c6bc81a\" x=\"138.603125\" y=\"146.899219\" style=\"stroke: #000000; stroke-width: 0.8\"/>\n      </g>\n     </g>\n     <g id=\"text_3\">\n      <!-- 6 -->\n      <g transform=\"translate(135.421875 161.497656)scale(0.1 -0.1)\">\n       <defs>\n        <path id=\"DejaVuSans-36\" d=\"M 2113 2584 \nQ 1688 2584 1439 2293 \nQ 1191 2003 1191 1497 \nQ 1191 994 1439 701 \nQ 1688 409 2113 409 \nQ 2538 409 2786 701 \nQ 3034 994 3034 1497 \nQ 3034 2003 2786 2293 \nQ 2538 2584 2113 2584 \nz\nM 3366 4563 \nL 3366 3988 \nQ 3128 4100 2886 4159 \nQ 2644 4219 2406 4219 \nQ 1781 4219 1451 3797 \nQ 1122 3375 1075 2522 \nQ 1259 2794 1537 2939 \nQ 1816 3084 2150 3084 \nQ 2853 3084 3261 2657 \nQ 3669 2231 3669 1497 \nQ 3669 778 3244 343 \nQ 2819 -91 2113 -91 \nQ 1303 -91 875 529 \nQ 447 1150 447 2328 \nQ 447 3434 972 4092 \nQ 1497 4750 2381 4750 \nQ 2619 4750 2861 4703 \nQ 3103 4656 3366 4563 \nz\n\" transform=\"scale(0.015625)\"/>\n       </defs>\n       <use xlink:href=\"#DejaVuSans-36\"/>\n      </g>\n     </g>\n    </g>\n    <g id=\"xtick_4\">\n     <g id=\"line2d_7\">\n      <path d=\"M 182.003125 146.899219 \nL 182.003125 10.999219 \n\" clip-path=\"url(#p1ae73d22f2)\" style=\"fill: none; stroke: #b0b0b0; stroke-width: 0.8; stroke-linecap: square\"/>\n     </g>\n     <g id=\"line2d_8\">\n      <g>\n       <use xlink:href=\"#mc55c6bc81a\" x=\"182.003125\" y=\"146.899219\" style=\"stroke: #000000; stroke-width: 0.8\"/>\n      </g>\n     </g>\n     <g id=\"text_4\">\n      <!-- 8 -->\n      <g transform=\"translate(178.821875 161.497656)scale(0.1 -0.1)\">\n       <defs>\n        <path id=\"DejaVuSans-38\" d=\"M 2034 2216 \nQ 1584 2216 1326 1975 \nQ 1069 1734 1069 1313 \nQ 1069 891 1326 650 \nQ 1584 409 2034 409 \nQ 2484 409 2743 651 \nQ 3003 894 3003 1313 \nQ 3003 1734 2745 1975 \nQ 2488 2216 2034 2216 \nz\nM 1403 2484 \nQ 997 2584 770 2862 \nQ 544 3141 544 3541 \nQ 544 4100 942 4425 \nQ 1341 4750 2034 4750 \nQ 2731 4750 3128 4425 \nQ 3525 4100 3525 3541 \nQ 3525 3141 3298 2862 \nQ 3072 2584 2669 2484 \nQ 3125 2378 3379 2068 \nQ 3634 1759 3634 1313 \nQ 3634 634 3220 271 \nQ 2806 -91 2034 -91 \nQ 1263 -91 848 271 \nQ 434 634 434 1313 \nQ 434 1759 690 2068 \nQ 947 2378 1403 2484 \nz\nM 1172 3481 \nQ 1172 3119 1398 2916 \nQ 1625 2713 2034 2713 \nQ 2441 2713 2670 2916 \nQ 2900 3119 2900 3481 \nQ 2900 3844 2670 4047 \nQ 2441 4250 2034 4250 \nQ 1625 4250 1398 4047 \nQ 1172 3844 1172 3481 \nz\n\" transform=\"scale(0.015625)\"/>\n       </defs>\n       <use xlink:href=\"#DejaVuSans-38\"/>\n      </g>\n     </g>\n    </g>\n    <g id=\"xtick_5\">\n     <g id=\"line2d_9\">\n      <path d=\"M 225.403125 146.899219 \nL 225.403125 10.999219 \n\" clip-path=\"url(#p1ae73d22f2)\" style=\"fill: none; stroke: #b0b0b0; stroke-width: 0.8; stroke-linecap: square\"/>\n     </g>\n     <g id=\"line2d_10\">\n      <g>\n       <use xlink:href=\"#mc55c6bc81a\" x=\"225.403125\" y=\"146.899219\" style=\"stroke: #000000; stroke-width: 0.8\"/>\n      </g>\n     </g>\n     <g id=\"text_5\">\n      <!-- 10 -->\n      <g transform=\"translate(219.040625 161.497656)scale(0.1 -0.1)\">\n       <defs>\n        <path id=\"DejaVuSans-31\" d=\"M 794 531 \nL 1825 531 \nL 1825 4091 \nL 703 3866 \nL 703 4441 \nL 1819 4666 \nL 2450 4666 \nL 2450 531 \nL 3481 531 \nL 3481 0 \nL 794 0 \nL 794 531 \nz\n\" transform=\"scale(0.015625)\"/>\n        <path id=\"DejaVuSans-30\" d=\"M 2034 4250 \nQ 1547 4250 1301 3770 \nQ 1056 3291 1056 2328 \nQ 1056 1369 1301 889 \nQ 1547 409 2034 409 \nQ 2525 409 2770 889 \nQ 3016 1369 3016 2328 \nQ 3016 3291 2770 3770 \nQ 2525 4250 2034 4250 \nz\nM 2034 4750 \nQ 2819 4750 3233 4129 \nQ 3647 3509 3647 2328 \nQ 3647 1150 3233 529 \nQ 2819 -91 2034 -91 \nQ 1250 -91 836 529 \nQ 422 1150 422 2328 \nQ 422 3509 836 4129 \nQ 1250 4750 2034 4750 \nz\n\" transform=\"scale(0.015625)\"/>\n       </defs>\n       <use xlink:href=\"#DejaVuSans-31\"/>\n       <use xlink:href=\"#DejaVuSans-30\" x=\"63.623047\"/>\n      </g>\n     </g>\n    </g>\n    <g id=\"text_6\">\n     <!-- epoch -->\n     <g transform=\"translate(112.525 175.175781)scale(0.1 -0.1)\">\n      <defs>\n       <path id=\"DejaVuSans-65\" d=\"M 3597 1894 \nL 3597 1613 \nL 953 1613 \nQ 991 1019 1311 708 \nQ 1631 397 2203 397 \nQ 2534 397 2845 478 \nQ 3156 559 3463 722 \nL 3463 178 \nQ 3153 47 2828 -22 \nQ 2503 -91 2169 -91 \nQ 1331 -91 842 396 \nQ 353 884 353 1716 \nQ 353 2575 817 3079 \nQ 1281 3584 2069 3584 \nQ 2775 3584 3186 3129 \nQ 3597 2675 3597 1894 \nz\nM 3022 2063 \nQ 3016 2534 2758 2815 \nQ 2500 3097 2075 3097 \nQ 1594 3097 1305 2825 \nQ 1016 2553 972 2059 \nL 3022 2063 \nz\n\" transform=\"scale(0.015625)\"/>\n       <path id=\"DejaVuSans-70\" d=\"M 1159 525 \nL 1159 -1331 \nL 581 -1331 \nL 581 3500 \nL 1159 3500 \nL 1159 2969 \nQ 1341 3281 1617 3432 \nQ 1894 3584 2278 3584 \nQ 2916 3584 3314 3078 \nQ 3713 2572 3713 1747 \nQ 3713 922 3314 415 \nQ 2916 -91 2278 -91 \nQ 1894 -91 1617 61 \nQ 1341 213 1159 525 \nz\nM 3116 1747 \nQ 3116 2381 2855 2742 \nQ 2594 3103 2138 3103 \nQ 1681 3103 1420 2742 \nQ 1159 2381 1159 1747 \nQ 1159 1113 1420 752 \nQ 1681 391 2138 391 \nQ 2594 391 2855 752 \nQ 3116 1113 3116 1747 \nz\n\" transform=\"scale(0.015625)\"/>\n       <path id=\"DejaVuSans-6f\" d=\"M 1959 3097 \nQ 1497 3097 1228 2736 \nQ 959 2375 959 1747 \nQ 959 1119 1226 758 \nQ 1494 397 1959 397 \nQ 2419 397 2687 759 \nQ 2956 1122 2956 1747 \nQ 2956 2369 2687 2733 \nQ 2419 3097 1959 3097 \nz\nM 1959 3584 \nQ 2709 3584 3137 3096 \nQ 3566 2609 3566 1747 \nQ 3566 888 3137 398 \nQ 2709 -91 1959 -91 \nQ 1206 -91 779 398 \nQ 353 888 353 1747 \nQ 353 2609 779 3096 \nQ 1206 3584 1959 3584 \nz\n\" transform=\"scale(0.015625)\"/>\n       <path id=\"DejaVuSans-63\" d=\"M 3122 3366 \nL 3122 2828 \nQ 2878 2963 2633 3030 \nQ 2388 3097 2138 3097 \nQ 1578 3097 1268 2742 \nQ 959 2388 959 1747 \nQ 959 1106 1268 751 \nQ 1578 397 2138 397 \nQ 2388 397 2633 464 \nQ 2878 531 3122 666 \nL 3122 134 \nQ 2881 22 2623 -34 \nQ 2366 -91 2075 -91 \nQ 1284 -91 818 406 \nQ 353 903 353 1747 \nQ 353 2603 823 3093 \nQ 1294 3584 2113 3584 \nQ 2378 3584 2631 3529 \nQ 2884 3475 3122 3366 \nz\n\" transform=\"scale(0.015625)\"/>\n       <path id=\"DejaVuSans-68\" d=\"M 3513 2113 \nL 3513 0 \nL 2938 0 \nL 2938 2094 \nQ 2938 2591 2744 2837 \nQ 2550 3084 2163 3084 \nQ 1697 3084 1428 2787 \nQ 1159 2491 1159 1978 \nL 1159 0 \nL 581 0 \nL 581 4863 \nL 1159 4863 \nL 1159 2956 \nQ 1366 3272 1645 3428 \nQ 1925 3584 2291 3584 \nQ 2894 3584 3203 3211 \nQ 3513 2838 3513 2113 \nz\n\" transform=\"scale(0.015625)\"/>\n      </defs>\n      <use xlink:href=\"#DejaVuSans-65\"/>\n      <use xlink:href=\"#DejaVuSans-70\" x=\"61.523438\"/>\n      <use xlink:href=\"#DejaVuSans-6f\" x=\"125\"/>\n      <use xlink:href=\"#DejaVuSans-63\" x=\"186.181641\"/>\n      <use xlink:href=\"#DejaVuSans-68\" x=\"241.162109\"/>\n     </g>\n    </g>\n   </g>\n   <g id=\"matplotlib.axis_2\">\n    <g id=\"ytick_1\">\n     <g id=\"line2d_11\">\n      <path d=\"M 30.103125 146.899219 \nL 225.403125 146.899219 \n\" clip-path=\"url(#p1ae73d22f2)\" style=\"fill: none; stroke: #b0b0b0; stroke-width: 0.8; stroke-linecap: square\"/>\n     </g>\n     <g id=\"line2d_12\">\n      <defs>\n       <path id=\"m1d348354d0\" d=\"M 0 0 \nL -3.5 0 \n\" style=\"stroke: #000000; stroke-width: 0.8\"/>\n      </defs>\n      <g>\n       <use xlink:href=\"#m1d348354d0\" x=\"30.103125\" y=\"146.899219\" style=\"stroke: #000000; stroke-width: 0.8\"/>\n      </g>\n     </g>\n     <g id=\"text_7\">\n      <!-- 0.0 -->\n      <g transform=\"translate(7.2 150.698437)scale(0.1 -0.1)\">\n       <defs>\n        <path id=\"DejaVuSans-2e\" d=\"M 684 794 \nL 1344 794 \nL 1344 0 \nL 684 0 \nL 684 794 \nz\n\" transform=\"scale(0.015625)\"/>\n       </defs>\n       <use xlink:href=\"#DejaVuSans-30\"/>\n       <use xlink:href=\"#DejaVuSans-2e\" x=\"63.623047\"/>\n       <use xlink:href=\"#DejaVuSans-30\" x=\"95.410156\"/>\n      </g>\n     </g>\n    </g>\n    <g id=\"ytick_2\">\n     <g id=\"line2d_13\">\n      <path d=\"M 30.103125 119.719219 \nL 225.403125 119.719219 \n\" clip-path=\"url(#p1ae73d22f2)\" style=\"fill: none; stroke: #b0b0b0; stroke-width: 0.8; stroke-linecap: square\"/>\n     </g>\n     <g id=\"line2d_14\">\n      <g>\n       <use xlink:href=\"#m1d348354d0\" x=\"30.103125\" y=\"119.719219\" style=\"stroke: #000000; stroke-width: 0.8\"/>\n      </g>\n     </g>\n     <g id=\"text_8\">\n      <!-- 0.2 -->\n      <g transform=\"translate(7.2 123.518437)scale(0.1 -0.1)\">\n       <use xlink:href=\"#DejaVuSans-30\"/>\n       <use xlink:href=\"#DejaVuSans-2e\" x=\"63.623047\"/>\n       <use xlink:href=\"#DejaVuSans-32\" x=\"95.410156\"/>\n      </g>\n     </g>\n    </g>\n    <g id=\"ytick_3\">\n     <g id=\"line2d_15\">\n      <path d=\"M 30.103125 92.539219 \nL 225.403125 92.539219 \n\" clip-path=\"url(#p1ae73d22f2)\" style=\"fill: none; stroke: #b0b0b0; stroke-width: 0.8; stroke-linecap: square\"/>\n     </g>\n     <g id=\"line2d_16\">\n      <g>\n       <use xlink:href=\"#m1d348354d0\" x=\"30.103125\" y=\"92.539219\" style=\"stroke: #000000; stroke-width: 0.8\"/>\n      </g>\n     </g>\n     <g id=\"text_9\">\n      <!-- 0.4 -->\n      <g transform=\"translate(7.2 96.338437)scale(0.1 -0.1)\">\n       <use xlink:href=\"#DejaVuSans-30\"/>\n       <use xlink:href=\"#DejaVuSans-2e\" x=\"63.623047\"/>\n       <use xlink:href=\"#DejaVuSans-34\" x=\"95.410156\"/>\n      </g>\n     </g>\n    </g>\n    <g id=\"ytick_4\">\n     <g id=\"line2d_17\">\n      <path d=\"M 30.103125 65.359219 \nL 225.403125 65.359219 \n\" clip-path=\"url(#p1ae73d22f2)\" style=\"fill: none; stroke: #b0b0b0; stroke-width: 0.8; stroke-linecap: square\"/>\n     </g>\n     <g id=\"line2d_18\">\n      <g>\n       <use xlink:href=\"#m1d348354d0\" x=\"30.103125\" y=\"65.359219\" style=\"stroke: #000000; stroke-width: 0.8\"/>\n      </g>\n     </g>\n     <g id=\"text_10\">\n      <!-- 0.6 -->\n      <g transform=\"translate(7.2 69.158437)scale(0.1 -0.1)\">\n       <use xlink:href=\"#DejaVuSans-30\"/>\n       <use xlink:href=\"#DejaVuSans-2e\" x=\"63.623047\"/>\n       <use xlink:href=\"#DejaVuSans-36\" x=\"95.410156\"/>\n      </g>\n     </g>\n    </g>\n    <g id=\"ytick_5\">\n     <g id=\"line2d_19\">\n      <path d=\"M 30.103125 38.179219 \nL 225.403125 38.179219 \n\" clip-path=\"url(#p1ae73d22f2)\" style=\"fill: none; stroke: #b0b0b0; stroke-width: 0.8; stroke-linecap: square\"/>\n     </g>\n     <g id=\"line2d_20\">\n      <g>\n       <use xlink:href=\"#m1d348354d0\" x=\"30.103125\" y=\"38.179219\" style=\"stroke: #000000; stroke-width: 0.8\"/>\n      </g>\n     </g>\n     <g id=\"text_11\">\n      <!-- 0.8 -->\n      <g transform=\"translate(7.2 41.978437)scale(0.1 -0.1)\">\n       <use xlink:href=\"#DejaVuSans-30\"/>\n       <use xlink:href=\"#DejaVuSans-2e\" x=\"63.623047\"/>\n       <use xlink:href=\"#DejaVuSans-38\" x=\"95.410156\"/>\n      </g>\n     </g>\n    </g>\n    <g id=\"ytick_6\">\n     <g id=\"line2d_21\">\n      <path d=\"M 30.103125 10.999219 \nL 225.403125 10.999219 \n\" clip-path=\"url(#p1ae73d22f2)\" style=\"fill: none; stroke: #b0b0b0; stroke-width: 0.8; stroke-linecap: square\"/>\n     </g>\n     <g id=\"line2d_22\">\n      <g>\n       <use xlink:href=\"#m1d348354d0\" x=\"30.103125\" y=\"10.999219\" style=\"stroke: #000000; stroke-width: 0.8\"/>\n      </g>\n     </g>\n     <g id=\"text_12\">\n      <!-- 1.0 -->\n      <g transform=\"translate(7.2 14.798437)scale(0.1 -0.1)\">\n       <use xlink:href=\"#DejaVuSans-31\"/>\n       <use xlink:href=\"#DejaVuSans-2e\" x=\"63.623047\"/>\n       <use xlink:href=\"#DejaVuSans-30\" x=\"95.410156\"/>\n      </g>\n     </g>\n    </g>\n   </g>\n   <g id=\"line2d_23\">\n    <path d=\"M 12.740674 139.322883 \nL 17.078224 141.149621 \nL 21.415773 141.739354 \nL 25.753323 141.91488 \nL 30.090872 142.079755 \nL 30.103125 142.080728 \nL 34.440674 144.119555 \nL 38.778224 144.004048 \nL 43.115773 143.896461 \nL 47.453323 143.827873 \nL 51.790872 143.885115 \nL 51.803125 143.885795 \nL 56.140674 144.227014 \nL 60.478224 144.281393 \nL 64.815773 144.299276 \nL 69.153323 144.173654 \nL 73.490872 144.073948 \nL 73.503125 144.072482 \nL 77.840674 144.658959 \nL 82.178224 144.435584 \nL 86.515773 144.354404 \nL 90.853323 144.350602 \nL 95.190872 144.316997 \nL 95.203125 144.31692 \nL 99.540674 144.82098 \nL 103.878224 144.689282 \nL 108.215773 144.699077 \nL 112.553323 144.654203 \nL 116.890872 144.605626 \nL 116.903125 144.606665 \nL 121.240674 144.660206 \nL 125.578224 144.706385 \nL 129.915773 144.709142 \nL 134.253323 144.664426 \nL 138.590872 144.698071 \nL 138.603125 144.697653 \nL 142.940674 144.809139 \nL 147.278224 144.771379 \nL 151.615773 144.79585 \nL 155.953323 144.863267 \nL 160.290872 144.759463 \nL 160.303125 144.760464 \nL 164.640674 145.218341 \nL 168.978224 145.175156 \nL 173.315773 145.108993 \nL 177.653323 145.069096 \nL 181.990872 145.038464 \nL 182.003125 145.039215 \nL 186.340674 145.057688 \nL 190.678224 145.087207 \nL 195.015773 145.062544 \nL 199.353323 145.050136 \nL 203.690872 145.04426 \nL 203.703125 145.043957 \nL 208.040674 145.651917 \nL 212.378224 145.477361 \nL 216.715773 145.336399 \nL 221.053323 145.291628 \nL 225.390872 145.286223 \nL 225.403125 145.286933 \n\" clip-path=\"url(#p1ae73d22f2)\" style=\"fill: none; stroke: #1f77b4; stroke-width: 1.5; stroke-linecap: square\"/>\n   </g>\n   <g id=\"line2d_24\">\n    <path d=\"M 12.740674 12.468829 \nL 17.078224 12.414844 \nL 21.415773 12.404846 \nL 25.753323 12.459832 \nL 30.090872 12.46763 \nL 30.103125 12.466917 \nL 34.440674 12.060937 \nL 38.778224 12.105926 \nL 43.115773 12.156912 \nL 47.453323 12.16291 \nL 51.790872 12.140117 \nL 51.803125 12.139563 \nL 56.140674 12.01295 \nL 60.478224 11.991956 \nL 64.815773 11.982958 \nL 69.153323 12.039943 \nL 73.490872 12.071735 \nL 73.503125 12.072413 \nL 77.840674 11.821001 \nL 82.178224 11.889983 \nL 86.515773 11.93897 \nL 90.853323 11.943968 \nL 95.190872 11.960164 \nL 95.203125 11.959698 \nL 99.540674 11.731025 \nL 103.878224 11.826999 \nL 108.215773 11.819002 \nL 112.553323 11.840496 \nL 116.890872 11.848594 \nL 116.903125 11.848182 \nL 121.240674 11.826999 \nL 125.578224 11.838996 \nL 129.915773 11.838996 \nL 134.253323 11.853992 \nL 138.590872 11.840196 \nL 138.603125 11.840987 \nL 142.940674 11.695034 \nL 147.278224 11.716029 \nL 151.615773 11.725026 \nL 155.953323 11.71003 \nL 160.290872 11.785011 \nL 160.303125 11.784629 \nL 164.640674 11.587063 \nL 168.978224 11.602059 \nL 173.315773 11.639049 \nL 177.653323 11.656045 \nL 181.990872 11.67224 \nL 182.003125 11.671914 \nL 186.340674 11.719028 \nL 190.678224 11.701033 \nL 195.015773 11.693035 \nL 199.353323 11.687536 \nL 203.690872 11.71183 \nL 203.703125 11.711484 \nL 208.040674 11.467095 \nL 212.378224 11.551073 \nL 216.715773 11.589062 \nL 221.053323 11.612556 \nL 225.390872 11.620654 \nL 225.403125 11.620353 \n\" clip-path=\"url(#p1ae73d22f2)\" style=\"fill: none; stroke-dasharray: 5.55,2.4; stroke-dashoffset: 0; stroke: #bf00bf; stroke-width: 1.5\"/>\n   </g>\n   <g id=\"line2d_25\">\n    <path d=\"M 30.103125 13.675563 \nL 51.803125 13.308645 \nL 73.503125 13.222311 \nL 95.203125 13.351811 \nL 116.903125 13.384187 \nL 138.603125 13.427353 \nL 160.303125 13.222311 \nL 182.003125 13.459729 \nL 203.703125 13.47052 \nL 225.403125 13.038852 \n\" clip-path=\"url(#p1ae73d22f2)\" style=\"fill: none; stroke-dasharray: 9.6,2.4,1.5,2.4; stroke-dashoffset: 0; stroke: #008000; stroke-width: 1.5\"/>\n   </g>\n   <g id=\"patch_3\">\n    <path d=\"M 30.103125 146.899219 \nL 30.103125 10.999219 \n\" style=\"fill: none; stroke: #000000; stroke-width: 0.8; stroke-linejoin: miter; stroke-linecap: square\"/>\n   </g>\n   <g id=\"patch_4\">\n    <path d=\"M 225.403125 146.899219 \nL 225.403125 10.999219 \n\" style=\"fill: none; stroke: #000000; stroke-width: 0.8; stroke-linejoin: miter; stroke-linecap: square\"/>\n   </g>\n   <g id=\"patch_5\">\n    <path d=\"M 30.103125 146.899219 \nL 225.403125 146.899219 \n\" style=\"fill: none; stroke: #000000; stroke-width: 0.8; stroke-linejoin: miter; stroke-linecap: square\"/>\n   </g>\n   <g id=\"patch_6\">\n    <path d=\"M 30.103125 10.999219 \nL 225.403125 10.999219 \n\" style=\"fill: none; stroke: #000000; stroke-width: 0.8; stroke-linejoin: miter; stroke-linecap: square\"/>\n   </g>\n   <g id=\"legend_1\">\n    <g id=\"patch_7\">\n     <path d=\"M 140.634375 63.033594 \nL 218.403125 63.033594 \nQ 220.403125 63.033594 220.403125 61.033594 \nL 220.403125 17.999219 \nQ 220.403125 15.999219 218.403125 15.999219 \nL 140.634375 15.999219 \nQ 138.634375 15.999219 138.634375 17.999219 \nL 138.634375 61.033594 \nQ 138.634375 63.033594 140.634375 63.033594 \nz\n\" style=\"fill: #ffffff; opacity: 0.8; stroke: #cccccc; stroke-linejoin: miter\"/>\n    </g>\n    <g id=\"line2d_26\">\n     <path d=\"M 142.634375 24.097656 \nL 152.634375 24.097656 \nL 162.634375 24.097656 \n\" style=\"fill: none; stroke: #1f77b4; stroke-width: 1.5; stroke-linecap: square\"/>\n    </g>\n    <g id=\"text_13\">\n     <!-- train loss -->\n     <g transform=\"translate(170.634375 27.597656)scale(0.1 -0.1)\">\n      <defs>\n       <path id=\"DejaVuSans-74\" d=\"M 1172 4494 \nL 1172 3500 \nL 2356 3500 \nL 2356 3053 \nL 1172 3053 \nL 1172 1153 \nQ 1172 725 1289 603 \nQ 1406 481 1766 481 \nL 2356 481 \nL 2356 0 \nL 1766 0 \nQ 1100 0 847 248 \nQ 594 497 594 1153 \nL 594 3053 \nL 172 3053 \nL 172 3500 \nL 594 3500 \nL 594 4494 \nL 1172 4494 \nz\n\" transform=\"scale(0.015625)\"/>\n       <path id=\"DejaVuSans-72\" d=\"M 2631 2963 \nQ 2534 3019 2420 3045 \nQ 2306 3072 2169 3072 \nQ 1681 3072 1420 2755 \nQ 1159 2438 1159 1844 \nL 1159 0 \nL 581 0 \nL 581 3500 \nL 1159 3500 \nL 1159 2956 \nQ 1341 3275 1631 3429 \nQ 1922 3584 2338 3584 \nQ 2397 3584 2469 3576 \nQ 2541 3569 2628 3553 \nL 2631 2963 \nz\n\" transform=\"scale(0.015625)\"/>\n       <path id=\"DejaVuSans-61\" d=\"M 2194 1759 \nQ 1497 1759 1228 1600 \nQ 959 1441 959 1056 \nQ 959 750 1161 570 \nQ 1363 391 1709 391 \nQ 2188 391 2477 730 \nQ 2766 1069 2766 1631 \nL 2766 1759 \nL 2194 1759 \nz\nM 3341 1997 \nL 3341 0 \nL 2766 0 \nL 2766 531 \nQ 2569 213 2275 61 \nQ 1981 -91 1556 -91 \nQ 1019 -91 701 211 \nQ 384 513 384 1019 \nQ 384 1609 779 1909 \nQ 1175 2209 1959 2209 \nL 2766 2209 \nL 2766 2266 \nQ 2766 2663 2505 2880 \nQ 2244 3097 1772 3097 \nQ 1472 3097 1187 3025 \nQ 903 2953 641 2809 \nL 641 3341 \nQ 956 3463 1253 3523 \nQ 1550 3584 1831 3584 \nQ 2591 3584 2966 3190 \nQ 3341 2797 3341 1997 \nz\n\" transform=\"scale(0.015625)\"/>\n       <path id=\"DejaVuSans-69\" d=\"M 603 3500 \nL 1178 3500 \nL 1178 0 \nL 603 0 \nL 603 3500 \nz\nM 603 4863 \nL 1178 4863 \nL 1178 4134 \nL 603 4134 \nL 603 4863 \nz\n\" transform=\"scale(0.015625)\"/>\n       <path id=\"DejaVuSans-6e\" d=\"M 3513 2113 \nL 3513 0 \nL 2938 0 \nL 2938 2094 \nQ 2938 2591 2744 2837 \nQ 2550 3084 2163 3084 \nQ 1697 3084 1428 2787 \nQ 1159 2491 1159 1978 \nL 1159 0 \nL 581 0 \nL 581 3500 \nL 1159 3500 \nL 1159 2956 \nQ 1366 3272 1645 3428 \nQ 1925 3584 2291 3584 \nQ 2894 3584 3203 3211 \nQ 3513 2838 3513 2113 \nz\n\" transform=\"scale(0.015625)\"/>\n       <path id=\"DejaVuSans-20\" transform=\"scale(0.015625)\"/>\n       <path id=\"DejaVuSans-6c\" d=\"M 603 4863 \nL 1178 4863 \nL 1178 0 \nL 603 0 \nL 603 4863 \nz\n\" transform=\"scale(0.015625)\"/>\n       <path id=\"DejaVuSans-73\" d=\"M 2834 3397 \nL 2834 2853 \nQ 2591 2978 2328 3040 \nQ 2066 3103 1784 3103 \nQ 1356 3103 1142 2972 \nQ 928 2841 928 2578 \nQ 928 2378 1081 2264 \nQ 1234 2150 1697 2047 \nL 1894 2003 \nQ 2506 1872 2764 1633 \nQ 3022 1394 3022 966 \nQ 3022 478 2636 193 \nQ 2250 -91 1575 -91 \nQ 1294 -91 989 -36 \nQ 684 19 347 128 \nL 347 722 \nQ 666 556 975 473 \nQ 1284 391 1588 391 \nQ 1994 391 2212 530 \nQ 2431 669 2431 922 \nQ 2431 1156 2273 1281 \nQ 2116 1406 1581 1522 \nL 1381 1569 \nQ 847 1681 609 1914 \nQ 372 2147 372 2553 \nQ 372 3047 722 3315 \nQ 1072 3584 1716 3584 \nQ 2034 3584 2315 3537 \nQ 2597 3491 2834 3397 \nz\n\" transform=\"scale(0.015625)\"/>\n      </defs>\n      <use xlink:href=\"#DejaVuSans-74\"/>\n      <use xlink:href=\"#DejaVuSans-72\" x=\"39.208984\"/>\n      <use xlink:href=\"#DejaVuSans-61\" x=\"80.322266\"/>\n      <use xlink:href=\"#DejaVuSans-69\" x=\"141.601562\"/>\n      <use xlink:href=\"#DejaVuSans-6e\" x=\"169.384766\"/>\n      <use xlink:href=\"#DejaVuSans-20\" x=\"232.763672\"/>\n      <use xlink:href=\"#DejaVuSans-6c\" x=\"264.550781\"/>\n      <use xlink:href=\"#DejaVuSans-6f\" x=\"292.333984\"/>\n      <use xlink:href=\"#DejaVuSans-73\" x=\"353.515625\"/>\n      <use xlink:href=\"#DejaVuSans-73\" x=\"405.615234\"/>\n     </g>\n    </g>\n    <g id=\"line2d_27\">\n     <path d=\"M 142.634375 38.775781 \nL 152.634375 38.775781 \nL 162.634375 38.775781 \n\" style=\"fill: none; stroke-dasharray: 5.55,2.4; stroke-dashoffset: 0; stroke: #bf00bf; stroke-width: 1.5\"/>\n    </g>\n    <g id=\"text_14\">\n     <!-- train acc -->\n     <g transform=\"translate(170.634375 42.275781)scale(0.1 -0.1)\">\n      <use xlink:href=\"#DejaVuSans-74\"/>\n      <use xlink:href=\"#DejaVuSans-72\" x=\"39.208984\"/>\n      <use xlink:href=\"#DejaVuSans-61\" x=\"80.322266\"/>\n      <use xlink:href=\"#DejaVuSans-69\" x=\"141.601562\"/>\n      <use xlink:href=\"#DejaVuSans-6e\" x=\"169.384766\"/>\n      <use xlink:href=\"#DejaVuSans-20\" x=\"232.763672\"/>\n      <use xlink:href=\"#DejaVuSans-61\" x=\"264.550781\"/>\n      <use xlink:href=\"#DejaVuSans-63\" x=\"325.830078\"/>\n      <use xlink:href=\"#DejaVuSans-63\" x=\"380.810547\"/>\n     </g>\n    </g>\n    <g id=\"line2d_28\">\n     <path d=\"M 142.634375 53.453906 \nL 152.634375 53.453906 \nL 162.634375 53.453906 \n\" style=\"fill: none; stroke-dasharray: 9.6,2.4,1.5,2.4; stroke-dashoffset: 0; stroke: #008000; stroke-width: 1.5\"/>\n    </g>\n    <g id=\"text_15\">\n     <!-- test acc -->\n     <g transform=\"translate(170.634375 56.953906)scale(0.1 -0.1)\">\n      <use xlink:href=\"#DejaVuSans-74\"/>\n      <use xlink:href=\"#DejaVuSans-65\" x=\"39.208984\"/>\n      <use xlink:href=\"#DejaVuSans-73\" x=\"100.732422\"/>\n      <use xlink:href=\"#DejaVuSans-74\" x=\"152.832031\"/>\n      <use xlink:href=\"#DejaVuSans-20\" x=\"192.041016\"/>\n      <use xlink:href=\"#DejaVuSans-61\" x=\"223.828125\"/>\n      <use xlink:href=\"#DejaVuSans-63\" x=\"285.107422\"/>\n      <use xlink:href=\"#DejaVuSans-63\" x=\"340.087891\"/>\n     </g>\n    </g>\n   </g>\n  </g>\n </g>\n <defs>\n  <clipPath id=\"p1ae73d22f2\">\n   <rect x=\"30.103125\" y=\"10.999219\" width=\"195.3\" height=\"135.9\"/>\n  </clipPath>\n </defs>\n</svg>\n"
          },
          "metadata": {
            "needs_background": "light"
          }
        }
      ]
    },
    {
      "cell_type": "markdown",
      "source": [
        "# after manually split train and test"
      ],
      "metadata": {
        "id": "_aAQYbgy2zIu"
      }
    },
    {
      "cell_type": "code",
      "source": [
        "lr, num_epochs = 1e-4, 10 \n",
        "trainer = torch.optim.Adam(net.parameters(), lr=lr)\n",
        "loss = nn.CrossEntropyLoss(reduction='none')\n",
        "# loss = nn.BCELoss()\n",
        "# Using a target size (torch.Size([64])) that is different to the input size (torch.Size([64, 2])) is deprecated. Please ensure they have the same size.\n",
        "d2l.train_ch13(net, train_iter, test_iter, loss, trainer, num_epochs,devices)"
      ],
      "metadata": {
        "colab": {
          "base_uri": "https://localhost:8080/",
          "height": 302
        },
        "id": "R1N3MG1e22_w",
        "outputId": "d1686452-c88d-4b25-eb45-c1b0be6a6b1a"
      },
      "execution_count": null,
      "outputs": [
        {
          "output_type": "stream",
          "name": "stdout",
          "text": [
            "loss 0.017, train acc 0.993, test acc 0.399\n",
            "1871.0 examples/sec on [device(type='cuda', index=0)]\n"
          ]
        },
        {
          "output_type": "display_data",
          "data": {
            "text/plain": [
              "<Figure size 252x180 with 1 Axes>"
            ],
            "image/svg+xml": "<?xml version=\"1.0\" encoding=\"utf-8\" standalone=\"no\"?>\n<!DOCTYPE svg PUBLIC \"-//W3C//DTD SVG 1.1//EN\"\n  \"http://www.w3.org/Graphics/SVG/1.1/DTD/svg11.dtd\">\n<svg xmlns:xlink=\"http://www.w3.org/1999/xlink\" width=\"238.965625pt\" height=\"184.455469pt\" viewBox=\"0 0 238.965625 184.455469\" xmlns=\"http://www.w3.org/2000/svg\" version=\"1.1\">\n <metadata>\n  <rdf:RDF xmlns:dc=\"http://purl.org/dc/elements/1.1/\" xmlns:cc=\"http://creativecommons.org/ns#\" xmlns:rdf=\"http://www.w3.org/1999/02/22-rdf-syntax-ns#\">\n   <cc:Work>\n    <dc:type rdf:resource=\"http://purl.org/dc/dcmitype/StillImage\"/>\n    <dc:date>2022-11-26T00:52:40.872334</dc:date>\n    <dc:format>image/svg+xml</dc:format>\n    <dc:creator>\n     <cc:Agent>\n      <dc:title>Matplotlib v3.5.1, https://matplotlib.org/</dc:title>\n     </cc:Agent>\n    </dc:creator>\n   </cc:Work>\n  </rdf:RDF>\n </metadata>\n <defs>\n  <style type=\"text/css\">*{stroke-linejoin: round; stroke-linecap: butt}</style>\n </defs>\n <g id=\"figure_1\">\n  <g id=\"patch_1\">\n   <path d=\"M 0 184.455469 \nL 238.965625 184.455469 \nL 238.965625 -0 \nL 0 -0 \nL 0 184.455469 \nz\n\" style=\"fill: none\"/>\n  </g>\n  <g id=\"axes_1\">\n   <g id=\"patch_2\">\n    <path d=\"M 30.103125 146.899219 \nL 225.403125 146.899219 \nL 225.403125 10.999219 \nL 30.103125 10.999219 \nz\n\" style=\"fill: #ffffff\"/>\n   </g>\n   <g id=\"matplotlib.axis_1\">\n    <g id=\"xtick_1\">\n     <g id=\"line2d_1\">\n      <path d=\"M 51.803125 146.899219 \nL 51.803125 10.999219 \n\" clip-path=\"url(#pc63b8bff6d)\" style=\"fill: none; stroke: #b0b0b0; stroke-width: 0.8; stroke-linecap: square\"/>\n     </g>\n     <g id=\"line2d_2\">\n      <defs>\n       <path id=\"m72453e00b5\" d=\"M 0 0 \nL 0 3.5 \n\" style=\"stroke: #000000; stroke-width: 0.8\"/>\n      </defs>\n      <g>\n       <use xlink:href=\"#m72453e00b5\" x=\"51.803125\" y=\"146.899219\" style=\"stroke: #000000; stroke-width: 0.8\"/>\n      </g>\n     </g>\n     <g id=\"text_1\">\n      <!-- 2 -->\n      <g transform=\"translate(48.621875 161.497656)scale(0.1 -0.1)\">\n       <defs>\n        <path id=\"DejaVuSans-32\" d=\"M 1228 531 \nL 3431 531 \nL 3431 0 \nL 469 0 \nL 469 531 \nQ 828 903 1448 1529 \nQ 2069 2156 2228 2338 \nQ 2531 2678 2651 2914 \nQ 2772 3150 2772 3378 \nQ 2772 3750 2511 3984 \nQ 2250 4219 1831 4219 \nQ 1534 4219 1204 4116 \nQ 875 4013 500 3803 \nL 500 4441 \nQ 881 4594 1212 4672 \nQ 1544 4750 1819 4750 \nQ 2544 4750 2975 4387 \nQ 3406 4025 3406 3419 \nQ 3406 3131 3298 2873 \nQ 3191 2616 2906 2266 \nQ 2828 2175 2409 1742 \nQ 1991 1309 1228 531 \nz\n\" transform=\"scale(0.015625)\"/>\n       </defs>\n       <use xlink:href=\"#DejaVuSans-32\"/>\n      </g>\n     </g>\n    </g>\n    <g id=\"xtick_2\">\n     <g id=\"line2d_3\">\n      <path d=\"M 95.203125 146.899219 \nL 95.203125 10.999219 \n\" clip-path=\"url(#pc63b8bff6d)\" style=\"fill: none; stroke: #b0b0b0; stroke-width: 0.8; stroke-linecap: square\"/>\n     </g>\n     <g id=\"line2d_4\">\n      <g>\n       <use xlink:href=\"#m72453e00b5\" x=\"95.203125\" y=\"146.899219\" style=\"stroke: #000000; stroke-width: 0.8\"/>\n      </g>\n     </g>\n     <g id=\"text_2\">\n      <!-- 4 -->\n      <g transform=\"translate(92.021875 161.497656)scale(0.1 -0.1)\">\n       <defs>\n        <path id=\"DejaVuSans-34\" d=\"M 2419 4116 \nL 825 1625 \nL 2419 1625 \nL 2419 4116 \nz\nM 2253 4666 \nL 3047 4666 \nL 3047 1625 \nL 3713 1625 \nL 3713 1100 \nL 3047 1100 \nL 3047 0 \nL 2419 0 \nL 2419 1100 \nL 313 1100 \nL 313 1709 \nL 2253 4666 \nz\n\" transform=\"scale(0.015625)\"/>\n       </defs>\n       <use xlink:href=\"#DejaVuSans-34\"/>\n      </g>\n     </g>\n    </g>\n    <g id=\"xtick_3\">\n     <g id=\"line2d_5\">\n      <path d=\"M 138.603125 146.899219 \nL 138.603125 10.999219 \n\" clip-path=\"url(#pc63b8bff6d)\" style=\"fill: none; stroke: #b0b0b0; stroke-width: 0.8; stroke-linecap: square\"/>\n     </g>\n     <g id=\"line2d_6\">\n      <g>\n       <use xlink:href=\"#m72453e00b5\" x=\"138.603125\" y=\"146.899219\" style=\"stroke: #000000; stroke-width: 0.8\"/>\n      </g>\n     </g>\n     <g id=\"text_3\">\n      <!-- 6 -->\n      <g transform=\"translate(135.421875 161.497656)scale(0.1 -0.1)\">\n       <defs>\n        <path id=\"DejaVuSans-36\" d=\"M 2113 2584 \nQ 1688 2584 1439 2293 \nQ 1191 2003 1191 1497 \nQ 1191 994 1439 701 \nQ 1688 409 2113 409 \nQ 2538 409 2786 701 \nQ 3034 994 3034 1497 \nQ 3034 2003 2786 2293 \nQ 2538 2584 2113 2584 \nz\nM 3366 4563 \nL 3366 3988 \nQ 3128 4100 2886 4159 \nQ 2644 4219 2406 4219 \nQ 1781 4219 1451 3797 \nQ 1122 3375 1075 2522 \nQ 1259 2794 1537 2939 \nQ 1816 3084 2150 3084 \nQ 2853 3084 3261 2657 \nQ 3669 2231 3669 1497 \nQ 3669 778 3244 343 \nQ 2819 -91 2113 -91 \nQ 1303 -91 875 529 \nQ 447 1150 447 2328 \nQ 447 3434 972 4092 \nQ 1497 4750 2381 4750 \nQ 2619 4750 2861 4703 \nQ 3103 4656 3366 4563 \nz\n\" transform=\"scale(0.015625)\"/>\n       </defs>\n       <use xlink:href=\"#DejaVuSans-36\"/>\n      </g>\n     </g>\n    </g>\n    <g id=\"xtick_4\">\n     <g id=\"line2d_7\">\n      <path d=\"M 182.003125 146.899219 \nL 182.003125 10.999219 \n\" clip-path=\"url(#pc63b8bff6d)\" style=\"fill: none; stroke: #b0b0b0; stroke-width: 0.8; stroke-linecap: square\"/>\n     </g>\n     <g id=\"line2d_8\">\n      <g>\n       <use xlink:href=\"#m72453e00b5\" x=\"182.003125\" y=\"146.899219\" style=\"stroke: #000000; stroke-width: 0.8\"/>\n      </g>\n     </g>\n     <g id=\"text_4\">\n      <!-- 8 -->\n      <g transform=\"translate(178.821875 161.497656)scale(0.1 -0.1)\">\n       <defs>\n        <path id=\"DejaVuSans-38\" d=\"M 2034 2216 \nQ 1584 2216 1326 1975 \nQ 1069 1734 1069 1313 \nQ 1069 891 1326 650 \nQ 1584 409 2034 409 \nQ 2484 409 2743 651 \nQ 3003 894 3003 1313 \nQ 3003 1734 2745 1975 \nQ 2488 2216 2034 2216 \nz\nM 1403 2484 \nQ 997 2584 770 2862 \nQ 544 3141 544 3541 \nQ 544 4100 942 4425 \nQ 1341 4750 2034 4750 \nQ 2731 4750 3128 4425 \nQ 3525 4100 3525 3541 \nQ 3525 3141 3298 2862 \nQ 3072 2584 2669 2484 \nQ 3125 2378 3379 2068 \nQ 3634 1759 3634 1313 \nQ 3634 634 3220 271 \nQ 2806 -91 2034 -91 \nQ 1263 -91 848 271 \nQ 434 634 434 1313 \nQ 434 1759 690 2068 \nQ 947 2378 1403 2484 \nz\nM 1172 3481 \nQ 1172 3119 1398 2916 \nQ 1625 2713 2034 2713 \nQ 2441 2713 2670 2916 \nQ 2900 3119 2900 3481 \nQ 2900 3844 2670 4047 \nQ 2441 4250 2034 4250 \nQ 1625 4250 1398 4047 \nQ 1172 3844 1172 3481 \nz\n\" transform=\"scale(0.015625)\"/>\n       </defs>\n       <use xlink:href=\"#DejaVuSans-38\"/>\n      </g>\n     </g>\n    </g>\n    <g id=\"xtick_5\">\n     <g id=\"line2d_9\">\n      <path d=\"M 225.403125 146.899219 \nL 225.403125 10.999219 \n\" clip-path=\"url(#pc63b8bff6d)\" style=\"fill: none; stroke: #b0b0b0; stroke-width: 0.8; stroke-linecap: square\"/>\n     </g>\n     <g id=\"line2d_10\">\n      <g>\n       <use xlink:href=\"#m72453e00b5\" x=\"225.403125\" y=\"146.899219\" style=\"stroke: #000000; stroke-width: 0.8\"/>\n      </g>\n     </g>\n     <g id=\"text_5\">\n      <!-- 10 -->\n      <g transform=\"translate(219.040625 161.497656)scale(0.1 -0.1)\">\n       <defs>\n        <path id=\"DejaVuSans-31\" d=\"M 794 531 \nL 1825 531 \nL 1825 4091 \nL 703 3866 \nL 703 4441 \nL 1819 4666 \nL 2450 4666 \nL 2450 531 \nL 3481 531 \nL 3481 0 \nL 794 0 \nL 794 531 \nz\n\" transform=\"scale(0.015625)\"/>\n        <path id=\"DejaVuSans-30\" d=\"M 2034 4250 \nQ 1547 4250 1301 3770 \nQ 1056 3291 1056 2328 \nQ 1056 1369 1301 889 \nQ 1547 409 2034 409 \nQ 2525 409 2770 889 \nQ 3016 1369 3016 2328 \nQ 3016 3291 2770 3770 \nQ 2525 4250 2034 4250 \nz\nM 2034 4750 \nQ 2819 4750 3233 4129 \nQ 3647 3509 3647 2328 \nQ 3647 1150 3233 529 \nQ 2819 -91 2034 -91 \nQ 1250 -91 836 529 \nQ 422 1150 422 2328 \nQ 422 3509 836 4129 \nQ 1250 4750 2034 4750 \nz\n\" transform=\"scale(0.015625)\"/>\n       </defs>\n       <use xlink:href=\"#DejaVuSans-31\"/>\n       <use xlink:href=\"#DejaVuSans-30\" x=\"63.623047\"/>\n      </g>\n     </g>\n    </g>\n    <g id=\"text_6\">\n     <!-- epoch -->\n     <g transform=\"translate(112.525 175.175781)scale(0.1 -0.1)\">\n      <defs>\n       <path id=\"DejaVuSans-65\" d=\"M 3597 1894 \nL 3597 1613 \nL 953 1613 \nQ 991 1019 1311 708 \nQ 1631 397 2203 397 \nQ 2534 397 2845 478 \nQ 3156 559 3463 722 \nL 3463 178 \nQ 3153 47 2828 -22 \nQ 2503 -91 2169 -91 \nQ 1331 -91 842 396 \nQ 353 884 353 1716 \nQ 353 2575 817 3079 \nQ 1281 3584 2069 3584 \nQ 2775 3584 3186 3129 \nQ 3597 2675 3597 1894 \nz\nM 3022 2063 \nQ 3016 2534 2758 2815 \nQ 2500 3097 2075 3097 \nQ 1594 3097 1305 2825 \nQ 1016 2553 972 2059 \nL 3022 2063 \nz\n\" transform=\"scale(0.015625)\"/>\n       <path id=\"DejaVuSans-70\" d=\"M 1159 525 \nL 1159 -1331 \nL 581 -1331 \nL 581 3500 \nL 1159 3500 \nL 1159 2969 \nQ 1341 3281 1617 3432 \nQ 1894 3584 2278 3584 \nQ 2916 3584 3314 3078 \nQ 3713 2572 3713 1747 \nQ 3713 922 3314 415 \nQ 2916 -91 2278 -91 \nQ 1894 -91 1617 61 \nQ 1341 213 1159 525 \nz\nM 3116 1747 \nQ 3116 2381 2855 2742 \nQ 2594 3103 2138 3103 \nQ 1681 3103 1420 2742 \nQ 1159 2381 1159 1747 \nQ 1159 1113 1420 752 \nQ 1681 391 2138 391 \nQ 2594 391 2855 752 \nQ 3116 1113 3116 1747 \nz\n\" transform=\"scale(0.015625)\"/>\n       <path id=\"DejaVuSans-6f\" d=\"M 1959 3097 \nQ 1497 3097 1228 2736 \nQ 959 2375 959 1747 \nQ 959 1119 1226 758 \nQ 1494 397 1959 397 \nQ 2419 397 2687 759 \nQ 2956 1122 2956 1747 \nQ 2956 2369 2687 2733 \nQ 2419 3097 1959 3097 \nz\nM 1959 3584 \nQ 2709 3584 3137 3096 \nQ 3566 2609 3566 1747 \nQ 3566 888 3137 398 \nQ 2709 -91 1959 -91 \nQ 1206 -91 779 398 \nQ 353 888 353 1747 \nQ 353 2609 779 3096 \nQ 1206 3584 1959 3584 \nz\n\" transform=\"scale(0.015625)\"/>\n       <path id=\"DejaVuSans-63\" d=\"M 3122 3366 \nL 3122 2828 \nQ 2878 2963 2633 3030 \nQ 2388 3097 2138 3097 \nQ 1578 3097 1268 2742 \nQ 959 2388 959 1747 \nQ 959 1106 1268 751 \nQ 1578 397 2138 397 \nQ 2388 397 2633 464 \nQ 2878 531 3122 666 \nL 3122 134 \nQ 2881 22 2623 -34 \nQ 2366 -91 2075 -91 \nQ 1284 -91 818 406 \nQ 353 903 353 1747 \nQ 353 2603 823 3093 \nQ 1294 3584 2113 3584 \nQ 2378 3584 2631 3529 \nQ 2884 3475 3122 3366 \nz\n\" transform=\"scale(0.015625)\"/>\n       <path id=\"DejaVuSans-68\" d=\"M 3513 2113 \nL 3513 0 \nL 2938 0 \nL 2938 2094 \nQ 2938 2591 2744 2837 \nQ 2550 3084 2163 3084 \nQ 1697 3084 1428 2787 \nQ 1159 2491 1159 1978 \nL 1159 0 \nL 581 0 \nL 581 4863 \nL 1159 4863 \nL 1159 2956 \nQ 1366 3272 1645 3428 \nQ 1925 3584 2291 3584 \nQ 2894 3584 3203 3211 \nQ 3513 2838 3513 2113 \nz\n\" transform=\"scale(0.015625)\"/>\n      </defs>\n      <use xlink:href=\"#DejaVuSans-65\"/>\n      <use xlink:href=\"#DejaVuSans-70\" x=\"61.523438\"/>\n      <use xlink:href=\"#DejaVuSans-6f\" x=\"125\"/>\n      <use xlink:href=\"#DejaVuSans-63\" x=\"186.181641\"/>\n      <use xlink:href=\"#DejaVuSans-68\" x=\"241.162109\"/>\n     </g>\n    </g>\n   </g>\n   <g id=\"matplotlib.axis_2\">\n    <g id=\"ytick_1\">\n     <g id=\"line2d_11\">\n      <path d=\"M 30.103125 146.899219 \nL 225.403125 146.899219 \n\" clip-path=\"url(#pc63b8bff6d)\" style=\"fill: none; stroke: #b0b0b0; stroke-width: 0.8; stroke-linecap: square\"/>\n     </g>\n     <g id=\"line2d_12\">\n      <defs>\n       <path id=\"m31eeea2ef7\" d=\"M 0 0 \nL -3.5 0 \n\" style=\"stroke: #000000; stroke-width: 0.8\"/>\n      </defs>\n      <g>\n       <use xlink:href=\"#m31eeea2ef7\" x=\"30.103125\" y=\"146.899219\" style=\"stroke: #000000; stroke-width: 0.8\"/>\n      </g>\n     </g>\n     <g id=\"text_7\">\n      <!-- 0.0 -->\n      <g transform=\"translate(7.2 150.698437)scale(0.1 -0.1)\">\n       <defs>\n        <path id=\"DejaVuSans-2e\" d=\"M 684 794 \nL 1344 794 \nL 1344 0 \nL 684 0 \nL 684 794 \nz\n\" transform=\"scale(0.015625)\"/>\n       </defs>\n       <use xlink:href=\"#DejaVuSans-30\"/>\n       <use xlink:href=\"#DejaVuSans-2e\" x=\"63.623047\"/>\n       <use xlink:href=\"#DejaVuSans-30\" x=\"95.410156\"/>\n      </g>\n     </g>\n    </g>\n    <g id=\"ytick_2\">\n     <g id=\"line2d_13\">\n      <path d=\"M 30.103125 119.719219 \nL 225.403125 119.719219 \n\" clip-path=\"url(#pc63b8bff6d)\" style=\"fill: none; stroke: #b0b0b0; stroke-width: 0.8; stroke-linecap: square\"/>\n     </g>\n     <g id=\"line2d_14\">\n      <g>\n       <use xlink:href=\"#m31eeea2ef7\" x=\"30.103125\" y=\"119.719219\" style=\"stroke: #000000; stroke-width: 0.8\"/>\n      </g>\n     </g>\n     <g id=\"text_8\">\n      <!-- 0.2 -->\n      <g transform=\"translate(7.2 123.518437)scale(0.1 -0.1)\">\n       <use xlink:href=\"#DejaVuSans-30\"/>\n       <use xlink:href=\"#DejaVuSans-2e\" x=\"63.623047\"/>\n       <use xlink:href=\"#DejaVuSans-32\" x=\"95.410156\"/>\n      </g>\n     </g>\n    </g>\n    <g id=\"ytick_3\">\n     <g id=\"line2d_15\">\n      <path d=\"M 30.103125 92.539219 \nL 225.403125 92.539219 \n\" clip-path=\"url(#pc63b8bff6d)\" style=\"fill: none; stroke: #b0b0b0; stroke-width: 0.8; stroke-linecap: square\"/>\n     </g>\n     <g id=\"line2d_16\">\n      <g>\n       <use xlink:href=\"#m31eeea2ef7\" x=\"30.103125\" y=\"92.539219\" style=\"stroke: #000000; stroke-width: 0.8\"/>\n      </g>\n     </g>\n     <g id=\"text_9\">\n      <!-- 0.4 -->\n      <g transform=\"translate(7.2 96.338437)scale(0.1 -0.1)\">\n       <use xlink:href=\"#DejaVuSans-30\"/>\n       <use xlink:href=\"#DejaVuSans-2e\" x=\"63.623047\"/>\n       <use xlink:href=\"#DejaVuSans-34\" x=\"95.410156\"/>\n      </g>\n     </g>\n    </g>\n    <g id=\"ytick_4\">\n     <g id=\"line2d_17\">\n      <path d=\"M 30.103125 65.359219 \nL 225.403125 65.359219 \n\" clip-path=\"url(#pc63b8bff6d)\" style=\"fill: none; stroke: #b0b0b0; stroke-width: 0.8; stroke-linecap: square\"/>\n     </g>\n     <g id=\"line2d_18\">\n      <g>\n       <use xlink:href=\"#m31eeea2ef7\" x=\"30.103125\" y=\"65.359219\" style=\"stroke: #000000; stroke-width: 0.8\"/>\n      </g>\n     </g>\n     <g id=\"text_10\">\n      <!-- 0.6 -->\n      <g transform=\"translate(7.2 69.158437)scale(0.1 -0.1)\">\n       <use xlink:href=\"#DejaVuSans-30\"/>\n       <use xlink:href=\"#DejaVuSans-2e\" x=\"63.623047\"/>\n       <use xlink:href=\"#DejaVuSans-36\" x=\"95.410156\"/>\n      </g>\n     </g>\n    </g>\n    <g id=\"ytick_5\">\n     <g id=\"line2d_19\">\n      <path d=\"M 30.103125 38.179219 \nL 225.403125 38.179219 \n\" clip-path=\"url(#pc63b8bff6d)\" style=\"fill: none; stroke: #b0b0b0; stroke-width: 0.8; stroke-linecap: square\"/>\n     </g>\n     <g id=\"line2d_20\">\n      <g>\n       <use xlink:href=\"#m31eeea2ef7\" x=\"30.103125\" y=\"38.179219\" style=\"stroke: #000000; stroke-width: 0.8\"/>\n      </g>\n     </g>\n     <g id=\"text_11\">\n      <!-- 0.8 -->\n      <g transform=\"translate(7.2 41.978437)scale(0.1 -0.1)\">\n       <use xlink:href=\"#DejaVuSans-30\"/>\n       <use xlink:href=\"#DejaVuSans-2e\" x=\"63.623047\"/>\n       <use xlink:href=\"#DejaVuSans-38\" x=\"95.410156\"/>\n      </g>\n     </g>\n    </g>\n    <g id=\"ytick_6\">\n     <g id=\"line2d_21\">\n      <path d=\"M 30.103125 10.999219 \nL 225.403125 10.999219 \n\" clip-path=\"url(#pc63b8bff6d)\" style=\"fill: none; stroke: #b0b0b0; stroke-width: 0.8; stroke-linecap: square\"/>\n     </g>\n     <g id=\"line2d_22\">\n      <g>\n       <use xlink:href=\"#m31eeea2ef7\" x=\"30.103125\" y=\"10.999219\" style=\"stroke: #000000; stroke-width: 0.8\"/>\n      </g>\n     </g>\n     <g id=\"text_12\">\n      <!-- 1.0 -->\n      <g transform=\"translate(7.2 14.798437)scale(0.1 -0.1)\">\n       <use xlink:href=\"#DejaVuSans-31\"/>\n       <use xlink:href=\"#DejaVuSans-2e\" x=\"63.623047\"/>\n       <use xlink:href=\"#DejaVuSans-30\" x=\"95.410156\"/>\n      </g>\n     </g>\n    </g>\n   </g>\n   <g id=\"line2d_23\">\n    <path d=\"M 12.743125 101.064535 \nL 17.083125 115.159003 \nL 21.423125 120.941472 \nL 25.763125 124.413438 \nL 30.103125 126.75679 \nL 34.443125 138.129228 \nL 38.783125 138.42653 \nL 43.123125 139.121677 \nL 47.463125 139.102089 \nL 51.803125 139.22573 \nL 56.143125 141.891145 \nL 60.483125 141.501504 \nL 64.823125 141.459617 \nL 69.163125 141.540774 \nL 73.503125 141.485251 \nL 77.843125 142.441679 \nL 82.183125 142.533975 \nL 86.523125 142.579491 \nL 90.863125 142.484407 \nL 95.203125 142.555613 \nL 99.543125 142.877009 \nL 103.883125 143.097351 \nL 108.223125 143.192531 \nL 112.563125 143.115102 \nL 116.903125 143.211623 \nL 121.243125 143.445909 \nL 125.583125 143.548661 \nL 129.923125 143.541824 \nL 134.263125 143.685625 \nL 138.603125 143.711359 \nL 142.943125 144.234427 \nL 147.283125 144.027064 \nL 151.623125 143.942366 \nL 155.963125 143.929942 \nL 160.303125 143.948382 \nL 164.643125 144.249926 \nL 168.983125 144.193226 \nL 173.323125 144.070043 \nL 177.663125 144.046655 \nL 182.003125 144.076828 \nL 186.343125 144.359934 \nL 190.683125 144.526163 \nL 195.023125 144.441282 \nL 199.363125 144.3227 \nL 203.703125 144.336152 \nL 208.043125 144.440632 \nL 212.383125 144.617586 \nL 216.723125 144.496422 \nL 221.063125 144.484545 \nL 225.403125 144.546594 \n\" clip-path=\"url(#pc63b8bff6d)\" style=\"fill: none; stroke: #1f77b4; stroke-width: 1.5; stroke-linecap: square\"/>\n   </g>\n   <g id=\"line2d_24\">\n    <path d=\"M 12.743125 32.66591 \nL 17.083125 25.10037 \nL 21.423125 22.230974 \nL 25.763125 20.580118 \nL 30.103125 19.472618 \nL 34.443125 14.483182 \nL 38.783125 14.317885 \nL 43.123125 14.046627 \nL 47.463125 14.054044 \nL 51.803125 14.041604 \nL 56.143125 12.919213 \nL 60.483125 13.122656 \nL 64.823125 13.211663 \nL 69.163125 13.183053 \nL 73.503125 13.204694 \nL 77.843125 12.893783 \nL 82.183125 12.887425 \nL 86.523125 12.876829 \nL 90.863125 12.919213 \nL 95.203125 12.84093 \nL 99.543125 12.639479 \nL 103.883125 12.601333 \nL 108.223125 12.554711 \nL 112.563125 12.537757 \nL 116.903125 12.505149 \nL 121.243125 12.385175 \nL 125.583125 12.321599 \nL 129.923125 12.313122 \nL 134.263125 12.299347 \nL 138.603125 12.314364 \nL 142.943125 12.219877 \nL 147.283125 12.251665 \nL 151.623125 12.274977 \nL 155.963125 12.219877 \nL 160.303125 12.227874 \nL 164.643125 12.08001 \nL 168.983125 12.130871 \nL 173.323125 12.207162 \nL 177.663125 12.210341 \nL 182.003125 12.192261 \nL 186.343125 12.067295 \nL 190.683125 11.984646 \nL 195.023125 12.050342 \nL 199.363125 12.092725 \nL 203.703125 12.100684 \nL 208.043125 12.067295 \nL 212.383125 11.978289 \nL 216.723125 11.991004 \nL 221.063125 11.997362 \nL 225.403125 11.958232 \n\" clip-path=\"url(#pc63b8bff6d)\" style=\"fill: none; stroke-dasharray: 5.55,2.4; stroke-dashoffset: 0; stroke: #bf00bf; stroke-width: 1.5\"/>\n   </g>\n   <g id=\"line2d_25\">\n    <path d=\"M 30.103125 93.986896 \nL 51.803125 95.963429 \nL 73.503125 95.553877 \nL 95.203125 89.517438 \nL 116.903125 92.802756 \nL 138.603125 91.876813 \nL 160.303125 94.975162 \nL 182.003125 96.996212 \nL 203.703125 93.470504 \nL 225.403125 92.67811 \n\" clip-path=\"url(#pc63b8bff6d)\" style=\"fill: none; stroke-dasharray: 9.6,2.4,1.5,2.4; stroke-dashoffset: 0; stroke: #008000; stroke-width: 1.5\"/>\n   </g>\n   <g id=\"patch_3\">\n    <path d=\"M 30.103125 146.899219 \nL 30.103125 10.999219 \n\" style=\"fill: none; stroke: #000000; stroke-width: 0.8; stroke-linejoin: miter; stroke-linecap: square\"/>\n   </g>\n   <g id=\"patch_4\">\n    <path d=\"M 225.403125 146.899219 \nL 225.403125 10.999219 \n\" style=\"fill: none; stroke: #000000; stroke-width: 0.8; stroke-linejoin: miter; stroke-linecap: square\"/>\n   </g>\n   <g id=\"patch_5\">\n    <path d=\"M 30.103125 146.899219 \nL 225.403125 146.899219 \n\" style=\"fill: none; stroke: #000000; stroke-width: 0.8; stroke-linejoin: miter; stroke-linecap: square\"/>\n   </g>\n   <g id=\"patch_6\">\n    <path d=\"M 30.103125 10.999219 \nL 225.403125 10.999219 \n\" style=\"fill: none; stroke: #000000; stroke-width: 0.8; stroke-linejoin: miter; stroke-linecap: square\"/>\n   </g>\n   <g id=\"legend_1\">\n    <g id=\"patch_7\">\n     <path d=\"M 140.634375 63.033594 \nL 218.403125 63.033594 \nQ 220.403125 63.033594 220.403125 61.033594 \nL 220.403125 17.999219 \nQ 220.403125 15.999219 218.403125 15.999219 \nL 140.634375 15.999219 \nQ 138.634375 15.999219 138.634375 17.999219 \nL 138.634375 61.033594 \nQ 138.634375 63.033594 140.634375 63.033594 \nz\n\" style=\"fill: #ffffff; opacity: 0.8; stroke: #cccccc; stroke-linejoin: miter\"/>\n    </g>\n    <g id=\"line2d_26\">\n     <path d=\"M 142.634375 24.097656 \nL 152.634375 24.097656 \nL 162.634375 24.097656 \n\" style=\"fill: none; stroke: #1f77b4; stroke-width: 1.5; stroke-linecap: square\"/>\n    </g>\n    <g id=\"text_13\">\n     <!-- train loss -->\n     <g transform=\"translate(170.634375 27.597656)scale(0.1 -0.1)\">\n      <defs>\n       <path id=\"DejaVuSans-74\" d=\"M 1172 4494 \nL 1172 3500 \nL 2356 3500 \nL 2356 3053 \nL 1172 3053 \nL 1172 1153 \nQ 1172 725 1289 603 \nQ 1406 481 1766 481 \nL 2356 481 \nL 2356 0 \nL 1766 0 \nQ 1100 0 847 248 \nQ 594 497 594 1153 \nL 594 3053 \nL 172 3053 \nL 172 3500 \nL 594 3500 \nL 594 4494 \nL 1172 4494 \nz\n\" transform=\"scale(0.015625)\"/>\n       <path id=\"DejaVuSans-72\" d=\"M 2631 2963 \nQ 2534 3019 2420 3045 \nQ 2306 3072 2169 3072 \nQ 1681 3072 1420 2755 \nQ 1159 2438 1159 1844 \nL 1159 0 \nL 581 0 \nL 581 3500 \nL 1159 3500 \nL 1159 2956 \nQ 1341 3275 1631 3429 \nQ 1922 3584 2338 3584 \nQ 2397 3584 2469 3576 \nQ 2541 3569 2628 3553 \nL 2631 2963 \nz\n\" transform=\"scale(0.015625)\"/>\n       <path id=\"DejaVuSans-61\" d=\"M 2194 1759 \nQ 1497 1759 1228 1600 \nQ 959 1441 959 1056 \nQ 959 750 1161 570 \nQ 1363 391 1709 391 \nQ 2188 391 2477 730 \nQ 2766 1069 2766 1631 \nL 2766 1759 \nL 2194 1759 \nz\nM 3341 1997 \nL 3341 0 \nL 2766 0 \nL 2766 531 \nQ 2569 213 2275 61 \nQ 1981 -91 1556 -91 \nQ 1019 -91 701 211 \nQ 384 513 384 1019 \nQ 384 1609 779 1909 \nQ 1175 2209 1959 2209 \nL 2766 2209 \nL 2766 2266 \nQ 2766 2663 2505 2880 \nQ 2244 3097 1772 3097 \nQ 1472 3097 1187 3025 \nQ 903 2953 641 2809 \nL 641 3341 \nQ 956 3463 1253 3523 \nQ 1550 3584 1831 3584 \nQ 2591 3584 2966 3190 \nQ 3341 2797 3341 1997 \nz\n\" transform=\"scale(0.015625)\"/>\n       <path id=\"DejaVuSans-69\" d=\"M 603 3500 \nL 1178 3500 \nL 1178 0 \nL 603 0 \nL 603 3500 \nz\nM 603 4863 \nL 1178 4863 \nL 1178 4134 \nL 603 4134 \nL 603 4863 \nz\n\" transform=\"scale(0.015625)\"/>\n       <path id=\"DejaVuSans-6e\" d=\"M 3513 2113 \nL 3513 0 \nL 2938 0 \nL 2938 2094 \nQ 2938 2591 2744 2837 \nQ 2550 3084 2163 3084 \nQ 1697 3084 1428 2787 \nQ 1159 2491 1159 1978 \nL 1159 0 \nL 581 0 \nL 581 3500 \nL 1159 3500 \nL 1159 2956 \nQ 1366 3272 1645 3428 \nQ 1925 3584 2291 3584 \nQ 2894 3584 3203 3211 \nQ 3513 2838 3513 2113 \nz\n\" transform=\"scale(0.015625)\"/>\n       <path id=\"DejaVuSans-20\" transform=\"scale(0.015625)\"/>\n       <path id=\"DejaVuSans-6c\" d=\"M 603 4863 \nL 1178 4863 \nL 1178 0 \nL 603 0 \nL 603 4863 \nz\n\" transform=\"scale(0.015625)\"/>\n       <path id=\"DejaVuSans-73\" d=\"M 2834 3397 \nL 2834 2853 \nQ 2591 2978 2328 3040 \nQ 2066 3103 1784 3103 \nQ 1356 3103 1142 2972 \nQ 928 2841 928 2578 \nQ 928 2378 1081 2264 \nQ 1234 2150 1697 2047 \nL 1894 2003 \nQ 2506 1872 2764 1633 \nQ 3022 1394 3022 966 \nQ 3022 478 2636 193 \nQ 2250 -91 1575 -91 \nQ 1294 -91 989 -36 \nQ 684 19 347 128 \nL 347 722 \nQ 666 556 975 473 \nQ 1284 391 1588 391 \nQ 1994 391 2212 530 \nQ 2431 669 2431 922 \nQ 2431 1156 2273 1281 \nQ 2116 1406 1581 1522 \nL 1381 1569 \nQ 847 1681 609 1914 \nQ 372 2147 372 2553 \nQ 372 3047 722 3315 \nQ 1072 3584 1716 3584 \nQ 2034 3584 2315 3537 \nQ 2597 3491 2834 3397 \nz\n\" transform=\"scale(0.015625)\"/>\n      </defs>\n      <use xlink:href=\"#DejaVuSans-74\"/>\n      <use xlink:href=\"#DejaVuSans-72\" x=\"39.208984\"/>\n      <use xlink:href=\"#DejaVuSans-61\" x=\"80.322266\"/>\n      <use xlink:href=\"#DejaVuSans-69\" x=\"141.601562\"/>\n      <use xlink:href=\"#DejaVuSans-6e\" x=\"169.384766\"/>\n      <use xlink:href=\"#DejaVuSans-20\" x=\"232.763672\"/>\n      <use xlink:href=\"#DejaVuSans-6c\" x=\"264.550781\"/>\n      <use xlink:href=\"#DejaVuSans-6f\" x=\"292.333984\"/>\n      <use xlink:href=\"#DejaVuSans-73\" x=\"353.515625\"/>\n      <use xlink:href=\"#DejaVuSans-73\" x=\"405.615234\"/>\n     </g>\n    </g>\n    <g id=\"line2d_27\">\n     <path d=\"M 142.634375 38.775781 \nL 152.634375 38.775781 \nL 162.634375 38.775781 \n\" style=\"fill: none; stroke-dasharray: 5.55,2.4; stroke-dashoffset: 0; stroke: #bf00bf; stroke-width: 1.5\"/>\n    </g>\n    <g id=\"text_14\">\n     <!-- train acc -->\n     <g transform=\"translate(170.634375 42.275781)scale(0.1 -0.1)\">\n      <use xlink:href=\"#DejaVuSans-74\"/>\n      <use xlink:href=\"#DejaVuSans-72\" x=\"39.208984\"/>\n      <use xlink:href=\"#DejaVuSans-61\" x=\"80.322266\"/>\n      <use xlink:href=\"#DejaVuSans-69\" x=\"141.601562\"/>\n      <use xlink:href=\"#DejaVuSans-6e\" x=\"169.384766\"/>\n      <use xlink:href=\"#DejaVuSans-20\" x=\"232.763672\"/>\n      <use xlink:href=\"#DejaVuSans-61\" x=\"264.550781\"/>\n      <use xlink:href=\"#DejaVuSans-63\" x=\"325.830078\"/>\n      <use xlink:href=\"#DejaVuSans-63\" x=\"380.810547\"/>\n     </g>\n    </g>\n    <g id=\"line2d_28\">\n     <path d=\"M 142.634375 53.453906 \nL 152.634375 53.453906 \nL 162.634375 53.453906 \n\" style=\"fill: none; stroke-dasharray: 9.6,2.4,1.5,2.4; stroke-dashoffset: 0; stroke: #008000; stroke-width: 1.5\"/>\n    </g>\n    <g id=\"text_15\">\n     <!-- test acc -->\n     <g transform=\"translate(170.634375 56.953906)scale(0.1 -0.1)\">\n      <use xlink:href=\"#DejaVuSans-74\"/>\n      <use xlink:href=\"#DejaVuSans-65\" x=\"39.208984\"/>\n      <use xlink:href=\"#DejaVuSans-73\" x=\"100.732422\"/>\n      <use xlink:href=\"#DejaVuSans-74\" x=\"152.832031\"/>\n      <use xlink:href=\"#DejaVuSans-20\" x=\"192.041016\"/>\n      <use xlink:href=\"#DejaVuSans-61\" x=\"223.828125\"/>\n      <use xlink:href=\"#DejaVuSans-63\" x=\"285.107422\"/>\n      <use xlink:href=\"#DejaVuSans-63\" x=\"340.087891\"/>\n     </g>\n    </g>\n   </g>\n  </g>\n </g>\n <defs>\n  <clipPath id=\"pc63b8bff6d\">\n   <rect x=\"30.103125\" y=\"10.999219\" width=\"195.3\" height=\"135.9\"/>\n  </clipPath>\n </defs>\n</svg>\n"
          },
          "metadata": {
            "needs_background": "light"
          }
        }
      ]
    },
    {
      "cell_type": "code",
      "source": [
        "m = nn.Linear(20, 30)\n",
        "input = torch.randn(128, 20)\n",
        "print(input.dtype)\n",
        "output = m(input) \n",
        "print(output.size())\n",
        "print(output.dtype)\n",
        "\n",
        "print(np.array(resting_list).shape)\n",
        "\n",
        "\n",
        "resting_list = np.array(resting_list)\n",
        "\n",
        "a = torch.tensor(resting_list.reshape(9,-1))\n",
        "print(a.shape)\n",
        "print(a.dtype)\n",
        "print(input.shape)\n",
        "l = nn.Linear(192000,80,dtype=torch.float64)\n",
        "output = l(a)\n",
        "\n",
        "print(output.size())\n",
        "\n",
        "\n",
        "\n",
        "aa = np.arange(12).reshape(3,4)\n",
        "print(aa.shape)\n",
        "aa.reshape(4,3)\n",
        "print(aa.shape)\n",
        "\n",
        "\n",
        "aa = torch.tensor(aa)\n",
        "aa.shape\n",
        "aa.reshape(4,3)\n",
        "print(aa.shape)\n",
        "b= aa.view(4,3)\n",
        "print(\"first one\",b)\n",
        "c = aa.reshape(4,3)\n",
        "print(\"test c\",c)\n",
        "aa.fill_(1)\n",
        "print(b)\n",
        "print(c)\n",
        "\n",
        "\n",
        "z = torch.zeros(3, 2)\n",
        "y = z.reshape(6)\n",
        "x = z.t().reshape(6)\n",
        "z.fill_(1)\n",
        "\n",
        "print(y)\n",
        "\n",
        "print(x)\n"
      ],
      "metadata": {
        "colab": {
          "base_uri": "https://localhost:8080/"
        },
        "id": "vdYigax3e-T_",
        "outputId": "7fdd49e9-1a97-43e6-89fa-e49c7b748cb4"
      },
      "execution_count": null,
      "outputs": [
        {
          "output_type": "stream",
          "name": "stdout",
          "text": [
            "torch.float32\n",
            "torch.Size([128, 30])\n",
            "torch.float32\n",
            "(9, 24, 8000)\n",
            "torch.Size([9, 192000])\n",
            "torch.float64\n",
            "torch.Size([128, 20])\n",
            "torch.Size([9, 80])\n",
            "(3, 4)\n",
            "(3, 4)\n",
            "torch.Size([3, 4])\n",
            "first one tensor([[ 0,  1,  2],\n",
            "        [ 3,  4,  5],\n",
            "        [ 6,  7,  8],\n",
            "        [ 9, 10, 11]])\n",
            "test c tensor([[ 0,  1,  2],\n",
            "        [ 3,  4,  5],\n",
            "        [ 6,  7,  8],\n",
            "        [ 9, 10, 11]])\n",
            "tensor([[1, 1, 1],\n",
            "        [1, 1, 1],\n",
            "        [1, 1, 1],\n",
            "        [1, 1, 1]])\n",
            "tensor([[1, 1, 1],\n",
            "        [1, 1, 1],\n",
            "        [1, 1, 1],\n",
            "        [1, 1, 1]])\n",
            "tensor([1., 1., 1., 1., 1., 1.])\n",
            "tensor([0., 0., 0., 0., 0., 0.])\n"
          ]
        }
      ]
    }
  ]
}