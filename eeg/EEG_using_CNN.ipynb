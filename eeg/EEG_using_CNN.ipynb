{
  "nbformat": 4,
  "nbformat_minor": 0,
  "metadata": {
    "colab": {
      "provenance": [],
      "machine_shape": "hm"
    },
    "kernelspec": {
      "name": "python3",
      "display_name": "Python 3"
    },
    "language_info": {
      "name": "python"
    },
    "gpuClass": "standard",
    "accelerator": "GPU"
  },
  "cells": [
    {
      "cell_type": "code",
      "execution_count": null,
      "metadata": {
        "id": "M0tqoMMvK55Q"
      },
      "outputs": [],
      "source": [
        "import os\n",
        "import pathlib\n",
        "import pandas as pd\n",
        "import numpy as np\n",
        "import torch\n",
        "from torch.utils.data import Dataset,DataLoader\n",
        "from torch import nn\n",
        "from sklearn.model_selection import train_test_split\n",
        "\n",
        "import json\n",
        "import multiprocessing\n",
        "import glob\n",
        "\n",
        "from keras.utils import np_utils\n",
        "\n",
        "\n",
        "from tensorflow import keras\n",
        "from keras.layers import *\n",
        "from keras.layers.convolutional import UpSampling2D, Conv2D\n",
        "from keras.models import Model\n",
        "import datetime\n",
        "import matplotlib.pyplot as plt\n",
        "import numpy as np\n",
        "from tensorflow.keras import optimizers\n",
        "from keras.layers import Reshape"
      ]
    },
    {
      "cell_type": "code",
      "source": [
        "class EEGLoader(Dataset):\n",
        "  def __init__(self,root):\n",
        "    super(EEGLoader,self).__init__()\n",
        "    self.root = root\n",
        "    self.name2label = {}\n",
        "    for name in sorted(os.listdir(os.path.join(root))):\n",
        "      if not os.path.isdir(os.path.join(root,name)):\n",
        "        continue\n",
        "      self.name2label[name] = len(self.name2label.keys())\n",
        "    print(self.name2label)\n",
        "\n",
        "    # no enough data, so split two dataset manually. Just in case use shuffle,split will get only one or two samples for test \n",
        "    # assert len(data) == len(labels)\n",
        "\n",
        "\n",
        "  # def load_csv(self,filename):\n",
        "  #     data  = []\n",
        "  #     for name in self.name2label.keys():\n",
        "  #       print(\"name\",name)\n",
        "  #       data +=glob.glob(os.path.join(self.root,name,'*.csv'))\n",
        "  #       # 。split(os.sep)[-2]\n",
        "  #     print(len(data),data)\n",
        "\n",
        "\n",
        "  def load_csv(self,foldername):\n",
        "      # data  = []\n",
        "      data =glob.glob(os.path.join(self.root,foldername,'*.csv'))\n",
        "      # 。split(os.sep)[-2]\n",
        "      print(len(data),data)\n",
        "\n",
        "      res = []\n",
        "      unusedChan = []\n",
        "      for file in data:\n",
        "        EEGMatrix = pd.read_csv(file,header=None).values\n",
        "        EEGwithoutConstantValue = []\n",
        "        for index,channel in enumerate(EEGMatrix):\n",
        "          # print(\"channel len\",len(channel))\n",
        "          # for testing since number of each acquisition's unique channels without 134733100 is different. get min number 29 rows first. Do data preprocessing to reduce channels to 17 later.\n",
        "          if 134733100.0 in channel:\n",
        "            if index not in unusedChan:\n",
        "              unusedChan.append(index)\n",
        "            continue\n",
        "          EEGwithoutConstantValue.append(channel)\n",
        "        # print(np.array(EEGwithoutConstantValue).shape)\n",
        "        EEGwithoutConstantValue = EEGwithoutConstantValue[:24]\n",
        "        # print(np.array(EEGwithoutConstantValue).shape)\n",
        "        res.append(EEGwithoutConstantValue)\n",
        "      print(\"unuse channel\",unusedChan)\n",
        "      return res\n",
        "  \n",
        "\n",
        "  def __len__(self):\n",
        "      pass\n",
        "\n",
        "  def __getitem__(self,idx):\n",
        "      pass\n",
        "data = EEGLoader('/content/drive/MyDrive/EEG')\n",
        "\n",
        "resting_list = data.load_csv(\"01-health\")\n",
        "music_list = data.load_csv(\"08-health\")\n",
        "\n",
        "print(np.array(resting_list).shape)\n",
        "print(np.array(music_list).shape)\n"
      ],
      "metadata": {
        "colab": {
          "base_uri": "https://localhost:8080/"
        },
        "id": "MF-iKqx9LBDm",
        "outputId": "2f7814c9-8572-4cd0-845e-a179758b61cb"
      },
      "execution_count": null,
      "outputs": [
        {
          "output_type": "stream",
          "name": "stdout",
          "text": [
            "{'01': 0, '01-health': 1, '01-previous': 2, '08': 3, '08-health': 4, '08-previous': 5, '16': 6, '16-health': 7}\n",
            "90 ['/content/drive/MyDrive/EEG/01-health/Acquisition 19-rawTrigger1-3.csv', '/content/drive/MyDrive/EEG/01-health/Acquisition 19-rawTrigger1-4.csv', '/content/drive/MyDrive/EEG/01-health/Acquisition 19-rawTrigger1-1.csv', '/content/drive/MyDrive/EEG/01-health/Acquisition 19-rawTrigger1-2.csv', '/content/drive/MyDrive/EEG/01-health/Acquisition 19-rawTrigger1-7.csv', '/content/drive/MyDrive/EEG/01-health/Acquisition 19-rawTrigger1-6.csv', '/content/drive/MyDrive/EEG/01-health/Acquisition 19-rawTrigger1-8.csv', '/content/drive/MyDrive/EEG/01-health/Acquisition 19-rawTrigger1-5.csv', '/content/drive/MyDrive/EEG/01-health/Acquisition 19-rawTrigger1-9.csv', '/content/drive/MyDrive/EEG/01-health/Acquisition 19-rawTrigger1-10.csv', '/content/drive/MyDrive/EEG/01-health/Acquisition 20-rawTrigger1-3.csv', '/content/drive/MyDrive/EEG/01-health/Acquisition 20-rawTrigger1-4.csv', '/content/drive/MyDrive/EEG/01-health/Acquisition 20-rawTrigger1-2.csv', '/content/drive/MyDrive/EEG/01-health/Acquisition 20-rawTrigger1-1.csv', '/content/drive/MyDrive/EEG/01-health/Acquisition 20-rawTrigger1-8.csv', '/content/drive/MyDrive/EEG/01-health/Acquisition 20-rawTrigger1-5.csv', '/content/drive/MyDrive/EEG/01-health/Acquisition 20-rawTrigger1-6.csv', '/content/drive/MyDrive/EEG/01-health/Acquisition 20-rawTrigger1-7.csv', '/content/drive/MyDrive/EEG/01-health/Acquisition 20-rawTrigger1-9.csv', '/content/drive/MyDrive/EEG/01-health/Acquisition 20-rawTrigger1-10.csv', '/content/drive/MyDrive/EEG/01-health/Acquisition 21-rawTrigger1-1.csv', '/content/drive/MyDrive/EEG/01-health/Acquisition 21-rawTrigger1-5.csv', '/content/drive/MyDrive/EEG/01-health/Acquisition 21-rawTrigger1-4.csv', '/content/drive/MyDrive/EEG/01-health/Acquisition 21-rawTrigger1-3.csv', '/content/drive/MyDrive/EEG/01-health/Acquisition 21-rawTrigger1-2.csv', '/content/drive/MyDrive/EEG/01-health/Acquisition 21-rawTrigger1-8.csv', '/content/drive/MyDrive/EEG/01-health/Acquisition 21-rawTrigger1-9.csv', '/content/drive/MyDrive/EEG/01-health/Acquisition 21-rawTrigger1-7.csv', '/content/drive/MyDrive/EEG/01-health/Acquisition 21-rawTrigger1-6.csv', '/content/drive/MyDrive/EEG/01-health/Acquisition 21-rawTrigger1-10.csv', '/content/drive/MyDrive/EEG/01-health/Acquisition 24-rawTrigger1-1.csv', '/content/drive/MyDrive/EEG/01-health/Acquisition 24-rawTrigger1-4.csv', '/content/drive/MyDrive/EEG/01-health/Acquisition 24-rawTrigger1-3.csv', '/content/drive/MyDrive/EEG/01-health/Acquisition 24-rawTrigger1-2.csv', '/content/drive/MyDrive/EEG/01-health/Acquisition 24-rawTrigger1-5.csv', '/content/drive/MyDrive/EEG/01-health/Acquisition 24-rawTrigger1-7.csv', '/content/drive/MyDrive/EEG/01-health/Acquisition 24-rawTrigger1-6.csv', '/content/drive/MyDrive/EEG/01-health/Acquisition 24-rawTrigger1-8.csv', '/content/drive/MyDrive/EEG/01-health/Acquisition 24-rawTrigger1-10.csv', '/content/drive/MyDrive/EEG/01-health/Acquisition 24-rawTrigger1-9.csv', '/content/drive/MyDrive/EEG/01-health/Acquisition 25-rawTrigger1-2.csv', '/content/drive/MyDrive/EEG/01-health/Acquisition 25-rawTrigger1-4.csv', '/content/drive/MyDrive/EEG/01-health/Acquisition 25-rawTrigger1-1.csv', '/content/drive/MyDrive/EEG/01-health/Acquisition 25-rawTrigger1-3.csv', '/content/drive/MyDrive/EEG/01-health/Acquisition 25-rawTrigger1-6.csv', '/content/drive/MyDrive/EEG/01-health/Acquisition 25-rawTrigger1-8.csv', '/content/drive/MyDrive/EEG/01-health/Acquisition 25-rawTrigger1-7.csv', '/content/drive/MyDrive/EEG/01-health/Acquisition 25-rawTrigger1-5.csv', '/content/drive/MyDrive/EEG/01-health/Acquisition 25-rawTrigger1-9.csv', '/content/drive/MyDrive/EEG/01-health/Acquisition 25-rawTrigger1-10.csv', '/content/drive/MyDrive/EEG/01-health/Acquisition 27-rawTrigger1-2.csv', '/content/drive/MyDrive/EEG/01-health/Acquisition 27-rawTrigger1-1.csv', '/content/drive/MyDrive/EEG/01-health/Acquisition 27-rawTrigger1-3.csv', '/content/drive/MyDrive/EEG/01-health/Acquisition 27-rawTrigger1-5.csv', '/content/drive/MyDrive/EEG/01-health/Acquisition 27-rawTrigger1-6.csv', '/content/drive/MyDrive/EEG/01-health/Acquisition 27-rawTrigger1-4.csv', '/content/drive/MyDrive/EEG/01-health/Acquisition 27-rawTrigger1-8.csv', '/content/drive/MyDrive/EEG/01-health/Acquisition 27-rawTrigger1-7.csv', '/content/drive/MyDrive/EEG/01-health/Acquisition 27-rawTrigger1-10.csv', '/content/drive/MyDrive/EEG/01-health/Acquisition 27-rawTrigger1-9.csv', '/content/drive/MyDrive/EEG/01-health/Acquisition 28-rawTrigger1-2.csv', '/content/drive/MyDrive/EEG/01-health/Acquisition 28-rawTrigger1-4.csv', '/content/drive/MyDrive/EEG/01-health/Acquisition 28-rawTrigger1-3.csv', '/content/drive/MyDrive/EEG/01-health/Acquisition 28-rawTrigger1-1.csv', '/content/drive/MyDrive/EEG/01-health/Acquisition 28-rawTrigger1-5.csv', '/content/drive/MyDrive/EEG/01-health/Acquisition 28-rawTrigger1-6.csv', '/content/drive/MyDrive/EEG/01-health/Acquisition 28-rawTrigger1-7.csv', '/content/drive/MyDrive/EEG/01-health/Acquisition 28-rawTrigger1-8.csv', '/content/drive/MyDrive/EEG/01-health/Acquisition 28-rawTrigger1-9.csv', '/content/drive/MyDrive/EEG/01-health/Acquisition 28-rawTrigger1-10.csv', '/content/drive/MyDrive/EEG/01-health/Acquisition 36-rawTrigger1-3.csv', '/content/drive/MyDrive/EEG/01-health/Acquisition 36-rawTrigger1-1.csv', '/content/drive/MyDrive/EEG/01-health/Acquisition 36-rawTrigger1-4.csv', '/content/drive/MyDrive/EEG/01-health/Acquisition 36-rawTrigger1-2.csv', '/content/drive/MyDrive/EEG/01-health/Acquisition 36-rawTrigger1-7.csv', '/content/drive/MyDrive/EEG/01-health/Acquisition 36-rawTrigger1-8.csv', '/content/drive/MyDrive/EEG/01-health/Acquisition 36-rawTrigger1-6.csv', '/content/drive/MyDrive/EEG/01-health/Acquisition 36-rawTrigger1-5.csv', '/content/drive/MyDrive/EEG/01-health/Acquisition 36-rawTrigger1-9.csv', '/content/drive/MyDrive/EEG/01-health/Acquisition 36-rawTrigger1-10.csv', '/content/drive/MyDrive/EEG/01-health/Acquisition 38-rawTrigger1-2.csv', '/content/drive/MyDrive/EEG/01-health/Acquisition 38-rawTrigger1-1.csv', '/content/drive/MyDrive/EEG/01-health/Acquisition 38-rawTrigger1-5.csv', '/content/drive/MyDrive/EEG/01-health/Acquisition 38-rawTrigger1-6.csv', '/content/drive/MyDrive/EEG/01-health/Acquisition 38-rawTrigger1-4.csv', '/content/drive/MyDrive/EEG/01-health/Acquisition 38-rawTrigger1-3.csv', '/content/drive/MyDrive/EEG/01-health/Acquisition 38-rawTrigger1-9.csv', '/content/drive/MyDrive/EEG/01-health/Acquisition 38-rawTrigger1-10.csv', '/content/drive/MyDrive/EEG/01-health/Acquisition 38-rawTrigger1-7.csv', '/content/drive/MyDrive/EEG/01-health/Acquisition 38-rawTrigger1-8.csv']\n",
            "unuse channel [0, 1, 4, 5, 36, 37, 38, 39, 27, 20, 31, 25, 30]\n",
            "192 ['/content/drive/MyDrive/EEG/08-health/Acquisition 19-rawTrigger8-1.csv', '/content/drive/MyDrive/EEG/08-health/Acquisition 19-rawTrigger8-3.csv', '/content/drive/MyDrive/EEG/08-health/Acquisition 19-rawTrigger8-4.csv', '/content/drive/MyDrive/EEG/08-health/Acquisition 19-rawTrigger8-6.csv', '/content/drive/MyDrive/EEG/08-health/Acquisition 19-rawTrigger8-7.csv', '/content/drive/MyDrive/EEG/08-health/Acquisition 19-rawTrigger8-5.csv', '/content/drive/MyDrive/EEG/08-health/Acquisition 19-rawTrigger8-2.csv', '/content/drive/MyDrive/EEG/08-health/Acquisition 19-rawTrigger8-11.csv', '/content/drive/MyDrive/EEG/08-health/Acquisition 19-rawTrigger8-9.csv', '/content/drive/MyDrive/EEG/08-health/Acquisition 19-rawTrigger8-8.csv', '/content/drive/MyDrive/EEG/08-health/Acquisition 19-rawTrigger8-10.csv', '/content/drive/MyDrive/EEG/08-health/Acquisition 19-rawTrigger8-12.csv', '/content/drive/MyDrive/EEG/08-health/Acquisition 19-rawTrigger8-15.csv', '/content/drive/MyDrive/EEG/08-health/Acquisition 19-rawTrigger8-13.csv', '/content/drive/MyDrive/EEG/08-health/Acquisition 19-rawTrigger8-14.csv', '/content/drive/MyDrive/EEG/08-health/Acquisition 19-rawTrigger8-16.csv', '/content/drive/MyDrive/EEG/08-health/Acquisition 19-rawTrigger8-18.csv', '/content/drive/MyDrive/EEG/08-health/Acquisition 19-rawTrigger8-17.csv', '/content/drive/MyDrive/EEG/08-health/Acquisition 20-rawTrigger8-1.csv', '/content/drive/MyDrive/EEG/08-health/Acquisition 20-rawTrigger8-2.csv', '/content/drive/MyDrive/EEG/08-health/Acquisition 20-rawTrigger8-4.csv', '/content/drive/MyDrive/EEG/08-health/Acquisition 20-rawTrigger8-6.csv', '/content/drive/MyDrive/EEG/08-health/Acquisition 20-rawTrigger8-5.csv', '/content/drive/MyDrive/EEG/08-health/Acquisition 20-rawTrigger8-3.csv', '/content/drive/MyDrive/EEG/08-health/Acquisition 20-rawTrigger8-11.csv', '/content/drive/MyDrive/EEG/08-health/Acquisition 20-rawTrigger8-9.csv', '/content/drive/MyDrive/EEG/08-health/Acquisition 20-rawTrigger8-7.csv', '/content/drive/MyDrive/EEG/08-health/Acquisition 20-rawTrigger8-10.csv', '/content/drive/MyDrive/EEG/08-health/Acquisition 20-rawTrigger8-8.csv', '/content/drive/MyDrive/EEG/08-health/Acquisition 20-rawTrigger8-12.csv', '/content/drive/MyDrive/EEG/08-health/Acquisition 20-rawTrigger8-14.csv', '/content/drive/MyDrive/EEG/08-health/Acquisition 20-rawTrigger8-16.csv', '/content/drive/MyDrive/EEG/08-health/Acquisition 20-rawTrigger8-13.csv', '/content/drive/MyDrive/EEG/08-health/Acquisition 20-rawTrigger8-15.csv', '/content/drive/MyDrive/EEG/08-health/Acquisition 20-rawTrigger8-18.csv', '/content/drive/MyDrive/EEG/08-health/Acquisition 20-rawTrigger8-20.csv', '/content/drive/MyDrive/EEG/08-health/Acquisition 20-rawTrigger8-17.csv', '/content/drive/MyDrive/EEG/08-health/Acquisition 20-rawTrigger8-19.csv', '/content/drive/MyDrive/EEG/08-health/Acquisition 21-rawTrigger8-3.csv', '/content/drive/MyDrive/EEG/08-health/Acquisition 21-rawTrigger8-1.csv', '/content/drive/MyDrive/EEG/08-health/Acquisition 21-rawTrigger8-2.csv', '/content/drive/MyDrive/EEG/08-health/Acquisition 21-rawTrigger8-4.csv', '/content/drive/MyDrive/EEG/08-health/Acquisition 21-rawTrigger8-6.csv', '/content/drive/MyDrive/EEG/08-health/Acquisition 21-rawTrigger8-5.csv', '/content/drive/MyDrive/EEG/08-health/Acquisition 21-rawTrigger8-7.csv', '/content/drive/MyDrive/EEG/08-health/Acquisition 21-rawTrigger8-11.csv', '/content/drive/MyDrive/EEG/08-health/Acquisition 21-rawTrigger8-9.csv', '/content/drive/MyDrive/EEG/08-health/Acquisition 21-rawTrigger8-10.csv', '/content/drive/MyDrive/EEG/08-health/Acquisition 21-rawTrigger8-12.csv', '/content/drive/MyDrive/EEG/08-health/Acquisition 21-rawTrigger8-8.csv', '/content/drive/MyDrive/EEG/08-health/Acquisition 21-rawTrigger8-15.csv', '/content/drive/MyDrive/EEG/08-health/Acquisition 21-rawTrigger8-13.csv', '/content/drive/MyDrive/EEG/08-health/Acquisition 21-rawTrigger8-14.csv', '/content/drive/MyDrive/EEG/08-health/Acquisition 21-rawTrigger8-16.csv', '/content/drive/MyDrive/EEG/08-health/Acquisition 21-rawTrigger8-19.csv', '/content/drive/MyDrive/EEG/08-health/Acquisition 21-rawTrigger8-17.csv', '/content/drive/MyDrive/EEG/08-health/Acquisition 21-rawTrigger8-18.csv', '/content/drive/MyDrive/EEG/08-health/Acquisition 21-rawTrigger8-20.csv', '/content/drive/MyDrive/EEG/08-health/Acquisition 24-rawTrigger8-1.csv', '/content/drive/MyDrive/EEG/08-health/Acquisition 24-rawTrigger8-2.csv', '/content/drive/MyDrive/EEG/08-health/Acquisition 24-rawTrigger8-5.csv', '/content/drive/MyDrive/EEG/08-health/Acquisition 24-rawTrigger8-4.csv', '/content/drive/MyDrive/EEG/08-health/Acquisition 24-rawTrigger8-6.csv', '/content/drive/MyDrive/EEG/08-health/Acquisition 24-rawTrigger8-3.csv', '/content/drive/MyDrive/EEG/08-health/Acquisition 24-rawTrigger8-10.csv', '/content/drive/MyDrive/EEG/08-health/Acquisition 24-rawTrigger8-8.csv', '/content/drive/MyDrive/EEG/08-health/Acquisition 24-rawTrigger8-7.csv', '/content/drive/MyDrive/EEG/08-health/Acquisition 24-rawTrigger8-9.csv', '/content/drive/MyDrive/EEG/08-health/Acquisition 24-rawTrigger8-11.csv', '/content/drive/MyDrive/EEG/08-health/Acquisition 24-rawTrigger8-12.csv', '/content/drive/MyDrive/EEG/08-health/Acquisition 24-rawTrigger8-13.csv', '/content/drive/MyDrive/EEG/08-health/Acquisition 24-rawTrigger8-15.csv', '/content/drive/MyDrive/EEG/08-health/Acquisition 24-rawTrigger8-17.csv', '/content/drive/MyDrive/EEG/08-health/Acquisition 24-rawTrigger8-16.csv', '/content/drive/MyDrive/EEG/08-health/Acquisition 24-rawTrigger8-14.csv', '/content/drive/MyDrive/EEG/08-health/Acquisition 24-rawTrigger8-20.csv', '/content/drive/MyDrive/EEG/08-health/Acquisition 24-rawTrigger8-18.csv', '/content/drive/MyDrive/EEG/08-health/Acquisition 24-rawTrigger8-19.csv', '/content/drive/MyDrive/EEG/08-health/Acquisition 25-rawTrigger8-1.csv', '/content/drive/MyDrive/EEG/08-health/Acquisition 25-rawTrigger8-5.csv', '/content/drive/MyDrive/EEG/08-health/Acquisition 25-rawTrigger8-4.csv', '/content/drive/MyDrive/EEG/08-health/Acquisition 25-rawTrigger8-3.csv', '/content/drive/MyDrive/EEG/08-health/Acquisition 25-rawTrigger8-2.csv', '/content/drive/MyDrive/EEG/08-health/Acquisition 25-rawTrigger8-6.csv', '/content/drive/MyDrive/EEG/08-health/Acquisition 25-rawTrigger8-8.csv', '/content/drive/MyDrive/EEG/08-health/Acquisition 25-rawTrigger8-7.csv', '/content/drive/MyDrive/EEG/08-health/Acquisition 25-rawTrigger8-9.csv', '/content/drive/MyDrive/EEG/08-health/Acquisition 25-rawTrigger8-11.csv', '/content/drive/MyDrive/EEG/08-health/Acquisition 25-rawTrigger8-12.csv', '/content/drive/MyDrive/EEG/08-health/Acquisition 25-rawTrigger8-10.csv', '/content/drive/MyDrive/EEG/08-health/Acquisition 25-rawTrigger8-14.csv', '/content/drive/MyDrive/EEG/08-health/Acquisition 25-rawTrigger8-13.csv', '/content/drive/MyDrive/EEG/08-health/Acquisition 25-rawTrigger8-15.csv', '/content/drive/MyDrive/EEG/08-health/Acquisition 25-rawTrigger8-16.csv', '/content/drive/MyDrive/EEG/08-health/Acquisition 25-rawTrigger8-18.csv', '/content/drive/MyDrive/EEG/08-health/Acquisition 25-rawTrigger8-19.csv', '/content/drive/MyDrive/EEG/08-health/Acquisition 25-rawTrigger8-17.csv', '/content/drive/MyDrive/EEG/08-health/Acquisition 27-rawTrigger8-1.csv', '/content/drive/MyDrive/EEG/08-health/Acquisition 27-rawTrigger8-3.csv', '/content/drive/MyDrive/EEG/08-health/Acquisition 27-rawTrigger8-4.csv', '/content/drive/MyDrive/EEG/08-health/Acquisition 27-rawTrigger8-2.csv', '/content/drive/MyDrive/EEG/08-health/Acquisition 27-rawTrigger8-5.csv', '/content/drive/MyDrive/EEG/08-health/Acquisition 27-rawTrigger8-6.csv', '/content/drive/MyDrive/EEG/08-health/Acquisition 27-rawTrigger8-8.csv', '/content/drive/MyDrive/EEG/08-health/Acquisition 27-rawTrigger8-7.csv', '/content/drive/MyDrive/EEG/08-health/Acquisition 27-rawTrigger8-9.csv', '/content/drive/MyDrive/EEG/08-health/Acquisition 27-rawTrigger8-11.csv', '/content/drive/MyDrive/EEG/08-health/Acquisition 27-rawTrigger8-10.csv', '/content/drive/MyDrive/EEG/08-health/Acquisition 27-rawTrigger8-12.csv', '/content/drive/MyDrive/EEG/08-health/Acquisition 27-rawTrigger8-15.csv', '/content/drive/MyDrive/EEG/08-health/Acquisition 27-rawTrigger8-13.csv', '/content/drive/MyDrive/EEG/08-health/Acquisition 27-rawTrigger8-14.csv', '/content/drive/MyDrive/EEG/08-health/Acquisition 28-rawTrigger8-1.csv', '/content/drive/MyDrive/EEG/08-health/Acquisition 28-rawTrigger8-3.csv', '/content/drive/MyDrive/EEG/08-health/Acquisition 28-rawTrigger8-2.csv', '/content/drive/MyDrive/EEG/08-health/Acquisition 28-rawTrigger8-6.csv', '/content/drive/MyDrive/EEG/08-health/Acquisition 28-rawTrigger8-4.csv', '/content/drive/MyDrive/EEG/08-health/Acquisition 28-rawTrigger8-5.csv', '/content/drive/MyDrive/EEG/08-health/Acquisition 28-rawTrigger8-10.csv', '/content/drive/MyDrive/EEG/08-health/Acquisition 28-rawTrigger8-8.csv', '/content/drive/MyDrive/EEG/08-health/Acquisition 28-rawTrigger8-9.csv', '/content/drive/MyDrive/EEG/08-health/Acquisition 28-rawTrigger8-7.csv', '/content/drive/MyDrive/EEG/08-health/Acquisition 28-rawTrigger8-11.csv', '/content/drive/MyDrive/EEG/08-health/Acquisition 28-rawTrigger8-13.csv', '/content/drive/MyDrive/EEG/08-health/Acquisition 28-rawTrigger8-12.csv', '/content/drive/MyDrive/EEG/08-health/Acquisition 28-rawTrigger8-17.csv', '/content/drive/MyDrive/EEG/08-health/Acquisition 28-rawTrigger8-14.csv', '/content/drive/MyDrive/EEG/08-health/Acquisition 28-rawTrigger8-15.csv', '/content/drive/MyDrive/EEG/08-health/Acquisition 28-rawTrigger8-16.csv', '/content/drive/MyDrive/EEG/08-health/Acquisition 28-rawTrigger8-19.csv', '/content/drive/MyDrive/EEG/08-health/Acquisition 28-rawTrigger8-18.csv', '/content/drive/MyDrive/EEG/08-health/Acquisition 28-rawTrigger8-20.csv', '/content/drive/MyDrive/EEG/08-health/Acquisition 36-rawTrigger8-3.csv', '/content/drive/MyDrive/EEG/08-health/Acquisition 36-rawTrigger8-1.csv', '/content/drive/MyDrive/EEG/08-health/Acquisition 36-rawTrigger8-2.csv', '/content/drive/MyDrive/EEG/08-health/Acquisition 36-rawTrigger8-4.csv', '/content/drive/MyDrive/EEG/08-health/Acquisition 36-rawTrigger8-6.csv', '/content/drive/MyDrive/EEG/08-health/Acquisition 36-rawTrigger8-5.csv', '/content/drive/MyDrive/EEG/08-health/Acquisition 36-rawTrigger8-10.csv', '/content/drive/MyDrive/EEG/08-health/Acquisition 36-rawTrigger8-9.csv', '/content/drive/MyDrive/EEG/08-health/Acquisition 36-rawTrigger8-8.csv', '/content/drive/MyDrive/EEG/08-health/Acquisition 36-rawTrigger8-7.csv', '/content/drive/MyDrive/EEG/08-health/Acquisition 36-rawTrigger8-14.csv', '/content/drive/MyDrive/EEG/08-health/Acquisition 36-rawTrigger8-12.csv', '/content/drive/MyDrive/EEG/08-health/Acquisition 36-rawTrigger8-11.csv', '/content/drive/MyDrive/EEG/08-health/Acquisition 36-rawTrigger8-13.csv', '/content/drive/MyDrive/EEG/08-health/Acquisition 36-rawTrigger8-16.csv', '/content/drive/MyDrive/EEG/08-health/Acquisition 36-rawTrigger8-17.csv', '/content/drive/MyDrive/EEG/08-health/Acquisition 36-rawTrigger8-18.csv', '/content/drive/MyDrive/EEG/08-health/Acquisition 36-rawTrigger8-15.csv', '/content/drive/MyDrive/EEG/08-health/Acquisition 36-rawTrigger8-20.csv', '/content/drive/MyDrive/EEG/08-health/Acquisition 36-rawTrigger8-19.csv', '/content/drive/MyDrive/EEG/08-health/Acquisition 38-rawTrigger8-1.csv', '/content/drive/MyDrive/EEG/08-health/Acquisition 38-rawTrigger8-4.csv', '/content/drive/MyDrive/EEG/08-health/Acquisition 38-rawTrigger8-2.csv', '/content/drive/MyDrive/EEG/08-health/Acquisition 38-rawTrigger8-3.csv', '/content/drive/MyDrive/EEG/08-health/Acquisition 38-rawTrigger8-6.csv', '/content/drive/MyDrive/EEG/08-health/Acquisition 38-rawTrigger8-5.csv', '/content/drive/MyDrive/EEG/08-health/Acquisition 38-rawTrigger8-8.csv', '/content/drive/MyDrive/EEG/08-health/Acquisition 38-rawTrigger8-7.csv', '/content/drive/MyDrive/EEG/08-health/Acquisition 38-rawTrigger8-9.csv', '/content/drive/MyDrive/EEG/08-health/Acquisition 38-rawTrigger8-11.csv', '/content/drive/MyDrive/EEG/08-health/Acquisition 38-rawTrigger8-10.csv', '/content/drive/MyDrive/EEG/08-health/Acquisition 38-rawTrigger8-12.csv', '/content/drive/MyDrive/EEG/08-health/Acquisition 38-rawTrigger8-15.csv', '/content/drive/MyDrive/EEG/08-health/Acquisition 38-rawTrigger8-14.csv', '/content/drive/MyDrive/EEG/08-health/Acquisition 38-rawTrigger8-13.csv', '/content/drive/MyDrive/EEG/08-health/Acquisition 38-rawTrigger8-19.csv', '/content/drive/MyDrive/EEG/08-health/Acquisition 38-rawTrigger8-16.csv', '/content/drive/MyDrive/EEG/08-health/Acquisition 38-rawTrigger8-18.csv', '/content/drive/MyDrive/EEG/08-health/Acquisition 38-rawTrigger8-17.csv', '/content/drive/MyDrive/EEG/08-health/Acquisition 38-rawTrigger8-20.csv', '/content/drive/MyDrive/EEG/08-health/Acquisition 39-rawTrigger8-1.csv', '/content/drive/MyDrive/EEG/08-health/Acquisition 39-rawTrigger8-2.csv', '/content/drive/MyDrive/EEG/08-health/Acquisition 39-rawTrigger8-4.csv', '/content/drive/MyDrive/EEG/08-health/Acquisition 39-rawTrigger8-3.csv', '/content/drive/MyDrive/EEG/08-health/Acquisition 39-rawTrigger8-8.csv', '/content/drive/MyDrive/EEG/08-health/Acquisition 39-rawTrigger8-5.csv', '/content/drive/MyDrive/EEG/08-health/Acquisition 39-rawTrigger8-7.csv', '/content/drive/MyDrive/EEG/08-health/Acquisition 39-rawTrigger8-6.csv', '/content/drive/MyDrive/EEG/08-health/Acquisition 39-rawTrigger8-10.csv', '/content/drive/MyDrive/EEG/08-health/Acquisition 39-rawTrigger8-9.csv', '/content/drive/MyDrive/EEG/08-health/Acquisition 39-rawTrigger8-11.csv', '/content/drive/MyDrive/EEG/08-health/Acquisition 39-rawTrigger8-14.csv', '/content/drive/MyDrive/EEG/08-health/Acquisition 39-rawTrigger8-12.csv', '/content/drive/MyDrive/EEG/08-health/Acquisition 39-rawTrigger8-13.csv', '/content/drive/MyDrive/EEG/08-health/Acquisition 39-rawTrigger8-15.csv', '/content/drive/MyDrive/EEG/08-health/Acquisition 39-rawTrigger8-17.csv', '/content/drive/MyDrive/EEG/08-health/Acquisition 39-rawTrigger8-16.csv', '/content/drive/MyDrive/EEG/08-health/Acquisition 39-rawTrigger8-18.csv', '/content/drive/MyDrive/EEG/08-health/Acquisition 39-rawTrigger8-19.csv', '/content/drive/MyDrive/EEG/08-health/Acquisition 39-rawTrigger8-20.csv']\n",
            "unuse channel [0, 1, 4, 5, 36, 37, 38, 39, 27, 14, 6, 20, 31, 25, 30, 26]\n",
            "(90, 24, 8000)\n",
            "(192, 24, 8000)\n"
          ]
        }
      ]
    },
    {
      "cell_type": "code",
      "source": [
        "\n",
        "# train\n",
        "x_train_a = resting_list[:60]\n",
        "# .reshape((300,160,24))\n",
        "x_train_a  = np.array(x_train_a)\n",
        "x_train_a.shape\n",
        "\n",
        "x_train_b = music_list[:150]\n",
        "# .reshape((300,160,24))\n",
        "x_train_b = np.array(x_train_b)\n",
        "x_train = np.vstack((x_train_a,x_train_b))\n",
        "x_train.shape\n",
        "\n",
        "x_train /= 200\n",
        "x_train = x_train.astype(\"float32\")\n",
        "\n",
        "# test\n",
        "x_test_a = resting_list[60:]\n",
        "# .reshape((150,160,24))\n",
        "x_test_a  = np.array(x_test_a)\n",
        "x_test_a.shape\n",
        "print(len(x_test_a))\n",
        "\n",
        "x_test_b = music_list[150:]\n",
        "# .reshape((150,160,24))\n",
        "x_test_b = np.array(x_test_b)\n",
        "x_test = np.vstack((x_test_a,x_test_b))\n",
        "x_test.shape\n",
        "\n",
        "x_test /= 200\n",
        "x_test = x_test.astype(\"float32\")\n",
        "print(len(x_test))\n",
        "# labels\n",
        "y_train = np.append(np.zeros(len(x_train_a),dtype=int), np.ones(len(x_train_b),dtype=int))\n",
        "y_train.shape\n",
        "\n",
        "y_train = np_utils.to_categorical(y_train,2)\n",
        "y_train = y_train.astype(\"float32\")\n",
        "y_train\n",
        "\n",
        "y_test = np.append(np.zeros(len(x_test_a),dtype=int), np.ones(len(x_test_b),dtype=int))\n",
        "y_test.shape\n",
        "\n",
        "\n",
        "y_test = np_utils.to_categorical(y_test,2)\n",
        "y_test = y_test.astype(\"float32\")"
      ],
      "metadata": {
        "id": "yIWFk_t1HLmY",
        "colab": {
          "base_uri": "https://localhost:8080/"
        },
        "outputId": "7166c1b8-c089-4200-c6ef-7391a089e328"
      },
      "execution_count": null,
      "outputs": [
        {
          "output_type": "stream",
          "name": "stdout",
          "text": [
            "30\n",
            "72\n"
          ]
        }
      ]
    },
    {
      "cell_type": "code",
      "source": [
        "x_train = x_train.transpose(0,2,1)\n",
        "x_test = x_test.transpose(0,2,1)\n",
        "print(x_train.shape)\n",
        "print(x_test.shape)"
      ],
      "metadata": {
        "colab": {
          "base_uri": "https://localhost:8080/"
        },
        "id": "F3KLTd5MGakh",
        "outputId": "3e466e36-8802-4c5c-f2d4-0d7adb35f7fd"
      },
      "execution_count": null,
      "outputs": [
        {
          "output_type": "stream",
          "name": "stdout",
          "text": [
            "(210, 8000, 24)\n",
            "(72, 8000, 24)\n"
          ]
        }
      ]
    },
    {
      "cell_type": "code",
      "source": [
        "from tensorflow.python.ops.gen_array_ops import Transpose\n",
        "def residual_block(layer_input, filters):\n",
        "  \"\"\"Residual block described in paper\"\"\"\n",
        "  d = Conv2D(filters, 3, activation='relu', padding='same')(layer_input)\n",
        "  d = BatchNormalization(momentum=0.8)(d)\n",
        "  d = Conv2D(filters, 3, activation='relu', padding='same')(d)\n",
        "  d = BatchNormalization(momentum=0.8)(d)\n",
        "  d = Add()([d, layer_input])\n",
        "  return d\n",
        "\n",
        "\n",
        "\n",
        "\n",
        "# cnn\n",
        "# (192, 24, 8000) -> transpose 192 8000 24 -> reshape 192,20,400,24 \n",
        "# 192,8000,2\n",
        "# 变成(192,20,400,24)\n",
        "inputs = Input(shape=(8000, 24))\n",
        "c = Reshape((200,40,24))(inputs)\n",
        "conv1 = Conv2D(64, 3, activation='relu', padding='same')(c)\n",
        "conv2 = Conv2D(64, 3, activation='relu', padding='same')(conv1)\n",
        "c2 = residual_block(conv2, 64)\n",
        "#pool1 = MaxPooling2D(pool_size=(2, 2))(conv2)\n",
        "c2 = residual_block(c2, 64)\n",
        "conv3 = Conv2D(32, 3, activation='relu', padding='same')(c2)\n",
        "conv3 = Conv2D(32, 3, activation='relu', padding='same')(conv3)\n",
        "D1 = Flatten()(conv3)\n",
        "D1 = Dense(128,activation='relu')(D1) #relu\n",
        "D1 = Dense(32)(D1) \n",
        "Out = Dense(2, activation='softmax')(D1)\n",
        "\n",
        "model = Model(inputs, Out)\n",
        "model.summary()\n",
        "# 0.0001\n",
        "opt = optimizers.Adam(learning_rate=0.0001, decay=1e-6) #0.002， 0.0005\n",
        "model.compile(loss='binary_crossentropy',\n",
        "              optimizer=opt,\n",
        "              metrics=['accuracy'])"
      ],
      "metadata": {
        "id": "SttLUdKiLcBa",
        "colab": {
          "base_uri": "https://localhost:8080/"
        },
        "outputId": "e44caae6-7eeb-4659-9750-1050a0c6867b"
      },
      "execution_count": null,
      "outputs": [
        {
          "output_type": "stream",
          "name": "stdout",
          "text": [
            "Model: \"model_13\"\n",
            "__________________________________________________________________________________________________\n",
            " Layer (type)                   Output Shape         Param #     Connected to                     \n",
            "==================================================================================================\n",
            " input_14 (InputLayer)          [(None, 8000, 24)]   0           []                               \n",
            "                                                                                                  \n",
            " reshape_13 (Reshape)           (None, 200, 40, 24)  0           ['input_14[0][0]']               \n",
            "                                                                                                  \n",
            " conv2d_104 (Conv2D)            (None, 200, 40, 64)  13888       ['reshape_13[0][0]']             \n",
            "                                                                                                  \n",
            " conv2d_105 (Conv2D)            (None, 200, 40, 64)  36928       ['conv2d_104[0][0]']             \n",
            "                                                                                                  \n",
            " conv2d_106 (Conv2D)            (None, 200, 40, 64)  36928       ['conv2d_105[0][0]']             \n",
            "                                                                                                  \n",
            " batch_normalization_52 (BatchN  (None, 200, 40, 64)  256        ['conv2d_106[0][0]']             \n",
            " ormalization)                                                                                    \n",
            "                                                                                                  \n",
            " conv2d_107 (Conv2D)            (None, 200, 40, 64)  36928       ['batch_normalization_52[0][0]'] \n",
            "                                                                                                  \n",
            " batch_normalization_53 (BatchN  (None, 200, 40, 64)  256        ['conv2d_107[0][0]']             \n",
            " ormalization)                                                                                    \n",
            "                                                                                                  \n",
            " add_26 (Add)                   (None, 200, 40, 64)  0           ['batch_normalization_53[0][0]', \n",
            "                                                                  'conv2d_105[0][0]']             \n",
            "                                                                                                  \n",
            " conv2d_108 (Conv2D)            (None, 200, 40, 64)  36928       ['add_26[0][0]']                 \n",
            "                                                                                                  \n",
            " batch_normalization_54 (BatchN  (None, 200, 40, 64)  256        ['conv2d_108[0][0]']             \n",
            " ormalization)                                                                                    \n",
            "                                                                                                  \n",
            " conv2d_109 (Conv2D)            (None, 200, 40, 64)  36928       ['batch_normalization_54[0][0]'] \n",
            "                                                                                                  \n",
            " batch_normalization_55 (BatchN  (None, 200, 40, 64)  256        ['conv2d_109[0][0]']             \n",
            " ormalization)                                                                                    \n",
            "                                                                                                  \n",
            " add_27 (Add)                   (None, 200, 40, 64)  0           ['batch_normalization_55[0][0]', \n",
            "                                                                  'add_26[0][0]']                 \n",
            "                                                                                                  \n",
            " conv2d_110 (Conv2D)            (None, 200, 40, 32)  18464       ['add_27[0][0]']                 \n",
            "                                                                                                  \n",
            " conv2d_111 (Conv2D)            (None, 200, 40, 32)  9248        ['conv2d_110[0][0]']             \n",
            "                                                                                                  \n",
            " flatten_13 (Flatten)           (None, 256000)       0           ['conv2d_111[0][0]']             \n",
            "                                                                                                  \n",
            " dense_39 (Dense)               (None, 128)          32768128    ['flatten_13[0][0]']             \n",
            "                                                                                                  \n",
            " dense_40 (Dense)               (None, 32)           4128        ['dense_39[0][0]']               \n",
            "                                                                                                  \n",
            " dense_41 (Dense)               (None, 2)            66          ['dense_40[0][0]']               \n",
            "                                                                                                  \n",
            "==================================================================================================\n",
            "Total params: 32,999,586\n",
            "Trainable params: 32,999,074\n",
            "Non-trainable params: 512\n",
            "__________________________________________________________________________________________________\n"
          ]
        }
      ]
    },
    {
      "cell_type": "code",
      "source": [
        "history = model.fit(x_train,y_train,epochs=15,batch_size=3)"
      ],
      "metadata": {
        "colab": {
          "base_uri": "https://localhost:8080/"
        },
        "id": "7JneUWZSDv9E",
        "outputId": "a766b4f9-73a4-444b-ead2-10ccbffa2303"
      },
      "execution_count": null,
      "outputs": [
        {
          "output_type": "stream",
          "name": "stdout",
          "text": [
            "Epoch 1/15\n",
            "70/70 [==============================] - 2s 21ms/step - loss: 88.0177 - accuracy: 0.7048\n",
            "Epoch 2/15\n",
            "70/70 [==============================] - 1s 20ms/step - loss: 14.3332 - accuracy: 0.7762\n",
            "Epoch 3/15\n",
            "70/70 [==============================] - 1s 20ms/step - loss: 7.2855 - accuracy: 0.7762\n",
            "Epoch 4/15\n",
            "70/70 [==============================] - 1s 20ms/step - loss: 3.1969 - accuracy: 0.8476\n",
            "Epoch 5/15\n",
            "70/70 [==============================] - 1s 20ms/step - loss: 2.5665 - accuracy: 0.8190\n",
            "Epoch 6/15\n",
            "70/70 [==============================] - 1s 20ms/step - loss: 0.9524 - accuracy: 0.8762\n",
            "Epoch 7/15\n",
            "70/70 [==============================] - 1s 20ms/step - loss: 0.4049 - accuracy: 0.8857\n",
            "Epoch 8/15\n",
            "70/70 [==============================] - 1s 20ms/step - loss: 0.1610 - accuracy: 0.9333\n",
            "Epoch 9/15\n",
            "70/70 [==============================] - 1s 20ms/step - loss: 0.4330 - accuracy: 0.8905\n",
            "Epoch 10/15\n",
            "70/70 [==============================] - 1s 20ms/step - loss: 0.4088 - accuracy: 0.8952\n",
            "Epoch 11/15\n",
            "70/70 [==============================] - 1s 20ms/step - loss: 0.2827 - accuracy: 0.9238\n",
            "Epoch 12/15\n",
            "70/70 [==============================] - 1s 20ms/step - loss: 0.2586 - accuracy: 0.9238\n",
            "Epoch 13/15\n",
            "70/70 [==============================] - 1s 20ms/step - loss: 0.1776 - accuracy: 0.9286\n",
            "Epoch 14/15\n",
            "70/70 [==============================] - 1s 20ms/step - loss: 0.1818 - accuracy: 0.9333\n",
            "Epoch 15/15\n",
            "70/70 [==============================] - 1s 20ms/step - loss: 0.1829 - accuracy: 0.9286\n"
          ]
        }
      ]
    },
    {
      "cell_type": "code",
      "source": [
        "y_pred = model.predict(x_test)"
      ],
      "metadata": {
        "colab": {
          "base_uri": "https://localhost:8080/"
        },
        "id": "yvE2p01tfLDA",
        "outputId": "ccb351e3-deb9-4df6-ac3f-14d08bb0c951"
      },
      "execution_count": null,
      "outputs": [
        {
          "output_type": "stream",
          "name": "stdout",
          "text": [
            "3/3 [==============================] - 0s 41ms/step\n"
          ]
        }
      ]
    },
    {
      "cell_type": "code",
      "source": [
        "y_pred"
      ],
      "metadata": {
        "colab": {
          "base_uri": "https://localhost:8080/"
        },
        "id": "W5y63YQrfYzN",
        "outputId": "66e0c453-e92d-4fb7-f6e3-5a04fa2203ed"
      },
      "execution_count": null,
      "outputs": [
        {
          "output_type": "execute_result",
          "data": {
            "text/plain": [
              "array([[0.        , 1.        ],\n",
              "       [0.        , 1.        ],\n",
              "       [0.        , 1.        ],\n",
              "       [0.        , 1.        ],\n",
              "       [0.        , 1.        ],\n",
              "       [0.        , 1.        ],\n",
              "       [0.        , 1.        ],\n",
              "       [0.        , 1.        ],\n",
              "       [0.        , 1.        ],\n",
              "       [0.        , 1.        ],\n",
              "       [0.        , 1.        ],\n",
              "       [0.        , 1.        ],\n",
              "       [0.        , 1.        ],\n",
              "       [0.        , 1.        ],\n",
              "       [0.        , 1.        ],\n",
              "       [0.        , 1.        ],\n",
              "       [0.        , 1.        ],\n",
              "       [0.        , 1.        ],\n",
              "       [0.        , 1.        ],\n",
              "       [0.        , 1.        ],\n",
              "       [0.        , 1.        ],\n",
              "       [0.        , 1.        ],\n",
              "       [0.        , 1.        ],\n",
              "       [0.        , 1.        ],\n",
              "       [0.        , 1.        ],\n",
              "       [0.        , 1.        ],\n",
              "       [0.        , 1.        ],\n",
              "       [0.        , 1.        ],\n",
              "       [0.        , 1.        ],\n",
              "       [0.        , 1.        ],\n",
              "       [0.        , 1.        ],\n",
              "       [0.        , 1.        ],\n",
              "       [0.        , 1.        ],\n",
              "       [0.5015787 , 0.49842128],\n",
              "       [0.5015787 , 0.49842128],\n",
              "       [0.5015787 , 0.49842128],\n",
              "       [0.        , 1.        ],\n",
              "       [0.        , 1.        ],\n",
              "       [0.5015787 , 0.49842128],\n",
              "       [0.5015787 , 0.49842128],\n",
              "       [0.5015787 , 0.49842128],\n",
              "       [0.5015787 , 0.49842128],\n",
              "       [0.5015787 , 0.49842128],\n",
              "       [0.5015787 , 0.49842128],\n",
              "       [0.5015787 , 0.49842128],\n",
              "       [0.5015787 , 0.49842128],\n",
              "       [0.5015787 , 0.49842128],\n",
              "       [0.        , 1.        ],\n",
              "       [0.5015787 , 0.49842128],\n",
              "       [0.        , 1.        ],\n",
              "       [0.5015787 , 0.49842128],\n",
              "       [0.        , 1.        ],\n",
              "       [0.        , 1.        ],\n",
              "       [0.        , 1.        ],\n",
              "       [0.        , 1.        ],\n",
              "       [0.        , 1.        ],\n",
              "       [0.        , 1.        ],\n",
              "       [0.        , 1.        ],\n",
              "       [0.        , 1.        ],\n",
              "       [0.        , 1.        ],\n",
              "       [0.        , 1.        ],\n",
              "       [0.        , 1.        ],\n",
              "       [0.        , 1.        ],\n",
              "       [0.        , 1.        ],\n",
              "       [0.        , 1.        ],\n",
              "       [0.        , 1.        ],\n",
              "       [0.        , 1.        ],\n",
              "       [0.        , 1.        ],\n",
              "       [0.        , 1.        ],\n",
              "       [0.        , 1.        ],\n",
              "       [0.        , 1.        ],\n",
              "       [0.        , 1.        ]], dtype=float32)"
            ]
          },
          "metadata": {},
          "execution_count": 133
        }
      ]
    },
    {
      "cell_type": "code",
      "source": [
        "from sklearn.metrics import f1_score"
      ],
      "metadata": {
        "id": "yhzt7t7LfMpa"
      },
      "execution_count": null,
      "outputs": []
    },
    {
      "cell_type": "code",
      "source": [
        "pred"
      ],
      "metadata": {
        "colab": {
          "base_uri": "https://localhost:8080/"
        },
        "id": "pA3uJ9JOgM06",
        "outputId": "0d28a18a-d2a5-43ae-c70c-615a2b7776cd"
      },
      "execution_count": null,
      "outputs": [
        {
          "output_type": "execute_result",
          "data": {
            "text/plain": [
              "array([[0, 1],\n",
              "       [0, 1],\n",
              "       [0, 1],\n",
              "       [0, 1],\n",
              "       [0, 1],\n",
              "       [0, 1],\n",
              "       [0, 1],\n",
              "       [0, 1],\n",
              "       [0, 1],\n",
              "       [0, 1],\n",
              "       [0, 1],\n",
              "       [0, 1],\n",
              "       [0, 1],\n",
              "       [0, 1],\n",
              "       [0, 1],\n",
              "       [0, 1],\n",
              "       [0, 1],\n",
              "       [0, 1],\n",
              "       [0, 1],\n",
              "       [0, 1],\n",
              "       [0, 1],\n",
              "       [0, 1],\n",
              "       [0, 1],\n",
              "       [0, 1],\n",
              "       [0, 1],\n",
              "       [0, 1],\n",
              "       [0, 1],\n",
              "       [0, 1],\n",
              "       [0, 1],\n",
              "       [0, 1],\n",
              "       [0, 1],\n",
              "       [0, 1],\n",
              "       [0, 1],\n",
              "       [1, 0],\n",
              "       [1, 0],\n",
              "       [1, 0],\n",
              "       [0, 1],\n",
              "       [0, 1],\n",
              "       [1, 0],\n",
              "       [1, 0],\n",
              "       [1, 0],\n",
              "       [1, 0],\n",
              "       [1, 0],\n",
              "       [1, 0],\n",
              "       [1, 0],\n",
              "       [1, 0],\n",
              "       [1, 0],\n",
              "       [0, 1],\n",
              "       [1, 0],\n",
              "       [0, 1],\n",
              "       [1, 0],\n",
              "       [0, 1],\n",
              "       [0, 1],\n",
              "       [0, 1],\n",
              "       [0, 1],\n",
              "       [0, 1],\n",
              "       [0, 1],\n",
              "       [0, 1],\n",
              "       [0, 1],\n",
              "       [0, 1],\n",
              "       [0, 1],\n",
              "       [0, 1],\n",
              "       [0, 1],\n",
              "       [0, 1],\n",
              "       [0, 1],\n",
              "       [0, 1],\n",
              "       [0, 1],\n",
              "       [0, 1],\n",
              "       [0, 1],\n",
              "       [0, 1],\n",
              "       [0, 1],\n",
              "       [0, 1]])"
            ]
          },
          "metadata": {},
          "execution_count": 148
        }
      ]
    },
    {
      "cell_type": "code",
      "source": [
        "pred = np.int64(y_pred>0.5)\n",
        "y_label = []\n",
        "for v in y_test:\n",
        "  y_label.append(v[0])\n",
        "y_label=np.array(y_label,dtype=int)\n",
        "\n",
        "pred_label = []\n",
        "for v in pred:\n",
        "  pred_label.append(v[0])\n",
        "pred_label=np.array(pred_label,dtype=int)\n",
        "print(y_label)\n",
        "print(pred_label)"
      ],
      "metadata": {
        "colab": {
          "base_uri": "https://localhost:8080/"
        },
        "id": "-jyegWJJfQ7R",
        "outputId": "bff1b754-3c9e-4884-c6ac-b732c286f97f"
      },
      "execution_count": null,
      "outputs": [
        {
          "output_type": "stream",
          "name": "stdout",
          "text": [
            "[1 1 1 1 1 1 1 1 1 1 1 1 1 1 1 1 1 1 1 1 1 1 1 1 1 1 1 1 1 1 0 0 0 0 0 0 0\n",
            " 0 0 0 0 0 0 0 0 0 0 0 0 0 0 0 0 0 0 0 0 0 0 0 0 0 0 0 0 0 0 0 0 0 0 0]\n",
            "[0 0 0 0 0 0 0 0 0 0 0 0 0 0 0 0 0 0 0 0 0 0 0 0 0 0 0 0 0 0 0 0 0 0 0 0 0\n",
            " 0 0 0 0 0 0 0 0 0 0 0 0 0 0 0 0 0 0 0 0 0 0 0 0 0 0 0 0 0 0 0 0 0 0 0]\n"
          ]
        }
      ]
    },
    {
      "cell_type": "code",
      "source": [
        "f1_score(y_label,pred_label)"
      ],
      "metadata": {
        "colab": {
          "base_uri": "https://localhost:8080/"
        },
        "id": "mQP7LOpSfRQ4",
        "outputId": "21ea5b27-36b4-4bd3-cdae-b2fe6398ff92"
      },
      "execution_count": null,
      "outputs": [
        {
          "output_type": "execute_result",
          "data": {
            "text/plain": [
              "0.0"
            ]
          },
          "metadata": {},
          "execution_count": 150
        }
      ]
    },
    {
      "cell_type": "markdown",
      "source": [
        "# Patient"
      ],
      "metadata": {
        "id": "kJecem2PG8BU"
      }
    },
    {
      "cell_type": "code",
      "source": [
        "from torch.autograd.grad_mode import F\n",
        "class EEGLoader(Dataset):\n",
        "  def __init__(self,root):\n",
        "    super(EEGLoader,self).__init__()\n",
        "    self.root = root\n",
        "    self.name2label = {}\n",
        "    for name in sorted(os.listdir(os.path.join(root))):\n",
        "      if not os.path.isdir(os.path.join(root,name)):\n",
        "        continue\n",
        "      self.name2label[name] = len(self.name2label.keys())\n",
        "    print(self.name2label)\n",
        "\n",
        "    # no enough data, so split two dataset manually. Just in case use shuffle,split will get only one or two samples for test \n",
        "    # assert len(data) == len(labels)\n",
        "\n",
        "\n",
        "  # def load_csv(self,filename):\n",
        "  #     data  = []\n",
        "  #     for name in self.name2label.keys():\n",
        "  #       print(\"name\",name)\n",
        "  #       data +=glob.glob(os.path.join(self.root,name,'*.csv'))\n",
        "  #       # 。split(os.sep)[-2]\n",
        "  #     print(len(data),data)\n",
        "\n",
        "\n",
        "  def load_csv(self,foldername):\n",
        "      # data  = []\n",
        "      data =glob.glob(os.path.join(self.root,foldername,'*.csv'))\n",
        "      # 。split(os.sep)[-2]\n",
        "      print(len(data),data)\n",
        "\n",
        "      res = []\n",
        "      unusedChan = []\n",
        "      for file in data:\n",
        "        # remove dead people\n",
        "        # if \"Acquisition 09\" in file : # or \"Acquisition 30\" in file\n",
        "        #   continue\n",
        "\n",
        "        EEGMatrix = pd.read_csv(file,header=None).values\n",
        "        EEGwithoutConstantValue = []\n",
        "        for index,channel in enumerate(EEGMatrix):\n",
        "          # print(\"channel len\",len(channel))\n",
        "          # for testing since number of each acquisition's unique channels without 134733100 is different. get min number 29 rows first. Do data preprocessing to reduce channels to 17 later.\n",
        "          if 134733100.0 in channel:\n",
        "            if index not in unusedChan:\n",
        "              unusedChan.append(index)\n",
        "            continue\n",
        "          EEGwithoutConstantValue.append(channel)\n",
        "        # print(np.array(EEGwithoutConstantValue).shape)\n",
        "        EEGwithoutConstantValue = EEGwithoutConstantValue[:24]\n",
        "        # print(np.array(EEGwithoutConstantValue).shape)\n",
        "        res.append(EEGwithoutConstantValue)\n",
        "      print(\"unuse channel\",unusedChan)\n",
        "      return res\n",
        "  \n",
        "\n",
        "  def __len__(self):\n",
        "      pass\n",
        "\n",
        "  def __getitem__(self,idx):\n",
        "      pass\n",
        "data = EEGLoader('/content/drive/MyDrive/EEG')\n",
        "\n",
        "resting_list2 = data.load_csv(\"01\")\n",
        "music_list2 = data.load_csv(\"08\")\n",
        "\n",
        "print(np.array(resting_list2).shape)\n",
        "print(np.array(music_list2).shape)"
      ],
      "metadata": {
        "colab": {
          "base_uri": "https://localhost:8080/"
        },
        "id": "oQ7EHuSwG2j1",
        "outputId": "82d4bc20-ccb8-403e-e7ca-627ad0d36561"
      },
      "execution_count": null,
      "outputs": [
        {
          "output_type": "stream",
          "name": "stdout",
          "text": [
            "{'01': 0, '01-health': 1, '01-previous': 2, '08': 3, '08-health': 4, '08-previous': 5, '16': 6, '16-health': 7}\n",
            "170 ['/content/drive/MyDrive/EEG/01/Acquisition 09-rawTrigger1-1.csv', '/content/drive/MyDrive/EEG/01/Acquisition 09-rawTrigger1-2.csv', '/content/drive/MyDrive/EEG/01/Acquisition 09-rawTrigger1-4.csv', '/content/drive/MyDrive/EEG/01/Acquisition 09-rawTrigger1-5.csv', '/content/drive/MyDrive/EEG/01/Acquisition 09-rawTrigger1-3.csv', '/content/drive/MyDrive/EEG/01/Acquisition 09-rawTrigger1-8.csv', '/content/drive/MyDrive/EEG/01/Acquisition 09-rawTrigger1-7.csv', '/content/drive/MyDrive/EEG/01/Acquisition 09-rawTrigger1-9.csv', '/content/drive/MyDrive/EEG/01/Acquisition 09-rawTrigger1-6.csv', '/content/drive/MyDrive/EEG/01/Acquisition 09-rawTrigger1-10.csv', '/content/drive/MyDrive/EEG/01/Acquisition 10-rawTrigger1-1.csv', '/content/drive/MyDrive/EEG/01/Acquisition 10-rawTrigger1-2.csv', '/content/drive/MyDrive/EEG/01/Acquisition 10-rawTrigger1-4.csv', '/content/drive/MyDrive/EEG/01/Acquisition 10-rawTrigger1-5.csv', '/content/drive/MyDrive/EEG/01/Acquisition 10-rawTrigger1-3.csv', '/content/drive/MyDrive/EEG/01/Acquisition 10-rawTrigger1-6.csv', '/content/drive/MyDrive/EEG/01/Acquisition 10-rawTrigger1-10.csv', '/content/drive/MyDrive/EEG/01/Acquisition 10-rawTrigger1-9.csv', '/content/drive/MyDrive/EEG/01/Acquisition 10-rawTrigger1-7.csv', '/content/drive/MyDrive/EEG/01/Acquisition 10-rawTrigger1-8.csv', '/content/drive/MyDrive/EEG/01/Acquisition 11-rawTrigger1-1.csv', '/content/drive/MyDrive/EEG/01/Acquisition 11-rawTrigger1-3.csv', '/content/drive/MyDrive/EEG/01/Acquisition 11-rawTrigger1-2.csv', '/content/drive/MyDrive/EEG/01/Acquisition 11-rawTrigger1-4.csv', '/content/drive/MyDrive/EEG/01/Acquisition 11-rawTrigger1-5.csv', '/content/drive/MyDrive/EEG/01/Acquisition 11-rawTrigger1-9.csv', '/content/drive/MyDrive/EEG/01/Acquisition 11-rawTrigger1-6.csv', '/content/drive/MyDrive/EEG/01/Acquisition 11-rawTrigger1-7.csv', '/content/drive/MyDrive/EEG/01/Acquisition 11-rawTrigger1-8.csv', '/content/drive/MyDrive/EEG/01/Acquisition 11-rawTrigger1-10.csv', '/content/drive/MyDrive/EEG/01/Acquisition 12-rawTrigger1-3.csv', '/content/drive/MyDrive/EEG/01/Acquisition 12-rawTrigger1-2.csv', '/content/drive/MyDrive/EEG/01/Acquisition 12-rawTrigger1-4.csv', '/content/drive/MyDrive/EEG/01/Acquisition 12-rawTrigger1-1.csv', '/content/drive/MyDrive/EEG/01/Acquisition 12-rawTrigger1-5.csv', '/content/drive/MyDrive/EEG/01/Acquisition 12-rawTrigger1-6.csv', '/content/drive/MyDrive/EEG/01/Acquisition 12-rawTrigger1-7.csv', '/content/drive/MyDrive/EEG/01/Acquisition 12-rawTrigger1-8.csv', '/content/drive/MyDrive/EEG/01/Acquisition 12-rawTrigger1-10.csv', '/content/drive/MyDrive/EEG/01/Acquisition 12-rawTrigger1-9.csv', '/content/drive/MyDrive/EEG/01/Acquisition 13-rawTrigger1-1.csv', '/content/drive/MyDrive/EEG/01/Acquisition 13-rawTrigger1-3.csv', '/content/drive/MyDrive/EEG/01/Acquisition 13-rawTrigger1-2.csv', '/content/drive/MyDrive/EEG/01/Acquisition 13-rawTrigger1-4.csv', '/content/drive/MyDrive/EEG/01/Acquisition 13-rawTrigger1-5.csv', '/content/drive/MyDrive/EEG/01/Acquisition 13-rawTrigger1-6.csv', '/content/drive/MyDrive/EEG/01/Acquisition 13-rawTrigger1-8.csv', '/content/drive/MyDrive/EEG/01/Acquisition 13-rawTrigger1-7.csv', '/content/drive/MyDrive/EEG/01/Acquisition 13-rawTrigger1-9.csv', '/content/drive/MyDrive/EEG/01/Acquisition 13-rawTrigger1-10.csv', '/content/drive/MyDrive/EEG/01/Acquisition 14-rawTrigger1-1.csv', '/content/drive/MyDrive/EEG/01/Acquisition 14-rawTrigger1-3.csv', '/content/drive/MyDrive/EEG/01/Acquisition 14-rawTrigger1-2.csv', '/content/drive/MyDrive/EEG/01/Acquisition 14-rawTrigger1-4.csv', '/content/drive/MyDrive/EEG/01/Acquisition 14-rawTrigger1-6.csv', '/content/drive/MyDrive/EEG/01/Acquisition 14-rawTrigger1-8.csv', '/content/drive/MyDrive/EEG/01/Acquisition 14-rawTrigger1-5.csv', '/content/drive/MyDrive/EEG/01/Acquisition 14-rawTrigger1-7.csv', '/content/drive/MyDrive/EEG/01/Acquisition 14-rawTrigger1-10.csv', '/content/drive/MyDrive/EEG/01/Acquisition 14-rawTrigger1-9.csv', '/content/drive/MyDrive/EEG/01/Acquisition 15-rawTrigger1-2.csv', '/content/drive/MyDrive/EEG/01/Acquisition 15-rawTrigger1-1.csv', '/content/drive/MyDrive/EEG/01/Acquisition 15-rawTrigger1-3.csv', '/content/drive/MyDrive/EEG/01/Acquisition 15-rawTrigger1-5.csv', '/content/drive/MyDrive/EEG/01/Acquisition 15-rawTrigger1-4.csv', '/content/drive/MyDrive/EEG/01/Acquisition 15-rawTrigger1-6.csv', '/content/drive/MyDrive/EEG/01/Acquisition 15-rawTrigger1-7.csv', '/content/drive/MyDrive/EEG/01/Acquisition 15-rawTrigger1-9.csv', '/content/drive/MyDrive/EEG/01/Acquisition 15-rawTrigger1-8.csv', '/content/drive/MyDrive/EEG/01/Acquisition 15-rawTrigger1-10.csv', '/content/drive/MyDrive/EEG/01/Acquisition 16-rawTrigger1-2.csv', '/content/drive/MyDrive/EEG/01/Acquisition 16-rawTrigger1-1.csv', '/content/drive/MyDrive/EEG/01/Acquisition 16-rawTrigger1-4.csv', '/content/drive/MyDrive/EEG/01/Acquisition 16-rawTrigger1-3.csv', '/content/drive/MyDrive/EEG/01/Acquisition 16-rawTrigger1-6.csv', '/content/drive/MyDrive/EEG/01/Acquisition 16-rawTrigger1-5.csv', '/content/drive/MyDrive/EEG/01/Acquisition 16-rawTrigger1-8.csv', '/content/drive/MyDrive/EEG/01/Acquisition 16-rawTrigger1-7.csv', '/content/drive/MyDrive/EEG/01/Acquisition 16-rawTrigger1-9.csv', '/content/drive/MyDrive/EEG/01/Acquisition 16-rawTrigger1-10.csv', '/content/drive/MyDrive/EEG/01/Acquisition 17-rawTrigger1-2.csv', '/content/drive/MyDrive/EEG/01/Acquisition 17-rawTrigger1-1.csv', '/content/drive/MyDrive/EEG/01/Acquisition 17-rawTrigger1-3.csv', '/content/drive/MyDrive/EEG/01/Acquisition 17-rawTrigger1-4.csv', '/content/drive/MyDrive/EEG/01/Acquisition 17-rawTrigger1-7.csv', '/content/drive/MyDrive/EEG/01/Acquisition 17-rawTrigger1-6.csv', '/content/drive/MyDrive/EEG/01/Acquisition 17-rawTrigger1-5.csv', '/content/drive/MyDrive/EEG/01/Acquisition 17-rawTrigger1-10.csv', '/content/drive/MyDrive/EEG/01/Acquisition 17-rawTrigger1-9.csv', '/content/drive/MyDrive/EEG/01/Acquisition 17-rawTrigger1-8.csv', '/content/drive/MyDrive/EEG/01/Acquisition 18-rawTrigger1-1.csv', '/content/drive/MyDrive/EEG/01/Acquisition 18-rawTrigger1-2.csv', '/content/drive/MyDrive/EEG/01/Acquisition 18-rawTrigger1-3.csv', '/content/drive/MyDrive/EEG/01/Acquisition 18-rawTrigger1-5.csv', '/content/drive/MyDrive/EEG/01/Acquisition 18-rawTrigger1-4.csv', '/content/drive/MyDrive/EEG/01/Acquisition 18-rawTrigger1-9.csv', '/content/drive/MyDrive/EEG/01/Acquisition 18-rawTrigger1-6.csv', '/content/drive/MyDrive/EEG/01/Acquisition 18-rawTrigger1-7.csv', '/content/drive/MyDrive/EEG/01/Acquisition 18-rawTrigger1-8.csv', '/content/drive/MyDrive/EEG/01/Acquisition 18-rawTrigger1-10.csv', '/content/drive/MyDrive/EEG/01/Acquisition 22-rawTrigger1-2.csv', '/content/drive/MyDrive/EEG/01/Acquisition 22-rawTrigger1-1.csv', '/content/drive/MyDrive/EEG/01/Acquisition 22-rawTrigger1-4.csv', '/content/drive/MyDrive/EEG/01/Acquisition 22-rawTrigger1-5.csv', '/content/drive/MyDrive/EEG/01/Acquisition 22-rawTrigger1-3.csv', '/content/drive/MyDrive/EEG/01/Acquisition 22-rawTrigger1-6.csv', '/content/drive/MyDrive/EEG/01/Acquisition 22-rawTrigger1-7.csv', '/content/drive/MyDrive/EEG/01/Acquisition 22-rawTrigger1-9.csv', '/content/drive/MyDrive/EEG/01/Acquisition 22-rawTrigger1-10.csv', '/content/drive/MyDrive/EEG/01/Acquisition 22-rawTrigger1-8.csv', '/content/drive/MyDrive/EEG/01/Acquisition 23-rawTrigger1-3.csv', '/content/drive/MyDrive/EEG/01/Acquisition 23-rawTrigger1-1.csv', '/content/drive/MyDrive/EEG/01/Acquisition 23-rawTrigger1-4.csv', '/content/drive/MyDrive/EEG/01/Acquisition 23-rawTrigger1-2.csv', '/content/drive/MyDrive/EEG/01/Acquisition 23-rawTrigger1-7.csv', '/content/drive/MyDrive/EEG/01/Acquisition 23-rawTrigger1-6.csv', '/content/drive/MyDrive/EEG/01/Acquisition 23-rawTrigger1-8.csv', '/content/drive/MyDrive/EEG/01/Acquisition 23-rawTrigger1-5.csv', '/content/drive/MyDrive/EEG/01/Acquisition 23-rawTrigger1-9.csv', '/content/drive/MyDrive/EEG/01/Acquisition 23-rawTrigger1-10.csv', '/content/drive/MyDrive/EEG/01/Acquisition 26-rawTrigger1-4.csv', '/content/drive/MyDrive/EEG/01/Acquisition 26-rawTrigger1-1.csv', '/content/drive/MyDrive/EEG/01/Acquisition 26-rawTrigger1-2.csv', '/content/drive/MyDrive/EEG/01/Acquisition 26-rawTrigger1-3.csv', '/content/drive/MyDrive/EEG/01/Acquisition 26-rawTrigger1-5.csv', '/content/drive/MyDrive/EEG/01/Acquisition 26-rawTrigger1-7.csv', '/content/drive/MyDrive/EEG/01/Acquisition 26-rawTrigger1-6.csv', '/content/drive/MyDrive/EEG/01/Acquisition 26-rawTrigger1-8.csv', '/content/drive/MyDrive/EEG/01/Acquisition 26-rawTrigger1-10.csv', '/content/drive/MyDrive/EEG/01/Acquisition 26-rawTrigger1-9.csv', '/content/drive/MyDrive/EEG/01/Acquisition 30-rawTrigger1-2.csv', '/content/drive/MyDrive/EEG/01/Acquisition 30-rawTrigger1-1.csv', '/content/drive/MyDrive/EEG/01/Acquisition 30-rawTrigger1-4.csv', '/content/drive/MyDrive/EEG/01/Acquisition 30-rawTrigger1-3.csv', '/content/drive/MyDrive/EEG/01/Acquisition 30-rawTrigger1-5.csv', '/content/drive/MyDrive/EEG/01/Acquisition 30-rawTrigger1-7.csv', '/content/drive/MyDrive/EEG/01/Acquisition 30-rawTrigger1-6.csv', '/content/drive/MyDrive/EEG/01/Acquisition 30-rawTrigger1-8.csv', '/content/drive/MyDrive/EEG/01/Acquisition 30-rawTrigger1-10.csv', '/content/drive/MyDrive/EEG/01/Acquisition 30-rawTrigger1-9.csv', '/content/drive/MyDrive/EEG/01/Acquisition 32-rawTrigger1-1.csv', '/content/drive/MyDrive/EEG/01/Acquisition 32-rawTrigger1-5.csv', '/content/drive/MyDrive/EEG/01/Acquisition 32-rawTrigger1-2.csv', '/content/drive/MyDrive/EEG/01/Acquisition 32-rawTrigger1-3.csv', '/content/drive/MyDrive/EEG/01/Acquisition 32-rawTrigger1-4.csv', '/content/drive/MyDrive/EEG/01/Acquisition 32-rawTrigger1-6.csv', '/content/drive/MyDrive/EEG/01/Acquisition 32-rawTrigger1-7.csv', '/content/drive/MyDrive/EEG/01/Acquisition 32-rawTrigger1-8.csv', '/content/drive/MyDrive/EEG/01/Acquisition 32-rawTrigger1-9.csv', '/content/drive/MyDrive/EEG/01/Acquisition 32-rawTrigger1-10.csv', '/content/drive/MyDrive/EEG/01/Acquisition 33-rawTrigger1-1.csv', '/content/drive/MyDrive/EEG/01/Acquisition 33-rawTrigger1-3.csv', '/content/drive/MyDrive/EEG/01/Acquisition 33-rawTrigger1-2.csv', '/content/drive/MyDrive/EEG/01/Acquisition 33-rawTrigger1-5.csv', '/content/drive/MyDrive/EEG/01/Acquisition 33-rawTrigger1-4.csv', '/content/drive/MyDrive/EEG/01/Acquisition 33-rawTrigger1-6.csv', '/content/drive/MyDrive/EEG/01/Acquisition 33-rawTrigger1-7.csv', '/content/drive/MyDrive/EEG/01/Acquisition 33-rawTrigger1-10.csv', '/content/drive/MyDrive/EEG/01/Acquisition 33-rawTrigger1-8.csv', '/content/drive/MyDrive/EEG/01/Acquisition 33-rawTrigger1-9.csv', '/content/drive/MyDrive/EEG/01/Acquisition 37-rawTrigger1-1.csv', '/content/drive/MyDrive/EEG/01/Acquisition 37-rawTrigger1-2.csv', '/content/drive/MyDrive/EEG/01/Acquisition 37-rawTrigger1-3.csv', '/content/drive/MyDrive/EEG/01/Acquisition 37-rawTrigger1-7.csv', '/content/drive/MyDrive/EEG/01/Acquisition 37-rawTrigger1-6.csv', '/content/drive/MyDrive/EEG/01/Acquisition 37-rawTrigger1-5.csv', '/content/drive/MyDrive/EEG/01/Acquisition 37-rawTrigger1-4.csv', '/content/drive/MyDrive/EEG/01/Acquisition 37-rawTrigger1-9.csv', '/content/drive/MyDrive/EEG/01/Acquisition 37-rawTrigger1-8.csv', '/content/drive/MyDrive/EEG/01/Acquisition 37-rawTrigger1-10.csv']\n",
            "unuse channel [1, 4, 5, 30, 38, 0, 16, 21, 22, 27, 34, 36, 37, 39, 32, 26, 12, 18, 20, 33]\n",
            "294 ['/content/drive/MyDrive/EEG/08/Acquisition 09-rawTrigger8-1.csv', '/content/drive/MyDrive/EEG/08/Acquisition 09-rawTrigger8-2.csv', '/content/drive/MyDrive/EEG/08/Acquisition 09-rawTrigger8-4.csv', '/content/drive/MyDrive/EEG/08/Acquisition 09-rawTrigger8-5.csv', '/content/drive/MyDrive/EEG/08/Acquisition 09-rawTrigger8-3.csv', '/content/drive/MyDrive/EEG/08/Acquisition 09-rawTrigger8-6.csv', '/content/drive/MyDrive/EEG/08/Acquisition 09-rawTrigger8-8.csv', '/content/drive/MyDrive/EEG/08/Acquisition 09-rawTrigger8-10.csv', '/content/drive/MyDrive/EEG/08/Acquisition 09-rawTrigger8-7.csv', '/content/drive/MyDrive/EEG/08/Acquisition 09-rawTrigger8-9.csv', '/content/drive/MyDrive/EEG/08/Acquisition 09-rawTrigger8-12.csv', '/content/drive/MyDrive/EEG/08/Acquisition 09-rawTrigger8-14.csv', '/content/drive/MyDrive/EEG/08/Acquisition 09-rawTrigger8-13.csv', '/content/drive/MyDrive/EEG/08/Acquisition 09-rawTrigger8-11.csv', '/content/drive/MyDrive/EEG/08/Acquisition 10-rawTrigger8-1.csv', '/content/drive/MyDrive/EEG/08/Acquisition 10-rawTrigger8-2.csv', '/content/drive/MyDrive/EEG/08/Acquisition 10-rawTrigger8-4.csv', '/content/drive/MyDrive/EEG/08/Acquisition 10-rawTrigger8-5.csv', '/content/drive/MyDrive/EEG/08/Acquisition 10-rawTrigger8-7.csv', '/content/drive/MyDrive/EEG/08/Acquisition 10-rawTrigger8-6.csv', '/content/drive/MyDrive/EEG/08/Acquisition 10-rawTrigger8-3.csv', '/content/drive/MyDrive/EEG/08/Acquisition 10-rawTrigger8-10.csv', '/content/drive/MyDrive/EEG/08/Acquisition 10-rawTrigger8-11.csv', '/content/drive/MyDrive/EEG/08/Acquisition 10-rawTrigger8-9.csv', '/content/drive/MyDrive/EEG/08/Acquisition 10-rawTrigger8-8.csv', '/content/drive/MyDrive/EEG/08/Acquisition 10-rawTrigger8-12.csv', '/content/drive/MyDrive/EEG/08/Acquisition 11-rawTrigger8-1.csv', '/content/drive/MyDrive/EEG/08/Acquisition 11-rawTrigger8-5.csv', '/content/drive/MyDrive/EEG/08/Acquisition 11-rawTrigger8-6.csv', '/content/drive/MyDrive/EEG/08/Acquisition 11-rawTrigger8-2.csv', '/content/drive/MyDrive/EEG/08/Acquisition 11-rawTrigger8-3.csv', '/content/drive/MyDrive/EEG/08/Acquisition 11-rawTrigger8-4.csv', '/content/drive/MyDrive/EEG/08/Acquisition 11-rawTrigger8-10.csv', '/content/drive/MyDrive/EEG/08/Acquisition 11-rawTrigger8-7.csv', '/content/drive/MyDrive/EEG/08/Acquisition 11-rawTrigger8-9.csv', '/content/drive/MyDrive/EEG/08/Acquisition 11-rawTrigger8-8.csv', '/content/drive/MyDrive/EEG/08/Acquisition 11-rawTrigger8-14.csv', '/content/drive/MyDrive/EEG/08/Acquisition 11-rawTrigger8-12.csv', '/content/drive/MyDrive/EEG/08/Acquisition 11-rawTrigger8-13.csv', '/content/drive/MyDrive/EEG/08/Acquisition 11-rawTrigger8-11.csv', '/content/drive/MyDrive/EEG/08/Acquisition 12-rawTrigger8-4.csv', '/content/drive/MyDrive/EEG/08/Acquisition 12-rawTrigger8-3.csv', '/content/drive/MyDrive/EEG/08/Acquisition 12-rawTrigger8-1.csv', '/content/drive/MyDrive/EEG/08/Acquisition 12-rawTrigger8-2.csv', '/content/drive/MyDrive/EEG/08/Acquisition 12-rawTrigger8-6.csv', '/content/drive/MyDrive/EEG/08/Acquisition 12-rawTrigger8-8.csv', '/content/drive/MyDrive/EEG/08/Acquisition 12-rawTrigger8-5.csv', '/content/drive/MyDrive/EEG/08/Acquisition 12-rawTrigger8-7.csv', '/content/drive/MyDrive/EEG/08/Acquisition 12-rawTrigger8-10.csv', '/content/drive/MyDrive/EEG/08/Acquisition 12-rawTrigger8-11.csv', '/content/drive/MyDrive/EEG/08/Acquisition 12-rawTrigger8-9.csv', '/content/drive/MyDrive/EEG/08/Acquisition 12-rawTrigger8-12.csv', '/content/drive/MyDrive/EEG/08/Acquisition 13-rawTrigger8-2.csv', '/content/drive/MyDrive/EEG/08/Acquisition 13-rawTrigger8-3.csv', '/content/drive/MyDrive/EEG/08/Acquisition 13-rawTrigger8-4.csv', '/content/drive/MyDrive/EEG/08/Acquisition 13-rawTrigger8-1.csv', '/content/drive/MyDrive/EEG/08/Acquisition 13-rawTrigger8-7.csv', '/content/drive/MyDrive/EEG/08/Acquisition 13-rawTrigger8-5.csv', '/content/drive/MyDrive/EEG/08/Acquisition 13-rawTrigger8-8.csv', '/content/drive/MyDrive/EEG/08/Acquisition 13-rawTrigger8-6.csv', '/content/drive/MyDrive/EEG/08/Acquisition 13-rawTrigger8-12.csv', '/content/drive/MyDrive/EEG/08/Acquisition 13-rawTrigger8-9.csv', '/content/drive/MyDrive/EEG/08/Acquisition 13-rawTrigger8-11.csv', '/content/drive/MyDrive/EEG/08/Acquisition 13-rawTrigger8-13.csv', '/content/drive/MyDrive/EEG/08/Acquisition 13-rawTrigger8-10.csv', '/content/drive/MyDrive/EEG/08/Acquisition 13-rawTrigger8-16.csv', '/content/drive/MyDrive/EEG/08/Acquisition 13-rawTrigger8-15.csv', '/content/drive/MyDrive/EEG/08/Acquisition 13-rawTrigger8-14.csv', '/content/drive/MyDrive/EEG/08/Acquisition 14-rawTrigger8-2.csv', '/content/drive/MyDrive/EEG/08/Acquisition 14-rawTrigger8-1.csv', '/content/drive/MyDrive/EEG/08/Acquisition 14-rawTrigger8-3.csv', '/content/drive/MyDrive/EEG/08/Acquisition 14-rawTrigger8-5.csv', '/content/drive/MyDrive/EEG/08/Acquisition 14-rawTrigger8-8.csv', '/content/drive/MyDrive/EEG/08/Acquisition 14-rawTrigger8-7.csv', '/content/drive/MyDrive/EEG/08/Acquisition 14-rawTrigger8-4.csv', '/content/drive/MyDrive/EEG/08/Acquisition 14-rawTrigger8-6.csv', '/content/drive/MyDrive/EEG/08/Acquisition 14-rawTrigger8-12.csv', '/content/drive/MyDrive/EEG/08/Acquisition 14-rawTrigger8-9.csv', '/content/drive/MyDrive/EEG/08/Acquisition 14-rawTrigger8-10.csv', '/content/drive/MyDrive/EEG/08/Acquisition 14-rawTrigger8-11.csv', '/content/drive/MyDrive/EEG/08/Acquisition 14-rawTrigger8-14.csv', '/content/drive/MyDrive/EEG/08/Acquisition 14-rawTrigger8-16.csv', '/content/drive/MyDrive/EEG/08/Acquisition 14-rawTrigger8-15.csv', '/content/drive/MyDrive/EEG/08/Acquisition 14-rawTrigger8-13.csv', '/content/drive/MyDrive/EEG/08/Acquisition 14-rawTrigger8-17.csv', '/content/drive/MyDrive/EEG/08/Acquisition 14-rawTrigger8-19.csv', '/content/drive/MyDrive/EEG/08/Acquisition 14-rawTrigger8-18.csv', '/content/drive/MyDrive/EEG/08/Acquisition 15-rawTrigger8-1.csv', '/content/drive/MyDrive/EEG/08/Acquisition 15-rawTrigger8-4.csv', '/content/drive/MyDrive/EEG/08/Acquisition 15-rawTrigger8-5.csv', '/content/drive/MyDrive/EEG/08/Acquisition 15-rawTrigger8-3.csv', '/content/drive/MyDrive/EEG/08/Acquisition 15-rawTrigger8-2.csv', '/content/drive/MyDrive/EEG/08/Acquisition 15-rawTrigger8-6.csv', '/content/drive/MyDrive/EEG/08/Acquisition 15-rawTrigger8-8.csv', '/content/drive/MyDrive/EEG/08/Acquisition 15-rawTrigger8-9.csv', '/content/drive/MyDrive/EEG/08/Acquisition 15-rawTrigger8-7.csv', '/content/drive/MyDrive/EEG/08/Acquisition 15-rawTrigger8-12.csv', '/content/drive/MyDrive/EEG/08/Acquisition 15-rawTrigger8-11.csv', '/content/drive/MyDrive/EEG/08/Acquisition 15-rawTrigger8-10.csv', '/content/drive/MyDrive/EEG/08/Acquisition 15-rawTrigger8-13.csv', '/content/drive/MyDrive/EEG/08/Acquisition 15-rawTrigger8-14.csv', '/content/drive/MyDrive/EEG/08/Acquisition 15-rawTrigger8-17.csv', '/content/drive/MyDrive/EEG/08/Acquisition 15-rawTrigger8-15.csv', '/content/drive/MyDrive/EEG/08/Acquisition 15-rawTrigger8-16.csv', '/content/drive/MyDrive/EEG/08/Acquisition 15-rawTrigger8-20.csv', '/content/drive/MyDrive/EEG/08/Acquisition 15-rawTrigger8-18.csv', '/content/drive/MyDrive/EEG/08/Acquisition 15-rawTrigger8-19.csv', '/content/drive/MyDrive/EEG/08/Acquisition 16-rawTrigger8-4.csv', '/content/drive/MyDrive/EEG/08/Acquisition 16-rawTrigger8-3.csv', '/content/drive/MyDrive/EEG/08/Acquisition 16-rawTrigger8-2.csv', '/content/drive/MyDrive/EEG/08/Acquisition 16-rawTrigger8-5.csv', '/content/drive/MyDrive/EEG/08/Acquisition 16-rawTrigger8-1.csv', '/content/drive/MyDrive/EEG/08/Acquisition 16-rawTrigger8-10.csv', '/content/drive/MyDrive/EEG/08/Acquisition 16-rawTrigger8-9.csv', '/content/drive/MyDrive/EEG/08/Acquisition 16-rawTrigger8-6.csv', '/content/drive/MyDrive/EEG/08/Acquisition 16-rawTrigger8-7.csv', '/content/drive/MyDrive/EEG/08/Acquisition 16-rawTrigger8-8.csv', '/content/drive/MyDrive/EEG/08/Acquisition 16-rawTrigger8-12.csv', '/content/drive/MyDrive/EEG/08/Acquisition 16-rawTrigger8-14.csv', '/content/drive/MyDrive/EEG/08/Acquisition 16-rawTrigger8-11.csv', '/content/drive/MyDrive/EEG/08/Acquisition 16-rawTrigger8-13.csv', '/content/drive/MyDrive/EEG/08/Acquisition 16-rawTrigger8-17.csv', '/content/drive/MyDrive/EEG/08/Acquisition 16-rawTrigger8-16.csv', '/content/drive/MyDrive/EEG/08/Acquisition 16-rawTrigger8-15.csv', '/content/drive/MyDrive/EEG/08/Acquisition 16-rawTrigger8-18.csv', '/content/drive/MyDrive/EEG/08/Acquisition 16-rawTrigger8-20.csv', '/content/drive/MyDrive/EEG/08/Acquisition 16-rawTrigger8-19.csv', '/content/drive/MyDrive/EEG/08/Acquisition 17-rawTrigger8-2.csv', '/content/drive/MyDrive/EEG/08/Acquisition 17-rawTrigger8-1.csv', '/content/drive/MyDrive/EEG/08/Acquisition 17-rawTrigger8-5.csv', '/content/drive/MyDrive/EEG/08/Acquisition 17-rawTrigger8-4.csv', '/content/drive/MyDrive/EEG/08/Acquisition 17-rawTrigger8-6.csv', '/content/drive/MyDrive/EEG/08/Acquisition 17-rawTrigger8-3.csv', '/content/drive/MyDrive/EEG/08/Acquisition 17-rawTrigger8-10.csv', '/content/drive/MyDrive/EEG/08/Acquisition 17-rawTrigger8-11.csv', '/content/drive/MyDrive/EEG/08/Acquisition 17-rawTrigger8-9.csv', '/content/drive/MyDrive/EEG/08/Acquisition 17-rawTrigger8-7.csv', '/content/drive/MyDrive/EEG/08/Acquisition 17-rawTrigger8-8.csv', '/content/drive/MyDrive/EEG/08/Acquisition 17-rawTrigger8-15.csv', '/content/drive/MyDrive/EEG/08/Acquisition 17-rawTrigger8-13.csv', '/content/drive/MyDrive/EEG/08/Acquisition 17-rawTrigger8-12.csv', '/content/drive/MyDrive/EEG/08/Acquisition 17-rawTrigger8-14.csv', '/content/drive/MyDrive/EEG/08/Acquisition 17-rawTrigger8-16.csv', '/content/drive/MyDrive/EEG/08/Acquisition 17-rawTrigger8-17.csv', '/content/drive/MyDrive/EEG/08/Acquisition 17-rawTrigger8-19.csv', '/content/drive/MyDrive/EEG/08/Acquisition 17-rawTrigger8-18.csv', '/content/drive/MyDrive/EEG/08/Acquisition 17-rawTrigger8-24.csv', '/content/drive/MyDrive/EEG/08/Acquisition 17-rawTrigger8-20.csv', '/content/drive/MyDrive/EEG/08/Acquisition 17-rawTrigger8-23.csv', '/content/drive/MyDrive/EEG/08/Acquisition 17-rawTrigger8-21.csv', '/content/drive/MyDrive/EEG/08/Acquisition 17-rawTrigger8-22.csv', '/content/drive/MyDrive/EEG/08/Acquisition 17-rawTrigger8-27.csv', '/content/drive/MyDrive/EEG/08/Acquisition 17-rawTrigger8-25.csv', '/content/drive/MyDrive/EEG/08/Acquisition 17-rawTrigger8-26.csv', '/content/drive/MyDrive/EEG/08/Acquisition 18-rawTrigger8-3.csv', '/content/drive/MyDrive/EEG/08/Acquisition 18-rawTrigger8-2.csv', '/content/drive/MyDrive/EEG/08/Acquisition 18-rawTrigger8-1.csv', '/content/drive/MyDrive/EEG/08/Acquisition 18-rawTrigger8-4.csv', '/content/drive/MyDrive/EEG/08/Acquisition 18-rawTrigger8-6.csv', '/content/drive/MyDrive/EEG/08/Acquisition 18-rawTrigger8-7.csv', '/content/drive/MyDrive/EEG/08/Acquisition 18-rawTrigger8-5.csv', '/content/drive/MyDrive/EEG/08/Acquisition 18-rawTrigger8-8.csv', '/content/drive/MyDrive/EEG/08/Acquisition 18-rawTrigger8-11.csv', '/content/drive/MyDrive/EEG/08/Acquisition 18-rawTrigger8-9.csv', '/content/drive/MyDrive/EEG/08/Acquisition 18-rawTrigger8-10.csv', '/content/drive/MyDrive/EEG/08/Acquisition 18-rawTrigger8-12.csv', '/content/drive/MyDrive/EEG/08/Acquisition 18-rawTrigger8-15.csv', '/content/drive/MyDrive/EEG/08/Acquisition 18-rawTrigger8-13.csv', '/content/drive/MyDrive/EEG/08/Acquisition 18-rawTrigger8-16.csv', '/content/drive/MyDrive/EEG/08/Acquisition 18-rawTrigger8-14.csv', '/content/drive/MyDrive/EEG/08/Acquisition 18-rawTrigger8-17.csv', '/content/drive/MyDrive/EEG/08/Acquisition 18-rawTrigger8-19.csv', '/content/drive/MyDrive/EEG/08/Acquisition 18-rawTrigger8-18.csv', '/content/drive/MyDrive/EEG/08/Acquisition 22-rawTrigger8-1.csv', '/content/drive/MyDrive/EEG/08/Acquisition 22-rawTrigger8-3.csv', '/content/drive/MyDrive/EEG/08/Acquisition 22-rawTrigger8-2.csv', '/content/drive/MyDrive/EEG/08/Acquisition 23-rawTrigger8-1.csv', '/content/drive/MyDrive/EEG/08/Acquisition 23-rawTrigger8-2.csv', '/content/drive/MyDrive/EEG/08/Acquisition 23-rawTrigger8-3.csv', '/content/drive/MyDrive/EEG/08/Acquisition 23-rawTrigger8-4.csv', '/content/drive/MyDrive/EEG/08/Acquisition 23-rawTrigger8-5.csv', '/content/drive/MyDrive/EEG/08/Acquisition 23-rawTrigger8-6.csv', '/content/drive/MyDrive/EEG/08/Acquisition 23-rawTrigger8-7.csv', '/content/drive/MyDrive/EEG/08/Acquisition 23-rawTrigger8-8.csv', '/content/drive/MyDrive/EEG/08/Acquisition 23-rawTrigger8-9.csv', '/content/drive/MyDrive/EEG/08/Acquisition 23-rawTrigger8-10.csv', '/content/drive/MyDrive/EEG/08/Acquisition 23-rawTrigger8-12.csv', '/content/drive/MyDrive/EEG/08/Acquisition 23-rawTrigger8-13.csv', '/content/drive/MyDrive/EEG/08/Acquisition 23-rawTrigger8-11.csv', '/content/drive/MyDrive/EEG/08/Acquisition 23-rawTrigger8-14.csv', '/content/drive/MyDrive/EEG/08/Acquisition 23-rawTrigger8-18.csv', '/content/drive/MyDrive/EEG/08/Acquisition 23-rawTrigger8-15.csv', '/content/drive/MyDrive/EEG/08/Acquisition 23-rawTrigger8-17.csv', '/content/drive/MyDrive/EEG/08/Acquisition 23-rawTrigger8-16.csv', '/content/drive/MyDrive/EEG/08/Acquisition 23-rawTrigger8-19.csv', '/content/drive/MyDrive/EEG/08/Acquisition 26-rawTrigger8-1.csv', '/content/drive/MyDrive/EEG/08/Acquisition 26-rawTrigger8-4.csv', '/content/drive/MyDrive/EEG/08/Acquisition 26-rawTrigger8-3.csv', '/content/drive/MyDrive/EEG/08/Acquisition 26-rawTrigger8-2.csv', '/content/drive/MyDrive/EEG/08/Acquisition 26-rawTrigger8-8.csv', '/content/drive/MyDrive/EEG/08/Acquisition 26-rawTrigger8-7.csv', '/content/drive/MyDrive/EEG/08/Acquisition 26-rawTrigger8-5.csv', '/content/drive/MyDrive/EEG/08/Acquisition 26-rawTrigger8-6.csv', '/content/drive/MyDrive/EEG/08/Acquisition 26-rawTrigger8-11.csv', '/content/drive/MyDrive/EEG/08/Acquisition 26-rawTrigger8-10.csv', '/content/drive/MyDrive/EEG/08/Acquisition 26-rawTrigger8-9.csv', '/content/drive/MyDrive/EEG/08/Acquisition 26-rawTrigger8-12.csv', '/content/drive/MyDrive/EEG/08/Acquisition 26-rawTrigger8-13.csv', '/content/drive/MyDrive/EEG/08/Acquisition 26-rawTrigger8-15.csv', '/content/drive/MyDrive/EEG/08/Acquisition 26-rawTrigger8-14.csv', '/content/drive/MyDrive/EEG/08/Acquisition 26-rawTrigger8-16.csv', '/content/drive/MyDrive/EEG/08/Acquisition 26-rawTrigger8-18.csv', '/content/drive/MyDrive/EEG/08/Acquisition 26-rawTrigger8-17.csv', '/content/drive/MyDrive/EEG/08/Acquisition 26-rawTrigger8-19.csv', '/content/drive/MyDrive/EEG/08/Acquisition 26-rawTrigger8-20.csv', '/content/drive/MyDrive/EEG/08/Acquisition 31-rawTrigger8-1.csv', '/content/drive/MyDrive/EEG/08/Acquisition 31-rawTrigger8-2.csv', '/content/drive/MyDrive/EEG/08/Acquisition 31-rawTrigger8-3.csv', '/content/drive/MyDrive/EEG/08/Acquisition 31-rawTrigger8-5.csv', '/content/drive/MyDrive/EEG/08/Acquisition 31-rawTrigger8-6.csv', '/content/drive/MyDrive/EEG/08/Acquisition 31-rawTrigger8-4.csv', '/content/drive/MyDrive/EEG/08/Acquisition 31-rawTrigger8-8.csv', '/content/drive/MyDrive/EEG/08/Acquisition 31-rawTrigger8-7.csv', '/content/drive/MyDrive/EEG/08/Acquisition 31-rawTrigger8-9.csv', '/content/drive/MyDrive/EEG/08/Acquisition 31-rawTrigger8-11.csv', '/content/drive/MyDrive/EEG/08/Acquisition 31-rawTrigger8-12.csv', '/content/drive/MyDrive/EEG/08/Acquisition 31-rawTrigger8-13.csv', '/content/drive/MyDrive/EEG/08/Acquisition 31-rawTrigger8-10.csv', '/content/drive/MyDrive/EEG/08/Acquisition 31-rawTrigger8-16.csv', '/content/drive/MyDrive/EEG/08/Acquisition 31-rawTrigger8-15.csv', '/content/drive/MyDrive/EEG/08/Acquisition 31-rawTrigger8-17.csv', '/content/drive/MyDrive/EEG/08/Acquisition 31-rawTrigger8-14.csv', '/content/drive/MyDrive/EEG/08/Acquisition 31-rawTrigger8-19.csv', '/content/drive/MyDrive/EEG/08/Acquisition 31-rawTrigger8-20.csv', '/content/drive/MyDrive/EEG/08/Acquisition 31-rawTrigger8-18.csv', '/content/drive/MyDrive/EEG/08/Acquisition 32-rawTrigger8-1.csv', '/content/drive/MyDrive/EEG/08/Acquisition 32-rawTrigger8-2.csv', '/content/drive/MyDrive/EEG/08/Acquisition 32-rawTrigger8-3.csv', '/content/drive/MyDrive/EEG/08/Acquisition 32-rawTrigger8-5.csv', '/content/drive/MyDrive/EEG/08/Acquisition 32-rawTrigger8-4.csv', '/content/drive/MyDrive/EEG/08/Acquisition 32-rawTrigger8-7.csv', '/content/drive/MyDrive/EEG/08/Acquisition 32-rawTrigger8-6.csv', '/content/drive/MyDrive/EEG/08/Acquisition 32-rawTrigger8-8.csv', '/content/drive/MyDrive/EEG/08/Acquisition 32-rawTrigger8-11.csv', '/content/drive/MyDrive/EEG/08/Acquisition 32-rawTrigger8-10.csv', '/content/drive/MyDrive/EEG/08/Acquisition 32-rawTrigger8-9.csv', '/content/drive/MyDrive/EEG/08/Acquisition 32-rawTrigger8-14.csv', '/content/drive/MyDrive/EEG/08/Acquisition 32-rawTrigger8-13.csv', '/content/drive/MyDrive/EEG/08/Acquisition 32-rawTrigger8-12.csv', '/content/drive/MyDrive/EEG/08/Acquisition 32-rawTrigger8-17.csv', '/content/drive/MyDrive/EEG/08/Acquisition 32-rawTrigger8-16.csv', '/content/drive/MyDrive/EEG/08/Acquisition 32-rawTrigger8-18.csv', '/content/drive/MyDrive/EEG/08/Acquisition 32-rawTrigger8-15.csv', '/content/drive/MyDrive/EEG/08/Acquisition 32-rawTrigger8-20.csv', '/content/drive/MyDrive/EEG/08/Acquisition 32-rawTrigger8-19.csv', '/content/drive/MyDrive/EEG/08/Acquisition 33-rawTrigger8-1.csv', '/content/drive/MyDrive/EEG/08/Acquisition 33-rawTrigger8-2.csv', '/content/drive/MyDrive/EEG/08/Acquisition 33-rawTrigger8-4.csv', '/content/drive/MyDrive/EEG/08/Acquisition 33-rawTrigger8-3.csv', '/content/drive/MyDrive/EEG/08/Acquisition 33-rawTrigger8-6.csv', '/content/drive/MyDrive/EEG/08/Acquisition 33-rawTrigger8-8.csv', '/content/drive/MyDrive/EEG/08/Acquisition 33-rawTrigger8-5.csv', '/content/drive/MyDrive/EEG/08/Acquisition 33-rawTrigger8-7.csv', '/content/drive/MyDrive/EEG/08/Acquisition 33-rawTrigger8-9.csv', '/content/drive/MyDrive/EEG/08/Acquisition 33-rawTrigger8-10.csv', '/content/drive/MyDrive/EEG/08/Acquisition 33-rawTrigger8-11.csv', '/content/drive/MyDrive/EEG/08/Acquisition 33-rawTrigger8-15.csv', '/content/drive/MyDrive/EEG/08/Acquisition 33-rawTrigger8-14.csv', '/content/drive/MyDrive/EEG/08/Acquisition 33-rawTrigger8-12.csv', '/content/drive/MyDrive/EEG/08/Acquisition 33-rawTrigger8-13.csv', '/content/drive/MyDrive/EEG/08/Acquisition 33-rawTrigger8-18.csv', '/content/drive/MyDrive/EEG/08/Acquisition 33-rawTrigger8-16.csv', '/content/drive/MyDrive/EEG/08/Acquisition 33-rawTrigger8-17.csv', '/content/drive/MyDrive/EEG/08/Acquisition 33-rawTrigger8-20.csv', '/content/drive/MyDrive/EEG/08/Acquisition 33-rawTrigger8-19.csv', '/content/drive/MyDrive/EEG/08/Acquisition 37-rawTrigger8-1.csv', '/content/drive/MyDrive/EEG/08/Acquisition 37-rawTrigger8-2.csv', '/content/drive/MyDrive/EEG/08/Acquisition 37-rawTrigger8-4.csv', '/content/drive/MyDrive/EEG/08/Acquisition 37-rawTrigger8-6.csv', '/content/drive/MyDrive/EEG/08/Acquisition 37-rawTrigger8-5.csv', '/content/drive/MyDrive/EEG/08/Acquisition 37-rawTrigger8-3.csv', '/content/drive/MyDrive/EEG/08/Acquisition 37-rawTrigger8-7.csv', '/content/drive/MyDrive/EEG/08/Acquisition 37-rawTrigger8-9.csv', '/content/drive/MyDrive/EEG/08/Acquisition 37-rawTrigger8-10.csv', '/content/drive/MyDrive/EEG/08/Acquisition 37-rawTrigger8-8.csv', '/content/drive/MyDrive/EEG/08/Acquisition 37-rawTrigger8-14.csv', '/content/drive/MyDrive/EEG/08/Acquisition 37-rawTrigger8-12.csv', '/content/drive/MyDrive/EEG/08/Acquisition 37-rawTrigger8-11.csv', '/content/drive/MyDrive/EEG/08/Acquisition 37-rawTrigger8-13.csv', '/content/drive/MyDrive/EEG/08/Acquisition 37-rawTrigger8-15.csv', '/content/drive/MyDrive/EEG/08/Acquisition 37-rawTrigger8-18.csv', '/content/drive/MyDrive/EEG/08/Acquisition 37-rawTrigger8-17.csv', '/content/drive/MyDrive/EEG/08/Acquisition 37-rawTrigger8-16.csv', '/content/drive/MyDrive/EEG/08/Acquisition 37-rawTrigger8-19.csv']\n",
            "unuse channel [0, 1, 4, 5, 30, 38, 16, 21, 22, 27, 34, 36, 37, 23, 39, 32, 12, 18, 20, 33]\n",
            "(170, 24, 8000)\n",
            "(294, 24, 8000)\n"
          ]
        }
      ]
    },
    {
      "cell_type": "code",
      "source": [
        "# patients\n",
        "# train\n",
        "# (170, 24, 8000)\n",
        "# (294, 24, 8000)\n",
        "x_train_a = resting_list2[:100]\n",
        "# .reshape((300,160,24))\n",
        "x_train_a  = np.array(x_train_a)\n",
        "x_train_a.shape\n",
        "\n",
        "x_train_b = music_list2[:200]\n",
        "# .reshape((300,160,24))\n",
        "x_train_b = np.array(x_train_b)\n",
        "x_train = np.vstack((x_train_a,x_train_b))\n",
        "x_train.shape\n",
        "\n",
        "x_train /= 200\n",
        "x_train = x_train.astype(\"float32\")\n",
        "\n",
        "# test\n",
        "x_test_a = resting_list2[100:]\n",
        "# .reshape((150,160,24))\n",
        "x_test_a  = np.array(x_test_a)\n",
        "x_test_a.shape\n",
        "print(len(x_test_a))\n",
        "\n",
        "x_test_b = music_list2[200:]\n",
        "# .reshape((150,160,24))\n",
        "x_test_b = np.array(x_test_b)\n",
        "x_test = np.vstack((x_test_a,x_test_b))\n",
        "x_test.shape\n",
        "\n",
        "x_test /= 200\n",
        "x_test = x_test.astype(\"float32\")\n",
        "print(len(x_test))\n",
        "# labels\n",
        "y_train = np.append(np.zeros(len(x_train_a),dtype=int), np.ones(len(x_train_b),dtype=int))\n",
        "y_train.shape\n",
        "\n",
        "y_train = np_utils.to_categorical(y_train,2)\n",
        "y_train = y_train.astype(\"float32\")\n",
        "y_train\n",
        "\n",
        "y_test = np.append(np.zeros(len(x_test_a),dtype=int), np.ones(len(x_test_b),dtype=int))\n",
        "y_test.shape\n",
        "\n",
        "\n",
        "y_test = np_utils.to_categorical(y_test,2)\n",
        "y_test = y_test.astype(\"float32\")"
      ],
      "metadata": {
        "colab": {
          "base_uri": "https://localhost:8080/"
        },
        "id": "O8yoENwxHH4r",
        "outputId": "e1ea21b2-692f-4ed1-f81d-c1cad100055b"
      },
      "execution_count": null,
      "outputs": [
        {
          "output_type": "stream",
          "name": "stdout",
          "text": [
            "70\n",
            "164\n"
          ]
        }
      ]
    },
    {
      "cell_type": "code",
      "source": [
        "x_train = x_train.transpose(0,2,1)\n",
        "x_test = x_test.transpose(0,2,1)\n",
        "print(x_train.shape)\n",
        "print(x_test.shape)"
      ],
      "metadata": {
        "colab": {
          "base_uri": "https://localhost:8080/"
        },
        "id": "dDIubMt-Lerd",
        "outputId": "486c905c-1bcf-44e3-d92f-a56facf1502e"
      },
      "execution_count": null,
      "outputs": [
        {
          "output_type": "stream",
          "name": "stdout",
          "text": [
            "(300, 8000, 24)\n",
            "(164, 8000, 24)\n"
          ]
        }
      ]
    },
    {
      "cell_type": "code",
      "source": [
        "from tensorflow.python.ops.gen_array_ops import Transpose\n",
        "def residual_block(layer_input, filters):\n",
        "  \"\"\"Residual block described in paper\"\"\"\n",
        "  d = Conv2D(filters, 3, activation='relu', padding='same')(layer_input)\n",
        "  d = BatchNormalization(momentum=0.8)(d)\n",
        "  d = Conv2D(filters, 3, activation='relu', padding='same')(d)\n",
        "  d = BatchNormalization(momentum=0.8)(d)\n",
        "  d = Add()([d, layer_input])\n",
        "  return d\n",
        "\n",
        "\n",
        "\n",
        "\n",
        "# cnn\n",
        "# (192, 24, 8000) -> transpose 192 8000 24 -> reshape 192,20,400,24 \n",
        "# 192,8000,2\n",
        "# 变成(192,20,400,24)\n",
        "inputs = Input(shape=(8000, 24))\n",
        "c = Reshape((200,40,24))(inputs)\n",
        "conv1 = Conv2D(64, 3, activation='relu', padding='same')(c)\n",
        "conv2 = Conv2D(64, 3, activation='relu', padding='same')(conv1)\n",
        "c2 = residual_block(conv2, 64)\n",
        "#pool1 = MaxPooling2D(pool_size=(2, 2))(conv2)\n",
        "c2 = residual_block(c2, 64)\n",
        "conv3 = Conv2D(32, 3, activation='relu', padding='same')(c2)\n",
        "conv3 = Conv2D(32, 3, activation='relu', padding='same')(conv3)\n",
        "D1 = Flatten()(conv3)\n",
        "D1 = Dense(128,activation='relu')(D1) #relu\n",
        "D1 = Dense(32)(D1) \n",
        "Out = Dense(2, activation='softmax')(D1)\n",
        "\n",
        "model = Model(inputs, Out)\n",
        "model.summary()\n",
        "\n",
        "opt = optimizers.Adam(learning_rate=0.0001, decay=1e-6) #0.002， 0.0005\n",
        "model.compile(loss='categorical_crossentropy',\n",
        "              optimizer=opt,\n",
        "              metrics=['accuracy'])"
      ],
      "metadata": {
        "id": "Ji12TAEEXDsa",
        "colab": {
          "base_uri": "https://localhost:8080/"
        },
        "outputId": "b62727d6-81ed-4925-86ad-365cbf8baff9"
      },
      "execution_count": null,
      "outputs": [
        {
          "output_type": "stream",
          "name": "stdout",
          "text": [
            "Model: \"model_19\"\n",
            "__________________________________________________________________________________________________\n",
            " Layer (type)                   Output Shape         Param #     Connected to                     \n",
            "==================================================================================================\n",
            " input_20 (InputLayer)          [(None, 8000, 24)]   0           []                               \n",
            "                                                                                                  \n",
            " reshape_19 (Reshape)           (None, 200, 40, 24)  0           ['input_20[0][0]']               \n",
            "                                                                                                  \n",
            " conv2d_152 (Conv2D)            (None, 200, 40, 64)  13888       ['reshape_19[0][0]']             \n",
            "                                                                                                  \n",
            " conv2d_153 (Conv2D)            (None, 200, 40, 64)  36928       ['conv2d_152[0][0]']             \n",
            "                                                                                                  \n",
            " conv2d_154 (Conv2D)            (None, 200, 40, 64)  36928       ['conv2d_153[0][0]']             \n",
            "                                                                                                  \n",
            " batch_normalization_76 (BatchN  (None, 200, 40, 64)  256        ['conv2d_154[0][0]']             \n",
            " ormalization)                                                                                    \n",
            "                                                                                                  \n",
            " conv2d_155 (Conv2D)            (None, 200, 40, 64)  36928       ['batch_normalization_76[0][0]'] \n",
            "                                                                                                  \n",
            " batch_normalization_77 (BatchN  (None, 200, 40, 64)  256        ['conv2d_155[0][0]']             \n",
            " ormalization)                                                                                    \n",
            "                                                                                                  \n",
            " add_38 (Add)                   (None, 200, 40, 64)  0           ['batch_normalization_77[0][0]', \n",
            "                                                                  'conv2d_153[0][0]']             \n",
            "                                                                                                  \n",
            " conv2d_156 (Conv2D)            (None, 200, 40, 64)  36928       ['add_38[0][0]']                 \n",
            "                                                                                                  \n",
            " batch_normalization_78 (BatchN  (None, 200, 40, 64)  256        ['conv2d_156[0][0]']             \n",
            " ormalization)                                                                                    \n",
            "                                                                                                  \n",
            " conv2d_157 (Conv2D)            (None, 200, 40, 64)  36928       ['batch_normalization_78[0][0]'] \n",
            "                                                                                                  \n",
            " batch_normalization_79 (BatchN  (None, 200, 40, 64)  256        ['conv2d_157[0][0]']             \n",
            " ormalization)                                                                                    \n",
            "                                                                                                  \n",
            " add_39 (Add)                   (None, 200, 40, 64)  0           ['batch_normalization_79[0][0]', \n",
            "                                                                  'add_38[0][0]']                 \n",
            "                                                                                                  \n",
            " conv2d_158 (Conv2D)            (None, 200, 40, 32)  18464       ['add_39[0][0]']                 \n",
            "                                                                                                  \n",
            " conv2d_159 (Conv2D)            (None, 200, 40, 32)  9248        ['conv2d_158[0][0]']             \n",
            "                                                                                                  \n",
            " flatten_19 (Flatten)           (None, 256000)       0           ['conv2d_159[0][0]']             \n",
            "                                                                                                  \n",
            " dense_57 (Dense)               (None, 128)          32768128    ['flatten_19[0][0]']             \n",
            "                                                                                                  \n",
            " dense_58 (Dense)               (None, 32)           4128        ['dense_57[0][0]']               \n",
            "                                                                                                  \n",
            " dense_59 (Dense)               (None, 2)            66          ['dense_58[0][0]']               \n",
            "                                                                                                  \n",
            "==================================================================================================\n",
            "Total params: 32,999,586\n",
            "Trainable params: 32,999,074\n",
            "Non-trainable params: 512\n",
            "__________________________________________________________________________________________________\n"
          ]
        }
      ]
    },
    {
      "cell_type": "code",
      "source": [
        "history = model.fit(x_train,y_train,epochs=15,batch_size=3)"
      ],
      "metadata": {
        "colab": {
          "base_uri": "https://localhost:8080/"
        },
        "id": "UF0cjvcZFs57",
        "outputId": "573520e5-bcf8-416c-c815-430fd79585de"
      },
      "execution_count": null,
      "outputs": [
        {
          "output_type": "stream",
          "name": "stdout",
          "text": [
            "Epoch 1/15\n",
            "100/100 [==============================] - 3s 20ms/step - loss: 41.9009 - accuracy: 0.6500\n",
            "Epoch 2/15\n",
            "100/100 [==============================] - 2s 20ms/step - loss: 5.7568 - accuracy: 0.8033\n",
            "Epoch 3/15\n",
            "100/100 [==============================] - 2s 20ms/step - loss: 2.0650 - accuracy: 0.8667\n",
            "Epoch 4/15\n",
            "100/100 [==============================] - 2s 20ms/step - loss: 2.1820 - accuracy: 0.8700\n",
            "Epoch 5/15\n",
            "100/100 [==============================] - 2s 20ms/step - loss: 6.5340 - accuracy: 0.7800\n",
            "Epoch 6/15\n",
            "100/100 [==============================] - 2s 20ms/step - loss: 1.2491 - accuracy: 0.8733\n",
            "Epoch 7/15\n",
            "100/100 [==============================] - 2s 20ms/step - loss: 0.3010 - accuracy: 0.9267\n",
            "Epoch 8/15\n",
            "100/100 [==============================] - 2s 20ms/step - loss: 0.2383 - accuracy: 0.9200\n",
            "Epoch 9/15\n",
            "100/100 [==============================] - 2s 20ms/step - loss: 0.3455 - accuracy: 0.9333\n",
            "Epoch 10/15\n",
            "100/100 [==============================] - 2s 20ms/step - loss: 0.3914 - accuracy: 0.9033\n",
            "Epoch 11/15\n",
            "100/100 [==============================] - 2s 20ms/step - loss: 0.2181 - accuracy: 0.9333\n",
            "Epoch 12/15\n",
            "100/100 [==============================] - 2s 20ms/step - loss: 0.0783 - accuracy: 0.9767\n",
            "Epoch 13/15\n",
            "100/100 [==============================] - 2s 20ms/step - loss: 0.1169 - accuracy: 0.9700\n",
            "Epoch 14/15\n",
            "100/100 [==============================] - 2s 20ms/step - loss: 0.1611 - accuracy: 0.9567\n",
            "Epoch 15/15\n",
            "100/100 [==============================] - 2s 20ms/step - loss: 0.2838 - accuracy: 0.9267\n"
          ]
        }
      ]
    },
    {
      "cell_type": "code",
      "source": [
        "model.save(\"failModel.h5\")"
      ],
      "metadata": {
        "id": "PLwee3gJawJR"
      },
      "execution_count": null,
      "outputs": []
    },
    {
      "cell_type": "code",
      "source": [
        "from sklearn.metrics import f1_score\n",
        "y_pred = model.predict(x_test)"
      ],
      "metadata": {
        "colab": {
          "base_uri": "https://localhost:8080/"
        },
        "id": "nbUqVCn36io5",
        "outputId": "c3478022-17ad-4052-81f0-b565ecf83211"
      },
      "execution_count": null,
      "outputs": [
        {
          "output_type": "stream",
          "name": "stdout",
          "text": [
            "6/6 [==============================] - 1s 81ms/step\n"
          ]
        }
      ]
    },
    {
      "cell_type": "code",
      "source": [
        "ls=[\"Acquisition 09\",\"Acquisition 19\",\"Acquisition 29\"]\n",
        "for file in ls:\n",
        "  if \"Acquisition 09\" in file or \"Acquisition 19\" in file:\n",
        "    continue\n",
        "  print(file) "
      ],
      "metadata": {
        "colab": {
          "base_uri": "https://localhost:8080/"
        },
        "id": "pXOBPJWk26E9",
        "outputId": "b68bd5e9-0f42-407a-e408-04673a42c83a"
      },
      "execution_count": null,
      "outputs": [
        {
          "output_type": "stream",
          "name": "stdout",
          "text": [
            "Acquisition 29\n"
          ]
        }
      ]
    },
    {
      "cell_type": "code",
      "source": [
        "from sklearn.metrics import roc_curve"
      ],
      "metadata": {
        "id": "q6oBUFKxBkgD"
      },
      "execution_count": null,
      "outputs": []
    },
    {
      "cell_type": "code",
      "source": [
        "roc_curve()"
      ],
      "metadata": {
        "id": "QH-9BISZBitB"
      },
      "execution_count": null,
      "outputs": []
    },
    {
      "cell_type": "code",
      "source": [
        "pred = np.int64(y_pred>0.5)\n",
        "y_label = []\n",
        "for v in y_test:\n",
        "  y_label.append(v[0])\n",
        "y_label=np.array(y_label,dtype=int)\n",
        "\n",
        "pred_label = []\n",
        "for v in pred:\n",
        "  pred_label.append(v[0])\n",
        "pred_label=np.array(pred_label,dtype=int)\n",
        "pred_label"
      ],
      "metadata": {
        "colab": {
          "base_uri": "https://localhost:8080/"
        },
        "id": "zsiyAU5x9Bwy",
        "outputId": "b6d7c9b6-2141-4943-bacc-909e0bf4700d"
      },
      "execution_count": null,
      "outputs": [
        {
          "output_type": "execute_result",
          "data": {
            "text/plain": [
              "array([0, 0, 0, 0, 0, 0, 0, 0, 0, 0, 0, 0, 0, 0, 0, 0, 0, 0, 0, 0, 0, 0,\n",
              "       0, 0, 0, 0, 0, 0, 0, 0, 0, 0, 0, 0, 0, 0, 0, 0, 0, 0, 0, 0, 0, 0,\n",
              "       0, 0, 0, 0, 0, 0, 0, 0, 0, 0, 0, 0, 0, 0, 0, 0, 0, 0, 0, 0, 0, 0,\n",
              "       0, 0, 0, 0, 0, 0, 0, 0, 0, 0, 0, 0, 0, 0, 0, 0, 0, 0, 0, 0, 0, 1,\n",
              "       1, 1, 1, 1, 1, 1, 1, 1, 1, 1, 1, 1, 1, 1, 1, 1, 1, 0, 0, 0, 0, 0,\n",
              "       0, 0, 0, 0, 0, 0, 0, 0, 0, 0, 0, 0, 0, 0, 0, 0, 0, 0, 0, 0, 0, 0,\n",
              "       0, 0, 0, 0, 0, 0, 0, 0, 0, 0, 0, 0, 0, 0, 0, 0, 0, 0, 0, 0, 0, 0,\n",
              "       0, 0, 0, 0, 0, 0, 0, 0, 0, 0])"
            ]
          },
          "metadata": {},
          "execution_count": 49
        }
      ]
    },
    {
      "cell_type": "code",
      "source": [
        "from sklearn.metrics import f1_score"
      ],
      "metadata": {
        "id": "llut0dSaN3Dy"
      },
      "execution_count": null,
      "outputs": []
    },
    {
      "cell_type": "code",
      "source": [
        "f1_score(y_label,pred_label)"
      ],
      "metadata": {
        "colab": {
          "base_uri": "https://localhost:8080/"
        },
        "id": "-ymzyp6eN4eT",
        "outputId": "58653776-ff2a-4311-dd62-362e11bbaae3"
      },
      "execution_count": null,
      "outputs": [
        {
          "output_type": "execute_result",
          "data": {
            "text/plain": [
              "0.0"
            ]
          },
          "metadata": {},
          "execution_count": 51
        }
      ]
    },
    {
      "cell_type": "code",
      "source": [
        "results = model.evaluate(x_test, y_test)"
      ],
      "metadata": {
        "colab": {
          "base_uri": "https://localhost:8080/"
        },
        "id": "8PABYe8AafUP",
        "outputId": "c44b3d21-6e3c-4633-be23-5a81db43bc73"
      },
      "execution_count": null,
      "outputs": [
        {
          "output_type": "stream",
          "name": "stdout",
          "text": [
            "5/5 [==============================] - 0s 36ms/step - loss: 4.8479 - accuracy: 0.4692\n"
          ]
        }
      ]
    },
    {
      "cell_type": "code",
      "source": [
        "y_pred"
      ],
      "metadata": {
        "colab": {
          "base_uri": "https://localhost:8080/"
        },
        "id": "js_WEZSLOM4M",
        "outputId": "6c03ee0f-dd06-4291-8650-9364a3d3208e"
      },
      "execution_count": null,
      "outputs": [
        {
          "output_type": "execute_result",
          "data": {
            "text/plain": [
              "array([[0.00000000e+00, 1.00000000e+00],\n",
              "       [0.00000000e+00, 1.00000000e+00],\n",
              "       [0.00000000e+00, 1.00000000e+00],\n",
              "       [0.00000000e+00, 1.00000000e+00],\n",
              "       [0.00000000e+00, 1.00000000e+00],\n",
              "       [0.00000000e+00, 1.00000000e+00],\n",
              "       [0.00000000e+00, 1.00000000e+00],\n",
              "       [0.00000000e+00, 1.00000000e+00],\n",
              "       [0.00000000e+00, 1.00000000e+00],\n",
              "       [0.00000000e+00, 1.00000000e+00],\n",
              "       [8.57976496e-01, 1.42023534e-01],\n",
              "       [8.84385884e-01, 1.15614109e-01],\n",
              "       [8.74130368e-01, 1.25869662e-01],\n",
              "       [8.67488503e-01, 1.32511482e-01],\n",
              "       [8.47589731e-01, 1.52410328e-01],\n",
              "       [8.25873137e-01, 1.74126893e-01],\n",
              "       [8.38481128e-01, 1.61518916e-01],\n",
              "       [8.11457574e-01, 1.88542455e-01],\n",
              "       [7.82650650e-01, 2.17349380e-01],\n",
              "       [7.98605025e-01, 2.01394916e-01],\n",
              "       [2.06805652e-07, 9.99999762e-01],\n",
              "       [1.17740299e-07, 9.99999881e-01],\n",
              "       [2.32861566e-07, 9.99999762e-01],\n",
              "       [2.05017500e-07, 9.99999762e-01],\n",
              "       [1.61560237e-07, 9.99999881e-01],\n",
              "       [9.70346932e-08, 9.99999881e-01],\n",
              "       [9.26381318e-08, 9.99999881e-01],\n",
              "       [9.09434377e-08, 9.99999881e-01],\n",
              "       [1.77716544e-08, 1.00000000e+00],\n",
              "       [8.03570259e-08, 9.99999881e-01],\n",
              "       [1.65507064e-18, 1.00000000e+00],\n",
              "       [1.30085078e-17, 1.00000000e+00],\n",
              "       [6.28849436e-16, 1.00000000e+00],\n",
              "       [1.80365299e-21, 1.00000000e+00],\n",
              "       [2.56676482e-22, 1.00000000e+00],\n",
              "       [1.95632375e-21, 1.00000000e+00],\n",
              "       [9.83582307e-20, 1.00000000e+00],\n",
              "       [2.92819857e-21, 1.00000000e+00],\n",
              "       [1.31342491e-19, 1.00000000e+00],\n",
              "       [3.49683786e-20, 1.00000000e+00],\n",
              "       [2.75392635e-29, 1.00000000e+00],\n",
              "       [1.59343525e-31, 1.00000000e+00],\n",
              "       [1.25753339e-31, 1.00000000e+00],\n",
              "       [5.22844427e-30, 1.00000000e+00],\n",
              "       [9.03587123e-30, 1.00000000e+00],\n",
              "       [1.17090876e-29, 1.00000000e+00],\n",
              "       [1.68237579e-29, 1.00000000e+00],\n",
              "       [9.14220419e-31, 1.00000000e+00],\n",
              "       [2.96167325e-30, 1.00000000e+00],\n",
              "       [1.01151759e-30, 1.00000000e+00],\n",
              "       [5.44356735e-16, 1.00000000e+00],\n",
              "       [5.48105757e-22, 1.00000000e+00],\n",
              "       [4.27362126e-22, 1.00000000e+00],\n",
              "       [1.98766299e-20, 1.00000000e+00],\n",
              "       [1.53651465e-21, 1.00000000e+00],\n",
              "       [2.67264156e-21, 1.00000000e+00],\n",
              "       [4.47129289e-21, 1.00000000e+00],\n",
              "       [7.00892817e-24, 1.00000000e+00],\n",
              "       [2.46331650e-22, 1.00000000e+00],\n",
              "       [5.06802269e-24, 1.00000000e+00],\n",
              "       [1.54392627e-25, 1.00000000e+00],\n",
              "       [1.61015878e-24, 1.00000000e+00],\n",
              "       [8.90933132e-23, 1.00000000e+00],\n",
              "       [7.52283496e-25, 1.00000000e+00],\n",
              "       [1.55973427e-22, 1.00000000e+00],\n",
              "       [3.64317322e-21, 1.00000000e+00],\n",
              "       [1.92964968e-20, 1.00000000e+00],\n",
              "       [9.77600499e-21, 1.00000000e+00],\n",
              "       [4.61265556e-17, 1.00000000e+00],\n",
              "       [2.32569942e-15, 1.00000000e+00],\n",
              "       [1.75580963e-17, 1.00000000e+00],\n",
              "       [0.00000000e+00, 1.00000000e+00],\n",
              "       [0.00000000e+00, 1.00000000e+00],\n",
              "       [0.00000000e+00, 1.00000000e+00],\n",
              "       [2.93705345e-32, 1.00000000e+00],\n",
              "       [0.00000000e+00, 1.00000000e+00],\n",
              "       [3.95575384e-31, 1.00000000e+00],\n",
              "       [2.84873783e-28, 1.00000000e+00],\n",
              "       [4.68596059e-30, 1.00000000e+00],\n",
              "       [7.51843376e-28, 1.00000000e+00],\n",
              "       [4.26781068e-27, 1.00000000e+00],\n",
              "       [1.31951357e-31, 1.00000000e+00],\n",
              "       [1.23159426e-22, 1.00000000e+00],\n",
              "       [1.48884748e-23, 1.00000000e+00],\n",
              "       [2.84727268e-27, 1.00000000e+00],\n",
              "       [4.61457411e-32, 1.00000000e+00],\n",
              "       [1.11413776e-17, 1.00000000e+00],\n",
              "       [1.35340962e-16, 1.00000000e+00],\n",
              "       [8.68532529e-18, 1.00000000e+00],\n",
              "       [1.12460165e-13, 1.00000000e+00],\n",
              "       [7.46809678e-13, 1.00000000e+00],\n",
              "       [0.00000000e+00, 1.00000000e+00],\n",
              "       [0.00000000e+00, 1.00000000e+00],\n",
              "       [0.00000000e+00, 1.00000000e+00],\n",
              "       [0.00000000e+00, 1.00000000e+00],\n",
              "       [0.00000000e+00, 1.00000000e+00],\n",
              "       [0.00000000e+00, 1.00000000e+00],\n",
              "       [0.00000000e+00, 1.00000000e+00],\n",
              "       [0.00000000e+00, 1.00000000e+00],\n",
              "       [0.00000000e+00, 1.00000000e+00],\n",
              "       [0.00000000e+00, 1.00000000e+00],\n",
              "       [0.00000000e+00, 1.00000000e+00],\n",
              "       [0.00000000e+00, 1.00000000e+00],\n",
              "       [0.00000000e+00, 1.00000000e+00],\n",
              "       [0.00000000e+00, 1.00000000e+00],\n",
              "       [0.00000000e+00, 1.00000000e+00],\n",
              "       [0.00000000e+00, 1.00000000e+00],\n",
              "       [0.00000000e+00, 1.00000000e+00],\n",
              "       [0.00000000e+00, 1.00000000e+00],\n",
              "       [0.00000000e+00, 1.00000000e+00],\n",
              "       [0.00000000e+00, 1.00000000e+00],\n",
              "       [7.25480708e-27, 1.00000000e+00],\n",
              "       [2.91137252e-26, 1.00000000e+00],\n",
              "       [2.33530896e-23, 1.00000000e+00],\n",
              "       [5.24041828e-25, 1.00000000e+00],\n",
              "       [1.40876863e-23, 1.00000000e+00],\n",
              "       [7.76128049e-25, 1.00000000e+00],\n",
              "       [1.13789689e-21, 1.00000000e+00],\n",
              "       [1.66591962e-20, 1.00000000e+00],\n",
              "       [1.50821683e-20, 1.00000000e+00],\n",
              "       [1.25600570e-21, 1.00000000e+00],\n",
              "       [3.16964521e-19, 1.00000000e+00],\n",
              "       [1.47154500e-18, 1.00000000e+00],\n",
              "       [1.84787076e-20, 1.00000000e+00],\n",
              "       [3.01360492e-17, 1.00000000e+00],\n",
              "       [8.78415716e-17, 1.00000000e+00],\n",
              "       [7.12149176e-12, 1.00000000e+00],\n",
              "       [9.86836210e-14, 1.00000000e+00],\n",
              "       [1.14361836e-15, 1.00000000e+00],\n",
              "       [1.42834505e-14, 1.00000000e+00]], dtype=float32)"
            ]
          },
          "metadata": {},
          "execution_count": 55
        }
      ]
    },
    {
      "cell_type": "code",
      "source": [
        "2.05017500e-07"
      ],
      "metadata": {
        "colab": {
          "base_uri": "https://localhost:8080/"
        },
        "id": "n6KF9a8sOVID",
        "outputId": "d99ef02f-fb99-4d9c-c7c7-d95cb3c6efe4"
      },
      "execution_count": null,
      "outputs": [
        {
          "output_type": "execute_result",
          "data": {
            "text/plain": [
              "2.050175e-07"
            ]
          },
          "metadata": {},
          "execution_count": 56
        }
      ]
    },
    {
      "cell_type": "code",
      "source": [],
      "metadata": {
        "id": "3AMdL916WCXf"
      },
      "execution_count": null,
      "outputs": []
    },
    {
      "cell_type": "code",
      "source": [
        "from tensorflow.python.ops.gen_array_ops import Transpose\n",
        "def residual_block(layer_input, filters):\n",
        "  \"\"\"Residual block described in paper\"\"\"\n",
        "  d = Conv2D(filters, 3, activation='relu', padding='same')(layer_input)\n",
        "  d = BatchNormalization(momentum=0.8)(d)\n",
        "  d = Conv2D(filters, 3, activation='relu', padding='same')(d)\n",
        "  d = BatchNormalization(momentum=0.8)(d)\n",
        "  d = Add()([d, layer_input])\n",
        "  return d\n",
        "\n",
        "\n",
        "\n",
        "\n",
        "# cnn\n",
        "# (192, 24, 8000) -> transpose 192 8000 24 -> reshape 192,20,400,24 \n",
        "# 192,8000,2\n",
        "# 变成(192,20,400,24)\n",
        "inputs = Input(shape=(8000, 24))\n",
        "c = Reshape((200,40,24))(inputs)\n",
        "conv1 = Conv2D(64, 3, activation='relu', padding='same')(c)\n",
        "conv2 = Conv2D(64, 3, activation='relu', padding='same')(conv1)\n",
        "c2 = residual_block(conv2, 64)\n",
        "#pool1 = MaxPooling2D(pool_size=(2, 2))(conv2)\n",
        "c2 = residual_block(c2, 64)\n",
        "conv3 = Conv2D(32, 3, activation='relu', padding='same')(c2)\n",
        "conv3 = Conv2D(32, 3, activation='relu', padding='same')(conv3)\n",
        "D1 = Flatten()(conv3)\n",
        "D1 = Dense(128,activation='relu')(D1) #relu\n",
        "D1 = Dense(32)(D1) \n",
        "Out = Dense(2, activation='softmax')(D1)\n",
        "\n",
        "model = Model(inputs, Out)\n",
        "model.summary()\n",
        "\n",
        "opt = optimizers.Adam(learning_rate=0.0001, decay=1e-6) #0.002， 0.0005\n",
        "model.compile(loss='binary_crossentropy',\n",
        "              optimizer=opt,\n",
        "              metrics=['accuracy'])"
      ],
      "metadata": {
        "colab": {
          "base_uri": "https://localhost:8080/"
        },
        "id": "xPLKk6aFWCZi",
        "outputId": "fd612f83-85d9-4f2e-9e61-4e99a9925fd2"
      },
      "execution_count": null,
      "outputs": [
        {
          "output_type": "stream",
          "name": "stdout",
          "text": [
            "Model: \"model_12\"\n",
            "__________________________________________________________________________________________________\n",
            " Layer (type)                   Output Shape         Param #     Connected to                     \n",
            "==================================================================================================\n",
            " input_13 (InputLayer)          [(None, 8000, 24)]   0           []                               \n",
            "                                                                                                  \n",
            " reshape_12 (Reshape)           (None, 200, 40, 24)  0           ['input_13[0][0]']               \n",
            "                                                                                                  \n",
            " conv2d_96 (Conv2D)             (None, 200, 40, 64)  13888       ['reshape_12[0][0]']             \n",
            "                                                                                                  \n",
            " conv2d_97 (Conv2D)             (None, 200, 40, 64)  36928       ['conv2d_96[0][0]']              \n",
            "                                                                                                  \n",
            " conv2d_98 (Conv2D)             (None, 200, 40, 64)  36928       ['conv2d_97[0][0]']              \n",
            "                                                                                                  \n",
            " batch_normalization_48 (BatchN  (None, 200, 40, 64)  256        ['conv2d_98[0][0]']              \n",
            " ormalization)                                                                                    \n",
            "                                                                                                  \n",
            " conv2d_99 (Conv2D)             (None, 200, 40, 64)  36928       ['batch_normalization_48[0][0]'] \n",
            "                                                                                                  \n",
            " batch_normalization_49 (BatchN  (None, 200, 40, 64)  256        ['conv2d_99[0][0]']              \n",
            " ormalization)                                                                                    \n",
            "                                                                                                  \n",
            " add_24 (Add)                   (None, 200, 40, 64)  0           ['batch_normalization_49[0][0]', \n",
            "                                                                  'conv2d_97[0][0]']              \n",
            "                                                                                                  \n",
            " conv2d_100 (Conv2D)            (None, 200, 40, 64)  36928       ['add_24[0][0]']                 \n",
            "                                                                                                  \n",
            " batch_normalization_50 (BatchN  (None, 200, 40, 64)  256        ['conv2d_100[0][0]']             \n",
            " ormalization)                                                                                    \n",
            "                                                                                                  \n",
            " conv2d_101 (Conv2D)            (None, 200, 40, 64)  36928       ['batch_normalization_50[0][0]'] \n",
            "                                                                                                  \n",
            " batch_normalization_51 (BatchN  (None, 200, 40, 64)  256        ['conv2d_101[0][0]']             \n",
            " ormalization)                                                                                    \n",
            "                                                                                                  \n",
            " add_25 (Add)                   (None, 200, 40, 64)  0           ['batch_normalization_51[0][0]', \n",
            "                                                                  'add_24[0][0]']                 \n",
            "                                                                                                  \n",
            " conv2d_102 (Conv2D)            (None, 200, 40, 32)  18464       ['add_25[0][0]']                 \n",
            "                                                                                                  \n",
            " conv2d_103 (Conv2D)            (None, 200, 40, 32)  9248        ['conv2d_102[0][0]']             \n",
            "                                                                                                  \n",
            " flatten_12 (Flatten)           (None, 256000)       0           ['conv2d_103[0][0]']             \n",
            "                                                                                                  \n",
            " dense_36 (Dense)               (None, 128)          32768128    ['flatten_12[0][0]']             \n",
            "                                                                                                  \n",
            " dense_37 (Dense)               (None, 32)           4128        ['dense_36[0][0]']               \n",
            "                                                                                                  \n",
            " dense_38 (Dense)               (None, 2)            66          ['dense_37[0][0]']               \n",
            "                                                                                                  \n",
            "==================================================================================================\n",
            "Total params: 32,999,586\n",
            "Trainable params: 32,999,074\n",
            "Non-trainable params: 512\n",
            "__________________________________________________________________________________________________\n"
          ]
        }
      ]
    },
    {
      "cell_type": "markdown",
      "source": [
        "#Single"
      ],
      "metadata": {
        "id": "1tWA3_92BKnO"
      }
    },
    {
      "cell_type": "code",
      "source": [
        "from torch.autograd.grad_mode import F\n",
        "class EEGLoader(Dataset):\n",
        "  def __init__(self,root):\n",
        "    super(EEGLoader,self).__init__()\n",
        "    self.root = root\n",
        "    self.name2label = {}\n",
        "    for name in sorted(os.listdir(os.path.join(root))):\n",
        "      if not os.path.isdir(os.path.join(root,name)):\n",
        "        continue\n",
        "      self.name2label[name] = len(self.name2label.keys())\n",
        "    print(self.name2label)\n",
        "\n",
        "    # no enough data, so split two dataset manually. Just in case use shuffle,split will get only one or two samples for test \n",
        "    # assert len(data) == len(labels)\n",
        "\n",
        "\n",
        "  # def load_csv(self,filename):\n",
        "  #     data  = []\n",
        "  #     for name in self.name2label.keys():\n",
        "  #       print(\"name\",name)\n",
        "  #       data +=glob.glob(os.path.join(self.root,name,'*.csv'))\n",
        "  #       # 。split(os.sep)[-2]\n",
        "  #     print(len(data),data)\n",
        "\n",
        "\n",
        "  def load_csv(self,foldername):\n",
        "      # data  = []\n",
        "      data =glob.glob(os.path.join(self.root,foldername,'*.csv'))\n",
        "      # 。split(os.sep)[-2]\n",
        "      print(len(data),data)\n",
        "\n",
        "      res = []\n",
        "      unusedChan = []\n",
        "      for file in data:\n",
        "        # remove dead people\n",
        "        # if \"Acquisition 09\" in file : # or \"Acquisition 30\" in file\n",
        "        #   continue\n",
        "\n",
        "        EEGMatrix = pd.read_csv(file,header=None).values\n",
        "        EEGwithoutConstantValue = []\n",
        "        for index,channel in enumerate(EEGMatrix):\n",
        "          # print(\"channel len\",len(channel))\n",
        "          # for testing since number of each acquisition's unique channels without 134733100 is different. get min number 29 rows first. Do data preprocessing to reduce channels to 17 later.\n",
        "          if 134733100.0 in channel:\n",
        "            if index not in unusedChan:\n",
        "              unusedChan.append(index)\n",
        "            continue\n",
        "          EEGwithoutConstantValue.append(channel)\n",
        "        # print(np.array(EEGwithoutConstantValue).shape)\n",
        "        EEGwithoutConstantValue = EEGwithoutConstantValue[:24]\n",
        "        # print(np.array(EEGwithoutConstantValue).shape)\n",
        "        res.append(EEGwithoutConstantValue)\n",
        "      print(\"unuse channel\",unusedChan)\n",
        "      return res\n",
        "  \n",
        "\n",
        "  def __len__(self):\n",
        "      pass\n",
        "\n",
        "  def __getitem__(self,idx):\n",
        "      pass\n",
        "data = EEGLoader('/content/drive/MyDrive/EEG')\n",
        "\n",
        "resting_list2 = data.load_csv(\"01-single\")\n",
        "music_list2 = data.load_csv(\"08-single\")\n",
        "\n",
        "print(np.array(resting_list2).shape)\n",
        "print(np.array(music_list2).shape)"
      ],
      "metadata": {
        "colab": {
          "base_uri": "https://localhost:8080/"
        },
        "id": "Lnx7R_t0BIi3",
        "outputId": "a8020e46-9f66-47a6-8c2e-baebb57d76ba"
      },
      "execution_count": null,
      "outputs": [
        {
          "output_type": "stream",
          "name": "stdout",
          "text": [
            "{'01': 0, '01-health': 1, '01-previous': 2, '01-single': 3, '08': 4, '08-health': 5, '08-previous': 6, '08-single': 7, '16': 8, '16-health': 9, 'models': 10}\n",
            "10 ['/content/drive/MyDrive/EEG/01-single/Copy of Acquisition 09-rawTrigger1-3.csv', '/content/drive/MyDrive/EEG/01-single/Copy of Acquisition 09-rawTrigger1-5.csv', '/content/drive/MyDrive/EEG/01-single/Copy of Acquisition 09-rawTrigger1-6.csv', '/content/drive/MyDrive/EEG/01-single/Copy of Acquisition 09-rawTrigger1-8.csv', '/content/drive/MyDrive/EEG/01-single/Copy of Acquisition 09-rawTrigger1-9.csv', '/content/drive/MyDrive/EEG/01-single/Copy of Acquisition 09-rawTrigger1-7.csv', '/content/drive/MyDrive/EEG/01-single/Copy of Acquisition 09-rawTrigger1-2.csv', '/content/drive/MyDrive/EEG/01-single/Copy of Acquisition 09-rawTrigger1-4.csv', '/content/drive/MyDrive/EEG/01-single/Copy of Acquisition 09-rawTrigger1-1.csv', '/content/drive/MyDrive/EEG/01-single/Copy of Acquisition 09-rawTrigger1-10.csv']\n",
            "unuse channel [1, 4, 5, 30, 38, 0]\n",
            "14 ['/content/drive/MyDrive/EEG/08-single/Copy of Acquisition 09-rawTrigger8-5.csv', '/content/drive/MyDrive/EEG/08-single/Copy of Acquisition 09-rawTrigger8-6.csv', '/content/drive/MyDrive/EEG/08-single/Copy of Acquisition 09-rawTrigger8-8.csv', '/content/drive/MyDrive/EEG/08-single/Copy of Acquisition 09-rawTrigger8-2.csv', '/content/drive/MyDrive/EEG/08-single/Copy of Acquisition 09-rawTrigger8-4.csv', '/content/drive/MyDrive/EEG/08-single/Copy of Acquisition 09-rawTrigger8-7.csv', '/content/drive/MyDrive/EEG/08-single/Copy of Acquisition 09-rawTrigger8-3.csv', '/content/drive/MyDrive/EEG/08-single/Copy of Acquisition 09-rawTrigger8-1.csv', '/content/drive/MyDrive/EEG/08-single/Copy of Acquisition 09-rawTrigger8-9.csv', '/content/drive/MyDrive/EEG/08-single/Copy of Acquisition 09-rawTrigger8-10.csv', '/content/drive/MyDrive/EEG/08-single/Copy of Acquisition 09-rawTrigger8-11.csv', '/content/drive/MyDrive/EEG/08-single/Copy of Acquisition 09-rawTrigger8-12.csv', '/content/drive/MyDrive/EEG/08-single/Copy of Acquisition 09-rawTrigger8-13.csv', '/content/drive/MyDrive/EEG/08-single/Copy of Acquisition 09-rawTrigger8-14.csv']\n",
            "unuse channel [0, 1, 4, 5, 30, 38]\n",
            "(10, 24, 8000)\n",
            "(14, 24, 8000)\n"
          ]
        }
      ]
    },
    {
      "cell_type": "code",
      "source": [
        "x_train_a = resting_list2[:6]\n",
        "# .reshape((300,160,24))\n",
        "x_train_a  = np.array(x_train_a)\n",
        "x_train_a.shape\n",
        "\n",
        "x_train_b = music_list2[:9]\n",
        "# .reshape((300,160,24))\n",
        "x_train_b = np.array(x_train_b)\n",
        "x_train = np.vstack((x_train_a,x_train_b))\n",
        "x_train.shape\n",
        "\n",
        "x_train /= 200\n",
        "x_train = x_train.astype(\"float32\")\n",
        "\n",
        "# test\n",
        "x_test_a = resting_list2[6:]\n",
        "# .reshape((150,160,24))\n",
        "x_test_a  = np.array(x_test_a)\n",
        "x_test_a.shape\n",
        "print(len(x_test_a))\n",
        "\n",
        "x_test_b = music_list2[9:]\n",
        "# .reshape((150,160,24))\n",
        "x_test_b = np.array(x_test_b)\n",
        "x_test = np.vstack((x_test_a,x_test_b))\n",
        "x_test.shape\n",
        "\n",
        "x_test /= 200\n",
        "x_test = x_test.astype(\"float32\")\n",
        "print(len(x_test))\n",
        "# labels\n",
        "y_train = np.append(np.zeros(len(x_train_a),dtype=int), np.ones(len(x_train_b),dtype=int))\n",
        "y_train.shape\n",
        "\n",
        "y_train = np_utils.to_categorical(y_train,2)\n",
        "y_train = y_train.astype(\"float32\")\n",
        "y_train\n",
        "\n",
        "y_test = np.append(np.zeros(len(x_test_a),dtype=int), np.ones(len(x_test_b),dtype=int))\n",
        "y_test.shape\n",
        "\n",
        "\n",
        "y_test = np_utils.to_categorical(y_test,2)\n",
        "y_test = y_test.astype(\"float32\")"
      ],
      "metadata": {
        "colab": {
          "base_uri": "https://localhost:8080/"
        },
        "id": "_b2l3ST0BiRx",
        "outputId": "8e599e42-f24d-45dd-b028-9f01854948ad"
      },
      "execution_count": null,
      "outputs": [
        {
          "output_type": "stream",
          "name": "stdout",
          "text": [
            "4\n",
            "9\n"
          ]
        }
      ]
    },
    {
      "cell_type": "code",
      "source": [
        "x_train = x_train.transpose(0,2,1)\n",
        "x_test = x_test.transpose(0,2,1)\n",
        "print(x_train.shape)\n",
        "print(x_test.shape)"
      ],
      "metadata": {
        "colab": {
          "base_uri": "https://localhost:8080/"
        },
        "id": "KODfFmEoBtc8",
        "outputId": "fef791da-41a2-4fa9-a7c0-5a3be9fc8a90"
      },
      "execution_count": null,
      "outputs": [
        {
          "output_type": "stream",
          "name": "stdout",
          "text": [
            "(15, 8000, 24)\n",
            "(9, 8000, 24)\n"
          ]
        }
      ]
    },
    {
      "cell_type": "code",
      "source": [
        "from tensorflow.python.ops.gen_array_ops import Transpose\n",
        "def residual_block(layer_input, filters):\n",
        "  \"\"\"Residual block described in paper\"\"\"\n",
        "  d = Conv2D(filters, 3, activation='relu', padding='same')(layer_input)\n",
        "  d = BatchNormalization(momentum=0.8)(d)\n",
        "  d = Conv2D(filters, 3, activation='relu', padding='same')(d)\n",
        "  d = BatchNormalization(momentum=0.8)(d)\n",
        "  d = Add()([d, layer_input])\n",
        "  return d\n",
        "\n",
        "\n",
        "\n",
        "\n",
        "# cnn\n",
        "# (192, 24, 8000) -> transpose 192 8000 24 -> reshape 192,20,400,24 \n",
        "# 192,8000,2\n",
        "# 变成(192,20,400,24)\n",
        "inputs = Input(shape=(8000, 24))\n",
        "c = Reshape((200,40,24))(inputs)\n",
        "conv1 = Conv2D(64, 3, activation='relu', padding='same')(c)\n",
        "conv2 = Conv2D(64, 3, activation='relu', padding='same')(conv1)\n",
        "c2 = residual_block(conv2, 64)\n",
        "#pool1 = MaxPooling2D(pool_size=(2, 2))(conv2)\n",
        "c2 = residual_block(c2, 64)\n",
        "conv3 = Conv2D(32, 3, activation='relu', padding='same')(c2)\n",
        "conv3 = Conv2D(32, 3, activation='relu', padding='same')(conv3)\n",
        "D1 = Flatten()(conv3)\n",
        "D1 = Dense(128,activation='relu')(D1) #relu\n",
        "D1 = Dense(32)(D1) \n",
        "Out = Dense(2, activation='softmax')(D1)\n",
        "\n",
        "model = Model(inputs, Out)\n",
        "model.summary()\n",
        "\n",
        "opt = optimizers.Adam(learning_rate=0.0001, decay=1e-6) #0.002， 0.0005\n",
        "model.compile(loss='categorical_crossentropy',\n",
        "              optimizer=opt,\n",
        "              metrics=['accuracy'])"
      ],
      "metadata": {
        "colab": {
          "base_uri": "https://localhost:8080/"
        },
        "id": "Vw9bcRQfByb1",
        "outputId": "28671f4f-92ae-4d73-ab1c-e6eed0861b70"
      },
      "execution_count": null,
      "outputs": [
        {
          "output_type": "stream",
          "name": "stdout",
          "text": [
            "Model: \"model_1\"\n",
            "__________________________________________________________________________________________________\n",
            " Layer (type)                   Output Shape         Param #     Connected to                     \n",
            "==================================================================================================\n",
            " input_2 (InputLayer)           [(None, 8000, 24)]   0           []                               \n",
            "                                                                                                  \n",
            " reshape_1 (Reshape)            (None, 200, 40, 24)  0           ['input_2[0][0]']                \n",
            "                                                                                                  \n",
            " conv2d_8 (Conv2D)              (None, 200, 40, 64)  13888       ['reshape_1[0][0]']              \n",
            "                                                                                                  \n",
            " conv2d_9 (Conv2D)              (None, 200, 40, 64)  36928       ['conv2d_8[0][0]']               \n",
            "                                                                                                  \n",
            " conv2d_10 (Conv2D)             (None, 200, 40, 64)  36928       ['conv2d_9[0][0]']               \n",
            "                                                                                                  \n",
            " batch_normalization_4 (BatchNo  (None, 200, 40, 64)  256        ['conv2d_10[0][0]']              \n",
            " rmalization)                                                                                     \n",
            "                                                                                                  \n",
            " conv2d_11 (Conv2D)             (None, 200, 40, 64)  36928       ['batch_normalization_4[0][0]']  \n",
            "                                                                                                  \n",
            " batch_normalization_5 (BatchNo  (None, 200, 40, 64)  256        ['conv2d_11[0][0]']              \n",
            " rmalization)                                                                                     \n",
            "                                                                                                  \n",
            " add_2 (Add)                    (None, 200, 40, 64)  0           ['batch_normalization_5[0][0]',  \n",
            "                                                                  'conv2d_9[0][0]']               \n",
            "                                                                                                  \n",
            " conv2d_12 (Conv2D)             (None, 200, 40, 64)  36928       ['add_2[0][0]']                  \n",
            "                                                                                                  \n",
            " batch_normalization_6 (BatchNo  (None, 200, 40, 64)  256        ['conv2d_12[0][0]']              \n",
            " rmalization)                                                                                     \n",
            "                                                                                                  \n",
            " conv2d_13 (Conv2D)             (None, 200, 40, 64)  36928       ['batch_normalization_6[0][0]']  \n",
            "                                                                                                  \n",
            " batch_normalization_7 (BatchNo  (None, 200, 40, 64)  256        ['conv2d_13[0][0]']              \n",
            " rmalization)                                                                                     \n",
            "                                                                                                  \n",
            " add_3 (Add)                    (None, 200, 40, 64)  0           ['batch_normalization_7[0][0]',  \n",
            "                                                                  'add_2[0][0]']                  \n",
            "                                                                                                  \n",
            " conv2d_14 (Conv2D)             (None, 200, 40, 32)  18464       ['add_3[0][0]']                  \n",
            "                                                                                                  \n",
            " conv2d_15 (Conv2D)             (None, 200, 40, 32)  9248        ['conv2d_14[0][0]']              \n",
            "                                                                                                  \n",
            " flatten_1 (Flatten)            (None, 256000)       0           ['conv2d_15[0][0]']              \n",
            "                                                                                                  \n",
            " dense_3 (Dense)                (None, 128)          32768128    ['flatten_1[0][0]']              \n",
            "                                                                                                  \n",
            " dense_4 (Dense)                (None, 32)           4128        ['dense_3[0][0]']                \n",
            "                                                                                                  \n",
            " dense_5 (Dense)                (None, 2)            66          ['dense_4[0][0]']                \n",
            "                                                                                                  \n",
            "==================================================================================================\n",
            "Total params: 32,999,586\n",
            "Trainable params: 32,999,074\n",
            "Non-trainable params: 512\n",
            "__________________________________________________________________________________________________\n"
          ]
        }
      ]
    },
    {
      "cell_type": "code",
      "source": [
        "history = model.fit(x_train,y_train,epochs=10,batch_size=3)"
      ],
      "metadata": {
        "colab": {
          "base_uri": "https://localhost:8080/"
        },
        "id": "a_CzgmpHB15B",
        "outputId": "553d0ea0-674a-4871-b569-ebfbb9d22468"
      },
      "execution_count": null,
      "outputs": [
        {
          "output_type": "stream",
          "name": "stdout",
          "text": [
            "Epoch 1/10\n",
            "5/5 [==============================] - 1s 28ms/step - loss: 128.3220 - accuracy: 0.3333\n",
            "Epoch 2/10\n",
            "5/5 [==============================] - 0s 27ms/step - loss: 14.0632 - accuracy: 0.6000\n",
            "Epoch 3/10\n",
            "5/5 [==============================] - 0s 20ms/step - loss: 3.0282 - accuracy: 0.7333\n",
            "Epoch 4/10\n",
            "5/5 [==============================] - 0s 20ms/step - loss: 8.7128 - accuracy: 0.8667\n",
            "Epoch 5/10\n",
            "5/5 [==============================] - 0s 19ms/step - loss: 7.9473e-08 - accuracy: 1.0000\n",
            "Epoch 6/10\n",
            "5/5 [==============================] - 0s 19ms/step - loss: 0.0879 - accuracy: 0.9333\n",
            "Epoch 7/10\n",
            "5/5 [==============================] - 0s 19ms/step - loss: 9.6711e-06 - accuracy: 1.0000\n",
            "Epoch 8/10\n",
            "5/5 [==============================] - 0s 20ms/step - loss: 0.4497 - accuracy: 0.9333\n",
            "Epoch 9/10\n",
            "5/5 [==============================] - 0s 19ms/step - loss: 1.1785 - accuracy: 0.8667\n",
            "Epoch 10/10\n",
            "5/5 [==============================] - 0s 19ms/step - loss: 3.3305 - accuracy: 0.9333\n"
          ]
        }
      ]
    },
    {
      "cell_type": "code",
      "source": [
        "from sklearn.metrics import f1_score\n",
        "y_pred = model.predict(x_test)"
      ],
      "metadata": {
        "colab": {
          "base_uri": "https://localhost:8080/"
        },
        "id": "gufNshlBB6ui",
        "outputId": "09495445-1f54-43d6-a25a-36096fa048ba"
      },
      "execution_count": null,
      "outputs": [
        {
          "output_type": "stream",
          "name": "stdout",
          "text": [
            "1/1 [==============================] - 0s 130ms/step\n"
          ]
        }
      ]
    },
    {
      "cell_type": "code",
      "source": [
        "pred = np.int64(y_pred>0.1)\n",
        "y_label = []\n",
        "for v in y_test:\n",
        "  y_label.append(v[0])\n",
        "y_label=np.array(y_label,dtype=int)\n",
        "\n",
        "pred_label = []\n",
        "for v in pred:\n",
        "  pred_label.append(v[0])\n",
        "pred_label=np.array(pred_label,dtype=int)\n",
        "pred_label"
      ],
      "metadata": {
        "colab": {
          "base_uri": "https://localhost:8080/"
        },
        "id": "FNfbUYYJDuaJ",
        "outputId": "762a54bd-71a5-49d7-cb1b-505b44981aaa"
      },
      "execution_count": null,
      "outputs": [
        {
          "output_type": "execute_result",
          "data": {
            "text/plain": [
              "array([1, 1, 1, 1, 0, 0, 1, 1, 1])"
            ]
          },
          "metadata": {},
          "execution_count": 20
        }
      ]
    },
    {
      "cell_type": "code",
      "source": [
        "from sklearn.metrics import f1_score\n",
        "f1_score(y_label,pred_label)"
      ],
      "metadata": {
        "colab": {
          "base_uri": "https://localhost:8080/"
        },
        "id": "6hqTss_oD2w9",
        "outputId": "69821e73-37cf-4aa6-fc09-6a8a90e05fef"
      },
      "execution_count": null,
      "outputs": [
        {
          "output_type": "execute_result",
          "data": {
            "text/plain": [
              "0.7272727272727273"
            ]
          },
          "metadata": {},
          "execution_count": 21
        }
      ]
    },
    {
      "cell_type": "code",
      "source": [
        "y_pred"
      ],
      "metadata": {
        "colab": {
          "base_uri": "https://localhost:8080/"
        },
        "id": "p3bqot9dEDPX",
        "outputId": "c6afcec5-c89e-415a-dc6d-cd065894396d"
      },
      "execution_count": null,
      "outputs": [
        {
          "output_type": "execute_result",
          "data": {
            "text/plain": [
              "array([[1.0000000e+00, 1.0597195e-34],\n",
              "       [1.0000000e+00, 0.0000000e+00],\n",
              "       [1.0000000e+00, 2.7222817e-34],\n",
              "       [1.0000000e+00, 1.4494321e-19],\n",
              "       [0.0000000e+00, 1.0000000e+00],\n",
              "       [0.0000000e+00, 1.0000000e+00],\n",
              "       [1.0000000e+00, 8.5178055e-22],\n",
              "       [1.0000000e+00, 1.4399747e-27],\n",
              "       [1.0000000e+00, 3.7865323e-24]], dtype=float32)"
            ]
          },
          "metadata": {},
          "execution_count": 22
        }
      ]
    },
    {
      "cell_type": "code",
      "source": [
        "y_test"
      ],
      "metadata": {
        "colab": {
          "base_uri": "https://localhost:8080/"
        },
        "id": "VN2Xf5krEVhP",
        "outputId": "494df247-e1c5-4363-ba81-c0e20ac737af"
      },
      "execution_count": null,
      "outputs": [
        {
          "output_type": "execute_result",
          "data": {
            "text/plain": [
              "array([[1., 0.],\n",
              "       [1., 0.],\n",
              "       [1., 0.],\n",
              "       [1., 0.],\n",
              "       [0., 1.],\n",
              "       [0., 1.],\n",
              "       [0., 1.],\n",
              "       [0., 1.],\n",
              "       [0., 1.]], dtype=float32)"
            ]
          },
          "metadata": {},
          "execution_count": 16
        }
      ]
    }
  ]
}